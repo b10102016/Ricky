{
  "nbformat": 4,
  "nbformat_minor": 0,
  "metadata": {
    "colab": {
      "name": "CNN_stock.ipynb",
      "version": "0.3.2",
      "provenance": [],
      "collapsed_sections": [],
      "include_colab_link": true
    },
    "kernelspec": {
      "name": "python3",
      "display_name": "Python 3"
    },
    "accelerator": "GPU"
  },
  "cells": [
    {
      "cell_type": "markdown",
      "metadata": {
        "id": "view-in-github",
        "colab_type": "text"
      },
      "source": [
        "<a href=\"https://colab.research.google.com/github/skywalker0803r/Ricky/blob/master/CNN_stock_v2.ipynb\" target=\"_parent\"><img src=\"https://colab.research.google.com/assets/colab-badge.svg\" alt=\"Open In Colab\"/></a>"
      ]
    },
    {
      "cell_type": "code",
      "metadata": {
        "id": "g7NPpY26_qJm",
        "colab_type": "code",
        "colab": {}
      },
      "source": [
        "import pandas as pd\n",
        "import seaborn as sns\n",
        "import pandas_datareader.data as web\n",
        "#pip install finta\n",
        "df = web.DataReader('0050.tw','yahoo',start=\"2000-01-01\")\n",
        "df = df.iloc[:,:5]"
      ],
      "execution_count": 0,
      "outputs": []
    },
    {
      "cell_type": "markdown",
      "metadata": {
        "id": "6vaRLIuvJlZ7",
        "colab_type": "text"
      },
      "source": [
        "# 載入資料"
      ]
    },
    {
      "cell_type": "code",
      "metadata": {
        "id": "kRKHlNGl_7JV",
        "colab_type": "code",
        "outputId": "01884a66-fc62-4c78-af81-4fbd9f310e24",
        "colab": {
          "base_uri": "https://localhost:8080/",
          "height": 208
        }
      },
      "source": [
        "print(df.shape)\n",
        "print(df.head(3))\n",
        "print(df.tail(3))"
      ],
      "execution_count": 9,
      "outputs": [
        {
          "output_type": "stream",
          "text": [
            "(2877, 5)\n",
            "                 High        Low       Open      Close     Volume\n",
            "Date                                                             \n",
            "2007-12-31  61.700001  61.049999  61.450001  61.450001  2870000.0\n",
            "2008-01-02  61.299999  60.000000  60.099998  60.099998  4975000.0\n",
            "2008-01-03  59.349998  58.599998  59.099998  59.099998  7413000.0\n",
            "                 High        Low       Open      Close      Volume\n",
            "Date                                                              \n",
            "2019-09-04  82.199997  81.400002  81.449997  82.150002  10748771.0\n",
            "2019-09-05  83.199997  82.550003  82.550003  83.000000  25429390.0\n",
            "2019-09-06  83.550003  83.250000  83.250000  83.500000  17194000.0\n"
          ],
          "name": "stdout"
        }
      ]
    },
    {
      "cell_type": "markdown",
      "metadata": {
        "id": "ZsFMU68NI85j",
        "colab_type": "text"
      },
      "source": [
        "# Labeling(計算return)"
      ]
    },
    {
      "cell_type": "code",
      "metadata": {
        "id": "WaNG41cBI9BT",
        "colab_type": "code",
        "colab": {}
      },
      "source": [
        "#今天股價 = df['Close']\n",
        "#昨天股價 = df['Close'].shift(1)\n",
        "#df['return%'] = (今天股價/昨天股價-1)*100\n",
        "#print(df['return%'].min(),df['return%'].max())\n",
        "#sns.distplot(df['return%'].dropna())\n",
        "#df.tail()"
      ],
      "execution_count": 0,
      "outputs": []
    },
    {
      "cell_type": "markdown",
      "metadata": {
        "id": "-P32oeDwP7tJ",
        "colab_type": "text"
      },
      "source": [
        "# Labeling2 計算TOP and valley"
      ]
    },
    {
      "cell_type": "code",
      "metadata": {
        "id": "eFKKDpQcP73b",
        "colab_type": "code",
        "colab": {}
      },
      "source": [
        "def Labelling(Close_list):\n",
        "  windowSize = 11\n",
        "  countRow = 0\n",
        "  labels = pd.Series( index = Close_list.index ,name = 'labels')\n",
        "  while countRow < len(Close_list): #對row做遍歷\n",
        "    countRow += 1\n",
        "    if (countRow > windowSize):\n",
        "      wbi = countRow - windowSize #計算一個區段的三個Index\n",
        "      wei = wbi + windowSize -1\n",
        "      wmi = (wbi+wei)/2\n",
        "      min_ = Close_list[wbi] #初始化min_,max_等同該區段第一筆股價 \n",
        "      max_ = Close_list[wbi]\n",
        "      for i in range(wbi,wei+1,1):#對該區段做遍歷,計算Top和valley的Index\n",
        "        num = Close_list[i]\n",
        "        if num < min_:\n",
        "          min_ = num\n",
        "          minIndex = i\n",
        "        if num > max_:\n",
        "          max_ = num\n",
        "          maxIndex = i\n",
        "      if maxIndex == wmi: #如果最高價位發生在區段中間則賣出\n",
        "        labels.iloc[i] = 'BUY'\n",
        "      elif minIndex == wmi: #如果最低價位發生在區段中間則買進\n",
        "        labels.iloc[i] = 'SELL'\n",
        "      else: #如果都不是就持有\n",
        "        labels.iloc[i] = 'HOLD'\n",
        "  return labels      "
      ],
      "execution_count": 0,
      "outputs": []
    },
    {
      "cell_type": "markdown",
      "metadata": {
        "id": "HegmuvBN0FKD",
        "colab_type": "text"
      },
      "source": [
        "# Label3"
      ]
    },
    {
      "cell_type": "code",
      "metadata": {
        "id": "RFsmFQfF0FXt",
        "colab_type": "code",
        "colab": {}
      },
      "source": [
        "import numpy as np\n",
        "import math\n",
        "def triple_barrier(price, ub, lb, max_period):\n",
        "\n",
        "    def end_price(s):\n",
        "        return np.append(s[(s / s[0] > ub) | (s / s[0] < lb)], s[-1])[0]/s[0]\n",
        "    \n",
        "    r = np.array(range(max_period))\n",
        "    \n",
        "    def end_time(s):\n",
        "        return np.append(r[(s / s[0] > ub) | (s / s[0] < lb)], max_period-1)[0]\n",
        "\n",
        "    p = price.rolling(max_period).apply(end_price, raw=True).shift(-max_period+1)\n",
        "    t = price.rolling(max_period).apply(end_time, raw=True).shift(-max_period+1)\n",
        "    t = pd.Series([t.index[int(k+i)] if not math.isnan(k+i) else np.datetime64('NaT') \n",
        "                   for i, k in enumerate(t)], index=t.index).dropna()\n",
        "\n",
        "    signal = pd.Series(0, p.index)\n",
        "    signal.loc[p > ub] = 1\n",
        "    signal.loc[p < lb] = -1\n",
        "    ret = pd.DataFrame({'triple_barrier_profit':p, 'triple_barrier_sell_time':t, 'triple_barrier_signal':signal})\n",
        "\n",
        "    return ret\n",
        "\n",
        "ret = triple_barrier(df.Close, 1.07, 0.97, 20)\n",
        "df = df.join(ret)"
      ],
      "execution_count": 0,
      "outputs": []
    },
    {
      "cell_type": "code",
      "metadata": {
        "id": "MHRZWGG40a3q",
        "colab_type": "code",
        "colab": {
          "base_uri": "https://localhost:8080/",
          "height": 233
        },
        "outputId": "b55ad949-d760-487e-fb65-c93dc8992894"
      },
      "source": [
        "df.head()"
      ],
      "execution_count": 11,
      "outputs": [
        {
          "output_type": "execute_result",
          "data": {
            "text/html": [
              "<div>\n",
              "<style scoped>\n",
              "    .dataframe tbody tr th:only-of-type {\n",
              "        vertical-align: middle;\n",
              "    }\n",
              "\n",
              "    .dataframe tbody tr th {\n",
              "        vertical-align: top;\n",
              "    }\n",
              "\n",
              "    .dataframe thead th {\n",
              "        text-align: right;\n",
              "    }\n",
              "</style>\n",
              "<table border=\"1\" class=\"dataframe\">\n",
              "  <thead>\n",
              "    <tr style=\"text-align: right;\">\n",
              "      <th></th>\n",
              "      <th>High</th>\n",
              "      <th>Low</th>\n",
              "      <th>Open</th>\n",
              "      <th>Close</th>\n",
              "      <th>Volume</th>\n",
              "      <th>triple_barrier_profit</th>\n",
              "      <th>triple_barrier_sell_time</th>\n",
              "      <th>triple_barrier_signal</th>\n",
              "    </tr>\n",
              "    <tr>\n",
              "      <th>Date</th>\n",
              "      <th></th>\n",
              "      <th></th>\n",
              "      <th></th>\n",
              "      <th></th>\n",
              "      <th></th>\n",
              "      <th></th>\n",
              "      <th></th>\n",
              "      <th></th>\n",
              "    </tr>\n",
              "  </thead>\n",
              "  <tbody>\n",
              "    <tr>\n",
              "      <th>2007-12-31</th>\n",
              "      <td>61.700001</td>\n",
              "      <td>61.049999</td>\n",
              "      <td>61.450001</td>\n",
              "      <td>61.450001</td>\n",
              "      <td>2870000.0</td>\n",
              "      <td>0.961757</td>\n",
              "      <td>2008-01-03</td>\n",
              "      <td>-1</td>\n",
              "    </tr>\n",
              "    <tr>\n",
              "      <th>2008-01-02</th>\n",
              "      <td>61.299999</td>\n",
              "      <td>60.000000</td>\n",
              "      <td>60.099998</td>\n",
              "      <td>60.099998</td>\n",
              "      <td>4975000.0</td>\n",
              "      <td>0.938436</td>\n",
              "      <td>2008-01-07</td>\n",
              "      <td>-1</td>\n",
              "    </tr>\n",
              "    <tr>\n",
              "      <th>2008-01-03</th>\n",
              "      <td>59.349998</td>\n",
              "      <td>58.599998</td>\n",
              "      <td>59.099998</td>\n",
              "      <td>59.099998</td>\n",
              "      <td>7413000.0</td>\n",
              "      <td>0.954315</td>\n",
              "      <td>2008-01-07</td>\n",
              "      <td>-1</td>\n",
              "    </tr>\n",
              "    <tr>\n",
              "      <th>2008-01-04</th>\n",
              "      <td>59.349998</td>\n",
              "      <td>58.049999</td>\n",
              "      <td>59.099998</td>\n",
              "      <td>59.099998</td>\n",
              "      <td>7686000.0</td>\n",
              "      <td>0.954315</td>\n",
              "      <td>2008-01-07</td>\n",
              "      <td>-1</td>\n",
              "    </tr>\n",
              "    <tr>\n",
              "      <th>2008-01-07</th>\n",
              "      <td>57.599998</td>\n",
              "      <td>56.299999</td>\n",
              "      <td>56.400002</td>\n",
              "      <td>56.400002</td>\n",
              "      <td>20041000.0</td>\n",
              "      <td>1.082447</td>\n",
              "      <td>2008-01-15</td>\n",
              "      <td>1</td>\n",
              "    </tr>\n",
              "  </tbody>\n",
              "</table>\n",
              "</div>"
            ],
            "text/plain": [
              "                 High  ...  triple_barrier_signal\n",
              "Date                   ...                       \n",
              "2007-12-31  61.700001  ...                     -1\n",
              "2008-01-02  61.299999  ...                     -1\n",
              "2008-01-03  59.349998  ...                     -1\n",
              "2008-01-04  59.349998  ...                     -1\n",
              "2008-01-07  57.599998  ...                      1\n",
              "\n",
              "[5 rows x 8 columns]"
            ]
          },
          "metadata": {
            "tags": []
          },
          "execution_count": 11
        }
      ]
    },
    {
      "cell_type": "code",
      "metadata": {
        "id": "Qti5Zd4-jOrH",
        "colab_type": "code",
        "colab": {
          "base_uri": "https://localhost:8080/",
          "height": 307
        },
        "outputId": "85018587-cf86-4e65-82d7-f5fecadc36ff"
      },
      "source": [
        "import matplotlib.pyplot as plt\n",
        "buy = df[df['triple_barrier_signal']==1]['Close']\n",
        "sell = df[df['triple_barrier_signal']==-1]['Close']\n",
        "df['Close'][0:100].plot()\n",
        "plt.scatter(buy.index,buy.values,color='red')\n",
        "plt.scatter(sell.index,sell.values,color='black')\n",
        "plt.ylim(50,70)"
      ],
      "execution_count": 12,
      "outputs": [
        {
          "output_type": "execute_result",
          "data": {
            "text/plain": [
              "(50, 70)"
            ]
          },
          "metadata": {
            "tags": []
          },
          "execution_count": 12
        },
        {
          "output_type": "display_data",
          "data": {
            "image/png": "[encoded data removed]",
            "text/plain": [
              "<Figure size 432x288 with 1 Axes>"
            ]
          },
          "metadata": {
            "tags": []
          }
        }
      ]
    },
    {
      "cell_type": "markdown",
      "metadata": {
        "id": "9K9RepGQwbQQ",
        "colab_type": "text"
      },
      "source": [
        "# 計算技術指標RSI"
      ]
    },
    {
      "cell_type": "code",
      "metadata": {
        "id": "ccCzPbARAHge",
        "colab_type": "code",
        "outputId": "c698279b-1ba2-46b8-9dd7-111ccc2a130e",
        "colab": {
          "base_uri": "https://localhost:8080/",
          "height": 516
        }
      },
      "source": [
        "#計算絕對漲/跌幅\n",
        "絕對漲幅 = (df['Close']/df['Close'].shift(1))-1 #(今天股價/昨日股價)-1\n",
        "絕對漲幅[絕對漲幅<0] = 0 #跌幅的部份歸0\n",
        "絕對跌幅 = (-1) * ((df['Close']/df['Close'].shift(1))-1) #-1 * ((今天股價/昨日股價)-1)#反向的絕對漲幅\n",
        "絕對跌幅[絕對跌幅<0] = 0 #漲幅的部份歸0\n",
        "\n",
        "#漲幅平滑\n",
        "UPt = 絕對漲幅.rolling(6).mean()\n",
        "DNt = 絕對跌幅.rolling(6).mean()\n",
        "\n",
        "#計算RSI\n",
        "df['RSI'] = 100 * UPt / (UPt+DNt)\n",
        "print(df['RSI'].min(),df['RSI'].max())\n",
        "sns.distplot(df['RSI'].dropna())\n",
        "df.tail()"
      ],
      "execution_count": 13,
      "outputs": [
        {
          "output_type": "stream",
          "text": [
            "0.0 100.00000000000001\n"
          ],
          "name": "stdout"
        },
        {
          "output_type": "execute_result",
          "data": {
            "text/html": [
              "<div>\n",
              "<style scoped>\n",
              "    .dataframe tbody tr th:only-of-type {\n",
              "        vertical-align: middle;\n",
              "    }\n",
              "\n",
              "    .dataframe tbody tr th {\n",
              "        vertical-align: top;\n",
              "    }\n",
              "\n",
              "    .dataframe thead th {\n",
              "        text-align: right;\n",
              "    }\n",
              "</style>\n",
              "<table border=\"1\" class=\"dataframe\">\n",
              "  <thead>\n",
              "    <tr style=\"text-align: right;\">\n",
              "      <th></th>\n",
              "      <th>High</th>\n",
              "      <th>Low</th>\n",
              "      <th>Open</th>\n",
              "      <th>Close</th>\n",
              "      <th>Volume</th>\n",
              "      <th>triple_barrier_profit</th>\n",
              "      <th>triple_barrier_sell_time</th>\n",
              "      <th>triple_barrier_signal</th>\n",
              "      <th>RSI</th>\n",
              "    </tr>\n",
              "    <tr>\n",
              "      <th>Date</th>\n",
              "      <th></th>\n",
              "      <th></th>\n",
              "      <th></th>\n",
              "      <th></th>\n",
              "      <th></th>\n",
              "      <th></th>\n",
              "      <th></th>\n",
              "      <th></th>\n",
              "      <th></th>\n",
              "    </tr>\n",
              "  </thead>\n",
              "  <tbody>\n",
              "    <tr>\n",
              "      <th>2019-09-02</th>\n",
              "      <td>82.000000</td>\n",
              "      <td>81.650002</td>\n",
              "      <td>81.800003</td>\n",
              "      <td>81.900002</td>\n",
              "      <td>6457870.0</td>\n",
              "      <td>NaN</td>\n",
              "      <td>NaT</td>\n",
              "      <td>0</td>\n",
              "      <td>62.698693</td>\n",
              "    </tr>\n",
              "    <tr>\n",
              "      <th>2019-09-03</th>\n",
              "      <td>82.000000</td>\n",
              "      <td>81.199997</td>\n",
              "      <td>81.849998</td>\n",
              "      <td>81.199997</td>\n",
              "      <td>5052925.0</td>\n",
              "      <td>NaN</td>\n",
              "      <td>NaT</td>\n",
              "      <td>0</td>\n",
              "      <td>76.622808</td>\n",
              "    </tr>\n",
              "    <tr>\n",
              "      <th>2019-09-04</th>\n",
              "      <td>82.199997</td>\n",
              "      <td>81.400002</td>\n",
              "      <td>81.449997</td>\n",
              "      <td>82.150002</td>\n",
              "      <td>10748771.0</td>\n",
              "      <td>NaN</td>\n",
              "      <td>NaT</td>\n",
              "      <td>0</td>\n",
              "      <td>81.317962</td>\n",
              "    </tr>\n",
              "    <tr>\n",
              "      <th>2019-09-05</th>\n",
              "      <td>83.199997</td>\n",
              "      <td>82.550003</td>\n",
              "      <td>82.550003</td>\n",
              "      <td>83.000000</td>\n",
              "      <td>25429390.0</td>\n",
              "      <td>NaN</td>\n",
              "      <td>NaT</td>\n",
              "      <td>0</td>\n",
              "      <td>82.631139</td>\n",
              "    </tr>\n",
              "    <tr>\n",
              "      <th>2019-09-06</th>\n",
              "      <td>83.550003</td>\n",
              "      <td>83.250000</td>\n",
              "      <td>83.250000</td>\n",
              "      <td>83.500000</td>\n",
              "      <td>17194000.0</td>\n",
              "      <td>NaN</td>\n",
              "      <td>NaT</td>\n",
              "      <td>0</td>\n",
              "      <td>83.984523</td>\n",
              "    </tr>\n",
              "  </tbody>\n",
              "</table>\n",
              "</div>"
            ],
            "text/plain": [
              "                 High        Low  ...  triple_barrier_signal        RSI\n",
              "Date                              ...                                  \n",
              "2019-09-02  82.000000  81.650002  ...                      0  62.698693\n",
              "2019-09-03  82.000000  81.199997  ...                      0  76.622808\n",
              "2019-09-04  82.199997  81.400002  ...                      0  81.317962\n",
              "2019-09-05  83.199997  82.550003  ...                      0  82.631139\n",
              "2019-09-06  83.550003  83.250000  ...                      0  83.984523\n",
              "\n",
              "[5 rows x 9 columns]"
            ]
          },
          "metadata": {
            "tags": []
          },
          "execution_count": 13
        },
        {
          "output_type": "display_data",
          "data": {
            "image/png": "[encoded data removed]",
            "text/plain": [
              "<Figure size 432x288 with 1 Axes>"
            ]
          },
          "metadata": {
            "tags": []
          }
        }
      ]
    },
    {
      "cell_type": "markdown",
      "metadata": {
        "id": "fZXZuQe93pJE",
        "colab_type": "text"
      },
      "source": [
        "# 計算威廉指標"
      ]
    },
    {
      "cell_type": "code",
      "metadata": {
        "id": "qKVNZEoQ3pUR",
        "colab_type": "code",
        "outputId": "e640b75c-6307-4048-8951-006dd49b5ac0",
        "colab": {
          "base_uri": "https://localhost:8080/",
          "height": 640
        }
      },
      "source": [
        "最近9日內最高價 = df['High'].rolling(9).max()\n",
        "最近9日內最低價 = df['Low'].rolling(9).min()\n",
        "df['Williams %R'] = (最近9日內最高價-df['Close'])/(最近9日內最高價-最近9日內最低價)\n",
        "df['Williams %R'] = df['Williams %R'] * -100\n",
        "print(df['Williams %R'].min(),df['Williams %R'].max())\n",
        "sns.distplot(df['Williams %R'].dropna())\n",
        "df.tail()"
      ],
      "execution_count": 14,
      "outputs": [
        {
          "output_type": "stream",
          "text": [
            "-100.0 -0.0\n"
          ],
          "name": "stdout"
        },
        {
          "output_type": "execute_result",
          "data": {
            "text/html": [
              "<div>\n",
              "<style scoped>\n",
              "    .dataframe tbody tr th:only-of-type {\n",
              "        vertical-align: middle;\n",
              "    }\n",
              "\n",
              "    .dataframe tbody tr th {\n",
              "        vertical-align: top;\n",
              "    }\n",
              "\n",
              "    .dataframe thead th {\n",
              "        text-align: right;\n",
              "    }\n",
              "</style>\n",
              "<table border=\"1\" class=\"dataframe\">\n",
              "  <thead>\n",
              "    <tr style=\"text-align: right;\">\n",
              "      <th></th>\n",
              "      <th>High</th>\n",
              "      <th>Low</th>\n",
              "      <th>Open</th>\n",
              "      <th>Close</th>\n",
              "      <th>Volume</th>\n",
              "      <th>triple_barrier_profit</th>\n",
              "      <th>triple_barrier_sell_time</th>\n",
              "      <th>triple_barrier_signal</th>\n",
              "      <th>RSI</th>\n",
              "      <th>Williams %R</th>\n",
              "    </tr>\n",
              "    <tr>\n",
              "      <th>Date</th>\n",
              "      <th></th>\n",
              "      <th></th>\n",
              "      <th></th>\n",
              "      <th></th>\n",
              "      <th></th>\n",
              "      <th></th>\n",
              "      <th></th>\n",
              "      <th></th>\n",
              "      <th></th>\n",
              "      <th></th>\n",
              "    </tr>\n",
              "  </thead>\n",
              "  <tbody>\n",
              "    <tr>\n",
              "      <th>2019-09-02</th>\n",
              "      <td>82.000000</td>\n",
              "      <td>81.650002</td>\n",
              "      <td>81.800003</td>\n",
              "      <td>81.900002</td>\n",
              "      <td>6457870.0</td>\n",
              "      <td>NaN</td>\n",
              "      <td>NaT</td>\n",
              "      <td>0</td>\n",
              "      <td>62.698693</td>\n",
              "      <td>-4.166600</td>\n",
              "    </tr>\n",
              "    <tr>\n",
              "      <th>2019-09-03</th>\n",
              "      <td>82.000000</td>\n",
              "      <td>81.199997</td>\n",
              "      <td>81.849998</td>\n",
              "      <td>81.199997</td>\n",
              "      <td>5052925.0</td>\n",
              "      <td>NaN</td>\n",
              "      <td>NaT</td>\n",
              "      <td>0</td>\n",
              "      <td>76.622808</td>\n",
              "      <td>-33.333439</td>\n",
              "    </tr>\n",
              "    <tr>\n",
              "      <th>2019-09-04</th>\n",
              "      <td>82.199997</td>\n",
              "      <td>81.400002</td>\n",
              "      <td>81.449997</td>\n",
              "      <td>82.150002</td>\n",
              "      <td>10748771.0</td>\n",
              "      <td>NaN</td>\n",
              "      <td>NaT</td>\n",
              "      <td>0</td>\n",
              "      <td>81.317962</td>\n",
              "      <td>-1.922902</td>\n",
              "    </tr>\n",
              "    <tr>\n",
              "      <th>2019-09-05</th>\n",
              "      <td>83.199997</td>\n",
              "      <td>82.550003</td>\n",
              "      <td>82.550003</td>\n",
              "      <td>83.000000</td>\n",
              "      <td>25429390.0</td>\n",
              "      <td>NaN</td>\n",
              "      <td>NaT</td>\n",
              "      <td>0</td>\n",
              "      <td>82.631139</td>\n",
              "      <td>-5.555473</td>\n",
              "    </tr>\n",
              "    <tr>\n",
              "      <th>2019-09-06</th>\n",
              "      <td>83.550003</td>\n",
              "      <td>83.250000</td>\n",
              "      <td>83.250000</td>\n",
              "      <td>83.500000</td>\n",
              "      <td>17194000.0</td>\n",
              "      <td>NaN</td>\n",
              "      <td>NaT</td>\n",
              "      <td>0</td>\n",
              "      <td>83.984523</td>\n",
              "      <td>-1.315869</td>\n",
              "    </tr>\n",
              "  </tbody>\n",
              "</table>\n",
              "</div>"
            ],
            "text/plain": [
              "                 High        Low  ...        RSI  Williams %R\n",
              "Date                              ...                        \n",
              "2019-09-02  82.000000  81.650002  ...  62.698693    -4.166600\n",
              "2019-09-03  82.000000  81.199997  ...  76.622808   -33.333439\n",
              "2019-09-04  82.199997  81.400002  ...  81.317962    -1.922902\n",
              "2019-09-05  83.199997  82.550003  ...  82.631139    -5.555473\n",
              "2019-09-06  83.550003  83.250000  ...  83.984523    -1.315869\n",
              "\n",
              "[5 rows x 10 columns]"
            ]
          },
          "metadata": {
            "tags": []
          },
          "execution_count": 14
        },
        {
          "output_type": "display_data",
          "data": {
            "image/png": "[encoded data removed]",
            "text/plain": [
              "<Figure size 432x288 with 1 Axes>"
            ]
          },
          "metadata": {
            "tags": []
          }
        }
      ]
    },
    {
      "cell_type": "markdown",
      "metadata": {
        "id": "xK4jb6KTDdGa",
        "colab_type": "text"
      },
      "source": [
        "# SMA"
      ]
    },
    {
      "cell_type": "code",
      "metadata": {
        "id": "osETw-NkfgfL",
        "colab_type": "code",
        "outputId": "0b350f5b-50f7-4bf5-e1ec-3f488358c227",
        "colab": {
          "base_uri": "https://localhost:8080/",
          "height": 779
        }
      },
      "source": [
        "from finta import TA\n",
        "ohlc = df[['Open','High','Low','Close','Volume']]\n",
        "ohlc.columns = ['open','high','low','close','volume']\n",
        "df['SMA'] = TA.SMA(ohlc,5)\n",
        "print(df['SMA'].describe())\n",
        "sns.distplot(df['SMA'].dropna())\n",
        "df.tail()"
      ],
      "execution_count": 15,
      "outputs": [
        {
          "output_type": "stream",
          "text": [
            "count    2873.000000\n",
            "mean       62.187205\n",
            "std        12.451018\n",
            "min        30.008000\n",
            "25%        53.800000\n",
            "50%        60.180000\n",
            "75%        71.050000\n",
            "max        87.679999\n",
            "Name: SMA, dtype: float64\n"
          ],
          "name": "stdout"
        },
        {
          "output_type": "execute_result",
          "data": {
            "text/html": [
              "<div>\n",
              "<style scoped>\n",
              "    .dataframe tbody tr th:only-of-type {\n",
              "        vertical-align: middle;\n",
              "    }\n",
              "\n",
              "    .dataframe tbody tr th {\n",
              "        vertical-align: top;\n",
              "    }\n",
              "\n",
              "    .dataframe thead th {\n",
              "        text-align: right;\n",
              "    }\n",
              "</style>\n",
              "<table border=\"1\" class=\"dataframe\">\n",
              "  <thead>\n",
              "    <tr style=\"text-align: right;\">\n",
              "      <th></th>\n",
              "      <th>High</th>\n",
              "      <th>Low</th>\n",
              "      <th>Open</th>\n",
              "      <th>Close</th>\n",
              "      <th>Volume</th>\n",
              "      <th>triple_barrier_profit</th>\n",
              "      <th>triple_barrier_sell_time</th>\n",
              "      <th>triple_barrier_signal</th>\n",
              "      <th>RSI</th>\n",
              "      <th>Williams %R</th>\n",
              "      <th>SMA</th>\n",
              "    </tr>\n",
              "    <tr>\n",
              "      <th>Date</th>\n",
              "      <th></th>\n",
              "      <th></th>\n",
              "      <th></th>\n",
              "      <th></th>\n",
              "      <th></th>\n",
              "      <th></th>\n",
              "      <th></th>\n",
              "      <th></th>\n",
              "      <th></th>\n",
              "      <th></th>\n",
              "      <th></th>\n",
              "    </tr>\n",
              "  </thead>\n",
              "  <tbody>\n",
              "    <tr>\n",
              "      <th>2019-09-02</th>\n",
              "      <td>82.000000</td>\n",
              "      <td>81.650002</td>\n",
              "      <td>81.800003</td>\n",
              "      <td>81.900002</td>\n",
              "      <td>6457870.0</td>\n",
              "      <td>NaN</td>\n",
              "      <td>NaT</td>\n",
              "      <td>0</td>\n",
              "      <td>62.698693</td>\n",
              "      <td>-4.166600</td>\n",
              "      <td>80.910001</td>\n",
              "    </tr>\n",
              "    <tr>\n",
              "      <th>2019-09-03</th>\n",
              "      <td>82.000000</td>\n",
              "      <td>81.199997</td>\n",
              "      <td>81.849998</td>\n",
              "      <td>81.199997</td>\n",
              "      <td>5052925.0</td>\n",
              "      <td>NaN</td>\n",
              "      <td>NaT</td>\n",
              "      <td>0</td>\n",
              "      <td>76.622808</td>\n",
              "      <td>-33.333439</td>\n",
              "      <td>81.180000</td>\n",
              "    </tr>\n",
              "    <tr>\n",
              "      <th>2019-09-04</th>\n",
              "      <td>82.199997</td>\n",
              "      <td>81.400002</td>\n",
              "      <td>81.449997</td>\n",
              "      <td>82.150002</td>\n",
              "      <td>10748771.0</td>\n",
              "      <td>NaN</td>\n",
              "      <td>NaT</td>\n",
              "      <td>0</td>\n",
              "      <td>81.317962</td>\n",
              "      <td>-1.922902</td>\n",
              "      <td>81.530000</td>\n",
              "    </tr>\n",
              "    <tr>\n",
              "      <th>2019-09-05</th>\n",
              "      <td>83.199997</td>\n",
              "      <td>82.550003</td>\n",
              "      <td>82.550003</td>\n",
              "      <td>83.000000</td>\n",
              "      <td>25429390.0</td>\n",
              "      <td>NaN</td>\n",
              "      <td>NaT</td>\n",
              "      <td>0</td>\n",
              "      <td>82.631139</td>\n",
              "      <td>-5.555473</td>\n",
              "      <td>82.020000</td>\n",
              "    </tr>\n",
              "    <tr>\n",
              "      <th>2019-09-06</th>\n",
              "      <td>83.550003</td>\n",
              "      <td>83.250000</td>\n",
              "      <td>83.250000</td>\n",
              "      <td>83.500000</td>\n",
              "      <td>17194000.0</td>\n",
              "      <td>NaN</td>\n",
              "      <td>NaT</td>\n",
              "      <td>0</td>\n",
              "      <td>83.984523</td>\n",
              "      <td>-1.315869</td>\n",
              "      <td>82.350000</td>\n",
              "    </tr>\n",
              "  </tbody>\n",
              "</table>\n",
              "</div>"
            ],
            "text/plain": [
              "                 High        Low       Open  ...        RSI  Williams %R        SMA\n",
              "Date                                         ...                                   \n",
              "2019-09-02  82.000000  81.650002  81.800003  ...  62.698693    -4.166600  80.910001\n",
              "2019-09-03  82.000000  81.199997  81.849998  ...  76.622808   -33.333439  81.180000\n",
              "2019-09-04  82.199997  81.400002  81.449997  ...  81.317962    -1.922902  81.530000\n",
              "2019-09-05  83.199997  82.550003  82.550003  ...  82.631139    -5.555473  82.020000\n",
              "2019-09-06  83.550003  83.250000  83.250000  ...  83.984523    -1.315869  82.350000\n",
              "\n",
              "[5 rows x 11 columns]"
            ]
          },
          "metadata": {
            "tags": []
          },
          "execution_count": 15
        },
        {
          "output_type": "display_data",
          "data": {
            "image/png": "[encoded data removed]",
            "text/plain": [
              "<Figure size 432x288 with 1 Axes>"
            ]
          },
          "metadata": {
            "tags": []
          }
        }
      ]
    },
    {
      "cell_type": "markdown",
      "metadata": {
        "id": "a2Mf0ckEoHC_",
        "colab_type": "text"
      },
      "source": [
        "# EMA"
      ]
    },
    {
      "cell_type": "code",
      "metadata": {
        "id": "EQlFyJLeh4WA",
        "colab_type": "code",
        "outputId": "6c237840-5e4f-4145-997f-bf62f944d88c",
        "colab": {
          "base_uri": "https://localhost:8080/",
          "height": 779
        }
      },
      "source": [
        "df['EMA'] = TA.EMA(ohlc)\n",
        "print(df['EMA'].describe())\n",
        "sns.distplot(df['EMA'])\n",
        "df.tail()"
      ],
      "execution_count": 16,
      "outputs": [
        {
          "output_type": "stream",
          "text": [
            "count    2877.000000\n",
            "mean       62.169258\n",
            "std        12.408653\n",
            "min        30.751804\n",
            "25%        53.796584\n",
            "50%        60.290459\n",
            "75%        70.972187\n",
            "max        86.800883\n",
            "Name: EMA, dtype: float64\n"
          ],
          "name": "stdout"
        },
        {
          "output_type": "execute_result",
          "data": {
            "text/html": [
              "<div>\n",
              "<style scoped>\n",
              "    .dataframe tbody tr th:only-of-type {\n",
              "        vertical-align: middle;\n",
              "    }\n",
              "\n",
              "    .dataframe tbody tr th {\n",
              "        vertical-align: top;\n",
              "    }\n",
              "\n",
              "    .dataframe thead th {\n",
              "        text-align: right;\n",
              "    }\n",
              "</style>\n",
              "<table border=\"1\" class=\"dataframe\">\n",
              "  <thead>\n",
              "    <tr style=\"text-align: right;\">\n",
              "      <th></th>\n",
              "      <th>High</th>\n",
              "      <th>Low</th>\n",
              "      <th>Open</th>\n",
              "      <th>Close</th>\n",
              "      <th>Volume</th>\n",
              "      <th>triple_barrier_profit</th>\n",
              "      <th>triple_barrier_sell_time</th>\n",
              "      <th>triple_barrier_signal</th>\n",
              "      <th>RSI</th>\n",
              "      <th>Williams %R</th>\n",
              "      <th>SMA</th>\n",
              "      <th>EMA</th>\n",
              "    </tr>\n",
              "    <tr>\n",
              "      <th>Date</th>\n",
              "      <th></th>\n",
              "      <th></th>\n",
              "      <th></th>\n",
              "      <th></th>\n",
              "      <th></th>\n",
              "      <th></th>\n",
              "      <th></th>\n",
              "      <th></th>\n",
              "      <th></th>\n",
              "      <th></th>\n",
              "      <th></th>\n",
              "      <th></th>\n",
              "    </tr>\n",
              "  </thead>\n",
              "  <tbody>\n",
              "    <tr>\n",
              "      <th>2019-09-02</th>\n",
              "      <td>82.000000</td>\n",
              "      <td>81.650002</td>\n",
              "      <td>81.800003</td>\n",
              "      <td>81.900002</td>\n",
              "      <td>6457870.0</td>\n",
              "      <td>NaN</td>\n",
              "      <td>NaT</td>\n",
              "      <td>0</td>\n",
              "      <td>62.698693</td>\n",
              "      <td>-4.166600</td>\n",
              "      <td>80.910001</td>\n",
              "      <td>80.950204</td>\n",
              "    </tr>\n",
              "    <tr>\n",
              "      <th>2019-09-03</th>\n",
              "      <td>82.000000</td>\n",
              "      <td>81.199997</td>\n",
              "      <td>81.849998</td>\n",
              "      <td>81.199997</td>\n",
              "      <td>5052925.0</td>\n",
              "      <td>NaN</td>\n",
              "      <td>NaT</td>\n",
              "      <td>0</td>\n",
              "      <td>76.622808</td>\n",
              "      <td>-33.333439</td>\n",
              "      <td>81.180000</td>\n",
              "      <td>81.000163</td>\n",
              "    </tr>\n",
              "    <tr>\n",
              "      <th>2019-09-04</th>\n",
              "      <td>82.199997</td>\n",
              "      <td>81.400002</td>\n",
              "      <td>81.449997</td>\n",
              "      <td>82.150002</td>\n",
              "      <td>10748771.0</td>\n",
              "      <td>NaN</td>\n",
              "      <td>NaT</td>\n",
              "      <td>0</td>\n",
              "      <td>81.317962</td>\n",
              "      <td>-1.922902</td>\n",
              "      <td>81.530000</td>\n",
              "      <td>81.230130</td>\n",
              "    </tr>\n",
              "    <tr>\n",
              "      <th>2019-09-05</th>\n",
              "      <td>83.199997</td>\n",
              "      <td>82.550003</td>\n",
              "      <td>82.550003</td>\n",
              "      <td>83.000000</td>\n",
              "      <td>25429390.0</td>\n",
              "      <td>NaN</td>\n",
              "      <td>NaT</td>\n",
              "      <td>0</td>\n",
              "      <td>82.631139</td>\n",
              "      <td>-5.555473</td>\n",
              "      <td>82.020000</td>\n",
              "      <td>81.584104</td>\n",
              "    </tr>\n",
              "    <tr>\n",
              "      <th>2019-09-06</th>\n",
              "      <td>83.550003</td>\n",
              "      <td>83.250000</td>\n",
              "      <td>83.250000</td>\n",
              "      <td>83.500000</td>\n",
              "      <td>17194000.0</td>\n",
              "      <td>NaN</td>\n",
              "      <td>NaT</td>\n",
              "      <td>0</td>\n",
              "      <td>83.984523</td>\n",
              "      <td>-1.315869</td>\n",
              "      <td>82.350000</td>\n",
              "      <td>81.967283</td>\n",
              "    </tr>\n",
              "  </tbody>\n",
              "</table>\n",
              "</div>"
            ],
            "text/plain": [
              "                 High        Low       Open  ...  Williams %R        SMA        EMA\n",
              "Date                                         ...                                   \n",
              "2019-09-02  82.000000  81.650002  81.800003  ...    -4.166600  80.910001  80.950204\n",
              "2019-09-03  82.000000  81.199997  81.849998  ...   -33.333439  81.180000  81.000163\n",
              "2019-09-04  82.199997  81.400002  81.449997  ...    -1.922902  81.530000  81.230130\n",
              "2019-09-05  83.199997  82.550003  82.550003  ...    -5.555473  82.020000  81.584104\n",
              "2019-09-06  83.550003  83.250000  83.250000  ...    -1.315869  82.350000  81.967283\n",
              "\n",
              "[5 rows x 12 columns]"
            ]
          },
          "metadata": {
            "tags": []
          },
          "execution_count": 16
        },
        {
          "output_type": "display_data",
          "data": {
            "image/png": "[encoded data removed]",
            "text/plain": [
              "<Figure size 432x288 with 1 Axes>"
            ]
          },
          "metadata": {
            "tags": []
          }
        }
      ]
    },
    {
      "cell_type": "markdown",
      "metadata": {
        "id": "wqkaWfQryV3W",
        "colab_type": "text"
      },
      "source": [
        "# WMA"
      ]
    },
    {
      "cell_type": "code",
      "metadata": {
        "id": "9Dw9scCSieLI",
        "colab_type": "code",
        "outputId": "8de2193e-65a9-49b8-e870-1a2484a6d11b",
        "colab": {
          "base_uri": "https://localhost:8080/",
          "height": 813
        }
      },
      "source": [
        "df['WMA'] = TA.WMA(ohlc)\n",
        "print(df['WMA'].describe())\n",
        "sns.distplot(df['WMA'].dropna())\n",
        "df.tail()"
      ],
      "execution_count": 17,
      "outputs": [
        {
          "output_type": "stream",
          "text": [
            "/usr/local/lib/python3.6/dist-packages/finta/finta.py:263: FutureWarning: Currently, 'apply' passes the values as ndarrays to the applied function. In the future, this will change to passing it as Series objects. You need to specify 'raw=True' to keep the current behaviour, and you can pass 'raw=False' to silence this warning\n",
            "  wma = close_.apply(linear(weights))\n"
          ],
          "name": "stderr"
        },
        {
          "output_type": "stream",
          "text": [
            "count    2869.000000\n",
            "mean       62.165520\n",
            "std        12.433770\n",
            "min        30.099111\n",
            "25%        53.821112\n",
            "50%        60.232222\n",
            "75%        71.011110\n",
            "max        87.264444\n",
            "Name: WMA, dtype: float64\n"
          ],
          "name": "stdout"
        },
        {
          "output_type": "execute_result",
          "data": {
            "text/html": [
              "<div>\n",
              "<style scoped>\n",
              "    .dataframe tbody tr th:only-of-type {\n",
              "        vertical-align: middle;\n",
              "    }\n",
              "\n",
              "    .dataframe tbody tr th {\n",
              "        vertical-align: top;\n",
              "    }\n",
              "\n",
              "    .dataframe thead th {\n",
              "        text-align: right;\n",
              "    }\n",
              "</style>\n",
              "<table border=\"1\" class=\"dataframe\">\n",
              "  <thead>\n",
              "    <tr style=\"text-align: right;\">\n",
              "      <th></th>\n",
              "      <th>High</th>\n",
              "      <th>Low</th>\n",
              "      <th>Open</th>\n",
              "      <th>Close</th>\n",
              "      <th>Volume</th>\n",
              "      <th>triple_barrier_profit</th>\n",
              "      <th>triple_barrier_sell_time</th>\n",
              "      <th>triple_barrier_signal</th>\n",
              "      <th>RSI</th>\n",
              "      <th>Williams %R</th>\n",
              "      <th>SMA</th>\n",
              "      <th>EMA</th>\n",
              "      <th>WMA</th>\n",
              "    </tr>\n",
              "    <tr>\n",
              "      <th>Date</th>\n",
              "      <th></th>\n",
              "      <th></th>\n",
              "      <th></th>\n",
              "      <th></th>\n",
              "      <th></th>\n",
              "      <th></th>\n",
              "      <th></th>\n",
              "      <th></th>\n",
              "      <th></th>\n",
              "      <th></th>\n",
              "      <th></th>\n",
              "      <th></th>\n",
              "      <th></th>\n",
              "    </tr>\n",
              "  </thead>\n",
              "  <tbody>\n",
              "    <tr>\n",
              "      <th>2019-09-02</th>\n",
              "      <td>82.000000</td>\n",
              "      <td>81.650002</td>\n",
              "      <td>81.800003</td>\n",
              "      <td>81.900002</td>\n",
              "      <td>6457870.0</td>\n",
              "      <td>NaN</td>\n",
              "      <td>NaT</td>\n",
              "      <td>0</td>\n",
              "      <td>62.698693</td>\n",
              "      <td>-4.166600</td>\n",
              "      <td>80.910001</td>\n",
              "      <td>80.950204</td>\n",
              "      <td>80.684445</td>\n",
              "    </tr>\n",
              "    <tr>\n",
              "      <th>2019-09-03</th>\n",
              "      <td>82.000000</td>\n",
              "      <td>81.199997</td>\n",
              "      <td>81.849998</td>\n",
              "      <td>81.199997</td>\n",
              "      <td>5052925.0</td>\n",
              "      <td>NaN</td>\n",
              "      <td>NaT</td>\n",
              "      <td>0</td>\n",
              "      <td>76.622808</td>\n",
              "      <td>-33.333439</td>\n",
              "      <td>81.180000</td>\n",
              "      <td>81.000163</td>\n",
              "      <td>80.651111</td>\n",
              "    </tr>\n",
              "    <tr>\n",
              "      <th>2019-09-04</th>\n",
              "      <td>82.199997</td>\n",
              "      <td>81.400002</td>\n",
              "      <td>81.449997</td>\n",
              "      <td>82.150002</td>\n",
              "      <td>10748771.0</td>\n",
              "      <td>NaN</td>\n",
              "      <td>NaT</td>\n",
              "      <td>0</td>\n",
              "      <td>81.317962</td>\n",
              "      <td>-1.922902</td>\n",
              "      <td>81.530000</td>\n",
              "      <td>81.230130</td>\n",
              "      <td>80.621112</td>\n",
              "    </tr>\n",
              "    <tr>\n",
              "      <th>2019-09-05</th>\n",
              "      <td>83.199997</td>\n",
              "      <td>82.550003</td>\n",
              "      <td>82.550003</td>\n",
              "      <td>83.000000</td>\n",
              "      <td>25429390.0</td>\n",
              "      <td>NaN</td>\n",
              "      <td>NaT</td>\n",
              "      <td>0</td>\n",
              "      <td>82.631139</td>\n",
              "      <td>-5.555473</td>\n",
              "      <td>82.020000</td>\n",
              "      <td>81.584104</td>\n",
              "      <td>80.655556</td>\n",
              "    </tr>\n",
              "    <tr>\n",
              "      <th>2019-09-06</th>\n",
              "      <td>83.550003</td>\n",
              "      <td>83.250000</td>\n",
              "      <td>83.250000</td>\n",
              "      <td>83.500000</td>\n",
              "      <td>17194000.0</td>\n",
              "      <td>NaN</td>\n",
              "      <td>NaT</td>\n",
              "      <td>0</td>\n",
              "      <td>83.984523</td>\n",
              "      <td>-1.315869</td>\n",
              "      <td>82.350000</td>\n",
              "      <td>81.967283</td>\n",
              "      <td>81.045556</td>\n",
              "    </tr>\n",
              "  </tbody>\n",
              "</table>\n",
              "</div>"
            ],
            "text/plain": [
              "                 High        Low       Open  ...        SMA        EMA        WMA\n",
              "Date                                         ...                                 \n",
              "2019-09-02  82.000000  81.650002  81.800003  ...  80.910001  80.950204  80.684445\n",
              "2019-09-03  82.000000  81.199997  81.849998  ...  81.180000  81.000163  80.651111\n",
              "2019-09-04  82.199997  81.400002  81.449997  ...  81.530000  81.230130  80.621112\n",
              "2019-09-05  83.199997  82.550003  82.550003  ...  82.020000  81.584104  80.655556\n",
              "2019-09-06  83.550003  83.250000  83.250000  ...  82.350000  81.967283  81.045556\n",
              "\n",
              "[5 rows x 13 columns]"
            ]
          },
          "metadata": {
            "tags": []
          },
          "execution_count": 17
        },
        {
          "output_type": "display_data",
          "data": {
            "image/png": "[encoded data removed]",
            "text/plain": [
              "<Figure size 432x288 with 1 Axes>"
            ]
          },
          "metadata": {
            "tags": []
          }
        }
      ]
    },
    {
      "cell_type": "markdown",
      "metadata": {
        "id": "HNC131ghyrF1",
        "colab_type": "text"
      },
      "source": [
        "# HMA"
      ]
    },
    {
      "cell_type": "code",
      "metadata": {
        "id": "b02O6Yevi6mN",
        "colab_type": "code",
        "outputId": "0461aaa3-97c5-4f91-ff93-e6e0972df057",
        "colab": {
          "base_uri": "https://localhost:8080/",
          "height": 917
        }
      },
      "source": [
        "df['HMA'] = TA.HMA(ohlc)\n",
        "print(df['HMA'].describe())\n",
        "sns.distplot(df['HMA'].dropna())\n",
        "df.tail()"
      ],
      "execution_count": 18,
      "outputs": [
        {
          "output_type": "stream",
          "text": [
            "/usr/local/lib/python3.6/dist-packages/finta/finta.py:263: FutureWarning: Currently, 'apply' passes the values as ndarrays to the applied function. In the future, this will change to passing it as Series objects. You need to specify 'raw=True' to keep the current behaviour, and you can pass 'raw=False' to silence this warning\n",
            "  wma = close_.apply(linear(weights))\n",
            "/usr/local/lib/python3.6/dist-packages/finta/finta.py:285: SettingWithCopyWarning: \n",
            "A value is trying to be set on a copy of a slice from a DataFrame.\n",
            "Try using .loc[row_indexer,col_indexer] = value instead\n",
            "\n",
            "See the caveats in the documentation: http://pandas.pydata.org/pandas-docs/stable/indexing.html#indexing-view-versus-copy\n",
            "  ohlc['deltawma'] = 2 * wmaf - wmas\n"
          ],
          "name": "stderr"
        },
        {
          "output_type": "stream",
          "text": [
            "count    2874.000000\n",
            "mean       62.186256\n",
            "std        12.453690\n",
            "min        29.586000\n",
            "25%        53.766250\n",
            "50%        60.182500\n",
            "75%        71.128750\n",
            "max        87.854999\n",
            "Name: HMA, dtype: float64\n"
          ],
          "name": "stdout"
        },
        {
          "output_type": "execute_result",
          "data": {
            "text/html": [
              "<div>\n",
              "<style scoped>\n",
              "    .dataframe tbody tr th:only-of-type {\n",
              "        vertical-align: middle;\n",
              "    }\n",
              "\n",
              "    .dataframe tbody tr th {\n",
              "        vertical-align: top;\n",
              "    }\n",
              "\n",
              "    .dataframe thead th {\n",
              "        text-align: right;\n",
              "    }\n",
              "</style>\n",
              "<table border=\"1\" class=\"dataframe\">\n",
              "  <thead>\n",
              "    <tr style=\"text-align: right;\">\n",
              "      <th></th>\n",
              "      <th>High</th>\n",
              "      <th>Low</th>\n",
              "      <th>Open</th>\n",
              "      <th>Close</th>\n",
              "      <th>Volume</th>\n",
              "      <th>triple_barrier_profit</th>\n",
              "      <th>triple_barrier_sell_time</th>\n",
              "      <th>triple_barrier_signal</th>\n",
              "      <th>RSI</th>\n",
              "      <th>Williams %R</th>\n",
              "      <th>SMA</th>\n",
              "      <th>EMA</th>\n",
              "      <th>WMA</th>\n",
              "      <th>HMA</th>\n",
              "    </tr>\n",
              "    <tr>\n",
              "      <th>Date</th>\n",
              "      <th></th>\n",
              "      <th></th>\n",
              "      <th></th>\n",
              "      <th></th>\n",
              "      <th></th>\n",
              "      <th></th>\n",
              "      <th></th>\n",
              "      <th></th>\n",
              "      <th></th>\n",
              "      <th></th>\n",
              "      <th></th>\n",
              "      <th></th>\n",
              "      <th></th>\n",
              "      <th></th>\n",
              "    </tr>\n",
              "  </thead>\n",
              "  <tbody>\n",
              "    <tr>\n",
              "      <th>2019-09-02</th>\n",
              "      <td>82.000000</td>\n",
              "      <td>81.650002</td>\n",
              "      <td>81.800003</td>\n",
              "      <td>81.900002</td>\n",
              "      <td>6457870.0</td>\n",
              "      <td>NaN</td>\n",
              "      <td>NaT</td>\n",
              "      <td>0</td>\n",
              "      <td>62.698693</td>\n",
              "      <td>-4.166600</td>\n",
              "      <td>80.910001</td>\n",
              "      <td>80.950204</td>\n",
              "      <td>80.684445</td>\n",
              "      <td>80.885001</td>\n",
              "    </tr>\n",
              "    <tr>\n",
              "      <th>2019-09-03</th>\n",
              "      <td>82.000000</td>\n",
              "      <td>81.199997</td>\n",
              "      <td>81.849998</td>\n",
              "      <td>81.199997</td>\n",
              "      <td>5052925.0</td>\n",
              "      <td>NaN</td>\n",
              "      <td>NaT</td>\n",
              "      <td>0</td>\n",
              "      <td>76.622808</td>\n",
              "      <td>-33.333439</td>\n",
              "      <td>81.180000</td>\n",
              "      <td>81.000163</td>\n",
              "      <td>80.651111</td>\n",
              "      <td>81.275001</td>\n",
              "    </tr>\n",
              "    <tr>\n",
              "      <th>2019-09-04</th>\n",
              "      <td>82.199997</td>\n",
              "      <td>81.400002</td>\n",
              "      <td>81.449997</td>\n",
              "      <td>82.150002</td>\n",
              "      <td>10748771.0</td>\n",
              "      <td>NaN</td>\n",
              "      <td>NaT</td>\n",
              "      <td>0</td>\n",
              "      <td>81.317962</td>\n",
              "      <td>-1.922902</td>\n",
              "      <td>81.530000</td>\n",
              "      <td>81.230130</td>\n",
              "      <td>80.621112</td>\n",
              "      <td>81.764999</td>\n",
              "    </tr>\n",
              "    <tr>\n",
              "      <th>2019-09-05</th>\n",
              "      <td>83.199997</td>\n",
              "      <td>82.550003</td>\n",
              "      <td>82.550003</td>\n",
              "      <td>83.000000</td>\n",
              "      <td>25429390.0</td>\n",
              "      <td>NaN</td>\n",
              "      <td>NaT</td>\n",
              "      <td>0</td>\n",
              "      <td>82.631139</td>\n",
              "      <td>-5.555473</td>\n",
              "      <td>82.020000</td>\n",
              "      <td>81.584104</td>\n",
              "      <td>80.655556</td>\n",
              "      <td>81.850000</td>\n",
              "    </tr>\n",
              "    <tr>\n",
              "      <th>2019-09-06</th>\n",
              "      <td>83.550003</td>\n",
              "      <td>83.250000</td>\n",
              "      <td>83.250000</td>\n",
              "      <td>83.500000</td>\n",
              "      <td>17194000.0</td>\n",
              "      <td>NaN</td>\n",
              "      <td>NaT</td>\n",
              "      <td>0</td>\n",
              "      <td>83.984523</td>\n",
              "      <td>-1.315869</td>\n",
              "      <td>82.350000</td>\n",
              "      <td>81.967283</td>\n",
              "      <td>81.045556</td>\n",
              "      <td>82.074999</td>\n",
              "    </tr>\n",
              "  </tbody>\n",
              "</table>\n",
              "</div>"
            ],
            "text/plain": [
              "                 High        Low       Open  ...        EMA        WMA        HMA\n",
              "Date                                         ...                                 \n",
              "2019-09-02  82.000000  81.650002  81.800003  ...  80.950204  80.684445  80.885001\n",
              "2019-09-03  82.000000  81.199997  81.849998  ...  81.000163  80.651111  81.275001\n",
              "2019-09-04  82.199997  81.400002  81.449997  ...  81.230130  80.621112  81.764999\n",
              "2019-09-05  83.199997  82.550003  82.550003  ...  81.584104  80.655556  81.850000\n",
              "2019-09-06  83.550003  83.250000  83.250000  ...  81.967283  81.045556  82.074999\n",
              "\n",
              "[5 rows x 14 columns]"
            ]
          },
          "metadata": {
            "tags": []
          },
          "execution_count": 18
        },
        {
          "output_type": "display_data",
          "data": {
            "image/png": "[encoded data removed]",
            "text/plain": [
              "<Figure size 432x288 with 1 Axes>"
            ]
          },
          "metadata": {
            "tags": []
          }
        }
      ]
    },
    {
      "cell_type": "markdown",
      "metadata": {
        "id": "ch7SZ7aFjCit",
        "colab_type": "text"
      },
      "source": [
        "# TEMA"
      ]
    },
    {
      "cell_type": "code",
      "metadata": {
        "id": "GeS0aHxZjFtA",
        "colab_type": "code",
        "outputId": "f0a1ab33-6417-4fd5-f9e7-c93ad8ca1608",
        "colab": {
          "base_uri": "https://localhost:8080/",
          "height": 779
        }
      },
      "source": [
        "df['TEMA'] = TA.TEMA(ohlc)\n",
        "print(df['TEMA'].describe())\n",
        "sns.distplot(df['TEMA'].dropna())\n",
        "df.tail()"
      ],
      "execution_count": 19,
      "outputs": [
        {
          "output_type": "stream",
          "text": [
            "count    2877.000000\n",
            "mean       62.199432\n",
            "std        12.474058\n",
            "min        29.280004\n",
            "25%        53.796861\n",
            "50%        60.261556\n",
            "75%        71.148825\n",
            "max        88.240036\n",
            "Name: TEMA, dtype: float64\n"
          ],
          "name": "stdout"
        },
        {
          "output_type": "execute_result",
          "data": {
            "text/html": [
              "<div>\n",
              "<style scoped>\n",
              "    .dataframe tbody tr th:only-of-type {\n",
              "        vertical-align: middle;\n",
              "    }\n",
              "\n",
              "    .dataframe tbody tr th {\n",
              "        vertical-align: top;\n",
              "    }\n",
              "\n",
              "    .dataframe thead th {\n",
              "        text-align: right;\n",
              "    }\n",
              "</style>\n",
              "<table border=\"1\" class=\"dataframe\">\n",
              "  <thead>\n",
              "    <tr style=\"text-align: right;\">\n",
              "      <th></th>\n",
              "      <th>High</th>\n",
              "      <th>Low</th>\n",
              "      <th>Open</th>\n",
              "      <th>Close</th>\n",
              "      <th>Volume</th>\n",
              "      <th>triple_barrier_profit</th>\n",
              "      <th>triple_barrier_sell_time</th>\n",
              "      <th>triple_barrier_signal</th>\n",
              "      <th>RSI</th>\n",
              "      <th>Williams %R</th>\n",
              "      <th>SMA</th>\n",
              "      <th>EMA</th>\n",
              "      <th>WMA</th>\n",
              "      <th>HMA</th>\n",
              "      <th>TEMA</th>\n",
              "    </tr>\n",
              "    <tr>\n",
              "      <th>Date</th>\n",
              "      <th></th>\n",
              "      <th></th>\n",
              "      <th></th>\n",
              "      <th></th>\n",
              "      <th></th>\n",
              "      <th></th>\n",
              "      <th></th>\n",
              "      <th></th>\n",
              "      <th></th>\n",
              "      <th></th>\n",
              "      <th></th>\n",
              "      <th></th>\n",
              "      <th></th>\n",
              "      <th></th>\n",
              "      <th></th>\n",
              "    </tr>\n",
              "  </thead>\n",
              "  <tbody>\n",
              "    <tr>\n",
              "      <th>2019-09-02</th>\n",
              "      <td>82.000000</td>\n",
              "      <td>81.650002</td>\n",
              "      <td>81.800003</td>\n",
              "      <td>81.900002</td>\n",
              "      <td>6457870.0</td>\n",
              "      <td>NaN</td>\n",
              "      <td>NaT</td>\n",
              "      <td>0</td>\n",
              "      <td>62.698693</td>\n",
              "      <td>-4.166600</td>\n",
              "      <td>80.910001</td>\n",
              "      <td>80.950204</td>\n",
              "      <td>80.684445</td>\n",
              "      <td>80.885001</td>\n",
              "      <td>81.603058</td>\n",
              "    </tr>\n",
              "    <tr>\n",
              "      <th>2019-09-03</th>\n",
              "      <td>82.000000</td>\n",
              "      <td>81.199997</td>\n",
              "      <td>81.849998</td>\n",
              "      <td>81.199997</td>\n",
              "      <td>5052925.0</td>\n",
              "      <td>NaN</td>\n",
              "      <td>NaT</td>\n",
              "      <td>0</td>\n",
              "      <td>76.622808</td>\n",
              "      <td>-33.333439</td>\n",
              "      <td>81.180000</td>\n",
              "      <td>81.000163</td>\n",
              "      <td>80.651111</td>\n",
              "      <td>81.275001</td>\n",
              "      <td>81.552079</td>\n",
              "    </tr>\n",
              "    <tr>\n",
              "      <th>2019-09-04</th>\n",
              "      <td>82.199997</td>\n",
              "      <td>81.400002</td>\n",
              "      <td>81.449997</td>\n",
              "      <td>82.150002</td>\n",
              "      <td>10748771.0</td>\n",
              "      <td>NaN</td>\n",
              "      <td>NaT</td>\n",
              "      <td>0</td>\n",
              "      <td>81.317962</td>\n",
              "      <td>-1.922902</td>\n",
              "      <td>81.530000</td>\n",
              "      <td>81.230130</td>\n",
              "      <td>80.621112</td>\n",
              "      <td>81.764999</td>\n",
              "      <td>81.962576</td>\n",
              "    </tr>\n",
              "    <tr>\n",
              "      <th>2019-09-05</th>\n",
              "      <td>83.199997</td>\n",
              "      <td>82.550003</td>\n",
              "      <td>82.550003</td>\n",
              "      <td>83.000000</td>\n",
              "      <td>25429390.0</td>\n",
              "      <td>NaN</td>\n",
              "      <td>NaT</td>\n",
              "      <td>0</td>\n",
              "      <td>82.631139</td>\n",
              "      <td>-5.555473</td>\n",
              "      <td>82.020000</td>\n",
              "      <td>81.584104</td>\n",
              "      <td>80.655556</td>\n",
              "      <td>81.850000</td>\n",
              "      <td>82.618155</td>\n",
              "    </tr>\n",
              "    <tr>\n",
              "      <th>2019-09-06</th>\n",
              "      <td>83.550003</td>\n",
              "      <td>83.250000</td>\n",
              "      <td>83.250000</td>\n",
              "      <td>83.500000</td>\n",
              "      <td>17194000.0</td>\n",
              "      <td>NaN</td>\n",
              "      <td>NaT</td>\n",
              "      <td>0</td>\n",
              "      <td>83.984523</td>\n",
              "      <td>-1.315869</td>\n",
              "      <td>82.350000</td>\n",
              "      <td>81.967283</td>\n",
              "      <td>81.045556</td>\n",
              "      <td>82.074999</td>\n",
              "      <td>83.251691</td>\n",
              "    </tr>\n",
              "  </tbody>\n",
              "</table>\n",
              "</div>"
            ],
            "text/plain": [
              "                 High        Low       Open  ...        WMA        HMA       TEMA\n",
              "Date                                         ...                                 \n",
              "2019-09-02  82.000000  81.650002  81.800003  ...  80.684445  80.885001  81.603058\n",
              "2019-09-03  82.000000  81.199997  81.849998  ...  80.651111  81.275001  81.552079\n",
              "2019-09-04  82.199997  81.400002  81.449997  ...  80.621112  81.764999  81.962576\n",
              "2019-09-05  83.199997  82.550003  82.550003  ...  80.655556  81.850000  82.618155\n",
              "2019-09-06  83.550003  83.250000  83.250000  ...  81.045556  82.074999  83.251691\n",
              "\n",
              "[5 rows x 15 columns]"
            ]
          },
          "metadata": {
            "tags": []
          },
          "execution_count": 19
        },
        {
          "output_type": "display_data",
          "data": {
            "image/png": "[encoded data removed]",
            "text/plain": [
              "<Figure size 432x288 with 1 Axes>"
            ]
          },
          "metadata": {
            "tags": []
          }
        }
      ]
    },
    {
      "cell_type": "markdown",
      "metadata": {
        "id": "EbMrqw5jjZaa",
        "colab_type": "text"
      },
      "source": [
        "# CCI"
      ]
    },
    {
      "cell_type": "code",
      "metadata": {
        "id": "WBfeDdkUjZiP",
        "colab_type": "code",
        "outputId": "86776371-77e8-4b34-d004-50c94e977c85",
        "colab": {
          "base_uri": "https://localhost:8080/",
          "height": 779
        }
      },
      "source": [
        "df['CCI'] = TA.CCI(ohlc)\n",
        "print(df['CCI'].describe())\n",
        "sns.distplot(df['CCI'].dropna())\n",
        "df.tail()"
      ],
      "execution_count": 20,
      "outputs": [
        {
          "output_type": "stream",
          "text": [
            "count    2876.000000\n",
            "mean       11.290527\n",
            "std        86.800065\n",
            "min      -226.628960\n",
            "25%       -56.936860\n",
            "50%        22.095370\n",
            "75%        82.556241\n",
            "max       221.975646\n",
            "Name: CCI, dtype: float64\n"
          ],
          "name": "stdout"
        },
        {
          "output_type": "execute_result",
          "data": {
            "text/html": [
              "<div>\n",
              "<style scoped>\n",
              "    .dataframe tbody tr th:only-of-type {\n",
              "        vertical-align: middle;\n",
              "    }\n",
              "\n",
              "    .dataframe tbody tr th {\n",
              "        vertical-align: top;\n",
              "    }\n",
              "\n",
              "    .dataframe thead th {\n",
              "        text-align: right;\n",
              "    }\n",
              "</style>\n",
              "<table border=\"1\" class=\"dataframe\">\n",
              "  <thead>\n",
              "    <tr style=\"text-align: right;\">\n",
              "      <th></th>\n",
              "      <th>High</th>\n",
              "      <th>Low</th>\n",
              "      <th>Open</th>\n",
              "      <th>Close</th>\n",
              "      <th>Volume</th>\n",
              "      <th>triple_barrier_profit</th>\n",
              "      <th>triple_barrier_sell_time</th>\n",
              "      <th>triple_barrier_signal</th>\n",
              "      <th>RSI</th>\n",
              "      <th>Williams %R</th>\n",
              "      <th>SMA</th>\n",
              "      <th>EMA</th>\n",
              "      <th>WMA</th>\n",
              "      <th>HMA</th>\n",
              "      <th>TEMA</th>\n",
              "      <th>CCI</th>\n",
              "    </tr>\n",
              "    <tr>\n",
              "      <th>Date</th>\n",
              "      <th></th>\n",
              "      <th></th>\n",
              "      <th></th>\n",
              "      <th></th>\n",
              "      <th></th>\n",
              "      <th></th>\n",
              "      <th></th>\n",
              "      <th></th>\n",
              "      <th></th>\n",
              "      <th></th>\n",
              "      <th></th>\n",
              "      <th></th>\n",
              "      <th></th>\n",
              "      <th></th>\n",
              "      <th></th>\n",
              "      <th></th>\n",
              "    </tr>\n",
              "  </thead>\n",
              "  <tbody>\n",
              "    <tr>\n",
              "      <th>2019-09-02</th>\n",
              "      <td>82.000000</td>\n",
              "      <td>81.650002</td>\n",
              "      <td>81.800003</td>\n",
              "      <td>81.900002</td>\n",
              "      <td>6457870.0</td>\n",
              "      <td>NaN</td>\n",
              "      <td>NaT</td>\n",
              "      <td>0</td>\n",
              "      <td>62.698693</td>\n",
              "      <td>-4.166600</td>\n",
              "      <td>80.910001</td>\n",
              "      <td>80.950204</td>\n",
              "      <td>80.684445</td>\n",
              "      <td>80.885001</td>\n",
              "      <td>81.603058</td>\n",
              "      <td>143.717155</td>\n",
              "    </tr>\n",
              "    <tr>\n",
              "      <th>2019-09-03</th>\n",
              "      <td>82.000000</td>\n",
              "      <td>81.199997</td>\n",
              "      <td>81.849998</td>\n",
              "      <td>81.199997</td>\n",
              "      <td>5052925.0</td>\n",
              "      <td>NaN</td>\n",
              "      <td>NaT</td>\n",
              "      <td>0</td>\n",
              "      <td>76.622808</td>\n",
              "      <td>-33.333439</td>\n",
              "      <td>81.180000</td>\n",
              "      <td>81.000163</td>\n",
              "      <td>80.651111</td>\n",
              "      <td>81.275001</td>\n",
              "      <td>81.552079</td>\n",
              "      <td>96.940970</td>\n",
              "    </tr>\n",
              "    <tr>\n",
              "      <th>2019-09-04</th>\n",
              "      <td>82.199997</td>\n",
              "      <td>81.400002</td>\n",
              "      <td>81.449997</td>\n",
              "      <td>82.150002</td>\n",
              "      <td>10748771.0</td>\n",
              "      <td>NaN</td>\n",
              "      <td>NaT</td>\n",
              "      <td>0</td>\n",
              "      <td>81.317962</td>\n",
              "      <td>-1.922902</td>\n",
              "      <td>81.530000</td>\n",
              "      <td>81.230130</td>\n",
              "      <td>80.621112</td>\n",
              "      <td>81.764999</td>\n",
              "      <td>81.962576</td>\n",
              "      <td>120.541026</td>\n",
              "    </tr>\n",
              "    <tr>\n",
              "      <th>2019-09-05</th>\n",
              "      <td>83.199997</td>\n",
              "      <td>82.550003</td>\n",
              "      <td>82.550003</td>\n",
              "      <td>83.000000</td>\n",
              "      <td>25429390.0</td>\n",
              "      <td>NaN</td>\n",
              "      <td>NaT</td>\n",
              "      <td>0</td>\n",
              "      <td>82.631139</td>\n",
              "      <td>-5.555473</td>\n",
              "      <td>82.020000</td>\n",
              "      <td>81.584104</td>\n",
              "      <td>80.655556</td>\n",
              "      <td>81.850000</td>\n",
              "      <td>82.618155</td>\n",
              "      <td>164.641823</td>\n",
              "    </tr>\n",
              "    <tr>\n",
              "      <th>2019-09-06</th>\n",
              "      <td>83.550003</td>\n",
              "      <td>83.250000</td>\n",
              "      <td>83.250000</td>\n",
              "      <td>83.500000</td>\n",
              "      <td>17194000.0</td>\n",
              "      <td>NaN</td>\n",
              "      <td>NaT</td>\n",
              "      <td>0</td>\n",
              "      <td>83.984523</td>\n",
              "      <td>-1.315869</td>\n",
              "      <td>82.350000</td>\n",
              "      <td>81.967283</td>\n",
              "      <td>81.045556</td>\n",
              "      <td>82.074999</td>\n",
              "      <td>83.251691</td>\n",
              "      <td>160.812962</td>\n",
              "    </tr>\n",
              "  </tbody>\n",
              "</table>\n",
              "</div>"
            ],
            "text/plain": [
              "                 High        Low       Open  ...        HMA       TEMA         CCI\n",
              "Date                                         ...                                  \n",
              "2019-09-02  82.000000  81.650002  81.800003  ...  80.885001  81.603058  143.717155\n",
              "2019-09-03  82.000000  81.199997  81.849998  ...  81.275001  81.552079   96.940970\n",
              "2019-09-04  82.199997  81.400002  81.449997  ...  81.764999  81.962576  120.541026\n",
              "2019-09-05  83.199997  82.550003  82.550003  ...  81.850000  82.618155  164.641823\n",
              "2019-09-06  83.550003  83.250000  83.250000  ...  82.074999  83.251691  160.812962\n",
              "\n",
              "[5 rows x 16 columns]"
            ]
          },
          "metadata": {
            "tags": []
          },
          "execution_count": 20
        },
        {
          "output_type": "display_data",
          "data": {
            "image/png": "[encoded data removed]",
            "text/plain": [
              "<Figure size 432x288 with 1 Axes>"
            ]
          },
          "metadata": {
            "tags": []
          }
        }
      ]
    },
    {
      "cell_type": "markdown",
      "metadata": {
        "id": "G8rAJ61cjkJ4",
        "colab_type": "text"
      },
      "source": [
        "# CMO"
      ]
    },
    {
      "cell_type": "code",
      "metadata": {
        "id": "P9EispJmjkj_",
        "colab_type": "code",
        "outputId": "d3b4d4a0-1e1d-49e4-85a9-f82a6594d781",
        "colab": {
          "base_uri": "https://localhost:8080/",
          "height": 779
        }
      },
      "source": [
        "df['CMO'] = TA.CMO(ohlc)\n",
        "print(df['CMO'].describe())\n",
        "sns.distplot(df['CMO'].dropna())\n",
        "df.tail()"
      ],
      "execution_count": 21,
      "outputs": [
        {
          "output_type": "stream",
          "text": [
            "count    2868.000000\n",
            "mean        5.795790\n",
            "std        41.803346\n",
            "min       -97.530901\n",
            "25%       -25.000081\n",
            "50%         5.537113\n",
            "75%        36.999043\n",
            "max       100.000000\n",
            "Name: CMO, dtype: float64\n"
          ],
          "name": "stdout"
        },
        {
          "output_type": "execute_result",
          "data": {
            "text/html": [
              "<div>\n",
              "<style scoped>\n",
              "    .dataframe tbody tr th:only-of-type {\n",
              "        vertical-align: middle;\n",
              "    }\n",
              "\n",
              "    .dataframe tbody tr th {\n",
              "        vertical-align: top;\n",
              "    }\n",
              "\n",
              "    .dataframe thead th {\n",
              "        text-align: right;\n",
              "    }\n",
              "</style>\n",
              "<table border=\"1\" class=\"dataframe\">\n",
              "  <thead>\n",
              "    <tr style=\"text-align: right;\">\n",
              "      <th></th>\n",
              "      <th>High</th>\n",
              "      <th>Low</th>\n",
              "      <th>Open</th>\n",
              "      <th>Close</th>\n",
              "      <th>Volume</th>\n",
              "      <th>triple_barrier_profit</th>\n",
              "      <th>triple_barrier_sell_time</th>\n",
              "      <th>triple_barrier_signal</th>\n",
              "      <th>RSI</th>\n",
              "      <th>Williams %R</th>\n",
              "      <th>SMA</th>\n",
              "      <th>EMA</th>\n",
              "      <th>WMA</th>\n",
              "      <th>HMA</th>\n",
              "      <th>TEMA</th>\n",
              "      <th>CCI</th>\n",
              "      <th>CMO</th>\n",
              "    </tr>\n",
              "    <tr>\n",
              "      <th>Date</th>\n",
              "      <th></th>\n",
              "      <th></th>\n",
              "      <th></th>\n",
              "      <th></th>\n",
              "      <th></th>\n",
              "      <th></th>\n",
              "      <th></th>\n",
              "      <th></th>\n",
              "      <th></th>\n",
              "      <th></th>\n",
              "      <th></th>\n",
              "      <th></th>\n",
              "      <th></th>\n",
              "      <th></th>\n",
              "      <th></th>\n",
              "      <th></th>\n",
              "      <th></th>\n",
              "    </tr>\n",
              "  </thead>\n",
              "  <tbody>\n",
              "    <tr>\n",
              "      <th>2019-09-02</th>\n",
              "      <td>82.000000</td>\n",
              "      <td>81.650002</td>\n",
              "      <td>81.800003</td>\n",
              "      <td>81.900002</td>\n",
              "      <td>6457870.0</td>\n",
              "      <td>NaN</td>\n",
              "      <td>NaT</td>\n",
              "      <td>0</td>\n",
              "      <td>62.698693</td>\n",
              "      <td>-4.166600</td>\n",
              "      <td>80.910001</td>\n",
              "      <td>80.950204</td>\n",
              "      <td>80.684445</td>\n",
              "      <td>80.885001</td>\n",
              "      <td>81.603058</td>\n",
              "      <td>143.717155</td>\n",
              "      <td>27.500014</td>\n",
              "    </tr>\n",
              "    <tr>\n",
              "      <th>2019-09-03</th>\n",
              "      <td>82.000000</td>\n",
              "      <td>81.199997</td>\n",
              "      <td>81.849998</td>\n",
              "      <td>81.199997</td>\n",
              "      <td>5052925.0</td>\n",
              "      <td>NaN</td>\n",
              "      <td>NaT</td>\n",
              "      <td>0</td>\n",
              "      <td>76.622808</td>\n",
              "      <td>-33.333439</td>\n",
              "      <td>81.180000</td>\n",
              "      <td>81.000163</td>\n",
              "      <td>80.651111</td>\n",
              "      <td>81.275001</td>\n",
              "      <td>81.552079</td>\n",
              "      <td>96.940970</td>\n",
              "      <td>4.444377</td>\n",
              "    </tr>\n",
              "    <tr>\n",
              "      <th>2019-09-04</th>\n",
              "      <td>82.199997</td>\n",
              "      <td>81.400002</td>\n",
              "      <td>81.449997</td>\n",
              "      <td>82.150002</td>\n",
              "      <td>10748771.0</td>\n",
              "      <td>NaN</td>\n",
              "      <td>NaT</td>\n",
              "      <td>0</td>\n",
              "      <td>81.317962</td>\n",
              "      <td>-1.922902</td>\n",
              "      <td>81.530000</td>\n",
              "      <td>81.230130</td>\n",
              "      <td>80.621112</td>\n",
              "      <td>81.764999</td>\n",
              "      <td>81.962576</td>\n",
              "      <td>120.541026</td>\n",
              "      <td>19.626203</td>\n",
              "    </tr>\n",
              "    <tr>\n",
              "      <th>2019-09-05</th>\n",
              "      <td>83.199997</td>\n",
              "      <td>82.550003</td>\n",
              "      <td>82.550003</td>\n",
              "      <td>83.000000</td>\n",
              "      <td>25429390.0</td>\n",
              "      <td>NaN</td>\n",
              "      <td>NaT</td>\n",
              "      <td>0</td>\n",
              "      <td>82.631139</td>\n",
              "      <td>-5.555473</td>\n",
              "      <td>82.020000</td>\n",
              "      <td>81.584104</td>\n",
              "      <td>80.655556</td>\n",
              "      <td>81.850000</td>\n",
              "      <td>82.618155</td>\n",
              "      <td>164.641823</td>\n",
              "      <td>32.786852</td>\n",
              "    </tr>\n",
              "    <tr>\n",
              "      <th>2019-09-06</th>\n",
              "      <td>83.550003</td>\n",
              "      <td>83.250000</td>\n",
              "      <td>83.250000</td>\n",
              "      <td>83.500000</td>\n",
              "      <td>17194000.0</td>\n",
              "      <td>NaN</td>\n",
              "      <td>NaT</td>\n",
              "      <td>0</td>\n",
              "      <td>83.984523</td>\n",
              "      <td>-1.315869</td>\n",
              "      <td>82.350000</td>\n",
              "      <td>81.967283</td>\n",
              "      <td>81.045556</td>\n",
              "      <td>82.074999</td>\n",
              "      <td>83.251691</td>\n",
              "      <td>160.812962</td>\n",
              "      <td>73.333198</td>\n",
              "    </tr>\n",
              "  </tbody>\n",
              "</table>\n",
              "</div>"
            ],
            "text/plain": [
              "                 High        Low       Open  ...       TEMA         CCI        CMO\n",
              "Date                                         ...                                  \n",
              "2019-09-02  82.000000  81.650002  81.800003  ...  81.603058  143.717155  27.500014\n",
              "2019-09-03  82.000000  81.199997  81.849998  ...  81.552079   96.940970   4.444377\n",
              "2019-09-04  82.199997  81.400002  81.449997  ...  81.962576  120.541026  19.626203\n",
              "2019-09-05  83.199997  82.550003  82.550003  ...  82.618155  164.641823  32.786852\n",
              "2019-09-06  83.550003  83.250000  83.250000  ...  83.251691  160.812962  73.333198\n",
              "\n",
              "[5 rows x 17 columns]"
            ]
          },
          "metadata": {
            "tags": []
          },
          "execution_count": 21
        },
        {
          "output_type": "display_data",
          "data": {
            "image/png": "[encoded data removed]",
            "text/plain": [
              "<Figure size 432x288 with 1 Axes>"
            ]
          },
          "metadata": {
            "tags": []
          }
        }
      ]
    },
    {
      "cell_type": "markdown",
      "metadata": {
        "id": "35qI_9gZjsR0",
        "colab_type": "text"
      },
      "source": [
        "# MACD"
      ]
    },
    {
      "cell_type": "code",
      "metadata": {
        "id": "5QG4lBEfjsZb",
        "colab_type": "code",
        "outputId": "a3dbbfcf-1b56-4e4e-d8e4-4aa7a5e73577",
        "colab": {
          "base_uri": "https://localhost:8080/",
          "height": 779
        }
      },
      "source": [
        "df['MACD'] = TA.MACD(ohlc)['MACD'] - TA.MACD(ohlc)['SIGNAL']\n",
        "print(df['MACD'].describe())\n",
        "sns.distplot(df['MACD'].dropna())\n",
        "df.tail()"
      ],
      "execution_count": 22,
      "outputs": [
        {
          "output_type": "stream",
          "text": [
            "count    2877.000000\n",
            "mean        0.000033\n",
            "std         0.215907\n",
            "min        -0.894187\n",
            "25%        -0.132880\n",
            "50%         0.004641\n",
            "75%         0.142205\n",
            "max         0.773870\n",
            "Name: MACD, dtype: float64\n"
          ],
          "name": "stdout"
        },
        {
          "output_type": "execute_result",
          "data": {
            "text/html": [
              "<div>\n",
              "<style scoped>\n",
              "    .dataframe tbody tr th:only-of-type {\n",
              "        vertical-align: middle;\n",
              "    }\n",
              "\n",
              "    .dataframe tbody tr th {\n",
              "        vertical-align: top;\n",
              "    }\n",
              "\n",
              "    .dataframe thead th {\n",
              "        text-align: right;\n",
              "    }\n",
              "</style>\n",
              "<table border=\"1\" class=\"dataframe\">\n",
              "  <thead>\n",
              "    <tr style=\"text-align: right;\">\n",
              "      <th></th>\n",
              "      <th>High</th>\n",
              "      <th>Low</th>\n",
              "      <th>Open</th>\n",
              "      <th>Close</th>\n",
              "      <th>Volume</th>\n",
              "      <th>triple_barrier_profit</th>\n",
              "      <th>triple_barrier_sell_time</th>\n",
              "      <th>triple_barrier_signal</th>\n",
              "      <th>RSI</th>\n",
              "      <th>Williams %R</th>\n",
              "      <th>SMA</th>\n",
              "      <th>EMA</th>\n",
              "      <th>WMA</th>\n",
              "      <th>HMA</th>\n",
              "      <th>TEMA</th>\n",
              "      <th>CCI</th>\n",
              "      <th>CMO</th>\n",
              "      <th>MACD</th>\n",
              "    </tr>\n",
              "    <tr>\n",
              "      <th>Date</th>\n",
              "      <th></th>\n",
              "      <th></th>\n",
              "      <th></th>\n",
              "      <th></th>\n",
              "      <th></th>\n",
              "      <th></th>\n",
              "      <th></th>\n",
              "      <th></th>\n",
              "      <th></th>\n",
              "      <th></th>\n",
              "      <th></th>\n",
              "      <th></th>\n",
              "      <th></th>\n",
              "      <th></th>\n",
              "      <th></th>\n",
              "      <th></th>\n",
              "      <th></th>\n",
              "      <th></th>\n",
              "    </tr>\n",
              "  </thead>\n",
              "  <tbody>\n",
              "    <tr>\n",
              "      <th>2019-09-02</th>\n",
              "      <td>82.000000</td>\n",
              "      <td>81.650002</td>\n",
              "      <td>81.800003</td>\n",
              "      <td>81.900002</td>\n",
              "      <td>6457870.0</td>\n",
              "      <td>NaN</td>\n",
              "      <td>NaT</td>\n",
              "      <td>0</td>\n",
              "      <td>62.698693</td>\n",
              "      <td>-4.166600</td>\n",
              "      <td>80.910001</td>\n",
              "      <td>80.950204</td>\n",
              "      <td>80.684445</td>\n",
              "      <td>80.885001</td>\n",
              "      <td>81.603058</td>\n",
              "      <td>143.717155</td>\n",
              "      <td>27.500014</td>\n",
              "      <td>0.180702</td>\n",
              "    </tr>\n",
              "    <tr>\n",
              "      <th>2019-09-03</th>\n",
              "      <td>82.000000</td>\n",
              "      <td>81.199997</td>\n",
              "      <td>81.849998</td>\n",
              "      <td>81.199997</td>\n",
              "      <td>5052925.0</td>\n",
              "      <td>NaN</td>\n",
              "      <td>NaT</td>\n",
              "      <td>0</td>\n",
              "      <td>76.622808</td>\n",
              "      <td>-33.333439</td>\n",
              "      <td>81.180000</td>\n",
              "      <td>81.000163</td>\n",
              "      <td>80.651111</td>\n",
              "      <td>81.275001</td>\n",
              "      <td>81.552079</td>\n",
              "      <td>96.940970</td>\n",
              "      <td>4.444377</td>\n",
              "      <td>0.171747</td>\n",
              "    </tr>\n",
              "    <tr>\n",
              "      <th>2019-09-04</th>\n",
              "      <td>82.199997</td>\n",
              "      <td>81.400002</td>\n",
              "      <td>81.449997</td>\n",
              "      <td>82.150002</td>\n",
              "      <td>10748771.0</td>\n",
              "      <td>NaN</td>\n",
              "      <td>NaT</td>\n",
              "      <td>0</td>\n",
              "      <td>81.317962</td>\n",
              "      <td>-1.922902</td>\n",
              "      <td>81.530000</td>\n",
              "      <td>81.230130</td>\n",
              "      <td>80.621112</td>\n",
              "      <td>81.764999</td>\n",
              "      <td>81.962576</td>\n",
              "      <td>120.541026</td>\n",
              "      <td>19.626203</td>\n",
              "      <td>0.220213</td>\n",
              "    </tr>\n",
              "    <tr>\n",
              "      <th>2019-09-05</th>\n",
              "      <td>83.199997</td>\n",
              "      <td>82.550003</td>\n",
              "      <td>82.550003</td>\n",
              "      <td>83.000000</td>\n",
              "      <td>25429390.0</td>\n",
              "      <td>NaN</td>\n",
              "      <td>NaT</td>\n",
              "      <td>0</td>\n",
              "      <td>82.631139</td>\n",
              "      <td>-5.555473</td>\n",
              "      <td>82.020000</td>\n",
              "      <td>81.584104</td>\n",
              "      <td>80.655556</td>\n",
              "      <td>81.850000</td>\n",
              "      <td>82.618155</td>\n",
              "      <td>164.641823</td>\n",
              "      <td>32.786852</td>\n",
              "      <td>0.295244</td>\n",
              "    </tr>\n",
              "    <tr>\n",
              "      <th>2019-09-06</th>\n",
              "      <td>83.550003</td>\n",
              "      <td>83.250000</td>\n",
              "      <td>83.250000</td>\n",
              "      <td>83.500000</td>\n",
              "      <td>17194000.0</td>\n",
              "      <td>NaN</td>\n",
              "      <td>NaT</td>\n",
              "      <td>0</td>\n",
              "      <td>83.984523</td>\n",
              "      <td>-1.315869</td>\n",
              "      <td>82.350000</td>\n",
              "      <td>81.967283</td>\n",
              "      <td>81.045556</td>\n",
              "      <td>82.074999</td>\n",
              "      <td>83.251691</td>\n",
              "      <td>160.812962</td>\n",
              "      <td>73.333198</td>\n",
              "      <td>0.359984</td>\n",
              "    </tr>\n",
              "  </tbody>\n",
              "</table>\n",
              "</div>"
            ],
            "text/plain": [
              "                 High        Low       Open  ...         CCI        CMO      MACD\n",
              "Date                                         ...                                 \n",
              "2019-09-02  82.000000  81.650002  81.800003  ...  143.717155  27.500014  0.180702\n",
              "2019-09-03  82.000000  81.199997  81.849998  ...   96.940970   4.444377  0.171747\n",
              "2019-09-04  82.199997  81.400002  81.449997  ...  120.541026  19.626203  0.220213\n",
              "2019-09-05  83.199997  82.550003  82.550003  ...  164.641823  32.786852  0.295244\n",
              "2019-09-06  83.550003  83.250000  83.250000  ...  160.812962  73.333198  0.359984\n",
              "\n",
              "[5 rows x 18 columns]"
            ]
          },
          "metadata": {
            "tags": []
          },
          "execution_count": 22
        },
        {
          "output_type": "display_data",
          "data": {
            "image/png": "[encoded data removed]",
            "text/plain": [
              "<Figure size 432x288 with 1 Axes>"
            ]
          },
          "metadata": {
            "tags": []
          }
        }
      ]
    },
    {
      "cell_type": "markdown",
      "metadata": {
        "id": "roEAzvV7liUA",
        "colab_type": "text"
      },
      "source": [
        "# PPO"
      ]
    },
    {
      "cell_type": "code",
      "metadata": {
        "id": "ovCLHYPXli73",
        "colab_type": "code",
        "outputId": "2062da2e-1cb7-4270-9ab7-6ab3b7b1a64e",
        "colab": {
          "base_uri": "https://localhost:8080/",
          "height": 779
        }
      },
      "source": [
        "df['PPO'] = TA.PPO(ohlc)['PPO'] - TA.PPO(ohlc)['SIGNAL']\n",
        "print(df['PPO'].describe())\n",
        "sns.distplot(df['PPO'].dropna())\n",
        "df.tail()"
      ],
      "execution_count": 23,
      "outputs": [
        {
          "output_type": "stream",
          "text": [
            "count    2877.000000\n",
            "mean        0.000087\n",
            "std         0.383064\n",
            "min        -2.154603\n",
            "25%        -0.223186\n",
            "50%         0.000829\n",
            "75%         0.231133\n",
            "max         2.330703\n",
            "Name: PPO, dtype: float64\n"
          ],
          "name": "stdout"
        },
        {
          "output_type": "execute_result",
          "data": {
            "text/html": [
              "<div>\n",
              "<style scoped>\n",
              "    .dataframe tbody tr th:only-of-type {\n",
              "        vertical-align: middle;\n",
              "    }\n",
              "\n",
              "    .dataframe tbody tr th {\n",
              "        vertical-align: top;\n",
              "    }\n",
              "\n",
              "    .dataframe thead th {\n",
              "        text-align: right;\n",
              "    }\n",
              "</style>\n",
              "<table border=\"1\" class=\"dataframe\">\n",
              "  <thead>\n",
              "    <tr style=\"text-align: right;\">\n",
              "      <th></th>\n",
              "      <th>High</th>\n",
              "      <th>Low</th>\n",
              "      <th>Open</th>\n",
              "      <th>Close</th>\n",
              "      <th>Volume</th>\n",
              "      <th>triple_barrier_profit</th>\n",
              "      <th>triple_barrier_sell_time</th>\n",
              "      <th>triple_barrier_signal</th>\n",
              "      <th>RSI</th>\n",
              "      <th>Williams %R</th>\n",
              "      <th>SMA</th>\n",
              "      <th>EMA</th>\n",
              "      <th>WMA</th>\n",
              "      <th>HMA</th>\n",
              "      <th>TEMA</th>\n",
              "      <th>CCI</th>\n",
              "      <th>CMO</th>\n",
              "      <th>MACD</th>\n",
              "      <th>PPO</th>\n",
              "    </tr>\n",
              "    <tr>\n",
              "      <th>Date</th>\n",
              "      <th></th>\n",
              "      <th></th>\n",
              "      <th></th>\n",
              "      <th></th>\n",
              "      <th></th>\n",
              "      <th></th>\n",
              "      <th></th>\n",
              "      <th></th>\n",
              "      <th></th>\n",
              "      <th></th>\n",
              "      <th></th>\n",
              "      <th></th>\n",
              "      <th></th>\n",
              "      <th></th>\n",
              "      <th></th>\n",
              "      <th></th>\n",
              "      <th></th>\n",
              "      <th></th>\n",
              "      <th></th>\n",
              "    </tr>\n",
              "  </thead>\n",
              "  <tbody>\n",
              "    <tr>\n",
              "      <th>2019-09-02</th>\n",
              "      <td>82.000000</td>\n",
              "      <td>81.650002</td>\n",
              "      <td>81.800003</td>\n",
              "      <td>81.900002</td>\n",
              "      <td>6457870.0</td>\n",
              "      <td>NaN</td>\n",
              "      <td>NaT</td>\n",
              "      <td>0</td>\n",
              "      <td>62.698693</td>\n",
              "      <td>-4.166600</td>\n",
              "      <td>80.910001</td>\n",
              "      <td>80.950204</td>\n",
              "      <td>80.684445</td>\n",
              "      <td>80.885001</td>\n",
              "      <td>81.603058</td>\n",
              "      <td>143.717155</td>\n",
              "      <td>27.500014</td>\n",
              "      <td>0.180702</td>\n",
              "      <td>0.223065</td>\n",
              "    </tr>\n",
              "    <tr>\n",
              "      <th>2019-09-03</th>\n",
              "      <td>82.000000</td>\n",
              "      <td>81.199997</td>\n",
              "      <td>81.849998</td>\n",
              "      <td>81.199997</td>\n",
              "      <td>5052925.0</td>\n",
              "      <td>NaN</td>\n",
              "      <td>NaT</td>\n",
              "      <td>0</td>\n",
              "      <td>76.622808</td>\n",
              "      <td>-33.333439</td>\n",
              "      <td>81.180000</td>\n",
              "      <td>81.000163</td>\n",
              "      <td>80.651111</td>\n",
              "      <td>81.275001</td>\n",
              "      <td>81.552079</td>\n",
              "      <td>96.940970</td>\n",
              "      <td>4.444377</td>\n",
              "      <td>0.171747</td>\n",
              "      <td>0.212018</td>\n",
              "    </tr>\n",
              "    <tr>\n",
              "      <th>2019-09-04</th>\n",
              "      <td>82.199997</td>\n",
              "      <td>81.400002</td>\n",
              "      <td>81.449997</td>\n",
              "      <td>82.150002</td>\n",
              "      <td>10748771.0</td>\n",
              "      <td>NaN</td>\n",
              "      <td>NaT</td>\n",
              "      <td>0</td>\n",
              "      <td>81.317962</td>\n",
              "      <td>-1.922902</td>\n",
              "      <td>81.530000</td>\n",
              "      <td>81.230130</td>\n",
              "      <td>80.621112</td>\n",
              "      <td>81.764999</td>\n",
              "      <td>81.962576</td>\n",
              "      <td>120.541026</td>\n",
              "      <td>19.626203</td>\n",
              "      <td>0.220213</td>\n",
              "      <td>0.271799</td>\n",
              "    </tr>\n",
              "    <tr>\n",
              "      <th>2019-09-05</th>\n",
              "      <td>83.199997</td>\n",
              "      <td>82.550003</td>\n",
              "      <td>82.550003</td>\n",
              "      <td>83.000000</td>\n",
              "      <td>25429390.0</td>\n",
              "      <td>NaN</td>\n",
              "      <td>NaT</td>\n",
              "      <td>0</td>\n",
              "      <td>82.631139</td>\n",
              "      <td>-5.555473</td>\n",
              "      <td>82.020000</td>\n",
              "      <td>81.584104</td>\n",
              "      <td>80.655556</td>\n",
              "      <td>81.850000</td>\n",
              "      <td>82.618155</td>\n",
              "      <td>164.641823</td>\n",
              "      <td>32.786852</td>\n",
              "      <td>0.295244</td>\n",
              "      <td>0.363960</td>\n",
              "    </tr>\n",
              "    <tr>\n",
              "      <th>2019-09-06</th>\n",
              "      <td>83.550003</td>\n",
              "      <td>83.250000</td>\n",
              "      <td>83.250000</td>\n",
              "      <td>83.500000</td>\n",
              "      <td>17194000.0</td>\n",
              "      <td>NaN</td>\n",
              "      <td>NaT</td>\n",
              "      <td>0</td>\n",
              "      <td>83.984523</td>\n",
              "      <td>-1.315869</td>\n",
              "      <td>82.350000</td>\n",
              "      <td>81.967283</td>\n",
              "      <td>81.045556</td>\n",
              "      <td>82.074999</td>\n",
              "      <td>83.251691</td>\n",
              "      <td>160.812962</td>\n",
              "      <td>73.333198</td>\n",
              "      <td>0.359984</td>\n",
              "      <td>0.442881</td>\n",
              "    </tr>\n",
              "  </tbody>\n",
              "</table>\n",
              "</div>"
            ],
            "text/plain": [
              "                 High        Low       Open  ...        CMO      MACD       PPO\n",
              "Date                                         ...                               \n",
              "2019-09-02  82.000000  81.650002  81.800003  ...  27.500014  0.180702  0.223065\n",
              "2019-09-03  82.000000  81.199997  81.849998  ...   4.444377  0.171747  0.212018\n",
              "2019-09-04  82.199997  81.400002  81.449997  ...  19.626203  0.220213  0.271799\n",
              "2019-09-05  83.199997  82.550003  82.550003  ...  32.786852  0.295244  0.363960\n",
              "2019-09-06  83.550003  83.250000  83.250000  ...  73.333198  0.359984  0.442881\n",
              "\n",
              "[5 rows x 19 columns]"
            ]
          },
          "metadata": {
            "tags": []
          },
          "execution_count": 23
        },
        {
          "output_type": "display_data",
          "data": {
            "image/png": "[encoded data removed]",
            "text/plain": [
              "<Figure size 432x288 with 1 Axes>"
            ]
          },
          "metadata": {
            "tags": []
          }
        }
      ]
    },
    {
      "cell_type": "markdown",
      "metadata": {
        "id": "5BBE8vaWmdGN",
        "colab_type": "text"
      },
      "source": [
        "# ROC"
      ]
    },
    {
      "cell_type": "code",
      "metadata": {
        "id": "OKI3MqwhmdOj",
        "colab_type": "code",
        "outputId": "8c29040b-0f76-4404-f844-9c4b61e5f13c",
        "colab": {
          "base_uri": "https://localhost:8080/",
          "height": 779
        }
      },
      "source": [
        "df['ROC'] = TA.ROC(ohlc)\n",
        "print(df['ROC'].describe())\n",
        "sns.distplot(df['ROC'].dropna())\n",
        "df.tail()"
      ],
      "execution_count": 24,
      "outputs": [
        {
          "output_type": "stream",
          "text": [
            "count    2865.000000\n",
            "mean        0.223087\n",
            "std         4.117214\n",
            "min       -25.105744\n",
            "25%        -1.878360\n",
            "50%         0.484427\n",
            "75%         2.622500\n",
            "max        19.192592\n",
            "Name: ROC, dtype: float64\n"
          ],
          "name": "stdout"
        },
        {
          "output_type": "execute_result",
          "data": {
            "text/html": [
              "<div>\n",
              "<style scoped>\n",
              "    .dataframe tbody tr th:only-of-type {\n",
              "        vertical-align: middle;\n",
              "    }\n",
              "\n",
              "    .dataframe tbody tr th {\n",
              "        vertical-align: top;\n",
              "    }\n",
              "\n",
              "    .dataframe thead th {\n",
              "        text-align: right;\n",
              "    }\n",
              "</style>\n",
              "<table border=\"1\" class=\"dataframe\">\n",
              "  <thead>\n",
              "    <tr style=\"text-align: right;\">\n",
              "      <th></th>\n",
              "      <th>High</th>\n",
              "      <th>Low</th>\n",
              "      <th>Open</th>\n",
              "      <th>Close</th>\n",
              "      <th>Volume</th>\n",
              "      <th>triple_barrier_profit</th>\n",
              "      <th>triple_barrier_sell_time</th>\n",
              "      <th>triple_barrier_signal</th>\n",
              "      <th>RSI</th>\n",
              "      <th>Williams %R</th>\n",
              "      <th>SMA</th>\n",
              "      <th>EMA</th>\n",
              "      <th>WMA</th>\n",
              "      <th>HMA</th>\n",
              "      <th>TEMA</th>\n",
              "      <th>CCI</th>\n",
              "      <th>CMO</th>\n",
              "      <th>MACD</th>\n",
              "      <th>PPO</th>\n",
              "      <th>ROC</th>\n",
              "    </tr>\n",
              "    <tr>\n",
              "      <th>Date</th>\n",
              "      <th></th>\n",
              "      <th></th>\n",
              "      <th></th>\n",
              "      <th></th>\n",
              "      <th></th>\n",
              "      <th></th>\n",
              "      <th></th>\n",
              "      <th></th>\n",
              "      <th></th>\n",
              "      <th></th>\n",
              "      <th></th>\n",
              "      <th></th>\n",
              "      <th></th>\n",
              "      <th></th>\n",
              "      <th></th>\n",
              "      <th></th>\n",
              "      <th></th>\n",
              "      <th></th>\n",
              "      <th></th>\n",
              "      <th></th>\n",
              "    </tr>\n",
              "  </thead>\n",
              "  <tbody>\n",
              "    <tr>\n",
              "      <th>2019-09-02</th>\n",
              "      <td>82.000000</td>\n",
              "      <td>81.650002</td>\n",
              "      <td>81.800003</td>\n",
              "      <td>81.900002</td>\n",
              "      <td>6457870.0</td>\n",
              "      <td>NaN</td>\n",
              "      <td>NaT</td>\n",
              "      <td>0</td>\n",
              "      <td>62.698693</td>\n",
              "      <td>-4.166600</td>\n",
              "      <td>80.910001</td>\n",
              "      <td>80.950204</td>\n",
              "      <td>80.684445</td>\n",
              "      <td>80.885001</td>\n",
              "      <td>81.603058</td>\n",
              "      <td>143.717155</td>\n",
              "      <td>27.500014</td>\n",
              "      <td>0.180702</td>\n",
              "      <td>0.223065</td>\n",
              "      <td>1.992526</td>\n",
              "    </tr>\n",
              "    <tr>\n",
              "      <th>2019-09-03</th>\n",
              "      <td>82.000000</td>\n",
              "      <td>81.199997</td>\n",
              "      <td>81.849998</td>\n",
              "      <td>81.199997</td>\n",
              "      <td>5052925.0</td>\n",
              "      <td>NaN</td>\n",
              "      <td>NaT</td>\n",
              "      <td>0</td>\n",
              "      <td>76.622808</td>\n",
              "      <td>-33.333439</td>\n",
              "      <td>81.180000</td>\n",
              "      <td>81.000163</td>\n",
              "      <td>80.651111</td>\n",
              "      <td>81.275001</td>\n",
              "      <td>81.552079</td>\n",
              "      <td>96.940970</td>\n",
              "      <td>4.444377</td>\n",
              "      <td>0.171747</td>\n",
              "      <td>0.212018</td>\n",
              "      <td>2.266997</td>\n",
              "    </tr>\n",
              "    <tr>\n",
              "      <th>2019-09-04</th>\n",
              "      <td>82.199997</td>\n",
              "      <td>81.400002</td>\n",
              "      <td>81.449997</td>\n",
              "      <td>82.150002</td>\n",
              "      <td>10748771.0</td>\n",
              "      <td>NaN</td>\n",
              "      <td>NaT</td>\n",
              "      <td>0</td>\n",
              "      <td>81.317962</td>\n",
              "      <td>-1.922902</td>\n",
              "      <td>81.530000</td>\n",
              "      <td>81.230130</td>\n",
              "      <td>80.621112</td>\n",
              "      <td>81.764999</td>\n",
              "      <td>81.962576</td>\n",
              "      <td>120.541026</td>\n",
              "      <td>19.626203</td>\n",
              "      <td>0.220213</td>\n",
              "      <td>0.271799</td>\n",
              "      <td>2.240203</td>\n",
              "    </tr>\n",
              "    <tr>\n",
              "      <th>2019-09-05</th>\n",
              "      <td>83.199997</td>\n",
              "      <td>82.550003</td>\n",
              "      <td>82.550003</td>\n",
              "      <td>83.000000</td>\n",
              "      <td>25429390.0</td>\n",
              "      <td>NaN</td>\n",
              "      <td>NaT</td>\n",
              "      <td>0</td>\n",
              "      <td>82.631139</td>\n",
              "      <td>-5.555473</td>\n",
              "      <td>82.020000</td>\n",
              "      <td>81.584104</td>\n",
              "      <td>80.655556</td>\n",
              "      <td>81.850000</td>\n",
              "      <td>82.618155</td>\n",
              "      <td>164.641823</td>\n",
              "      <td>32.786852</td>\n",
              "      <td>0.295244</td>\n",
              "      <td>0.363960</td>\n",
              "      <td>2.722768</td>\n",
              "    </tr>\n",
              "    <tr>\n",
              "      <th>2019-09-06</th>\n",
              "      <td>83.550003</td>\n",
              "      <td>83.250000</td>\n",
              "      <td>83.250000</td>\n",
              "      <td>83.500000</td>\n",
              "      <td>17194000.0</td>\n",
              "      <td>NaN</td>\n",
              "      <td>NaT</td>\n",
              "      <td>0</td>\n",
              "      <td>83.984523</td>\n",
              "      <td>-1.315869</td>\n",
              "      <td>82.350000</td>\n",
              "      <td>81.967283</td>\n",
              "      <td>81.045556</td>\n",
              "      <td>82.074999</td>\n",
              "      <td>83.251691</td>\n",
              "      <td>160.812962</td>\n",
              "      <td>73.333198</td>\n",
              "      <td>0.359984</td>\n",
              "      <td>0.442881</td>\n",
              "      <td>3.086420</td>\n",
              "    </tr>\n",
              "  </tbody>\n",
              "</table>\n",
              "</div>"
            ],
            "text/plain": [
              "                 High        Low       Open  ...      MACD       PPO       ROC\n",
              "Date                                         ...                              \n",
              "2019-09-02  82.000000  81.650002  81.800003  ...  0.180702  0.223065  1.992526\n",
              "2019-09-03  82.000000  81.199997  81.849998  ...  0.171747  0.212018  2.266997\n",
              "2019-09-04  82.199997  81.400002  81.449997  ...  0.220213  0.271799  2.240203\n",
              "2019-09-05  83.199997  82.550003  82.550003  ...  0.295244  0.363960  2.722768\n",
              "2019-09-06  83.550003  83.250000  83.250000  ...  0.359984  0.442881  3.086420\n",
              "\n",
              "[5 rows x 20 columns]"
            ]
          },
          "metadata": {
            "tags": []
          },
          "execution_count": 24
        },
        {
          "output_type": "display_data",
          "data": {
            "image/png": "[encoded data removed]",
            "text/plain": [
              "<Figure size 432x288 with 1 Axes>"
            ]
          },
          "metadata": {
            "tags": []
          }
        }
      ]
    },
    {
      "cell_type": "markdown",
      "metadata": {
        "id": "b9LTKsyvmuSd",
        "colab_type": "text"
      },
      "source": [
        "# CMFI"
      ]
    },
    {
      "cell_type": "code",
      "metadata": {
        "id": "somnlSTOmvjJ",
        "colab_type": "code",
        "outputId": "b249cbfc-c4b6-44f2-fddf-da22ade4f129",
        "colab": {
          "base_uri": "https://localhost:8080/",
          "height": 779
        }
      },
      "source": [
        "df['CFI'] = TA.CMO(ohlc)\n",
        "print(df['CFI'].describe())\n",
        "sns.distplot(df['CFI'].dropna())\n",
        "df.tail()"
      ],
      "execution_count": 25,
      "outputs": [
        {
          "output_type": "stream",
          "text": [
            "count    2868.000000\n",
            "mean        5.795790\n",
            "std        41.803346\n",
            "min       -97.530901\n",
            "25%       -25.000081\n",
            "50%         5.537113\n",
            "75%        36.999043\n",
            "max       100.000000\n",
            "Name: CFI, dtype: float64\n"
          ],
          "name": "stdout"
        },
        {
          "output_type": "execute_result",
          "data": {
            "text/html": [
              "<div>\n",
              "<style scoped>\n",
              "    .dataframe tbody tr th:only-of-type {\n",
              "        vertical-align: middle;\n",
              "    }\n",
              "\n",
              "    .dataframe tbody tr th {\n",
              "        vertical-align: top;\n",
              "    }\n",
              "\n",
              "    .dataframe thead th {\n",
              "        text-align: right;\n",
              "    }\n",
              "</style>\n",
              "<table border=\"1\" class=\"dataframe\">\n",
              "  <thead>\n",
              "    <tr style=\"text-align: right;\">\n",
              "      <th></th>\n",
              "      <th>High</th>\n",
              "      <th>Low</th>\n",
              "      <th>Open</th>\n",
              "      <th>Close</th>\n",
              "      <th>Volume</th>\n",
              "      <th>triple_barrier_profit</th>\n",
              "      <th>triple_barrier_sell_time</th>\n",
              "      <th>triple_barrier_signal</th>\n",
              "      <th>RSI</th>\n",
              "      <th>Williams %R</th>\n",
              "      <th>SMA</th>\n",
              "      <th>EMA</th>\n",
              "      <th>WMA</th>\n",
              "      <th>HMA</th>\n",
              "      <th>TEMA</th>\n",
              "      <th>CCI</th>\n",
              "      <th>CMO</th>\n",
              "      <th>MACD</th>\n",
              "      <th>PPO</th>\n",
              "      <th>ROC</th>\n",
              "      <th>CFI</th>\n",
              "    </tr>\n",
              "    <tr>\n",
              "      <th>Date</th>\n",
              "      <th></th>\n",
              "      <th></th>\n",
              "      <th></th>\n",
              "      <th></th>\n",
              "      <th></th>\n",
              "      <th></th>\n",
              "      <th></th>\n",
              "      <th></th>\n",
              "      <th></th>\n",
              "      <th></th>\n",
              "      <th></th>\n",
              "      <th></th>\n",
              "      <th></th>\n",
              "      <th></th>\n",
              "      <th></th>\n",
              "      <th></th>\n",
              "      <th></th>\n",
              "      <th></th>\n",
              "      <th></th>\n",
              "      <th></th>\n",
              "      <th></th>\n",
              "    </tr>\n",
              "  </thead>\n",
              "  <tbody>\n",
              "    <tr>\n",
              "      <th>2019-09-02</th>\n",
              "      <td>82.000000</td>\n",
              "      <td>81.650002</td>\n",
              "      <td>81.800003</td>\n",
              "      <td>81.900002</td>\n",
              "      <td>6457870.0</td>\n",
              "      <td>NaN</td>\n",
              "      <td>NaT</td>\n",
              "      <td>0</td>\n",
              "      <td>62.698693</td>\n",
              "      <td>-4.166600</td>\n",
              "      <td>80.910001</td>\n",
              "      <td>80.950204</td>\n",
              "      <td>80.684445</td>\n",
              "      <td>80.885001</td>\n",
              "      <td>81.603058</td>\n",
              "      <td>143.717155</td>\n",
              "      <td>27.500014</td>\n",
              "      <td>0.180702</td>\n",
              "      <td>0.223065</td>\n",
              "      <td>1.992526</td>\n",
              "      <td>27.500014</td>\n",
              "    </tr>\n",
              "    <tr>\n",
              "      <th>2019-09-03</th>\n",
              "      <td>82.000000</td>\n",
              "      <td>81.199997</td>\n",
              "      <td>81.849998</td>\n",
              "      <td>81.199997</td>\n",
              "      <td>5052925.0</td>\n",
              "      <td>NaN</td>\n",
              "      <td>NaT</td>\n",
              "      <td>0</td>\n",
              "      <td>76.622808</td>\n",
              "      <td>-33.333439</td>\n",
              "      <td>81.180000</td>\n",
              "      <td>81.000163</td>\n",
              "      <td>80.651111</td>\n",
              "      <td>81.275001</td>\n",
              "      <td>81.552079</td>\n",
              "      <td>96.940970</td>\n",
              "      <td>4.444377</td>\n",
              "      <td>0.171747</td>\n",
              "      <td>0.212018</td>\n",
              "      <td>2.266997</td>\n",
              "      <td>4.444377</td>\n",
              "    </tr>\n",
              "    <tr>\n",
              "      <th>2019-09-04</th>\n",
              "      <td>82.199997</td>\n",
              "      <td>81.400002</td>\n",
              "      <td>81.449997</td>\n",
              "      <td>82.150002</td>\n",
              "      <td>10748771.0</td>\n",
              "      <td>NaN</td>\n",
              "      <td>NaT</td>\n",
              "      <td>0</td>\n",
              "      <td>81.317962</td>\n",
              "      <td>-1.922902</td>\n",
              "      <td>81.530000</td>\n",
              "      <td>81.230130</td>\n",
              "      <td>80.621112</td>\n",
              "      <td>81.764999</td>\n",
              "      <td>81.962576</td>\n",
              "      <td>120.541026</td>\n",
              "      <td>19.626203</td>\n",
              "      <td>0.220213</td>\n",
              "      <td>0.271799</td>\n",
              "      <td>2.240203</td>\n",
              "      <td>19.626203</td>\n",
              "    </tr>\n",
              "    <tr>\n",
              "      <th>2019-09-05</th>\n",
              "      <td>83.199997</td>\n",
              "      <td>82.550003</td>\n",
              "      <td>82.550003</td>\n",
              "      <td>83.000000</td>\n",
              "      <td>25429390.0</td>\n",
              "      <td>NaN</td>\n",
              "      <td>NaT</td>\n",
              "      <td>0</td>\n",
              "      <td>82.631139</td>\n",
              "      <td>-5.555473</td>\n",
              "      <td>82.020000</td>\n",
              "      <td>81.584104</td>\n",
              "      <td>80.655556</td>\n",
              "      <td>81.850000</td>\n",
              "      <td>82.618155</td>\n",
              "      <td>164.641823</td>\n",
              "      <td>32.786852</td>\n",
              "      <td>0.295244</td>\n",
              "      <td>0.363960</td>\n",
              "      <td>2.722768</td>\n",
              "      <td>32.786852</td>\n",
              "    </tr>\n",
              "    <tr>\n",
              "      <th>2019-09-06</th>\n",
              "      <td>83.550003</td>\n",
              "      <td>83.250000</td>\n",
              "      <td>83.250000</td>\n",
              "      <td>83.500000</td>\n",
              "      <td>17194000.0</td>\n",
              "      <td>NaN</td>\n",
              "      <td>NaT</td>\n",
              "      <td>0</td>\n",
              "      <td>83.984523</td>\n",
              "      <td>-1.315869</td>\n",
              "      <td>82.350000</td>\n",
              "      <td>81.967283</td>\n",
              "      <td>81.045556</td>\n",
              "      <td>82.074999</td>\n",
              "      <td>83.251691</td>\n",
              "      <td>160.812962</td>\n",
              "      <td>73.333198</td>\n",
              "      <td>0.359984</td>\n",
              "      <td>0.442881</td>\n",
              "      <td>3.086420</td>\n",
              "      <td>73.333198</td>\n",
              "    </tr>\n",
              "  </tbody>\n",
              "</table>\n",
              "</div>"
            ],
            "text/plain": [
              "                 High        Low       Open  ...       PPO       ROC        CFI\n",
              "Date                                         ...                               \n",
              "2019-09-02  82.000000  81.650002  81.800003  ...  0.223065  1.992526  27.500014\n",
              "2019-09-03  82.000000  81.199997  81.849998  ...  0.212018  2.266997   4.444377\n",
              "2019-09-04  82.199997  81.400002  81.449997  ...  0.271799  2.240203  19.626203\n",
              "2019-09-05  83.199997  82.550003  82.550003  ...  0.363960  2.722768  32.786852\n",
              "2019-09-06  83.550003  83.250000  83.250000  ...  0.442881  3.086420  73.333198\n",
              "\n",
              "[5 rows x 21 columns]"
            ]
          },
          "metadata": {
            "tags": []
          },
          "execution_count": 25
        },
        {
          "output_type": "display_data",
          "data": {
            "image/png": "[encoded data removed]",
            "text/plain": [
              "<Figure size 432x288 with 1 Axes>"
            ]
          },
          "metadata": {
            "tags": []
          }
        }
      ]
    },
    {
      "cell_type": "markdown",
      "metadata": {
        "id": "8WydSl0doUYk",
        "colab_type": "text"
      },
      "source": [
        "# DMI"
      ]
    },
    {
      "cell_type": "code",
      "metadata": {
        "id": "xRTnC6DboU05",
        "colab_type": "code",
        "outputId": "5f2f488f-02c6-4917-8c49-80622853ef4f",
        "colab": {
          "base_uri": "https://localhost:8080/",
          "height": 1000
        }
      },
      "source": [
        "df['DMI'] = TA.DMI(ohlc)['DI+'] - TA.DMI(ohlc)['DI-']\n",
        "print(df['DMI'].describe())\n",
        "sns.distplot(df['DMI'].dropna())\n",
        "df.tail()"
      ],
      "execution_count": 26,
      "outputs": [
        {
          "output_type": "stream",
          "text": [
            "/usr/local/lib/python3.6/dist-packages/finta/finta.py:792: SettingWithCopyWarning: \n",
            "A value is trying to be set on a copy of a slice from a DataFrame.\n",
            "Try using .loc[row_indexer,col_indexer] = value instead\n",
            "\n",
            "See the caveats in the documentation: http://pandas.pydata.org/pandas-docs/stable/indexing.html#indexing-view-versus-copy\n",
            "  ohlc[\"up_move\"] = ohlc[\"high\"].diff()\n",
            "/usr/local/lib/python3.6/dist-packages/finta/finta.py:793: SettingWithCopyWarning: \n",
            "A value is trying to be set on a copy of a slice from a DataFrame.\n",
            "Try using .loc[row_indexer,col_indexer] = value instead\n",
            "\n",
            "See the caveats in the documentation: http://pandas.pydata.org/pandas-docs/stable/indexing.html#indexing-view-versus-copy\n",
            "  ohlc[\"down_move\"] = -ohlc[\"low\"].diff()\n",
            "/usr/local/lib/python3.6/dist-packages/finta/finta.py:809: SettingWithCopyWarning: \n",
            "A value is trying to be set on a copy of a slice from a DataFrame.\n",
            "Try using .loc[row_indexer,col_indexer] = value instead\n",
            "\n",
            "See the caveats in the documentation: http://pandas.pydata.org/pandas-docs/stable/indexing.html#indexing-view-versus-copy\n",
            "  ohlc[\"DMp\"] = DMp\n",
            "/usr/local/lib/python3.6/dist-packages/finta/finta.py:810: SettingWithCopyWarning: \n",
            "A value is trying to be set on a copy of a slice from a DataFrame.\n",
            "Try using .loc[row_indexer,col_indexer] = value instead\n",
            "\n",
            "See the caveats in the documentation: http://pandas.pydata.org/pandas-docs/stable/indexing.html#indexing-view-versus-copy\n",
            "  ohlc[\"DMm\"] = DMm\n"
          ],
          "name": "stderr"
        },
        {
          "output_type": "stream",
          "text": [
            "count    2794.000000\n",
            "mean       -0.642832\n",
            "std        22.381371\n",
            "min      -127.770346\n",
            "25%       -13.539123\n",
            "50%         1.638485\n",
            "75%        14.735095\n",
            "max        70.975012\n",
            "Name: DMI, dtype: float64\n"
          ],
          "name": "stdout"
        },
        {
          "output_type": "execute_result",
          "data": {
            "text/html": [
              "<div>\n",
              "<style scoped>\n",
              "    .dataframe tbody tr th:only-of-type {\n",
              "        vertical-align: middle;\n",
              "    }\n",
              "\n",
              "    .dataframe tbody tr th {\n",
              "        vertical-align: top;\n",
              "    }\n",
              "\n",
              "    .dataframe thead th {\n",
              "        text-align: right;\n",
              "    }\n",
              "</style>\n",
              "<table border=\"1\" class=\"dataframe\">\n",
              "  <thead>\n",
              "    <tr style=\"text-align: right;\">\n",
              "      <th></th>\n",
              "      <th>High</th>\n",
              "      <th>Low</th>\n",
              "      <th>Open</th>\n",
              "      <th>Close</th>\n",
              "      <th>Volume</th>\n",
              "      <th>triple_barrier_profit</th>\n",
              "      <th>triple_barrier_sell_time</th>\n",
              "      <th>triple_barrier_signal</th>\n",
              "      <th>RSI</th>\n",
              "      <th>Williams %R</th>\n",
              "      <th>SMA</th>\n",
              "      <th>EMA</th>\n",
              "      <th>WMA</th>\n",
              "      <th>HMA</th>\n",
              "      <th>TEMA</th>\n",
              "      <th>CCI</th>\n",
              "      <th>CMO</th>\n",
              "      <th>MACD</th>\n",
              "      <th>PPO</th>\n",
              "      <th>ROC</th>\n",
              "      <th>CFI</th>\n",
              "      <th>DMI</th>\n",
              "    </tr>\n",
              "    <tr>\n",
              "      <th>Date</th>\n",
              "      <th></th>\n",
              "      <th></th>\n",
              "      <th></th>\n",
              "      <th></th>\n",
              "      <th></th>\n",
              "      <th></th>\n",
              "      <th></th>\n",
              "      <th></th>\n",
              "      <th></th>\n",
              "      <th></th>\n",
              "      <th></th>\n",
              "      <th></th>\n",
              "      <th></th>\n",
              "      <th></th>\n",
              "      <th></th>\n",
              "      <th></th>\n",
              "      <th></th>\n",
              "      <th></th>\n",
              "      <th></th>\n",
              "      <th></th>\n",
              "      <th></th>\n",
              "      <th></th>\n",
              "    </tr>\n",
              "  </thead>\n",
              "  <tbody>\n",
              "    <tr>\n",
              "      <th>2019-09-02</th>\n",
              "      <td>82.000000</td>\n",
              "      <td>81.650002</td>\n",
              "      <td>81.800003</td>\n",
              "      <td>81.900002</td>\n",
              "      <td>6457870.0</td>\n",
              "      <td>NaN</td>\n",
              "      <td>NaT</td>\n",
              "      <td>0</td>\n",
              "      <td>62.698693</td>\n",
              "      <td>-4.166600</td>\n",
              "      <td>80.910001</td>\n",
              "      <td>80.950204</td>\n",
              "      <td>80.684445</td>\n",
              "      <td>80.885001</td>\n",
              "      <td>81.603058</td>\n",
              "      <td>143.717155</td>\n",
              "      <td>27.500014</td>\n",
              "      <td>0.180702</td>\n",
              "      <td>0.223065</td>\n",
              "      <td>1.992526</td>\n",
              "      <td>27.500014</td>\n",
              "      <td>11.995912</td>\n",
              "    </tr>\n",
              "    <tr>\n",
              "      <th>2019-09-03</th>\n",
              "      <td>82.000000</td>\n",
              "      <td>81.199997</td>\n",
              "      <td>81.849998</td>\n",
              "      <td>81.199997</td>\n",
              "      <td>5052925.0</td>\n",
              "      <td>NaN</td>\n",
              "      <td>NaT</td>\n",
              "      <td>0</td>\n",
              "      <td>76.622808</td>\n",
              "      <td>-33.333439</td>\n",
              "      <td>81.180000</td>\n",
              "      <td>81.000163</td>\n",
              "      <td>80.651111</td>\n",
              "      <td>81.275001</td>\n",
              "      <td>81.552079</td>\n",
              "      <td>96.940970</td>\n",
              "      <td>4.444377</td>\n",
              "      <td>0.171747</td>\n",
              "      <td>0.212018</td>\n",
              "      <td>2.266997</td>\n",
              "      <td>4.444377</td>\n",
              "      <td>3.011767</td>\n",
              "    </tr>\n",
              "    <tr>\n",
              "      <th>2019-09-04</th>\n",
              "      <td>82.199997</td>\n",
              "      <td>81.400002</td>\n",
              "      <td>81.449997</td>\n",
              "      <td>82.150002</td>\n",
              "      <td>10748771.0</td>\n",
              "      <td>NaN</td>\n",
              "      <td>NaT</td>\n",
              "      <td>0</td>\n",
              "      <td>81.317962</td>\n",
              "      <td>-1.922902</td>\n",
              "      <td>81.530000</td>\n",
              "      <td>81.230130</td>\n",
              "      <td>80.621112</td>\n",
              "      <td>81.764999</td>\n",
              "      <td>81.962576</td>\n",
              "      <td>120.541026</td>\n",
              "      <td>19.626203</td>\n",
              "      <td>0.220213</td>\n",
              "      <td>0.271799</td>\n",
              "      <td>2.240203</td>\n",
              "      <td>19.626203</td>\n",
              "      <td>5.926209</td>\n",
              "    </tr>\n",
              "    <tr>\n",
              "      <th>2019-09-05</th>\n",
              "      <td>83.199997</td>\n",
              "      <td>82.550003</td>\n",
              "      <td>82.550003</td>\n",
              "      <td>83.000000</td>\n",
              "      <td>25429390.0</td>\n",
              "      <td>NaN</td>\n",
              "      <td>NaT</td>\n",
              "      <td>0</td>\n",
              "      <td>82.631139</td>\n",
              "      <td>-5.555473</td>\n",
              "      <td>82.020000</td>\n",
              "      <td>81.584104</td>\n",
              "      <td>80.655556</td>\n",
              "      <td>81.850000</td>\n",
              "      <td>82.618155</td>\n",
              "      <td>164.641823</td>\n",
              "      <td>32.786852</td>\n",
              "      <td>0.295244</td>\n",
              "      <td>0.363960</td>\n",
              "      <td>2.722768</td>\n",
              "      <td>32.786852</td>\n",
              "      <td>21.704096</td>\n",
              "    </tr>\n",
              "    <tr>\n",
              "      <th>2019-09-06</th>\n",
              "      <td>83.550003</td>\n",
              "      <td>83.250000</td>\n",
              "      <td>83.250000</td>\n",
              "      <td>83.500000</td>\n",
              "      <td>17194000.0</td>\n",
              "      <td>NaN</td>\n",
              "      <td>NaT</td>\n",
              "      <td>0</td>\n",
              "      <td>83.984523</td>\n",
              "      <td>-1.315869</td>\n",
              "      <td>82.350000</td>\n",
              "      <td>81.967283</td>\n",
              "      <td>81.045556</td>\n",
              "      <td>82.074999</td>\n",
              "      <td>83.251691</td>\n",
              "      <td>160.812962</td>\n",
              "      <td>73.333198</td>\n",
              "      <td>0.359984</td>\n",
              "      <td>0.442881</td>\n",
              "      <td>3.086420</td>\n",
              "      <td>73.333198</td>\n",
              "      <td>24.639314</td>\n",
              "    </tr>\n",
              "  </tbody>\n",
              "</table>\n",
              "</div>"
            ],
            "text/plain": [
              "                 High        Low       Open  ...       ROC        CFI        DMI\n",
              "Date                                         ...                                \n",
              "2019-09-02  82.000000  81.650002  81.800003  ...  1.992526  27.500014  11.995912\n",
              "2019-09-03  82.000000  81.199997  81.849998  ...  2.266997   4.444377   3.011767\n",
              "2019-09-04  82.199997  81.400002  81.449997  ...  2.240203  19.626203   5.926209\n",
              "2019-09-05  83.199997  82.550003  82.550003  ...  2.722768  32.786852  21.704096\n",
              "2019-09-06  83.550003  83.250000  83.250000  ...  3.086420  73.333198  24.639314\n",
              "\n",
              "[5 rows x 22 columns]"
            ]
          },
          "metadata": {
            "tags": []
          },
          "execution_count": 26
        },
        {
          "output_type": "display_data",
          "data": {
            "image/png": "[encoded data removed]",
            "text/plain": [
              "<Figure size 432x288 with 1 Axes>"
            ]
          },
          "metadata": {
            "tags": []
          }
        }
      ]
    },
    {
      "cell_type": "markdown",
      "metadata": {
        "id": "96c_FgXOo98u",
        "colab_type": "text"
      },
      "source": [
        "# SAR"
      ]
    },
    {
      "cell_type": "code",
      "metadata": {
        "id": "eRPVEtrmo-bi",
        "colab_type": "code",
        "outputId": "96773989-ca95-4893-9d4b-2e29f5838250",
        "colab": {
          "base_uri": "https://localhost:8080/",
          "height": 779
        }
      },
      "source": [
        "df['SAR'] = TA.SAR(ohlc)\n",
        "print(df['SAR'].describe())\n",
        "sns.distplot(df['SAR'].dropna())\n",
        "df.tail()"
      ],
      "execution_count": 27,
      "outputs": [
        {
          "output_type": "stream",
          "text": [
            "count    2877.000000\n",
            "mean       62.045070\n",
            "std        12.555531\n",
            "min        27.870001\n",
            "25%        53.894021\n",
            "50%        59.978199\n",
            "75%        70.747998\n",
            "max        88.400002\n",
            "Name: SAR, dtype: float64\n"
          ],
          "name": "stdout"
        },
        {
          "output_type": "execute_result",
          "data": {
            "text/html": [
              "<div>\n",
              "<style scoped>\n",
              "    .dataframe tbody tr th:only-of-type {\n",
              "        vertical-align: middle;\n",
              "    }\n",
              "\n",
              "    .dataframe tbody tr th {\n",
              "        vertical-align: top;\n",
              "    }\n",
              "\n",
              "    .dataframe thead th {\n",
              "        text-align: right;\n",
              "    }\n",
              "</style>\n",
              "<table border=\"1\" class=\"dataframe\">\n",
              "  <thead>\n",
              "    <tr style=\"text-align: right;\">\n",
              "      <th></th>\n",
              "      <th>High</th>\n",
              "      <th>Low</th>\n",
              "      <th>Open</th>\n",
              "      <th>Close</th>\n",
              "      <th>Volume</th>\n",
              "      <th>triple_barrier_profit</th>\n",
              "      <th>triple_barrier_sell_time</th>\n",
              "      <th>triple_barrier_signal</th>\n",
              "      <th>RSI</th>\n",
              "      <th>Williams %R</th>\n",
              "      <th>SMA</th>\n",
              "      <th>EMA</th>\n",
              "      <th>WMA</th>\n",
              "      <th>HMA</th>\n",
              "      <th>TEMA</th>\n",
              "      <th>CCI</th>\n",
              "      <th>CMO</th>\n",
              "      <th>MACD</th>\n",
              "      <th>PPO</th>\n",
              "      <th>ROC</th>\n",
              "      <th>CFI</th>\n",
              "      <th>DMI</th>\n",
              "      <th>SAR</th>\n",
              "    </tr>\n",
              "    <tr>\n",
              "      <th>Date</th>\n",
              "      <th></th>\n",
              "      <th></th>\n",
              "      <th></th>\n",
              "      <th></th>\n",
              "      <th></th>\n",
              "      <th></th>\n",
              "      <th></th>\n",
              "      <th></th>\n",
              "      <th></th>\n",
              "      <th></th>\n",
              "      <th></th>\n",
              "      <th></th>\n",
              "      <th></th>\n",
              "      <th></th>\n",
              "      <th></th>\n",
              "      <th></th>\n",
              "      <th></th>\n",
              "      <th></th>\n",
              "      <th></th>\n",
              "      <th></th>\n",
              "      <th></th>\n",
              "      <th></th>\n",
              "      <th></th>\n",
              "    </tr>\n",
              "  </thead>\n",
              "  <tbody>\n",
              "    <tr>\n",
              "      <th>2019-09-02</th>\n",
              "      <td>82.000000</td>\n",
              "      <td>81.650002</td>\n",
              "      <td>81.800003</td>\n",
              "      <td>81.900002</td>\n",
              "      <td>6457870.0</td>\n",
              "      <td>NaN</td>\n",
              "      <td>NaT</td>\n",
              "      <td>0</td>\n",
              "      <td>62.698693</td>\n",
              "      <td>-4.166600</td>\n",
              "      <td>80.910001</td>\n",
              "      <td>80.950204</td>\n",
              "      <td>80.684445</td>\n",
              "      <td>80.885001</td>\n",
              "      <td>81.603058</td>\n",
              "      <td>143.717155</td>\n",
              "      <td>27.500014</td>\n",
              "      <td>0.180702</td>\n",
              "      <td>0.223065</td>\n",
              "      <td>1.992526</td>\n",
              "      <td>27.500014</td>\n",
              "      <td>11.995912</td>\n",
              "      <td>79.594105</td>\n",
              "    </tr>\n",
              "    <tr>\n",
              "      <th>2019-09-03</th>\n",
              "      <td>82.000000</td>\n",
              "      <td>81.199997</td>\n",
              "      <td>81.849998</td>\n",
              "      <td>81.199997</td>\n",
              "      <td>5052925.0</td>\n",
              "      <td>NaN</td>\n",
              "      <td>NaT</td>\n",
              "      <td>0</td>\n",
              "      <td>76.622808</td>\n",
              "      <td>-33.333439</td>\n",
              "      <td>81.180000</td>\n",
              "      <td>81.000163</td>\n",
              "      <td>80.651111</td>\n",
              "      <td>81.275001</td>\n",
              "      <td>81.552079</td>\n",
              "      <td>96.940970</td>\n",
              "      <td>4.444377</td>\n",
              "      <td>0.171747</td>\n",
              "      <td>0.212018</td>\n",
              "      <td>2.266997</td>\n",
              "      <td>4.444377</td>\n",
              "      <td>3.011767</td>\n",
              "      <td>79.834694</td>\n",
              "    </tr>\n",
              "    <tr>\n",
              "      <th>2019-09-04</th>\n",
              "      <td>82.199997</td>\n",
              "      <td>81.400002</td>\n",
              "      <td>81.449997</td>\n",
              "      <td>82.150002</td>\n",
              "      <td>10748771.0</td>\n",
              "      <td>NaN</td>\n",
              "      <td>NaT</td>\n",
              "      <td>0</td>\n",
              "      <td>81.317962</td>\n",
              "      <td>-1.922902</td>\n",
              "      <td>81.530000</td>\n",
              "      <td>81.230130</td>\n",
              "      <td>80.621112</td>\n",
              "      <td>81.764999</td>\n",
              "      <td>81.962576</td>\n",
              "      <td>120.541026</td>\n",
              "      <td>19.626203</td>\n",
              "      <td>0.220213</td>\n",
              "      <td>0.271799</td>\n",
              "      <td>2.240203</td>\n",
              "      <td>19.626203</td>\n",
              "      <td>5.926209</td>\n",
              "      <td>80.051225</td>\n",
              "    </tr>\n",
              "    <tr>\n",
              "      <th>2019-09-05</th>\n",
              "      <td>83.199997</td>\n",
              "      <td>82.550003</td>\n",
              "      <td>82.550003</td>\n",
              "      <td>83.000000</td>\n",
              "      <td>25429390.0</td>\n",
              "      <td>NaN</td>\n",
              "      <td>NaT</td>\n",
              "      <td>0</td>\n",
              "      <td>82.631139</td>\n",
              "      <td>-5.555473</td>\n",
              "      <td>82.020000</td>\n",
              "      <td>81.584104</td>\n",
              "      <td>80.655556</td>\n",
              "      <td>81.850000</td>\n",
              "      <td>82.618155</td>\n",
              "      <td>164.641823</td>\n",
              "      <td>32.786852</td>\n",
              "      <td>0.295244</td>\n",
              "      <td>0.363960</td>\n",
              "      <td>2.722768</td>\n",
              "      <td>32.786852</td>\n",
              "      <td>21.704096</td>\n",
              "      <td>80.309077</td>\n",
              "    </tr>\n",
              "    <tr>\n",
              "      <th>2019-09-06</th>\n",
              "      <td>83.550003</td>\n",
              "      <td>83.250000</td>\n",
              "      <td>83.250000</td>\n",
              "      <td>83.500000</td>\n",
              "      <td>17194000.0</td>\n",
              "      <td>NaN</td>\n",
              "      <td>NaT</td>\n",
              "      <td>0</td>\n",
              "      <td>83.984523</td>\n",
              "      <td>-1.315869</td>\n",
              "      <td>82.350000</td>\n",
              "      <td>81.967283</td>\n",
              "      <td>81.045556</td>\n",
              "      <td>82.074999</td>\n",
              "      <td>83.251691</td>\n",
              "      <td>160.812962</td>\n",
              "      <td>73.333198</td>\n",
              "      <td>0.359984</td>\n",
              "      <td>0.442881</td>\n",
              "      <td>3.086420</td>\n",
              "      <td>73.333198</td>\n",
              "      <td>24.639314</td>\n",
              "      <td>80.713806</td>\n",
              "    </tr>\n",
              "  </tbody>\n",
              "</table>\n",
              "</div>"
            ],
            "text/plain": [
              "                 High        Low       Open  ...        CFI        DMI        SAR\n",
              "Date                                         ...                                 \n",
              "2019-09-02  82.000000  81.650002  81.800003  ...  27.500014  11.995912  79.594105\n",
              "2019-09-03  82.000000  81.199997  81.849998  ...   4.444377   3.011767  79.834694\n",
              "2019-09-04  82.199997  81.400002  81.449997  ...  19.626203   5.926209  80.051225\n",
              "2019-09-05  83.199997  82.550003  82.550003  ...  32.786852  21.704096  80.309077\n",
              "2019-09-06  83.550003  83.250000  83.250000  ...  73.333198  24.639314  80.713806\n",
              "\n",
              "[5 rows x 23 columns]"
            ]
          },
          "metadata": {
            "tags": []
          },
          "execution_count": 27
        },
        {
          "output_type": "display_data",
          "data": {
            "image/png": "[encoded data removed]",
            "text/plain": [
              "<Figure size 432x288 with 1 Axes>"
            ]
          },
          "metadata": {
            "tags": []
          }
        }
      ]
    },
    {
      "cell_type": "markdown",
      "metadata": {
        "id": "MoqrDEejwYOV",
        "colab_type": "text"
      },
      "source": [
        "# columns選取"
      ]
    },
    {
      "cell_type": "code",
      "metadata": {
        "id": "qrGg0ojRKuE1",
        "colab_type": "code",
        "outputId": "767687f5-19af-4e08-aeb9-3297d6ae92f9",
        "colab": {
          "base_uri": "https://localhost:8080/",
          "height": 374
        }
      },
      "source": [
        "df = df.dropna(axis=0)#刪除有缺失的row,會缺失主要因為rolling計算技術指標導致\n",
        "features = df.columns[6:].tolist()\n",
        "y_name = 'triple_barrier_signal'\n",
        "df = df[features+[y_name]]\n",
        "print(df.shape)\n",
        "df.head()"
      ],
      "execution_count": 28,
      "outputs": [
        {
          "output_type": "stream",
          "text": [
            "(2775, 18)\n"
          ],
          "name": "stdout"
        },
        {
          "output_type": "execute_result",
          "data": {
            "text/html": [
              "<div>\n",
              "<style scoped>\n",
              "    .dataframe tbody tr th:only-of-type {\n",
              "        vertical-align: middle;\n",
              "    }\n",
              "\n",
              "    .dataframe tbody tr th {\n",
              "        vertical-align: top;\n",
              "    }\n",
              "\n",
              "    .dataframe thead th {\n",
              "        text-align: right;\n",
              "    }\n",
              "</style>\n",
              "<table border=\"1\" class=\"dataframe\">\n",
              "  <thead>\n",
              "    <tr style=\"text-align: right;\">\n",
              "      <th></th>\n",
              "      <th>triple_barrier_sell_time</th>\n",
              "      <th>triple_barrier_signal</th>\n",
              "      <th>RSI</th>\n",
              "      <th>Williams %R</th>\n",
              "      <th>SMA</th>\n",
              "      <th>EMA</th>\n",
              "      <th>WMA</th>\n",
              "      <th>HMA</th>\n",
              "      <th>TEMA</th>\n",
              "      <th>CCI</th>\n",
              "      <th>CMO</th>\n",
              "      <th>MACD</th>\n",
              "      <th>PPO</th>\n",
              "      <th>ROC</th>\n",
              "      <th>CFI</th>\n",
              "      <th>DMI</th>\n",
              "      <th>SAR</th>\n",
              "      <th>triple_barrier_signal</th>\n",
              "    </tr>\n",
              "    <tr>\n",
              "      <th>Date</th>\n",
              "      <th></th>\n",
              "      <th></th>\n",
              "      <th></th>\n",
              "      <th></th>\n",
              "      <th></th>\n",
              "      <th></th>\n",
              "      <th></th>\n",
              "      <th></th>\n",
              "      <th></th>\n",
              "      <th></th>\n",
              "      <th></th>\n",
              "      <th></th>\n",
              "      <th></th>\n",
              "      <th></th>\n",
              "      <th></th>\n",
              "      <th></th>\n",
              "      <th></th>\n",
              "      <th></th>\n",
              "    </tr>\n",
              "  </thead>\n",
              "  <tbody>\n",
              "    <tr>\n",
              "      <th>2008-05-08</th>\n",
              "      <td>2008-06-04</td>\n",
              "      <td>0</td>\n",
              "      <td>38.789222</td>\n",
              "      <td>-78.723425</td>\n",
              "      <td>63.299999</td>\n",
              "      <td>63.382882</td>\n",
              "      <td>63.654445</td>\n",
              "      <td>63.085000</td>\n",
              "      <td>62.924831</td>\n",
              "      <td>-106.919003</td>\n",
              "      <td>-15.463947</td>\n",
              "      <td>-0.248012</td>\n",
              "      <td>-0.398158</td>\n",
              "      <td>-2.941173</td>\n",
              "      <td>-15.463947</td>\n",
              "      <td>-62.962853</td>\n",
              "      <td>65.579519</td>\n",
              "      <td>0</td>\n",
              "    </tr>\n",
              "    <tr>\n",
              "      <th>2008-05-09</th>\n",
              "      <td>2008-06-05</td>\n",
              "      <td>0</td>\n",
              "      <td>26.891090</td>\n",
              "      <td>-91.999982</td>\n",
              "      <td>62.910000</td>\n",
              "      <td>63.156306</td>\n",
              "      <td>63.627778</td>\n",
              "      <td>63.064999</td>\n",
              "      <td>62.489224</td>\n",
              "      <td>-135.200512</td>\n",
              "      <td>-23.809558</td>\n",
              "      <td>-0.297035</td>\n",
              "      <td>-0.474788</td>\n",
              "      <td>-3.338512</td>\n",
              "      <td>-23.809558</td>\n",
              "      <td>-35.185195</td>\n",
              "      <td>65.376748</td>\n",
              "      <td>0</td>\n",
              "    </tr>\n",
              "    <tr>\n",
              "      <th>2008-05-12</th>\n",
              "      <td>2008-06-06</td>\n",
              "      <td>0</td>\n",
              "      <td>30.066838</td>\n",
              "      <td>-69.811367</td>\n",
              "      <td>62.860000</td>\n",
              "      <td>63.065045</td>\n",
              "      <td>63.438889</td>\n",
              "      <td>62.970000</td>\n",
              "      <td>62.449469</td>\n",
              "      <td>-111.339184</td>\n",
              "      <td>-28.712934</td>\n",
              "      <td>-0.288934</td>\n",
              "      <td>-0.461280</td>\n",
              "      <td>-1.647058</td>\n",
              "      <td>-28.712934</td>\n",
              "      <td>-26.013218</td>\n",
              "      <td>65.110608</td>\n",
              "      <td>0</td>\n",
              "    </tr>\n",
              "    <tr>\n",
              "      <th>2008-05-13</th>\n",
              "      <td>2008-05-26</td>\n",
              "      <td>-1</td>\n",
              "      <td>63.232365</td>\n",
              "      <td>-21.568487</td>\n",
              "      <td>63.030000</td>\n",
              "      <td>63.232036</td>\n",
              "      <td>63.388889</td>\n",
              "      <td>62.685001</td>\n",
              "      <td>63.031329</td>\n",
              "      <td>-13.260110</td>\n",
              "      <td>7.142896</td>\n",
              "      <td>-0.196984</td>\n",
              "      <td>-0.315131</td>\n",
              "      <td>0.709221</td>\n",
              "      <td>7.142896</td>\n",
              "      <td>9.343968</td>\n",
              "      <td>64.789547</td>\n",
              "      <td>-1</td>\n",
              "    </tr>\n",
              "    <tr>\n",
              "      <th>2008-05-14</th>\n",
              "      <td>2008-05-26</td>\n",
              "      <td>-1</td>\n",
              "      <td>64.648572</td>\n",
              "      <td>-11.764547</td>\n",
              "      <td>63.140001</td>\n",
              "      <td>63.415629</td>\n",
              "      <td>63.264444</td>\n",
              "      <td>62.905001</td>\n",
              "      <td>63.539091</td>\n",
              "      <td>41.376611</td>\n",
              "      <td>4.587165</td>\n",
              "      <td>-0.117408</td>\n",
              "      <td>-0.188882</td>\n",
              "      <td>1.023624</td>\n",
              "      <td>4.587165</td>\n",
              "      <td>14.747127</td>\n",
              "      <td>64.500593</td>\n",
              "      <td>-1</td>\n",
              "    </tr>\n",
              "  </tbody>\n",
              "</table>\n",
              "</div>"
            ],
            "text/plain": [
              "           triple_barrier_sell_time  ...  triple_barrier_signal\n",
              "Date                                 ...                       \n",
              "2008-05-08               2008-06-04  ...                      0\n",
              "2008-05-09               2008-06-05  ...                      0\n",
              "2008-05-12               2008-06-06  ...                      0\n",
              "2008-05-13               2008-05-26  ...                     -1\n",
              "2008-05-14               2008-05-26  ...                     -1\n",
              "\n",
              "[5 rows x 18 columns]"
            ]
          },
          "metadata": {
            "tags": []
          },
          "execution_count": 28
        }
      ]
    },
    {
      "cell_type": "code",
      "metadata": {
        "id": "agJYTx9A1wjL",
        "colab_type": "code",
        "colab": {
          "base_uri": "https://localhost:8080/",
          "height": 357
        },
        "outputId": "f502a0f4-8554-4319-c95a-fbbbfd1cf4ea"
      },
      "source": [
        "df = df.iloc[:,2:]\n",
        "df.head()"
      ],
      "execution_count": 29,
      "outputs": [
        {
          "output_type": "execute_result",
          "data": {
            "text/html": [
              "<div>\n",
              "<style scoped>\n",
              "    .dataframe tbody tr th:only-of-type {\n",
              "        vertical-align: middle;\n",
              "    }\n",
              "\n",
              "    .dataframe tbody tr th {\n",
              "        vertical-align: top;\n",
              "    }\n",
              "\n",
              "    .dataframe thead th {\n",
              "        text-align: right;\n",
              "    }\n",
              "</style>\n",
              "<table border=\"1\" class=\"dataframe\">\n",
              "  <thead>\n",
              "    <tr style=\"text-align: right;\">\n",
              "      <th></th>\n",
              "      <th>RSI</th>\n",
              "      <th>Williams %R</th>\n",
              "      <th>SMA</th>\n",
              "      <th>EMA</th>\n",
              "      <th>WMA</th>\n",
              "      <th>HMA</th>\n",
              "      <th>TEMA</th>\n",
              "      <th>CCI</th>\n",
              "      <th>CMO</th>\n",
              "      <th>MACD</th>\n",
              "      <th>PPO</th>\n",
              "      <th>ROC</th>\n",
              "      <th>CFI</th>\n",
              "      <th>DMI</th>\n",
              "      <th>SAR</th>\n",
              "      <th>triple_barrier_signal</th>\n",
              "    </tr>\n",
              "    <tr>\n",
              "      <th>Date</th>\n",
              "      <th></th>\n",
              "      <th></th>\n",
              "      <th></th>\n",
              "      <th></th>\n",
              "      <th></th>\n",
              "      <th></th>\n",
              "      <th></th>\n",
              "      <th></th>\n",
              "      <th></th>\n",
              "      <th></th>\n",
              "      <th></th>\n",
              "      <th></th>\n",
              "      <th></th>\n",
              "      <th></th>\n",
              "      <th></th>\n",
              "      <th></th>\n",
              "    </tr>\n",
              "  </thead>\n",
              "  <tbody>\n",
              "    <tr>\n",
              "      <th>2008-05-08</th>\n",
              "      <td>38.789222</td>\n",
              "      <td>-78.723425</td>\n",
              "      <td>63.299999</td>\n",
              "      <td>63.382882</td>\n",
              "      <td>63.654445</td>\n",
              "      <td>63.085000</td>\n",
              "      <td>62.924831</td>\n",
              "      <td>-106.919003</td>\n",
              "      <td>-15.463947</td>\n",
              "      <td>-0.248012</td>\n",
              "      <td>-0.398158</td>\n",
              "      <td>-2.941173</td>\n",
              "      <td>-15.463947</td>\n",
              "      <td>-62.962853</td>\n",
              "      <td>65.579519</td>\n",
              "      <td>0</td>\n",
              "    </tr>\n",
              "    <tr>\n",
              "      <th>2008-05-09</th>\n",
              "      <td>26.891090</td>\n",
              "      <td>-91.999982</td>\n",
              "      <td>62.910000</td>\n",
              "      <td>63.156306</td>\n",
              "      <td>63.627778</td>\n",
              "      <td>63.064999</td>\n",
              "      <td>62.489224</td>\n",
              "      <td>-135.200512</td>\n",
              "      <td>-23.809558</td>\n",
              "      <td>-0.297035</td>\n",
              "      <td>-0.474788</td>\n",
              "      <td>-3.338512</td>\n",
              "      <td>-23.809558</td>\n",
              "      <td>-35.185195</td>\n",
              "      <td>65.376748</td>\n",
              "      <td>0</td>\n",
              "    </tr>\n",
              "    <tr>\n",
              "      <th>2008-05-12</th>\n",
              "      <td>30.066838</td>\n",
              "      <td>-69.811367</td>\n",
              "      <td>62.860000</td>\n",
              "      <td>63.065045</td>\n",
              "      <td>63.438889</td>\n",
              "      <td>62.970000</td>\n",
              "      <td>62.449469</td>\n",
              "      <td>-111.339184</td>\n",
              "      <td>-28.712934</td>\n",
              "      <td>-0.288934</td>\n",
              "      <td>-0.461280</td>\n",
              "      <td>-1.647058</td>\n",
              "      <td>-28.712934</td>\n",
              "      <td>-26.013218</td>\n",
              "      <td>65.110608</td>\n",
              "      <td>0</td>\n",
              "    </tr>\n",
              "    <tr>\n",
              "      <th>2008-05-13</th>\n",
              "      <td>63.232365</td>\n",
              "      <td>-21.568487</td>\n",
              "      <td>63.030000</td>\n",
              "      <td>63.232036</td>\n",
              "      <td>63.388889</td>\n",
              "      <td>62.685001</td>\n",
              "      <td>63.031329</td>\n",
              "      <td>-13.260110</td>\n",
              "      <td>7.142896</td>\n",
              "      <td>-0.196984</td>\n",
              "      <td>-0.315131</td>\n",
              "      <td>0.709221</td>\n",
              "      <td>7.142896</td>\n",
              "      <td>9.343968</td>\n",
              "      <td>64.789547</td>\n",
              "      <td>-1</td>\n",
              "    </tr>\n",
              "    <tr>\n",
              "      <th>2008-05-14</th>\n",
              "      <td>64.648572</td>\n",
              "      <td>-11.764547</td>\n",
              "      <td>63.140001</td>\n",
              "      <td>63.415629</td>\n",
              "      <td>63.264444</td>\n",
              "      <td>62.905001</td>\n",
              "      <td>63.539091</td>\n",
              "      <td>41.376611</td>\n",
              "      <td>4.587165</td>\n",
              "      <td>-0.117408</td>\n",
              "      <td>-0.188882</td>\n",
              "      <td>1.023624</td>\n",
              "      <td>4.587165</td>\n",
              "      <td>14.747127</td>\n",
              "      <td>64.500593</td>\n",
              "      <td>-1</td>\n",
              "    </tr>\n",
              "  </tbody>\n",
              "</table>\n",
              "</div>"
            ],
            "text/plain": [
              "                  RSI  Williams %R  ...        SAR  triple_barrier_signal\n",
              "Date                                ...                                  \n",
              "2008-05-08  38.789222   -78.723425  ...  65.579519                      0\n",
              "2008-05-09  26.891090   -91.999982  ...  65.376748                      0\n",
              "2008-05-12  30.066838   -69.811367  ...  65.110608                      0\n",
              "2008-05-13  63.232365   -21.568487  ...  64.789547                     -1\n",
              "2008-05-14  64.648572   -11.764547  ...  64.500593                     -1\n",
              "\n",
              "[5 rows x 16 columns]"
            ]
          },
          "metadata": {
            "tags": []
          },
          "execution_count": 29
        }
      ]
    },
    {
      "cell_type": "markdown",
      "metadata": {
        "id": "YSh6cJBEwgtg",
        "colab_type": "text"
      },
      "source": [
        "# 相關性分析"
      ]
    },
    {
      "cell_type": "code",
      "metadata": {
        "id": "hKy0pMZfLKEH",
        "colab_type": "code",
        "outputId": "672ccd22-cd7c-4bd4-cf1a-7a1c4f79c680",
        "colab": {
          "base_uri": "https://localhost:8080/",
          "height": 811
        }
      },
      "source": [
        "import seaborn as sns\n",
        "import matplotlib.pyplot as plt\n",
        "plt.figure(figsize=(14,12))\n",
        "sns.heatmap(abs(df.corr()),annot=True,linewidths=0.1)"
      ],
      "execution_count": 30,
      "outputs": [
        {
          "output_type": "execute_result",
          "data": {
            "text/plain": [
              "<matplotlib.axes._subplots.AxesSubplot at 0x7f42b4ffbac8>"
            ]
          },
          "metadata": {
            "tags": []
          },
          "execution_count": 30
        },
        {
          "output_type": "display_data",
          "data": {
            "image/png": "[encoded data removed]",
            "text/plain": [
              "<Figure size 1008x864 with 2 Axes>"
            ]
          },
          "metadata": {
            "tags": []
          }
        }
      ]
    },
    {
      "cell_type": "markdown",
      "metadata": {
        "id": "c68TXVQaqGl3",
        "colab_type": "text"
      },
      "source": [
        "# features scaling"
      ]
    },
    {
      "cell_type": "code",
      "metadata": {
        "id": "JpZPZWfJqGuo",
        "colab_type": "code",
        "outputId": "694ad7fb-b388-489a-e922-e8f209972872",
        "colab": {
          "base_uri": "https://localhost:8080/",
          "height": 547
        }
      },
      "source": [
        "from sklearn.preprocessing import MinMaxScaler\n",
        "min_max_scaler = MinMaxScaler()\n",
        "df_minmax = min_max_scaler.fit_transform(df)#縮放到0-1之間\n",
        "df_minmax = pd.DataFrame(df_minmax,index=df.index,columns=df.columns)#轉回dataframe格式\n",
        "df_minmax[y_name] = df[y_name]#y不用MinMaxScaler\n",
        "print(df_minmax.describe())\n",
        "df_minmax.tail()"
      ],
      "execution_count": 31,
      "outputs": [
        {
          "output_type": "stream",
          "text": [
            "               RSI  Williams %R  ...          SAR  triple_barrier_signal\n",
            "count  2775.000000  2775.000000  ...  2775.000000            2775.000000\n",
            "mean      0.531829     0.553283  ...     0.563786              -0.292973\n",
            "std       0.256611     0.315337  ...     0.209532               0.600052\n",
            "min       0.000000     0.000000  ...     0.000000              -1.000000\n",
            "25%       0.341438     0.256226  ...     0.426883              -1.000000\n",
            "50%       0.540315     0.588236  ...     0.527507               0.000000\n",
            "75%       0.730974     0.851851  ...     0.710887               0.000000\n",
            "max       1.000000     1.000000  ...     1.000000               1.000000\n",
            "\n",
            "[8 rows x 16 columns]\n"
          ],
          "name": "stdout"
        },
        {
          "output_type": "execute_result",
          "data": {
            "text/html": [
              "<div>\n",
              "<style scoped>\n",
              "    .dataframe tbody tr th:only-of-type {\n",
              "        vertical-align: middle;\n",
              "    }\n",
              "\n",
              "    .dataframe tbody tr th {\n",
              "        vertical-align: top;\n",
              "    }\n",
              "\n",
              "    .dataframe thead th {\n",
              "        text-align: right;\n",
              "    }\n",
              "</style>\n",
              "<table border=\"1\" class=\"dataframe\">\n",
              "  <thead>\n",
              "    <tr style=\"text-align: right;\">\n",
              "      <th></th>\n",
              "      <th>RSI</th>\n",
              "      <th>Williams %R</th>\n",
              "      <th>SMA</th>\n",
              "      <th>EMA</th>\n",
              "      <th>WMA</th>\n",
              "      <th>HMA</th>\n",
              "      <th>TEMA</th>\n",
              "      <th>CCI</th>\n",
              "      <th>CMO</th>\n",
              "      <th>MACD</th>\n",
              "      <th>PPO</th>\n",
              "      <th>ROC</th>\n",
              "      <th>CFI</th>\n",
              "      <th>DMI</th>\n",
              "      <th>SAR</th>\n",
              "      <th>triple_barrier_signal</th>\n",
              "    </tr>\n",
              "    <tr>\n",
              "      <th>Date</th>\n",
              "      <th></th>\n",
              "      <th></th>\n",
              "      <th></th>\n",
              "      <th></th>\n",
              "      <th></th>\n",
              "      <th></th>\n",
              "      <th></th>\n",
              "      <th></th>\n",
              "      <th></th>\n",
              "      <th></th>\n",
              "      <th></th>\n",
              "      <th></th>\n",
              "      <th></th>\n",
              "      <th></th>\n",
              "      <th></th>\n",
              "      <th></th>\n",
              "    </tr>\n",
              "  </thead>\n",
              "  <tbody>\n",
              "    <tr>\n",
              "      <th>2019-08-02</th>\n",
              "      <td>0.061267</td>\n",
              "      <td>0.106060</td>\n",
              "      <td>0.910875</td>\n",
              "      <td>0.924824</td>\n",
              "      <td>0.931582</td>\n",
              "      <td>0.911102</td>\n",
              "      <td>0.889601</td>\n",
              "      <td>0.132118</td>\n",
              "      <td>0.162999</td>\n",
              "      <td>0.353703</td>\n",
              "      <td>0.397682</td>\n",
              "      <td>0.516305</td>\n",
              "      <td>0.162999</td>\n",
              "      <td>0.448469</td>\n",
              "      <td>0.924467</td>\n",
              "      <td>0</td>\n",
              "    </tr>\n",
              "    <tr>\n",
              "      <th>2019-08-05</th>\n",
              "      <td>0.056486</td>\n",
              "      <td>0.062500</td>\n",
              "      <td>0.899431</td>\n",
              "      <td>0.916127</td>\n",
              "      <td>0.928103</td>\n",
              "      <td>0.899775</td>\n",
              "      <td>0.873266</td>\n",
              "      <td>0.106239</td>\n",
              "      <td>0.092241</td>\n",
              "      <td>0.282848</td>\n",
              "      <td>0.365783</td>\n",
              "      <td>0.497136</td>\n",
              "      <td>0.092241</td>\n",
              "      <td>0.413280</td>\n",
              "      <td>0.921267</td>\n",
              "      <td>0</td>\n",
              "    </tr>\n",
              "    <tr>\n",
              "      <th>2019-08-06</th>\n",
              "      <td>0.000000</td>\n",
              "      <td>0.301886</td>\n",
              "      <td>0.888681</td>\n",
              "      <td>0.908990</td>\n",
              "      <td>0.923458</td>\n",
              "      <td>0.886561</td>\n",
              "      <td>0.863037</td>\n",
              "      <td>0.108845</td>\n",
              "      <td>0.092241</td>\n",
              "      <td>0.246957</td>\n",
              "      <td>0.349504</td>\n",
              "      <td>0.487869</td>\n",
              "      <td>0.092241</td>\n",
              "      <td>0.323719</td>\n",
              "      <td>0.916332</td>\n",
              "      <td>0</td>\n",
              "    </tr>\n",
              "    <tr>\n",
              "      <th>2019-08-07</th>\n",
              "      <td>0.000000</td>\n",
              "      <td>0.230769</td>\n",
              "      <td>0.877930</td>\n",
              "      <td>0.901854</td>\n",
              "      <td>0.916344</td>\n",
              "      <td>0.872316</td>\n",
              "      <td>0.854004</td>\n",
              "      <td>0.188617</td>\n",
              "      <td>0.032499</td>\n",
              "      <td>0.222131</td>\n",
              "      <td>0.338087</td>\n",
              "      <td>0.466593</td>\n",
              "      <td>0.032499</td>\n",
              "      <td>0.366274</td>\n",
              "      <td>0.908343</td>\n",
              "      <td>0</td>\n",
              "    </tr>\n",
              "    <tr>\n",
              "      <th>2019-08-08</th>\n",
              "      <td>0.239054</td>\n",
              "      <td>0.413462</td>\n",
              "      <td>0.872208</td>\n",
              "      <td>0.899535</td>\n",
              "      <td>0.910144</td>\n",
              "      <td>0.866825</td>\n",
              "      <td>0.857001</td>\n",
              "      <td>0.292453</td>\n",
              "      <td>0.225128</td>\n",
              "      <td>0.257907</td>\n",
              "      <td>0.354196</td>\n",
              "      <td>0.487085</td>\n",
              "      <td>0.225128</td>\n",
              "      <td>0.454078</td>\n",
              "      <td>0.901153</td>\n",
              "      <td>0</td>\n",
              "    </tr>\n",
              "  </tbody>\n",
              "</table>\n",
              "</div>"
            ],
            "text/plain": [
              "                 RSI  Williams %R  ...       SAR  triple_barrier_signal\n",
              "Date                               ...                                 \n",
              "2019-08-02  0.061267     0.106060  ...  0.924467                      0\n",
              "2019-08-05  0.056486     0.062500  ...  0.921267                      0\n",
              "2019-08-06  0.000000     0.301886  ...  0.916332                      0\n",
              "2019-08-07  0.000000     0.230769  ...  0.908343                      0\n",
              "2019-08-08  0.239054     0.413462  ...  0.901153                      0\n",
              "\n",
              "[5 rows x 16 columns]"
            ]
          },
          "metadata": {
            "tags": []
          },
          "execution_count": 31
        }
      ]
    },
    {
      "cell_type": "code",
      "metadata": {
        "id": "5MCZDpBgrrQQ",
        "colab_type": "code",
        "outputId": "6688e5cf-ac7a-4e6f-f514-1218ef6330e7",
        "colab": {
          "base_uri": "https://localhost:8080/",
          "height": 35
        }
      },
      "source": [
        "df = df_minmax\n",
        "print('特徵縮放完成!')"
      ],
      "execution_count": 32,
      "outputs": [
        {
          "output_type": "stream",
          "text": [
            "特徵縮放完成!\n"
          ],
          "name": "stdout"
        }
      ]
    },
    {
      "cell_type": "markdown",
      "metadata": {
        "id": "_kc7tvz_M7PO",
        "colab_type": "text"
      },
      "source": [
        "# Xs ,ys prepare"
      ]
    },
    {
      "cell_type": "code",
      "metadata": {
        "id": "2ZHvlRJ5Lzzu",
        "colab_type": "code",
        "outputId": "96ee7059-303a-4c58-ab3f-cca23620ec53",
        "colab": {
          "base_uri": "https://localhost:8080/",
          "height": 52
        }
      },
      "source": [
        "from tqdm import tqdm\n",
        "import numpy as np\n",
        "\n",
        "#定義觀察天數,起始index(0),結束index(資料筆數-觀察天數)\n",
        "days = 15\n",
        "b_index = 0\n",
        "f_index = len(df)-days\n",
        "\n",
        "#特徵欄位\n",
        "features = df.drop(y_name,axis=1).columns.tolist()\n",
        "\n",
        "#待存放序列\n",
        "Xs = []\n",
        "ys = []\n",
        "indexs = []\n",
        "\n",
        "for i in tqdm(range(b_index,f_index,1)):#每次i都會遞增1\n",
        "  X = df.iloc[i:i+days,:][features]#取i:i+days這段時間的features(不包括i+days這一天),例如0,1,2...14日這些日期的features\n",
        "  #y = df.iloc[i+days:i+days+1,:][y_name]#取i+days這一天的y_name,例如第15日y_name\n",
        "  y = df.iloc[i+days-1:i+days+1-1,:][y_name]\n",
        "  X = np.array(X) #2維df表格轉成2維np_array\n",
        "  Xs.append(X) #加入一筆X\n",
        "  ys.append(y) #加入一筆y\n",
        "  indexs.append((df.iloc[[i]].index,df.iloc[[i+days]].index)) #加入資料日期\n",
        "#轉換成np_array\n",
        "Xs = np.array(Xs)\n",
        "ys = np.array(ys)\n",
        "print('準備完成')"
      ],
      "execution_count": 33,
      "outputs": [
        {
          "output_type": "stream",
          "text": [
            "100%|██████████| 2760/2760 [00:08<00:00, 327.33it/s]\n"
          ],
          "name": "stderr"
        },
        {
          "output_type": "stream",
          "text": [
            "準備完成\n"
          ],
          "name": "stdout"
        }
      ]
    },
    {
      "cell_type": "markdown",
      "metadata": {
        "id": "a9iNRYKpNfIP",
        "colab_type": "text"
      },
      "source": [
        "# check"
      ]
    },
    {
      "cell_type": "code",
      "metadata": {
        "id": "7YiS6ZmtNfSf",
        "colab_type": "code",
        "outputId": "50a42a3d-4d05-4e6a-bd27-7c6276213fb6",
        "colab": {
          "base_uri": "https://localhost:8080/",
          "height": 89
        }
      },
      "source": [
        "print('資料筆數:',len(df))\n",
        "print('第一筆的index開始和結束',indexs[0])\n",
        "print('最後一筆的index開始和結束',indexs[-1])"
      ],
      "execution_count": 34,
      "outputs": [
        {
          "output_type": "stream",
          "text": [
            "資料筆數: 2775\n",
            "第一筆的index開始和結束 (DatetimeIndex(['2008-05-08'], dtype='datetime64[ns]', name='Date', freq=None), DatetimeIndex(['2008-05-29'], dtype='datetime64[ns]', name='Date', freq=None))\n",
            "最後一筆的index開始和結束 (DatetimeIndex(['2019-07-18'], dtype='datetime64[ns]', name='Date', freq=None), DatetimeIndex(['2019-08-08'], dtype='datetime64[ns]', name='Date', freq=None))\n"
          ],
          "name": "stdout"
        }
      ]
    },
    {
      "cell_type": "markdown",
      "metadata": {
        "id": "Pabl4tEsXYB8",
        "colab_type": "text"
      },
      "source": [
        "# Reshape X"
      ]
    },
    {
      "cell_type": "markdown",
      "metadata": {
        "id": "RvUPQWb1An8u",
        "colab_type": "text"
      },
      "source": [
        "(圖片數量,長,寬,1張)"
      ]
    },
    {
      "cell_type": "code",
      "metadata": {
        "id": "In4R0IcSPDwG",
        "colab_type": "code",
        "outputId": "452128c3-21d3-449d-dcb2-091385cd9d32",
        "colab": {
          "base_uri": "https://localhost:8080/",
          "height": 52
        }
      },
      "source": [
        "print(Xs.shape)\n",
        "Xs = Xs.reshape(-1,days,len(features),1)\n",
        "print(Xs.shape)"
      ],
      "execution_count": 35,
      "outputs": [
        {
          "output_type": "stream",
          "text": [
            "(2760, 15, 15)\n",
            "(2760, 15, 15, 1)\n"
          ],
          "name": "stdout"
        }
      ]
    },
    {
      "cell_type": "markdown",
      "metadata": {
        "id": "lUy2cpReXaOV",
        "colab_type": "text"
      },
      "source": [
        "# One hot encoding of label"
      ]
    },
    {
      "cell_type": "markdown",
      "metadata": {
        "id": "hjDc-sStA1gk",
        "colab_type": "text"
      },
      "source": [
        "原始y代表漲幅"
      ]
    },
    {
      "cell_type": "code",
      "metadata": {
        "id": "6XGRdxmfWrfo",
        "colab_type": "code",
        "outputId": "3d1f87e3-9ea2-447e-b1dd-afe95c2a3129",
        "colab": {
          "base_uri": "https://localhost:8080/",
          "height": 121
        }
      },
      "source": [
        "print(ys.shape)\n",
        "print(ys[:5])"
      ],
      "execution_count": 36,
      "outputs": [
        {
          "output_type": "stream",
          "text": [
            "(2760, 1)\n",
            "[[-1]\n",
            " [-1]\n",
            " [-1]\n",
            " [-1]\n",
            " [-1]]\n"
          ],
          "name": "stdout"
        }
      ]
    },
    {
      "cell_type": "markdown",
      "metadata": {
        "id": "zj6RK_nhA5Vt",
        "colab_type": "text"
      },
      "source": [
        "轉換成 漲或跌 的one_hot_array"
      ]
    },
    {
      "cell_type": "code",
      "metadata": {
        "id": "zs2aMc2qRUo4",
        "colab_type": "code",
        "outputId": "3a093df5-f1e3-45d2-cdb0-8fa60075eb02",
        "colab": {
          "base_uri": "https://localhost:8080/",
          "height": 139
        }
      },
      "source": [
        "from keras.utils.np_utils import to_categorical\n",
        "#r1 = (ys>0)\n",
        "#r2 = (ys<0)\n",
        "#ys[r1] = int(1)\n",
        "#ys[r2] = int(0)\n",
        "ys = to_categorical(ys, num_classes = 3)\n",
        "print(ys.shape)\n",
        "print(ys[:5])"
      ],
      "execution_count": 37,
      "outputs": [
        {
          "output_type": "stream",
          "text": [
            "Using TensorFlow backend.\n"
          ],
          "name": "stderr"
        },
        {
          "output_type": "stream",
          "text": [
            "(2760, 3)\n",
            "[[0. 0. 1.]\n",
            " [0. 0. 1.]\n",
            " [0. 0. 1.]\n",
            " [0. 0. 1.]\n",
            " [0. 0. 1.]]\n"
          ],
          "name": "stdout"
        }
      ]
    },
    {
      "cell_type": "markdown",
      "metadata": {
        "id": "TYcPI2TWBTpJ",
        "colab_type": "text"
      },
      "source": [
        "# Visualization"
      ]
    },
    {
      "cell_type": "code",
      "metadata": {
        "id": "2bv3dxecChjt",
        "colab_type": "code",
        "outputId": "f7982299-92b2-47f5-b867-d8a200087629",
        "colab": {
          "base_uri": "https://localhost:8080/",
          "height": 52
        }
      },
      "source": [
        "print(Xs.shape)\n",
        "Xs_v = Xs.reshape(-1,Xs.shape[1],Xs.shape[2])\n",
        "print(Xs_v.shape)"
      ],
      "execution_count": 38,
      "outputs": [
        {
          "output_type": "stream",
          "text": [
            "(2760, 15, 15, 1)\n",
            "(2760, 15, 15)\n"
          ],
          "name": "stdout"
        }
      ]
    },
    {
      "cell_type": "code",
      "metadata": {
        "id": "ibNjBLRaBUJh",
        "colab_type": "code",
        "outputId": "57f7028e-d4a4-4648-c4cf-caf980a06b9c",
        "colab": {
          "base_uri": "https://localhost:8080/",
          "height": 607
        }
      },
      "source": [
        "import matplotlib.pyplot as plt\n",
        "import matplotlib.image as mpimg\n",
        "%matplotlib inline\n",
        "plt.figure(figsize=(10,10))\n",
        "plt.subplots_adjust(wspace =0, hspace =0.3)\n",
        "for i in range(0,9):\n",
        "    plt.subplot(330 + (i+1))\n",
        "    plt.imshow(Xs_v[i])\n",
        "    plt.title(np.argmax(ys[i]))"
      ],
      "execution_count": 39,
      "outputs": [
        {
          "output_type": "display_data",
          "data": {
            "image/png": "[encoded data removed]",
            "text/plain": [
              "<Figure size 720x720 with 9 Axes>"
            ]
          },
          "metadata": {
            "tags": []
          }
        }
      ]
    },
    {
      "cell_type": "markdown",
      "metadata": {
        "id": "5Oa6gYq_aVjE",
        "colab_type": "text"
      },
      "source": [
        "# Split training and validation sets"
      ]
    },
    {
      "cell_type": "code",
      "metadata": {
        "id": "MgsrVpYUYf5J",
        "colab_type": "code",
        "outputId": "dfd03e43-4815-410f-96eb-37a3dbc75dc8",
        "colab": {
          "base_uri": "https://localhost:8080/",
          "height": 35
        }
      },
      "source": [
        "from sklearn.model_selection import train_test_split\n",
        "xtrain, xval, ytrain, yval = train_test_split(Xs,\n",
        "                                              ys, \n",
        "                                              test_size=0.1,#切分比例\n",
        "                                              random_state=42, #隨機種子\n",
        "                                              shuffle=True,#是否洗牌\n",
        "                                              stratify=None #是否根據y欄位做分層取樣\n",
        "                                             )\n",
        "print(xtrain.shape, ytrain.shape, xval.shape, yval.shape)"
      ],
      "execution_count": 40,
      "outputs": [
        {
          "output_type": "stream",
          "text": [
            "(2484, 15, 15, 1) (2484, 3) (276, 15, 15, 1) (276, 3)\n"
          ],
          "name": "stdout"
        }
      ]
    },
    {
      "cell_type": "markdown",
      "metadata": {
        "id": "xv72sWfh3t3e",
        "colab_type": "text"
      },
      "source": [
        "# 人為切分"
      ]
    },
    {
      "cell_type": "code",
      "metadata": {
        "id": "ocSkzeWkvujS",
        "colab_type": "code",
        "colab": {}
      },
      "source": [
        "#test_num = 200\n",
        "#index_train ,index_val = indexs[:-test_num],indexs[-test_num:]\n",
        "#xtrain, xval, ytrain, yval = Xs[:-test_num],Xs[-test_num:],ys[:-test_num],ys[-test_num:]\n",
        "#print(xtrain.shape, ytrain.shape, xval.shape, yval.shape)\n",
        "#print(index_train[-1],index_val[-1])"
      ],
      "execution_count": 0,
      "outputs": []
    },
    {
      "cell_type": "markdown",
      "metadata": {
        "id": "2xQOFrENMkSb",
        "colab_type": "text"
      },
      "source": [
        "# 看一下樣本的label分布情況是否平均(待解決)"
      ]
    },
    {
      "cell_type": "code",
      "metadata": {
        "id": "aA9SXiicML6Y",
        "colab_type": "code",
        "outputId": "d3720764-bd90-4619-a6b6-ad7895d1c5ba",
        "colab": {
          "base_uri": "https://localhost:8080/",
          "height": 87
        }
      },
      "source": [
        "pd.Series([np.argmax(i) for i in ys]).value_counts()"
      ],
      "execution_count": 42,
      "outputs": [
        {
          "output_type": "execute_result",
          "data": {
            "text/plain": [
              "0    1534\n",
              "2    1014\n",
              "1     212\n",
              "dtype: int64"
            ]
          },
          "metadata": {
            "tags": []
          },
          "execution_count": 42
        }
      ]
    },
    {
      "cell_type": "code",
      "metadata": {
        "id": "UIOBe8tVL5dV",
        "colab_type": "code",
        "outputId": "2e4c8d42-139e-4cb2-9815-13321a114940",
        "colab": {
          "base_uri": "https://localhost:8080/",
          "height": 87
        }
      },
      "source": [
        "pd.Series([np.argmax(i) for i in ytrain]).value_counts()"
      ],
      "execution_count": 43,
      "outputs": [
        {
          "output_type": "execute_result",
          "data": {
            "text/plain": [
              "0    1375\n",
              "2     919\n",
              "1     190\n",
              "dtype: int64"
            ]
          },
          "metadata": {
            "tags": []
          },
          "execution_count": 43
        }
      ]
    },
    {
      "cell_type": "code",
      "metadata": {
        "id": "A235BZ6cMQ-S",
        "colab_type": "code",
        "outputId": "1f631486-1c70-45ba-e9ec-56976c41599f",
        "colab": {
          "base_uri": "https://localhost:8080/",
          "height": 87
        }
      },
      "source": [
        "pd.Series([np.argmax(i) for i in yval]).value_counts()"
      ],
      "execution_count": 44,
      "outputs": [
        {
          "output_type": "execute_result",
          "data": {
            "text/plain": [
              "0    159\n",
              "2     95\n",
              "1     22\n",
              "dtype: int64"
            ]
          },
          "metadata": {
            "tags": []
          },
          "execution_count": 44
        }
      ]
    },
    {
      "cell_type": "markdown",
      "metadata": {
        "id": "m-oXz0FGarb1",
        "colab_type": "text"
      },
      "source": [
        "# CNN"
      ]
    },
    {
      "cell_type": "code",
      "metadata": {
        "id": "eWOsWp7_amoX",
        "colab_type": "code",
        "colab": {}
      },
      "source": [
        "from keras import backend as K\n",
        "from keras.models import Sequential\n",
        "from keras.layers import Dense, Dropout, Lambda, Flatten, BatchNormalization\n",
        "from keras.layers import Conv2D, MaxPool2D, AvgPool2D\n",
        "from keras.optimizers import Adam #做梯度下降的一種優化方法\n",
        "from keras.callbacks import ReduceLROnPlateau , EarlyStopping #減少學習速率 on Plateau"
      ],
      "execution_count": 0,
      "outputs": []
    },
    {
      "cell_type": "code",
      "metadata": {
        "id": "yd-csnW2auJS",
        "colab_type": "code",
        "outputId": "29a01f36-23ae-4b27-ba41-492aec3e72fb",
        "colab": {
          "base_uri": "https://localhost:8080/",
          "height": 679
        }
      },
      "source": [
        "model = Sequential()\n",
        "\n",
        "dim1 = days #觀察時間\n",
        "dim2 = len(features) #特徵數量\n",
        "nclasses = 3 \n",
        "\n",
        "# two convolutional layers (15x15x32, 15x15x64), \n",
        "#兩層conv+maxpool+dropout\n",
        "model.add(Conv2D(filters=32, kernel_size=(3,3), padding='same', activation='relu', input_shape=(15,15,1)))\n",
        "model.add(Conv2D(filters=64, kernel_size=(3,3), padding='same', activation='relu',))\n",
        "model.add(MaxPool2D(pool_size=(2,2)))\n",
        "model.add(Dropout(0.25))\n",
        "#全連接層\n",
        "model.add(Flatten())\n",
        "model.add(Dense(128, activation='relu'))\n",
        "model.add(Dropout(0.50))\n",
        "model.add(Dense(nclasses, activation='softmax'))#分類輸出漲或跌\n",
        "model.summary()"
      ],
      "execution_count": 46,
      "outputs": [
        {
          "output_type": "stream",
          "text": [
            "WARNING:tensorflow:From /usr/local/lib/python3.6/dist-packages/keras/backend/tensorflow_backend.py:66: The name tf.get_default_graph is deprecated. Please use tf.compat.v1.get_default_graph instead.\n",
            "\n",
            "WARNING:tensorflow:From /usr/local/lib/python3.6/dist-packages/keras/backend/tensorflow_backend.py:541: The name tf.placeholder is deprecated. Please use tf.compat.v1.placeholder instead.\n",
            "\n",
            "WARNING:tensorflow:From /usr/local/lib/python3.6/dist-packages/keras/backend/tensorflow_backend.py:4432: The name tf.random_uniform is deprecated. Please use tf.random.uniform instead.\n",
            "\n",
            "WARNING:tensorflow:From /usr/local/lib/python3.6/dist-packages/keras/backend/tensorflow_backend.py:4267: The name tf.nn.max_pool is deprecated. Please use tf.nn.max_pool2d instead.\n",
            "\n",
            "WARNING:tensorflow:From /usr/local/lib/python3.6/dist-packages/keras/backend/tensorflow_backend.py:148: The name tf.placeholder_with_default is deprecated. Please use tf.compat.v1.placeholder_with_default instead.\n",
            "\n",
            "WARNING:tensorflow:From /usr/local/lib/python3.6/dist-packages/keras/backend/tensorflow_backend.py:3733: calling dropout (from tensorflow.python.ops.nn_ops) with keep_prob is deprecated and will be removed in a future version.\n",
            "Instructions for updating:\n",
            "Please use `rate` instead of `keep_prob`. Rate should be set to `rate = 1 - keep_prob`.\n",
            "Model: \"sequential_1\"\n",
            "_________________________________________________________________\n",
            "Layer (type)                 Output Shape              Param #   \n",
            "=================================================================\n",
            "conv2d_1 (Conv2D)            (None, 15, 15, 32)        320       \n",
            "_________________________________________________________________\n",
            "conv2d_2 (Conv2D)            (None, 15, 15, 64)        18496     \n",
            "_________________________________________________________________\n",
            "max_pooling2d_1 (MaxPooling2 (None, 7, 7, 64)          0         \n",
            "_________________________________________________________________\n",
            "dropout_1 (Dropout)          (None, 7, 7, 64)          0         \n",
            "_________________________________________________________________\n",
            "flatten_1 (Flatten)          (None, 3136)              0         \n",
            "_________________________________________________________________\n",
            "dense_1 (Dense)              (None, 128)               401536    \n",
            "_________________________________________________________________\n",
            "dropout_2 (Dropout)          (None, 128)               0         \n",
            "_________________________________________________________________\n",
            "dense_2 (Dense)              (None, 3)                 387       \n",
            "=================================================================\n",
            "Total params: 420,739\n",
            "Trainable params: 420,739\n",
            "Non-trainable params: 0\n",
            "_________________________________________________________________\n"
          ],
          "name": "stdout"
        }
      ]
    },
    {
      "cell_type": "code",
      "metadata": {
        "id": "8Z913AqUa8bJ",
        "colab_type": "code",
        "outputId": "79b76ee7-f42f-42ad-92b0-730d56e612de",
        "colab": {
          "base_uri": "https://localhost:8080/",
          "height": 107
        }
      },
      "source": [
        "model.compile(optimizer=\"adam\", loss=\"categorical_crossentropy\", metrics=[\"accuracy\"])"
      ],
      "execution_count": 47,
      "outputs": [
        {
          "output_type": "stream",
          "text": [
            "WARNING:tensorflow:From /usr/local/lib/python3.6/dist-packages/keras/optimizers.py:793: The name tf.train.Optimizer is deprecated. Please use tf.compat.v1.train.Optimizer instead.\n",
            "\n",
            "WARNING:tensorflow:From /usr/local/lib/python3.6/dist-packages/keras/backend/tensorflow_backend.py:3576: The name tf.log is deprecated. Please use tf.math.log instead.\n",
            "\n"
          ],
          "name": "stdout"
        }
      ]
    },
    {
      "cell_type": "markdown",
      "metadata": {
        "id": "VORA4n9Lz9of",
        "colab_type": "text"
      },
      "source": [
        "# 優化器"
      ]
    },
    {
      "cell_type": "code",
      "metadata": {
        "id": "Kw_j4R4Da_To",
        "colab_type": "code",
        "colab": {}
      },
      "source": [
        "#1\n",
        "lr_reduction = ReduceLROnPlateau(monitor='val_acc', \n",
        "                                 patience=20, \n",
        "                                 verbose=1, \n",
        "                                 factor=0.5, \n",
        "                                 min_lr=0.000001)\n",
        "#2\n",
        "es = EarlyStopping(monitor='val_loss', #驗證集loss\n",
        "                   min_delta=0, \n",
        "                   patience=30,  \n",
        "                   mode='min',\n",
        "                   restore_best_weights=False)#恢復最佳權重"
      ],
      "execution_count": 0,
      "outputs": []
    },
    {
      "cell_type": "markdown",
      "metadata": {
        "id": "aevlVsI9Lk9a",
        "colab_type": "text"
      },
      "source": [
        "# fit"
      ]
    },
    {
      "cell_type": "code",
      "metadata": {
        "id": "TJJR7Yg-bHac",
        "colab_type": "code",
        "outputId": "3dc670c5-f319-439a-bc91-9cf2a2e9f961",
        "colab": {
          "base_uri": "https://localhost:8080/",
          "height": 1000
        }
      },
      "source": [
        "history = model.fit(xtrain,ytrain,\n",
        "                    batch_size=128,\n",
        "                    epochs=200,\n",
        "                    validation_data=(xval,yval),\n",
        "                    verbose=1,callbacks=[lr_reduction])"
      ],
      "execution_count": 49,
      "outputs": [
        {
          "output_type": "stream",
          "text": [
            "WARNING:tensorflow:From /usr/local/lib/python3.6/dist-packages/tensorflow/python/ops/math_grad.py:1250: add_dispatch_support.<locals>.wrapper (from tensorflow.python.ops.array_ops) is deprecated and will be removed in a future version.\n",
            "Instructions for updating:\n",
            "Use tf.where in 2.0, which has the same broadcast rule as np.where\n",
            "Train on 2484 samples, validate on 276 samples\n",
            "Epoch 1/200\n",
            "2484/2484 [==============================] - 2s 783us/step - loss: 0.8975 - acc: 0.5165 - val_loss: 0.8342 - val_acc: 0.5870\n",
            "Epoch 2/200\n",
            "2484/2484 [==============================] - 0s 97us/step - loss: 0.8300 - acc: 0.5668 - val_loss: 0.8047 - val_acc: 0.5833\n",
            "Epoch 3/200\n",
            "2484/2484 [==============================] - 0s 93us/step - loss: 0.8095 - acc: 0.5737 - val_loss: 0.7884 - val_acc: 0.6051\n",
            "Epoch 4/200\n",
            "2484/2484 [==============================] - 0s 95us/step - loss: 0.7968 - acc: 0.5829 - val_loss: 0.7907 - val_acc: 0.6051\n",
            "Epoch 5/200\n",
            "2484/2484 [==============================] - 0s 92us/step - loss: 0.7913 - acc: 0.5821 - val_loss: 0.7807 - val_acc: 0.6051\n",
            "Epoch 6/200\n",
            "2484/2484 [==============================] - 0s 93us/step - loss: 0.7933 - acc: 0.5821 - val_loss: 0.7805 - val_acc: 0.6123\n",
            "Epoch 7/200\n",
            "2484/2484 [==============================] - 0s 90us/step - loss: 0.7808 - acc: 0.5926 - val_loss: 0.7697 - val_acc: 0.6159\n",
            "Epoch 8/200\n",
            "2484/2484 [==============================] - 0s 89us/step - loss: 0.7842 - acc: 0.5886 - val_loss: 0.7799 - val_acc: 0.6014\n",
            "Epoch 9/200\n",
            "2484/2484 [==============================] - 0s 88us/step - loss: 0.7833 - acc: 0.5942 - val_loss: 0.7630 - val_acc: 0.6232\n",
            "Epoch 10/200\n",
            "2484/2484 [==============================] - 0s 92us/step - loss: 0.7821 - acc: 0.5874 - val_loss: 0.7604 - val_acc: 0.6304\n",
            "Epoch 11/200\n",
            "2484/2484 [==============================] - 0s 96us/step - loss: 0.7686 - acc: 0.6010 - val_loss: 0.7614 - val_acc: 0.6159\n",
            "Epoch 12/200\n",
            "2484/2484 [==============================] - 0s 91us/step - loss: 0.7592 - acc: 0.6103 - val_loss: 0.7556 - val_acc: 0.6196\n",
            "Epoch 13/200\n",
            "2484/2484 [==============================] - 0s 88us/step - loss: 0.7564 - acc: 0.6047 - val_loss: 0.7595 - val_acc: 0.6196\n",
            "Epoch 14/200\n",
            "2484/2484 [==============================] - 0s 90us/step - loss: 0.7535 - acc: 0.6075 - val_loss: 0.7478 - val_acc: 0.6196\n",
            "Epoch 15/200\n",
            "2484/2484 [==============================] - 0s 92us/step - loss: 0.7477 - acc: 0.6192 - val_loss: 0.7386 - val_acc: 0.6304\n",
            "Epoch 16/200\n",
            "2484/2484 [==============================] - 0s 89us/step - loss: 0.7385 - acc: 0.6236 - val_loss: 0.7440 - val_acc: 0.6341\n",
            "Epoch 17/200\n",
            "2484/2484 [==============================] - 0s 91us/step - loss: 0.7335 - acc: 0.6268 - val_loss: 0.7343 - val_acc: 0.6449\n",
            "Epoch 18/200\n",
            "2484/2484 [==============================] - 0s 89us/step - loss: 0.7246 - acc: 0.6312 - val_loss: 0.7315 - val_acc: 0.6268\n",
            "Epoch 19/200\n",
            "2484/2484 [==============================] - 0s 88us/step - loss: 0.7119 - acc: 0.6429 - val_loss: 0.7263 - val_acc: 0.6341\n",
            "Epoch 20/200\n",
            "2484/2484 [==============================] - 0s 90us/step - loss: 0.7137 - acc: 0.6449 - val_loss: 0.7368 - val_acc: 0.6232\n",
            "Epoch 21/200\n",
            "2484/2484 [==============================] - 0s 89us/step - loss: 0.7024 - acc: 0.6518 - val_loss: 0.7427 - val_acc: 0.6268\n",
            "Epoch 22/200\n",
            "2484/2484 [==============================] - 0s 89us/step - loss: 0.6959 - acc: 0.6566 - val_loss: 0.7380 - val_acc: 0.6449\n",
            "Epoch 23/200\n",
            "2484/2484 [==============================] - 0s 87us/step - loss: 0.6884 - acc: 0.6630 - val_loss: 0.7234 - val_acc: 0.6341\n",
            "Epoch 24/200\n",
            "2484/2484 [==============================] - 0s 91us/step - loss: 0.6744 - acc: 0.6699 - val_loss: 0.7264 - val_acc: 0.6449\n",
            "Epoch 25/200\n",
            "2484/2484 [==============================] - 0s 87us/step - loss: 0.6655 - acc: 0.6755 - val_loss: 0.7170 - val_acc: 0.6703\n",
            "Epoch 26/200\n",
            "2484/2484 [==============================] - 0s 87us/step - loss: 0.6634 - acc: 0.6856 - val_loss: 0.7268 - val_acc: 0.6413\n",
            "Epoch 27/200\n",
            "2484/2484 [==============================] - 0s 87us/step - loss: 0.6529 - acc: 0.6880 - val_loss: 0.7130 - val_acc: 0.6667\n",
            "Epoch 28/200\n",
            "2484/2484 [==============================] - 0s 87us/step - loss: 0.6424 - acc: 0.6952 - val_loss: 0.7078 - val_acc: 0.6522\n",
            "Epoch 29/200\n",
            "2484/2484 [==============================] - 0s 89us/step - loss: 0.6339 - acc: 0.7069 - val_loss: 0.6997 - val_acc: 0.6739\n",
            "Epoch 30/200\n",
            "2484/2484 [==============================] - 0s 87us/step - loss: 0.6145 - acc: 0.7118 - val_loss: 0.7047 - val_acc: 0.6703\n",
            "Epoch 31/200\n",
            "2484/2484 [==============================] - 0s 91us/step - loss: 0.6071 - acc: 0.7170 - val_loss: 0.6812 - val_acc: 0.7029\n",
            "Epoch 32/200\n",
            "2484/2484 [==============================] - 0s 86us/step - loss: 0.6019 - acc: 0.7150 - val_loss: 0.6836 - val_acc: 0.6848\n",
            "Epoch 33/200\n",
            "2484/2484 [==============================] - 0s 87us/step - loss: 0.5860 - acc: 0.7202 - val_loss: 0.6689 - val_acc: 0.7065\n",
            "Epoch 34/200\n",
            "2484/2484 [==============================] - 0s 91us/step - loss: 0.5738 - acc: 0.7363 - val_loss: 0.7062 - val_acc: 0.6594\n",
            "Epoch 35/200\n",
            "2484/2484 [==============================] - 0s 89us/step - loss: 0.5744 - acc: 0.7387 - val_loss: 0.6764 - val_acc: 0.6848\n",
            "Epoch 36/200\n",
            "2484/2484 [==============================] - 0s 86us/step - loss: 0.5448 - acc: 0.7540 - val_loss: 0.6693 - val_acc: 0.6884\n",
            "Epoch 37/200\n",
            "2484/2484 [==============================] - 0s 88us/step - loss: 0.5458 - acc: 0.7564 - val_loss: 0.6482 - val_acc: 0.7065\n",
            "Epoch 38/200\n",
            "2484/2484 [==============================] - 0s 87us/step - loss: 0.5527 - acc: 0.7564 - val_loss: 0.6671 - val_acc: 0.7065\n",
            "Epoch 39/200\n",
            "2484/2484 [==============================] - 0s 92us/step - loss: 0.5394 - acc: 0.7693 - val_loss: 0.7158 - val_acc: 0.6848\n",
            "Epoch 40/200\n",
            "2484/2484 [==============================] - 0s 86us/step - loss: 0.5362 - acc: 0.7605 - val_loss: 0.6341 - val_acc: 0.7355\n",
            "Epoch 41/200\n",
            "2484/2484 [==============================] - 0s 86us/step - loss: 0.4987 - acc: 0.7754 - val_loss: 0.6623 - val_acc: 0.6920\n",
            "Epoch 42/200\n",
            "2484/2484 [==============================] - 0s 86us/step - loss: 0.5022 - acc: 0.7810 - val_loss: 0.6285 - val_acc: 0.7319\n",
            "Epoch 43/200\n",
            "2484/2484 [==============================] - 0s 92us/step - loss: 0.4932 - acc: 0.7907 - val_loss: 0.6272 - val_acc: 0.7355\n",
            "Epoch 44/200\n",
            "2484/2484 [==============================] - 0s 86us/step - loss: 0.4848 - acc: 0.7874 - val_loss: 0.6225 - val_acc: 0.7464\n",
            "Epoch 45/200\n",
            "2484/2484 [==============================] - 0s 87us/step - loss: 0.4746 - acc: 0.7931 - val_loss: 0.6382 - val_acc: 0.7210\n",
            "Epoch 46/200\n",
            "2484/2484 [==============================] - 0s 87us/step - loss: 0.4870 - acc: 0.7854 - val_loss: 0.6106 - val_acc: 0.7464\n",
            "Epoch 47/200\n",
            "2484/2484 [==============================] - 0s 91us/step - loss: 0.4622 - acc: 0.7991 - val_loss: 0.6083 - val_acc: 0.7609\n",
            "Epoch 48/200\n",
            "2484/2484 [==============================] - 0s 89us/step - loss: 0.4533 - acc: 0.8035 - val_loss: 0.6288 - val_acc: 0.7355\n",
            "Epoch 49/200\n",
            "2484/2484 [==============================] - 0s 86us/step - loss: 0.4336 - acc: 0.8261 - val_loss: 0.5919 - val_acc: 0.7464\n",
            "Epoch 50/200\n",
            "2484/2484 [==============================] - 0s 86us/step - loss: 0.4393 - acc: 0.8108 - val_loss: 0.6100 - val_acc: 0.7210\n",
            "Epoch 51/200\n",
            "2484/2484 [==============================] - 0s 86us/step - loss: 0.4311 - acc: 0.8241 - val_loss: 0.6108 - val_acc: 0.7428\n",
            "Epoch 52/200\n",
            "2484/2484 [==============================] - 0s 90us/step - loss: 0.4283 - acc: 0.8136 - val_loss: 0.5962 - val_acc: 0.7464\n",
            "Epoch 53/200\n",
            "2484/2484 [==============================] - 0s 90us/step - loss: 0.4150 - acc: 0.8249 - val_loss: 0.5974 - val_acc: 0.7681\n",
            "Epoch 54/200\n",
            "2484/2484 [==============================] - 0s 88us/step - loss: 0.4213 - acc: 0.8225 - val_loss: 0.6004 - val_acc: 0.7246\n",
            "Epoch 55/200\n",
            "2484/2484 [==============================] - 0s 87us/step - loss: 0.4020 - acc: 0.8309 - val_loss: 0.5920 - val_acc: 0.7500\n",
            "Epoch 56/200\n",
            "2484/2484 [==============================] - 0s 86us/step - loss: 0.3927 - acc: 0.8474 - val_loss: 0.5995 - val_acc: 0.7536\n",
            "Epoch 57/200\n",
            "2484/2484 [==============================] - 0s 92us/step - loss: 0.4050 - acc: 0.8285 - val_loss: 0.5874 - val_acc: 0.7609\n",
            "Epoch 58/200\n",
            "2484/2484 [==============================] - 0s 88us/step - loss: 0.3858 - acc: 0.8454 - val_loss: 0.5743 - val_acc: 0.7717\n",
            "Epoch 59/200\n",
            "2484/2484 [==============================] - 0s 88us/step - loss: 0.3649 - acc: 0.8543 - val_loss: 0.5836 - val_acc: 0.7500\n",
            "Epoch 60/200\n",
            "2484/2484 [==============================] - 0s 87us/step - loss: 0.3611 - acc: 0.8543 - val_loss: 0.5993 - val_acc: 0.7536\n",
            "Epoch 61/200\n",
            "2484/2484 [==============================] - 0s 90us/step - loss: 0.3628 - acc: 0.8551 - val_loss: 0.5682 - val_acc: 0.7609\n",
            "Epoch 62/200\n",
            "2484/2484 [==============================] - 0s 86us/step - loss: 0.3458 - acc: 0.8611 - val_loss: 0.5788 - val_acc: 0.7681\n",
            "Epoch 63/200\n",
            "2484/2484 [==============================] - 0s 87us/step - loss: 0.3377 - acc: 0.8667 - val_loss: 0.5516 - val_acc: 0.7899\n",
            "Epoch 64/200\n",
            "2484/2484 [==============================] - 0s 87us/step - loss: 0.3381 - acc: 0.8651 - val_loss: 0.5843 - val_acc: 0.7681\n",
            "Epoch 65/200\n",
            "2484/2484 [==============================] - 0s 88us/step - loss: 0.3404 - acc: 0.8639 - val_loss: 0.5631 - val_acc: 0.7971\n",
            "Epoch 66/200\n",
            "2484/2484 [==============================] - 0s 92us/step - loss: 0.3150 - acc: 0.8671 - val_loss: 0.5826 - val_acc: 0.7609\n",
            "Epoch 67/200\n",
            "2484/2484 [==============================] - 0s 86us/step - loss: 0.3179 - acc: 0.8663 - val_loss: 0.6011 - val_acc: 0.7645\n",
            "Epoch 68/200\n",
            "2484/2484 [==============================] - 0s 89us/step - loss: 0.3078 - acc: 0.8841 - val_loss: 0.5923 - val_acc: 0.7935\n",
            "Epoch 69/200\n",
            "2484/2484 [==============================] - 0s 87us/step - loss: 0.3036 - acc: 0.8865 - val_loss: 0.6004 - val_acc: 0.7609\n",
            "Epoch 70/200\n",
            "2484/2484 [==============================] - 0s 86us/step - loss: 0.3010 - acc: 0.8853 - val_loss: 0.5732 - val_acc: 0.8007\n",
            "Epoch 71/200\n",
            "2484/2484 [==============================] - 0s 90us/step - loss: 0.2821 - acc: 0.8913 - val_loss: 0.6246 - val_acc: 0.7500\n",
            "Epoch 72/200\n",
            "2484/2484 [==============================] - 0s 86us/step - loss: 0.2900 - acc: 0.8853 - val_loss: 0.5503 - val_acc: 0.8043\n",
            "Epoch 73/200\n",
            "2484/2484 [==============================] - 0s 86us/step - loss: 0.2780 - acc: 0.8937 - val_loss: 0.5457 - val_acc: 0.7826\n",
            "Epoch 74/200\n",
            "2484/2484 [==============================] - 0s 87us/step - loss: 0.2813 - acc: 0.8929 - val_loss: 0.5602 - val_acc: 0.7935\n",
            "Epoch 75/200\n",
            "2484/2484 [==============================] - 0s 91us/step - loss: 0.2914 - acc: 0.8885 - val_loss: 0.5652 - val_acc: 0.7826\n",
            "Epoch 76/200\n",
            "2484/2484 [==============================] - 0s 86us/step - loss: 0.2665 - acc: 0.9006 - val_loss: 0.5713 - val_acc: 0.7609\n",
            "Epoch 77/200\n",
            "2484/2484 [==============================] - 0s 86us/step - loss: 0.2761 - acc: 0.8941 - val_loss: 0.5748 - val_acc: 0.7826\n",
            "Epoch 78/200\n",
            "2484/2484 [==============================] - 0s 85us/step - loss: 0.2591 - acc: 0.8969 - val_loss: 0.5641 - val_acc: 0.7754\n",
            "Epoch 79/200\n",
            "2484/2484 [==============================] - 0s 87us/step - loss: 0.2524 - acc: 0.9046 - val_loss: 0.5484 - val_acc: 0.7862\n",
            "Epoch 80/200\n",
            "2484/2484 [==============================] - 0s 91us/step - loss: 0.2468 - acc: 0.9078 - val_loss: 0.5553 - val_acc: 0.7862\n",
            "Epoch 81/200\n",
            "2484/2484 [==============================] - 0s 87us/step - loss: 0.2468 - acc: 0.9022 - val_loss: 0.5990 - val_acc: 0.7862\n",
            "Epoch 82/200\n",
            "2484/2484 [==============================] - 0s 87us/step - loss: 0.2498 - acc: 0.9006 - val_loss: 0.5851 - val_acc: 0.7754\n",
            "Epoch 83/200\n",
            "2484/2484 [==============================] - 0s 86us/step - loss: 0.2418 - acc: 0.9050 - val_loss: 0.5690 - val_acc: 0.7826\n",
            "Epoch 84/200\n",
            "2484/2484 [==============================] - 0s 86us/step - loss: 0.2419 - acc: 0.9078 - val_loss: 0.5702 - val_acc: 0.8007\n",
            "Epoch 85/200\n",
            "2484/2484 [==============================] - 0s 90us/step - loss: 0.2266 - acc: 0.9110 - val_loss: 0.5582 - val_acc: 0.7862\n",
            "Epoch 86/200\n",
            "2484/2484 [==============================] - 0s 88us/step - loss: 0.2153 - acc: 0.9167 - val_loss: 0.5991 - val_acc: 0.7935\n",
            "Epoch 87/200\n",
            "2484/2484 [==============================] - 0s 87us/step - loss: 0.2178 - acc: 0.9195 - val_loss: 0.5493 - val_acc: 0.7935\n",
            "Epoch 88/200\n",
            "2484/2484 [==============================] - 0s 87us/step - loss: 0.2118 - acc: 0.9179 - val_loss: 0.5929 - val_acc: 0.7935\n",
            "Epoch 89/200\n",
            "2484/2484 [==============================] - 0s 89us/step - loss: 0.2256 - acc: 0.9098 - val_loss: 0.5480 - val_acc: 0.7826\n",
            "Epoch 90/200\n",
            "2484/2484 [==============================] - 0s 85us/step - loss: 0.2186 - acc: 0.9130 - val_loss: 0.5423 - val_acc: 0.8188\n",
            "Epoch 91/200\n",
            "2484/2484 [==============================] - 0s 89us/step - loss: 0.2001 - acc: 0.9243 - val_loss: 0.5462 - val_acc: 0.8007\n",
            "Epoch 92/200\n",
            "2484/2484 [==============================] - 0s 87us/step - loss: 0.2138 - acc: 0.9219 - val_loss: 0.5606 - val_acc: 0.8152\n",
            "Epoch 93/200\n",
            "2484/2484 [==============================] - 0s 85us/step - loss: 0.2046 - acc: 0.9239 - val_loss: 0.5874 - val_acc: 0.8080\n",
            "Epoch 94/200\n",
            "2484/2484 [==============================] - 0s 88us/step - loss: 0.2073 - acc: 0.9187 - val_loss: 0.5845 - val_acc: 0.8116\n",
            "Epoch 95/200\n",
            "2484/2484 [==============================] - 0s 87us/step - loss: 0.2085 - acc: 0.9195 - val_loss: 0.5244 - val_acc: 0.8116\n",
            "Epoch 96/200\n",
            "2484/2484 [==============================] - 0s 92us/step - loss: 0.2073 - acc: 0.9215 - val_loss: 0.6068 - val_acc: 0.7935\n",
            "Epoch 97/200\n",
            "2484/2484 [==============================] - 0s 86us/step - loss: 0.2129 - acc: 0.9219 - val_loss: 0.5654 - val_acc: 0.8043\n",
            "Epoch 98/200\n",
            "2484/2484 [==============================] - 0s 87us/step - loss: 0.1978 - acc: 0.9251 - val_loss: 0.5373 - val_acc: 0.8080\n",
            "Epoch 99/200\n",
            "2484/2484 [==============================] - 0s 87us/step - loss: 0.1917 - acc: 0.9255 - val_loss: 0.5774 - val_acc: 0.8188\n",
            "Epoch 100/200\n",
            "2484/2484 [==============================] - 0s 86us/step - loss: 0.1758 - acc: 0.9340 - val_loss: 0.5968 - val_acc: 0.8043\n",
            "Epoch 101/200\n",
            "2484/2484 [==============================] - 0s 87us/step - loss: 0.1838 - acc: 0.9332 - val_loss: 0.5110 - val_acc: 0.7971\n",
            "Epoch 102/200\n",
            "2484/2484 [==============================] - 0s 87us/step - loss: 0.1825 - acc: 0.9312 - val_loss: 0.6328 - val_acc: 0.7862\n",
            "Epoch 103/200\n",
            "2484/2484 [==============================] - 0s 92us/step - loss: 0.1740 - acc: 0.9344 - val_loss: 0.5807 - val_acc: 0.8080\n",
            "Epoch 104/200\n",
            "2484/2484 [==============================] - 0s 87us/step - loss: 0.1722 - acc: 0.9320 - val_loss: 0.5839 - val_acc: 0.7935\n",
            "Epoch 105/200\n",
            "2484/2484 [==============================] - 0s 90us/step - loss: 0.1593 - acc: 0.9372 - val_loss: 0.5389 - val_acc: 0.8297\n",
            "Epoch 106/200\n",
            "2484/2484 [==============================] - 0s 86us/step - loss: 0.1726 - acc: 0.9287 - val_loss: 0.5666 - val_acc: 0.8188\n",
            "Epoch 107/200\n",
            "2484/2484 [==============================] - 0s 86us/step - loss: 0.1673 - acc: 0.9364 - val_loss: 0.5657 - val_acc: 0.8370\n",
            "Epoch 108/200\n",
            "2484/2484 [==============================] - 0s 89us/step - loss: 0.1657 - acc: 0.9412 - val_loss: 0.5730 - val_acc: 0.8225\n",
            "Epoch 109/200\n",
            "2484/2484 [==============================] - 0s 89us/step - loss: 0.1627 - acc: 0.9404 - val_loss: 0.5695 - val_acc: 0.8188\n",
            "Epoch 110/200\n",
            "2484/2484 [==============================] - 0s 87us/step - loss: 0.1627 - acc: 0.9348 - val_loss: 0.5418 - val_acc: 0.8297\n",
            "Epoch 111/200\n",
            "2484/2484 [==============================] - 0s 86us/step - loss: 0.1664 - acc: 0.9356 - val_loss: 0.5603 - val_acc: 0.8116\n",
            "Epoch 112/200\n",
            "2484/2484 [==============================] - 0s 86us/step - loss: 0.1600 - acc: 0.9461 - val_loss: 0.5892 - val_acc: 0.8370\n",
            "Epoch 113/200\n",
            "2484/2484 [==============================] - 0s 90us/step - loss: 0.1632 - acc: 0.9380 - val_loss: 0.5713 - val_acc: 0.8152\n",
            "Epoch 114/200\n",
            "2484/2484 [==============================] - 0s 87us/step - loss: 0.1511 - acc: 0.9432 - val_loss: 0.5344 - val_acc: 0.8116\n",
            "Epoch 115/200\n",
            "2484/2484 [==============================] - 0s 88us/step - loss: 0.1478 - acc: 0.9529 - val_loss: 0.5690 - val_acc: 0.8152\n",
            "Epoch 116/200\n",
            "2484/2484 [==============================] - 0s 88us/step - loss: 0.1580 - acc: 0.9416 - val_loss: 0.5428 - val_acc: 0.8152\n",
            "Epoch 117/200\n",
            "2484/2484 [==============================] - 0s 90us/step - loss: 0.1554 - acc: 0.9444 - val_loss: 0.5579 - val_acc: 0.8370\n",
            "Epoch 118/200\n",
            "2484/2484 [==============================] - 0s 90us/step - loss: 0.1460 - acc: 0.9481 - val_loss: 0.5530 - val_acc: 0.8406\n",
            "Epoch 119/200\n",
            "2484/2484 [==============================] - 0s 85us/step - loss: 0.1466 - acc: 0.9432 - val_loss: 0.5815 - val_acc: 0.8188\n",
            "Epoch 120/200\n",
            "2484/2484 [==============================] - 0s 87us/step - loss: 0.1358 - acc: 0.9517 - val_loss: 0.5261 - val_acc: 0.8261\n",
            "Epoch 121/200\n",
            "2484/2484 [==============================] - 0s 88us/step - loss: 0.1341 - acc: 0.9469 - val_loss: 0.5621 - val_acc: 0.8333\n",
            "Epoch 122/200\n",
            "2484/2484 [==============================] - 0s 88us/step - loss: 0.1369 - acc: 0.9489 - val_loss: 0.5463 - val_acc: 0.8188\n",
            "Epoch 123/200\n",
            "2484/2484 [==============================] - 0s 86us/step - loss: 0.1257 - acc: 0.9553 - val_loss: 0.5737 - val_acc: 0.8261\n",
            "Epoch 124/200\n",
            "2484/2484 [==============================] - 0s 88us/step - loss: 0.1236 - acc: 0.9545 - val_loss: 0.5789 - val_acc: 0.8406\n",
            "Epoch 125/200\n",
            "2484/2484 [==============================] - 0s 88us/step - loss: 0.1227 - acc: 0.9541 - val_loss: 0.6429 - val_acc: 0.8007\n",
            "Epoch 126/200\n",
            "2484/2484 [==============================] - 0s 87us/step - loss: 0.1322 - acc: 0.9465 - val_loss: 0.5847 - val_acc: 0.8406\n",
            "Epoch 127/200\n",
            "2484/2484 [==============================] - 0s 90us/step - loss: 0.1194 - acc: 0.9565 - val_loss: 0.5583 - val_acc: 0.8333\n",
            "Epoch 128/200\n",
            "2484/2484 [==============================] - 0s 85us/step - loss: 0.1251 - acc: 0.9533 - val_loss: 0.5508 - val_acc: 0.8333\n",
            "Epoch 129/200\n",
            "2484/2484 [==============================] - 0s 89us/step - loss: 0.1246 - acc: 0.9557 - val_loss: 0.5902 - val_acc: 0.8333\n",
            "Epoch 130/200\n",
            "2484/2484 [==============================] - 0s 87us/step - loss: 0.1281 - acc: 0.9529 - val_loss: 0.5559 - val_acc: 0.8225\n",
            "Epoch 131/200\n",
            "2484/2484 [==============================] - 0s 90us/step - loss: 0.1205 - acc: 0.9561 - val_loss: 0.5363 - val_acc: 0.8370\n",
            "Epoch 132/200\n",
            "2484/2484 [==============================] - 0s 85us/step - loss: 0.1179 - acc: 0.9533 - val_loss: 0.5937 - val_acc: 0.8333\n",
            "Epoch 133/200\n",
            "2484/2484 [==============================] - 0s 88us/step - loss: 0.1237 - acc: 0.9601 - val_loss: 0.5857 - val_acc: 0.8333\n",
            "Epoch 134/200\n",
            "2484/2484 [==============================] - 0s 87us/step - loss: 0.1274 - acc: 0.9533 - val_loss: 0.5878 - val_acc: 0.8225\n",
            "Epoch 135/200\n",
            "2484/2484 [==============================] - 0s 85us/step - loss: 0.1190 - acc: 0.9537 - val_loss: 0.5509 - val_acc: 0.8406\n",
            "Epoch 136/200\n",
            "2484/2484 [==============================] - 0s 90us/step - loss: 0.1068 - acc: 0.9601 - val_loss: 0.5743 - val_acc: 0.8406\n",
            "Epoch 137/200\n",
            "2484/2484 [==============================] - 0s 87us/step - loss: 0.1076 - acc: 0.9589 - val_loss: 0.5527 - val_acc: 0.8514\n",
            "Epoch 138/200\n",
            "2484/2484 [==============================] - 0s 85us/step - loss: 0.1111 - acc: 0.9597 - val_loss: 0.5575 - val_acc: 0.8333\n",
            "Epoch 139/200\n",
            "2484/2484 [==============================] - 0s 85us/step - loss: 0.1121 - acc: 0.9597 - val_loss: 0.5619 - val_acc: 0.8406\n",
            "Epoch 140/200\n",
            "2484/2484 [==============================] - 0s 88us/step - loss: 0.1095 - acc: 0.9601 - val_loss: 0.5883 - val_acc: 0.8478\n",
            "Epoch 141/200\n",
            "2484/2484 [==============================] - 0s 87us/step - loss: 0.1184 - acc: 0.9525 - val_loss: 0.5610 - val_acc: 0.8261\n",
            "Epoch 142/200\n",
            "2484/2484 [==============================] - 0s 86us/step - loss: 0.1030 - acc: 0.9610 - val_loss: 0.5643 - val_acc: 0.8261\n",
            "Epoch 143/200\n",
            "2484/2484 [==============================] - 0s 86us/step - loss: 0.1074 - acc: 0.9610 - val_loss: 0.5814 - val_acc: 0.8406\n",
            "Epoch 144/200\n",
            "2484/2484 [==============================] - 0s 93us/step - loss: 0.0904 - acc: 0.9710 - val_loss: 0.5650 - val_acc: 0.8478\n",
            "Epoch 145/200\n",
            "2484/2484 [==============================] - 0s 87us/step - loss: 0.0946 - acc: 0.9678 - val_loss: 0.6117 - val_acc: 0.8297\n",
            "Epoch 146/200\n",
            "2484/2484 [==============================] - 0s 86us/step - loss: 0.1059 - acc: 0.9601 - val_loss: 0.5680 - val_acc: 0.8370\n",
            "Epoch 147/200\n",
            "2484/2484 [==============================] - 0s 87us/step - loss: 0.1010 - acc: 0.9638 - val_loss: 0.5401 - val_acc: 0.8478\n",
            "Epoch 148/200\n",
            "2484/2484 [==============================] - 0s 86us/step - loss: 0.1067 - acc: 0.9642 - val_loss: 0.6341 - val_acc: 0.8333\n",
            "Epoch 149/200\n",
            "2484/2484 [==============================] - 0s 85us/step - loss: 0.1098 - acc: 0.9634 - val_loss: 0.6102 - val_acc: 0.8442\n",
            "Epoch 150/200\n",
            "2484/2484 [==============================] - 0s 89us/step - loss: 0.0968 - acc: 0.9674 - val_loss: 0.5474 - val_acc: 0.8587\n",
            "Epoch 151/200\n",
            "2484/2484 [==============================] - 0s 85us/step - loss: 0.1039 - acc: 0.9597 - val_loss: 0.5886 - val_acc: 0.8297\n",
            "Epoch 152/200\n",
            "2484/2484 [==============================] - 0s 85us/step - loss: 0.0937 - acc: 0.9634 - val_loss: 0.5640 - val_acc: 0.8514\n",
            "Epoch 153/200\n",
            "2484/2484 [==============================] - 0s 87us/step - loss: 0.0904 - acc: 0.9674 - val_loss: 0.5571 - val_acc: 0.8514\n",
            "Epoch 154/200\n",
            "2484/2484 [==============================] - 0s 86us/step - loss: 0.1018 - acc: 0.9630 - val_loss: 0.5782 - val_acc: 0.8514\n",
            "Epoch 155/200\n",
            "2484/2484 [==============================] - 0s 89us/step - loss: 0.0936 - acc: 0.9670 - val_loss: 0.6238 - val_acc: 0.8225\n",
            "Epoch 156/200\n",
            "2484/2484 [==============================] - 0s 86us/step - loss: 0.0972 - acc: 0.9614 - val_loss: 0.6218 - val_acc: 0.8442\n",
            "Epoch 157/200\n",
            "2484/2484 [==============================] - 0s 87us/step - loss: 0.0933 - acc: 0.9614 - val_loss: 0.5727 - val_acc: 0.8478\n",
            "Epoch 158/200\n",
            "2484/2484 [==============================] - 0s 86us/step - loss: 0.0947 - acc: 0.9666 - val_loss: 0.5885 - val_acc: 0.8297\n",
            "Epoch 159/200\n",
            "2484/2484 [==============================] - 0s 91us/step - loss: 0.0903 - acc: 0.9646 - val_loss: 0.5809 - val_acc: 0.8551\n",
            "Epoch 160/200\n",
            "2484/2484 [==============================] - 0s 86us/step - loss: 0.0927 - acc: 0.9658 - val_loss: 0.5884 - val_acc: 0.8587\n",
            "Epoch 161/200\n",
            "2484/2484 [==============================] - 0s 85us/step - loss: 0.0995 - acc: 0.9646 - val_loss: 0.6065 - val_acc: 0.8333\n",
            "Epoch 162/200\n",
            "2484/2484 [==============================] - 0s 86us/step - loss: 0.0993 - acc: 0.9638 - val_loss: 0.6142 - val_acc: 0.8406\n",
            "Epoch 163/200\n",
            "2484/2484 [==============================] - 0s 85us/step - loss: 0.0965 - acc: 0.9670 - val_loss: 0.6016 - val_acc: 0.8333\n",
            "Epoch 164/200\n",
            "2484/2484 [==============================] - 0s 88us/step - loss: 0.0940 - acc: 0.9682 - val_loss: 0.5657 - val_acc: 0.8551\n",
            "Epoch 165/200\n",
            "2484/2484 [==============================] - 0s 86us/step - loss: 0.0892 - acc: 0.9714 - val_loss: 0.6216 - val_acc: 0.8406\n",
            "Epoch 166/200\n",
            "2484/2484 [==============================] - 0s 85us/step - loss: 0.0805 - acc: 0.9706 - val_loss: 0.6622 - val_acc: 0.8370\n",
            "Epoch 167/200\n",
            "2484/2484 [==============================] - 0s 89us/step - loss: 0.0850 - acc: 0.9698 - val_loss: 0.6143 - val_acc: 0.8478\n",
            "Epoch 168/200\n",
            "2484/2484 [==============================] - 0s 85us/step - loss: 0.0820 - acc: 0.9674 - val_loss: 0.6353 - val_acc: 0.8370\n",
            "Epoch 169/200\n",
            "2484/2484 [==============================] - 0s 89us/step - loss: 0.0870 - acc: 0.9678 - val_loss: 0.6118 - val_acc: 0.8514\n",
            "Epoch 170/200\n",
            "2484/2484 [==============================] - 0s 85us/step - loss: 0.0788 - acc: 0.9718 - val_loss: 0.5804 - val_acc: 0.8514\n",
            "\n",
            "Epoch 00170: ReduceLROnPlateau reducing learning rate to 0.0005000000237487257.\n",
            "Epoch 171/200\n",
            "2484/2484 [==============================] - 0s 86us/step - loss: 0.0753 - acc: 0.9767 - val_loss: 0.5725 - val_acc: 0.8551\n",
            "Epoch 172/200\n",
            "2484/2484 [==============================] - 0s 85us/step - loss: 0.0652 - acc: 0.9791 - val_loss: 0.5829 - val_acc: 0.8514\n",
            "Epoch 173/200\n",
            "2484/2484 [==============================] - 0s 88us/step - loss: 0.0796 - acc: 0.9718 - val_loss: 0.5441 - val_acc: 0.8406\n",
            "Epoch 174/200\n",
            "2484/2484 [==============================] - 0s 86us/step - loss: 0.0764 - acc: 0.9742 - val_loss: 0.5803 - val_acc: 0.8406\n",
            "Epoch 175/200\n",
            "2484/2484 [==============================] - 0s 85us/step - loss: 0.0732 - acc: 0.9758 - val_loss: 0.5621 - val_acc: 0.8442\n",
            "Epoch 176/200\n",
            "2484/2484 [==============================] - 0s 87us/step - loss: 0.0669 - acc: 0.9750 - val_loss: 0.6004 - val_acc: 0.8442\n",
            "Epoch 177/200\n",
            "2484/2484 [==============================] - 0s 89us/step - loss: 0.0642 - acc: 0.9791 - val_loss: 0.6018 - val_acc: 0.8551\n",
            "Epoch 178/200\n",
            "2484/2484 [==============================] - 0s 88us/step - loss: 0.0689 - acc: 0.9750 - val_loss: 0.6018 - val_acc: 0.8478\n",
            "Epoch 179/200\n",
            "2484/2484 [==============================] - 0s 92us/step - loss: 0.0621 - acc: 0.9787 - val_loss: 0.5804 - val_acc: 0.8442\n",
            "Epoch 180/200\n",
            "2484/2484 [==============================] - 0s 85us/step - loss: 0.0675 - acc: 0.9771 - val_loss: 0.5953 - val_acc: 0.8406\n",
            "Epoch 181/200\n",
            "2484/2484 [==============================] - 0s 87us/step - loss: 0.0641 - acc: 0.9791 - val_loss: 0.5860 - val_acc: 0.8442\n",
            "Epoch 182/200\n",
            "2484/2484 [==============================] - 0s 86us/step - loss: 0.0588 - acc: 0.9815 - val_loss: 0.5986 - val_acc: 0.8587\n",
            "Epoch 183/200\n",
            "2484/2484 [==============================] - 0s 89us/step - loss: 0.0656 - acc: 0.9771 - val_loss: 0.6032 - val_acc: 0.8478\n",
            "Epoch 184/200\n",
            "2484/2484 [==============================] - 0s 90us/step - loss: 0.0671 - acc: 0.9779 - val_loss: 0.6387 - val_acc: 0.8442\n",
            "Epoch 185/200\n",
            "2484/2484 [==============================] - 0s 86us/step - loss: 0.0593 - acc: 0.9807 - val_loss: 0.6335 - val_acc: 0.8478\n",
            "Epoch 186/200\n",
            "2484/2484 [==============================] - 0s 85us/step - loss: 0.0661 - acc: 0.9787 - val_loss: 0.5945 - val_acc: 0.8478\n",
            "Epoch 187/200\n",
            "2484/2484 [==============================] - 0s 92us/step - loss: 0.0670 - acc: 0.9767 - val_loss: 0.5966 - val_acc: 0.8551\n",
            "Epoch 188/200\n",
            "2484/2484 [==============================] - 0s 86us/step - loss: 0.0533 - acc: 0.9855 - val_loss: 0.6354 - val_acc: 0.8442\n",
            "Epoch 189/200\n",
            "2484/2484 [==============================] - 0s 86us/step - loss: 0.0595 - acc: 0.9787 - val_loss: 0.5608 - val_acc: 0.8623\n",
            "Epoch 190/200\n",
            "2484/2484 [==============================] - 0s 85us/step - loss: 0.0560 - acc: 0.9811 - val_loss: 0.5849 - val_acc: 0.8732\n",
            "Epoch 191/200\n",
            "2484/2484 [==============================] - 0s 88us/step - loss: 0.0619 - acc: 0.9779 - val_loss: 0.5885 - val_acc: 0.8551\n",
            "Epoch 192/200\n",
            "2484/2484 [==============================] - 0s 93us/step - loss: 0.0582 - acc: 0.9807 - val_loss: 0.6438 - val_acc: 0.8406\n",
            "Epoch 193/200\n",
            "2484/2484 [==============================] - 0s 92us/step - loss: 0.0580 - acc: 0.9791 - val_loss: 0.6589 - val_acc: 0.8406\n",
            "Epoch 194/200\n",
            "2484/2484 [==============================] - 0s 89us/step - loss: 0.0654 - acc: 0.9754 - val_loss: 0.6010 - val_acc: 0.8623\n",
            "Epoch 195/200\n",
            "2484/2484 [==============================] - 0s 85us/step - loss: 0.0589 - acc: 0.9819 - val_loss: 0.6139 - val_acc: 0.8478\n",
            "Epoch 196/200\n",
            "2484/2484 [==============================] - 0s 86us/step - loss: 0.0566 - acc: 0.9827 - val_loss: 0.5997 - val_acc: 0.8696\n",
            "Epoch 197/200\n",
            "2484/2484 [==============================] - 0s 87us/step - loss: 0.0605 - acc: 0.9779 - val_loss: 0.5896 - val_acc: 0.8551\n",
            "Epoch 198/200\n",
            "2484/2484 [==============================] - 0s 86us/step - loss: 0.0622 - acc: 0.9799 - val_loss: 0.6146 - val_acc: 0.8514\n",
            "Epoch 199/200\n",
            "2484/2484 [==============================] - 0s 85us/step - loss: 0.0561 - acc: 0.9803 - val_loss: 0.6124 - val_acc: 0.8514\n",
            "Epoch 200/200\n",
            "2484/2484 [==============================] - 0s 88us/step - loss: 0.0561 - acc: 0.9819 - val_loss: 0.6335 - val_acc: 0.8623\n"
          ],
          "name": "stdout"
        }
      ]
    },
    {
      "cell_type": "markdown",
      "metadata": {
        "id": "xQ2Koxsz0Zun",
        "colab_type": "text"
      },
      "source": [
        "# 訓練過程評估"
      ]
    },
    {
      "cell_type": "code",
      "metadata": {
        "id": "2SxJIEDzbaZ7",
        "colab_type": "code",
        "outputId": "5d010a7e-6d73-4aaf-c0e1-4a466921b6e8",
        "colab": {
          "base_uri": "https://localhost:8080/",
          "height": 269
        }
      },
      "source": [
        "import matplotlib.pyplot as plt\n",
        "fig, ax = plt.subplots(2,1)\n",
        "ax[0].plot(history.history['loss'], color='b', label=\"Training loss\")\n",
        "ax[0].plot(history.history['val_loss'], color='r', label=\"Validation loss\",axes =ax[0])\n",
        "ax[0].grid(color='black', linestyle='-', linewidth=0.25)\n",
        "legend = ax[0].legend(loc='best', shadow=True)\n",
        "\n",
        "ax[1].plot(history.history['acc'], color='b', label=\"Training accuracy\")\n",
        "ax[1].plot(history.history['val_acc'], color='r',label=\"Validation accuracy\")\n",
        "ax[1].grid(color='black', linestyle='-', linewidth=0.25)\n",
        "legend = ax[1].legend(loc='best', shadow=True)"
      ],
      "execution_count": 50,
      "outputs": [
        {
          "output_type": "display_data",
          "data": {
            "image/png": "[encoded data removed]",
            "text/plain": [
              "<Figure size 432x288 with 2 Axes>"
            ]
          },
          "metadata": {
            "tags": []
          }
        }
      ]
    },
    {
      "cell_type": "markdown",
      "metadata": {
        "id": "zWVmgHz80cCp",
        "colab_type": "text"
      },
      "source": [
        "# 混淆矩陣"
      ]
    },
    {
      "cell_type": "code",
      "metadata": {
        "id": "UH5CcmX6btme",
        "colab_type": "code",
        "outputId": "12e05346-d3a1-45ea-a562-6869505cc390",
        "colab": {
          "base_uri": "https://localhost:8080/",
          "height": 311
        }
      },
      "source": [
        "from sklearn.metrics import confusion_matrix\n",
        "import itertools\n",
        "\n",
        "def plot_confusion_matrix(cm, classes, normalize=False, title='Confusion matrix', cmap=plt.cm.Blues):\n",
        "    plt.imshow(cm, interpolation='nearest', cmap=cmap)\n",
        "    plt.title(title)\n",
        "    plt.colorbar()\n",
        "    tick_marks = np.arange(len(classes))\n",
        "    plt.xticks(tick_marks, classes, rotation=45)\n",
        "    plt.yticks(tick_marks, classes)\n",
        "    if normalize:\n",
        "        cm = cm.astype('float') / cm.sum(axis=1)[:, np.newaxis]\n",
        "    thresh = cm.max() / 2.\n",
        "    for i, j in itertools.product(range(cm.shape[0]), range(cm.shape[1])):\n",
        "        plt.text(j, i, cm[i, j],\n",
        "                 horizontalalignment=\"center\",\n",
        "                 color=\"white\" if cm[i, j] > thresh else \"black\")\n",
        "    plt.tight_layout()\n",
        "    plt.ylabel('True label')\n",
        "    plt.xlabel('Predicted label')\n",
        "\n",
        "#預測的y\n",
        "ypred_onehot = model.predict(xval)\n",
        "#轉換預測的y: [0 0 1 0 0 ...] --> 2\n",
        "ypred = np.argmax(ypred_onehot,axis=1)\n",
        "#轉換真實的y\n",
        "ytrue = np.argmax(yval,axis=1)\n",
        "#計算 confusion matrix\n",
        "confusion_mtx = confusion_matrix(ytrue, ypred)\n",
        "#畫出 confusion matrix\n",
        "plot_confusion_matrix(confusion_mtx, classes=range(nclasses))"
      ],
      "execution_count": 51,
      "outputs": [
        {
          "output_type": "display_data",
          "data": {
            "image/png": "[encoded data removed]",
            "text/plain": [
              "<Figure size 432x288 with 2 Axes>"
            ]
          },
          "metadata": {
            "tags": []
          }
        }
      ]
    },
    {
      "cell_type": "markdown",
      "metadata": {
        "id": "PmgafP2rpjAO",
        "colab_type": "text"
      },
      "source": [
        "# 分類report"
      ]
    },
    {
      "cell_type": "markdown",
      "metadata": {
        "id": "zXQ8o9mj1Ydh",
        "colab_type": "text"
      },
      "source": [
        "轉換預測結果"
      ]
    },
    {
      "cell_type": "code",
      "metadata": {
        "id": "lCSuw9cYqEYk",
        "colab_type": "code",
        "outputId": "e8e17327-afb2-4c58-c31c-2a32f5052355",
        "colab": {
          "base_uri": "https://localhost:8080/",
          "height": 104
        }
      },
      "source": [
        "y_pred = model.predict(xval)#[[0.6,0.4],[0.4,0.6]]\n",
        "y_pred = [np.argmax(i) for i in y_pred]#[0,1]\n",
        "y_pred = to_categorical(y_pred, num_classes = 3)#[[1,0],[0,1]]\n",
        "print(y_pred[:5])"
      ],
      "execution_count": 52,
      "outputs": [
        {
          "output_type": "stream",
          "text": [
            "[[1. 0. 0.]\n",
            " [1. 0. 0.]\n",
            " [1. 0. 0.]\n",
            " [1. 0. 0.]\n",
            " [0. 1. 0.]]\n"
          ],
          "name": "stdout"
        }
      ]
    },
    {
      "cell_type": "markdown",
      "metadata": {
        "id": "XrHrpsVb1avA",
        "colab_type": "text"
      },
      "source": [
        "真實y值"
      ]
    },
    {
      "cell_type": "code",
      "metadata": {
        "id": "T2tyxRdo1Mqm",
        "colab_type": "code",
        "outputId": "1404bf3e-78dd-4808-b536-da946ff5af2b",
        "colab": {
          "base_uri": "https://localhost:8080/",
          "height": 104
        }
      },
      "source": [
        "print(yval[:5])"
      ],
      "execution_count": 53,
      "outputs": [
        {
          "output_type": "stream",
          "text": [
            "[[1. 0. 0.]\n",
            " [1. 0. 0.]\n",
            " [1. 0. 0.]\n",
            " [1. 0. 0.]\n",
            " [0. 1. 0.]]\n"
          ],
          "name": "stdout"
        }
      ]
    },
    {
      "cell_type": "markdown",
      "metadata": {
        "id": "wztZOw2r1ddE",
        "colab_type": "text"
      },
      "source": [
        "分類報告"
      ]
    },
    {
      "cell_type": "code",
      "metadata": {
        "id": "vzMaU-Y8pjJT",
        "colab_type": "code",
        "outputId": "1c578dbc-842b-4d3e-c5f7-635ce130b2f4",
        "colab": {
          "base_uri": "https://localhost:8080/",
          "height": 208
        }
      },
      "source": [
        "from sklearn.metrics import classification_report \n",
        "target_names = ['Hold','BUY','SELL']#漲跌\n",
        "print(classification_report(yval,y_pred,target_names=target_names))"
      ],
      "execution_count": 54,
      "outputs": [
        {
          "output_type": "stream",
          "text": [
            "              precision    recall  f1-score   support\n",
            "\n",
            "        Hold       0.88      0.94      0.91       159\n",
            "         BUY       0.93      0.64      0.76        22\n",
            "        SELL       0.82      0.79      0.81        95\n",
            "\n",
            "   micro avg       0.86      0.86      0.86       276\n",
            "   macro avg       0.88      0.79      0.82       276\n",
            "weighted avg       0.86      0.86      0.86       276\n",
            " samples avg       0.86      0.86      0.86       276\n",
            "\n"
          ],
          "name": "stdout"
        }
      ]
    },
    {
      "cell_type": "markdown",
      "metadata": {
        "id": "n-KXEoZLb9ie",
        "colab_type": "text"
      },
      "source": [
        "# plot error"
      ]
    },
    {
      "cell_type": "code",
      "metadata": {
        "id": "nCW5Xvtrb0fC",
        "colab_type": "code",
        "outputId": "3d2775fb-57c2-4ebe-c985-606d13e0b3d9",
        "colab": {
          "base_uri": "https://localhost:8080/",
          "height": 293
        }
      },
      "source": [
        "errors = (ypred - ytrue != 0)\n",
        "\n",
        "ypred_er = ypred_onehot[errors]\n",
        "ypred_classes_er = ypred[errors]\n",
        "ytrue_er = ytrue[errors]\n",
        "xval_er = xval[errors]\n",
        "\n",
        "def display_errors(errors_index, img_errors, pred_errors, obs_errors):\n",
        "    n = 0\n",
        "    nrows = 2\n",
        "    ncols = 3\n",
        "    fig, ax = plt.subplots(nrows, ncols, sharex=True, sharey=True)\n",
        "    plt.subplots_adjust(wspace =0.5, hspace =0.5)\n",
        "    for row in range(nrows):\n",
        "        for col in range(ncols):\n",
        "            error = errors_index[n]\n",
        "            ax[row,col].imshow((img_errors[error]).reshape((days,len(features))))\n",
        "            ax[row,col].set_title(\"Predicted label :{}\\nTrue label :{}\".format(pred_errors[error],obs_errors[error]))\n",
        "            n += 1\n",
        "            \n",
        "# 錯誤預測的概率\n",
        "ypred_er_prob = np.max(ypred_er,axis=1)\n",
        "\n",
        "# Predicted probabilities of the true values in the error set\n",
        "true_prob_er = np.diagonal(np.take(ypred_er, ytrue_er, axis=1))\n",
        "\n",
        "# Difference between the probability of the predicted label and the true label\n",
        "delta_pred_true_er = ypred_er_prob - true_prob_er\n",
        "\n",
        "# Sorted list of the delta prob errors\n",
        "sorted_delta_er = np.argsort(delta_pred_true_er)\n",
        "\n",
        "# Top 6 errors. You can change the range to see other images\n",
        "most_important_er = sorted_delta_er[-6:]\n",
        "\n",
        "# Show the top 6 errors\n",
        "display_errors(most_important_er, xval_er, ypred_classes_er, ytrue_er)"
      ],
      "execution_count": 55,
      "outputs": [
        {
          "output_type": "display_data",
          "data": {
            "image/png": "[encoded data removed]",
            "text/plain": [
              "<Figure size 432x288 with 6 Axes>"
            ]
          },
          "metadata": {
            "tags": []
          }
        }
      ]
    },
    {
      "cell_type": "code",
      "metadata": {
        "id": "h0t0J-VN25Zm",
        "colab_type": "code",
        "colab": {}
      },
      "source": [
        ""
      ],
      "execution_count": 0,
      "outputs": []
    }
  ]
}