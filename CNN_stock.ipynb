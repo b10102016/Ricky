{
  "nbformat": 4,
  "nbformat_minor": 0,
  "metadata": {
    "colab": {
      "name": "CNN_stock.ipynb",
      "version": "0.3.2",
      "provenance": [],
      "collapsed_sections": [],
      "include_colab_link": true
    },
    "kernelspec": {
      "name": "python3",
      "display_name": "Python 3"
    },
    "accelerator": "GPU"
  },
  "cells": [
    {
      "cell_type": "markdown",
      "metadata": {
        "id": "view-in-github",
        "colab_type": "text"
      },
      "source": [
        "<a href=\"https://colab.research.google.com/github/skywalker0803r/Ricky/blob/master/CNN_stock.ipynb\" target=\"_parent\"><img src=\"https://colab.research.google.com/assets/colab-badge.svg\" alt=\"Open In Colab\"/></a>"
      ]
    },
    {
      "cell_type": "code",
      "metadata": {
        "id": "g7NPpY26_qJm",
        "colab_type": "code",
        "colab": {}
      },
      "source": [
        "import pandas as pd\n",
        "import seaborn as sns\n",
        "import pandas_datareader.data as web\n",
        "#pip install finta\n",
        "df = web.DataReader('0050.tw','yahoo',start=\"2002-01-01\")\n",
        "df = df.iloc[:,:5]"
      ],
      "execution_count": 0,
      "outputs": []
    },
    {
      "cell_type": "markdown",
      "metadata": {
        "id": "6vaRLIuvJlZ7",
        "colab_type": "text"
      },
      "source": [
        "# 載入資料"
      ]
    },
    {
      "cell_type": "code",
      "metadata": {
        "id": "kRKHlNGl_7JV",
        "colab_type": "code",
        "outputId": "a641fe9d-7351-48fe-f0ce-8982c3a626b0",
        "colab": {
          "base_uri": "https://localhost:8080/",
          "height": 195
        }
      },
      "source": [
        "print(df.head(3))\n",
        "print(df.tail(3))"
      ],
      "execution_count": 2,
      "outputs": [
        {
          "output_type": "stream",
          "text": [
            "                 High        Low       Open      Close     Volume\n",
            "Date                                                             \n",
            "2007-12-31  61.700001  61.049999  61.450001  61.450001  2870000.0\n",
            "2008-01-02  61.299999  60.000000  60.099998  60.099998  4975000.0\n",
            "2008-01-03  59.349998  58.599998  59.099998  59.099998  7413000.0\n",
            "                 High        Low       Open      Close      Volume\n",
            "Date                                                              \n",
            "2019-09-04  82.199997  81.400002  81.449997  82.150002  10748771.0\n",
            "2019-09-05  83.199997  82.550003  82.550003  83.000000  25429390.0\n",
            "2019-09-06  83.550003  82.550003  82.550003  83.500000  17194000.0\n"
          ],
          "name": "stdout"
        }
      ]
    },
    {
      "cell_type": "markdown",
      "metadata": {
        "id": "ZsFMU68NI85j",
        "colab_type": "text"
      },
      "source": [
        "# Labeling(計算return)"
      ]
    },
    {
      "cell_type": "code",
      "metadata": {
        "id": "WaNG41cBI9BT",
        "colab_type": "code",
        "outputId": "a521aa48-7a6e-4b81-ef55-d026c1517e1f",
        "colab": {
          "base_uri": "https://localhost:8080/",
          "height": 514
        }
      },
      "source": [
        "今天股價 = df['Close']\n",
        "昨天股價 = df['Close'].shift(1)\n",
        "df['return%'] = (今天股價/昨天股價-1)*100\n",
        "print(df['return%'].min(),df['return%'].max())\n",
        "sns.distplot(df['return%'].dropna())\n",
        "df.tail()"
      ],
      "execution_count": 3,
      "outputs": [
        {
          "output_type": "stream",
          "text": [
            "-11.922342484921145 19.945908160066917\n"
          ],
          "name": "stdout"
        },
        {
          "output_type": "execute_result",
          "data": {
            "text/html": [
              "<div>\n",
              "<style scoped>\n",
              "    .dataframe tbody tr th:only-of-type {\n",
              "        vertical-align: middle;\n",
              "    }\n",
              "\n",
              "    .dataframe tbody tr th {\n",
              "        vertical-align: top;\n",
              "    }\n",
              "\n",
              "    .dataframe thead th {\n",
              "        text-align: right;\n",
              "    }\n",
              "</style>\n",
              "<table border=\"1\" class=\"dataframe\">\n",
              "  <thead>\n",
              "    <tr style=\"text-align: right;\">\n",
              "      <th></th>\n",
              "      <th>High</th>\n",
              "      <th>Low</th>\n",
              "      <th>Open</th>\n",
              "      <th>Close</th>\n",
              "      <th>Volume</th>\n",
              "      <th>return%</th>\n",
              "    </tr>\n",
              "    <tr>\n",
              "      <th>Date</th>\n",
              "      <th></th>\n",
              "      <th></th>\n",
              "      <th></th>\n",
              "      <th></th>\n",
              "      <th></th>\n",
              "      <th></th>\n",
              "    </tr>\n",
              "  </thead>\n",
              "  <tbody>\n",
              "    <tr>\n",
              "      <th>2019-09-02</th>\n",
              "      <td>82.000000</td>\n",
              "      <td>81.650002</td>\n",
              "      <td>81.800003</td>\n",
              "      <td>81.900002</td>\n",
              "      <td>6457870.0</td>\n",
              "      <td>0.061091</td>\n",
              "    </tr>\n",
              "    <tr>\n",
              "      <th>2019-09-03</th>\n",
              "      <td>82.000000</td>\n",
              "      <td>81.199997</td>\n",
              "      <td>81.849998</td>\n",
              "      <td>81.199997</td>\n",
              "      <td>5052925.0</td>\n",
              "      <td>-0.854706</td>\n",
              "    </tr>\n",
              "    <tr>\n",
              "      <th>2019-09-04</th>\n",
              "      <td>82.199997</td>\n",
              "      <td>81.400002</td>\n",
              "      <td>81.449997</td>\n",
              "      <td>82.150002</td>\n",
              "      <td>10748771.0</td>\n",
              "      <td>1.169956</td>\n",
              "    </tr>\n",
              "    <tr>\n",
              "      <th>2019-09-05</th>\n",
              "      <td>83.199997</td>\n",
              "      <td>82.550003</td>\n",
              "      <td>82.550003</td>\n",
              "      <td>83.000000</td>\n",
              "      <td>25429390.0</td>\n",
              "      <td>1.034691</td>\n",
              "    </tr>\n",
              "    <tr>\n",
              "      <th>2019-09-06</th>\n",
              "      <td>83.550003</td>\n",
              "      <td>82.550003</td>\n",
              "      <td>82.550003</td>\n",
              "      <td>83.500000</td>\n",
              "      <td>17194000.0</td>\n",
              "      <td>0.602410</td>\n",
              "    </tr>\n",
              "  </tbody>\n",
              "</table>\n",
              "</div>"
            ],
            "text/plain": [
              "                 High        Low       Open      Close      Volume   return%\n",
              "Date                                                                        \n",
              "2019-09-02  82.000000  81.650002  81.800003  81.900002   6457870.0  0.061091\n",
              "2019-09-03  82.000000  81.199997  81.849998  81.199997   5052925.0 -0.854706\n",
              "2019-09-04  82.199997  81.400002  81.449997  82.150002  10748771.0  1.169956\n",
              "2019-09-05  83.199997  82.550003  82.550003  83.000000  25429390.0  1.034691\n",
              "2019-09-06  83.550003  82.550003  82.550003  83.500000  17194000.0  0.602410"
            ]
          },
          "metadata": {
            "tags": []
          },
          "execution_count": 3
        },
        {
          "output_type": "display_data",
          "data": {
            "image/png": "[encoded data removed]",
            "text/plain": [
              "<Figure size 432x288 with 1 Axes>"
            ]
          },
          "metadata": {
            "tags": []
          }
        }
      ]
    },
    {
      "cell_type": "markdown",
      "metadata": {
        "id": "9K9RepGQwbQQ",
        "colab_type": "text"
      },
      "source": [
        "# 計算技術指標RSI"
      ]
    },
    {
      "cell_type": "code",
      "metadata": {
        "id": "ccCzPbARAHge",
        "colab_type": "code",
        "outputId": "eb073505-d2a4-4239-d0a6-e9f481b2dcbe",
        "colab": {
          "base_uri": "https://localhost:8080/",
          "height": 514
        }
      },
      "source": [
        "#計算絕對漲/跌幅\n",
        "絕對漲幅 = (df['Close']/df['Close'].shift(1))-1 #(今天股價/昨日股價)-1\n",
        "絕對漲幅[絕對漲幅<0] = 0 #跌幅的部份歸0\n",
        "絕對跌幅 = (-1) * ((df['Close']/df['Close'].shift(1))-1) #-1 * ((今天股價/昨日股價)-1)#反向的絕對漲幅\n",
        "絕對跌幅[絕對跌幅<0] = 0 #漲幅的部份歸0\n",
        "\n",
        "#漲幅平滑\n",
        "UPt = 絕對漲幅.rolling(6).mean()\n",
        "DNt = 絕對跌幅.rolling(6).mean()\n",
        "\n",
        "#計算RSI\n",
        "df['RSI'] = 100 * UPt / (UPt+DNt)\n",
        "print(df['RSI'].min(),df['RSI'].max())\n",
        "sns.distplot(df['RSI'].dropna())\n",
        "df.tail()"
      ],
      "execution_count": 4,
      "outputs": [
        {
          "output_type": "stream",
          "text": [
            "0.0 100.00000000000001\n"
          ],
          "name": "stdout"
        },
        {
          "output_type": "execute_result",
          "data": {
            "text/html": [
              "<div>\n",
              "<style scoped>\n",
              "    .dataframe tbody tr th:only-of-type {\n",
              "        vertical-align: middle;\n",
              "    }\n",
              "\n",
              "    .dataframe tbody tr th {\n",
              "        vertical-align: top;\n",
              "    }\n",
              "\n",
              "    .dataframe thead th {\n",
              "        text-align: right;\n",
              "    }\n",
              "</style>\n",
              "<table border=\"1\" class=\"dataframe\">\n",
              "  <thead>\n",
              "    <tr style=\"text-align: right;\">\n",
              "      <th></th>\n",
              "      <th>High</th>\n",
              "      <th>Low</th>\n",
              "      <th>Open</th>\n",
              "      <th>Close</th>\n",
              "      <th>Volume</th>\n",
              "      <th>return%</th>\n",
              "      <th>RSI</th>\n",
              "    </tr>\n",
              "    <tr>\n",
              "      <th>Date</th>\n",
              "      <th></th>\n",
              "      <th></th>\n",
              "      <th></th>\n",
              "      <th></th>\n",
              "      <th></th>\n",
              "      <th></th>\n",
              "      <th></th>\n",
              "    </tr>\n",
              "  </thead>\n",
              "  <tbody>\n",
              "    <tr>\n",
              "      <th>2019-09-02</th>\n",
              "      <td>82.000000</td>\n",
              "      <td>81.650002</td>\n",
              "      <td>81.800003</td>\n",
              "      <td>81.900002</td>\n",
              "      <td>6457870.0</td>\n",
              "      <td>0.061091</td>\n",
              "      <td>62.698693</td>\n",
              "    </tr>\n",
              "    <tr>\n",
              "      <th>2019-09-03</th>\n",
              "      <td>82.000000</td>\n",
              "      <td>81.199997</td>\n",
              "      <td>81.849998</td>\n",
              "      <td>81.199997</td>\n",
              "      <td>5052925.0</td>\n",
              "      <td>-0.854706</td>\n",
              "      <td>76.622808</td>\n",
              "    </tr>\n",
              "    <tr>\n",
              "      <th>2019-09-04</th>\n",
              "      <td>82.199997</td>\n",
              "      <td>81.400002</td>\n",
              "      <td>81.449997</td>\n",
              "      <td>82.150002</td>\n",
              "      <td>10748771.0</td>\n",
              "      <td>1.169956</td>\n",
              "      <td>81.317962</td>\n",
              "    </tr>\n",
              "    <tr>\n",
              "      <th>2019-09-05</th>\n",
              "      <td>83.199997</td>\n",
              "      <td>82.550003</td>\n",
              "      <td>82.550003</td>\n",
              "      <td>83.000000</td>\n",
              "      <td>25429390.0</td>\n",
              "      <td>1.034691</td>\n",
              "      <td>82.631139</td>\n",
              "    </tr>\n",
              "    <tr>\n",
              "      <th>2019-09-06</th>\n",
              "      <td>83.550003</td>\n",
              "      <td>82.550003</td>\n",
              "      <td>82.550003</td>\n",
              "      <td>83.500000</td>\n",
              "      <td>17194000.0</td>\n",
              "      <td>0.602410</td>\n",
              "      <td>83.984523</td>\n",
              "    </tr>\n",
              "  </tbody>\n",
              "</table>\n",
              "</div>"
            ],
            "text/plain": [
              "                 High        Low       Open  ...      Volume   return%        RSI\n",
              "Date                                         ...                                 \n",
              "2019-09-02  82.000000  81.650002  81.800003  ...   6457870.0  0.061091  62.698693\n",
              "2019-09-03  82.000000  81.199997  81.849998  ...   5052925.0 -0.854706  76.622808\n",
              "2019-09-04  82.199997  81.400002  81.449997  ...  10748771.0  1.169956  81.317962\n",
              "2019-09-05  83.199997  82.550003  82.550003  ...  25429390.0  1.034691  82.631139\n",
              "2019-09-06  83.550003  82.550003  82.550003  ...  17194000.0  0.602410  83.984523\n",
              "\n",
              "[5 rows x 7 columns]"
            ]
          },
          "metadata": {
            "tags": []
          },
          "execution_count": 4
        },
        {
          "output_type": "display_data",
          "data": {
            "image/png": "[encoded data removed]",
            "text/plain": [
              "<Figure size 432x288 with 1 Axes>"
            ]
          },
          "metadata": {
            "tags": []
          }
        }
      ]
    },
    {
      "cell_type": "markdown",
      "metadata": {
        "id": "fZXZuQe93pJE",
        "colab_type": "text"
      },
      "source": [
        "# 計算威廉指標"
      ]
    },
    {
      "cell_type": "code",
      "metadata": {
        "id": "qKVNZEoQ3pUR",
        "colab_type": "code",
        "outputId": "033cbb65-4247-486a-c244-513d05ee7054",
        "colab": {
          "base_uri": "https://localhost:8080/",
          "height": 514
        }
      },
      "source": [
        "最近9日內最高價 = df['High'].rolling(9).max()\n",
        "最近9日內最低價 = df['Low'].rolling(9).min()\n",
        "df['Williams %R'] = (最近9日內最高價-df['Close'])/(最近9日內最高價-最近9日內最低價)\n",
        "df['Williams %R'] = df['Williams %R'] * -100\n",
        "print(df['Williams %R'].min(),df['Williams %R'].max())\n",
        "sns.distplot(df['Williams %R'].dropna())\n",
        "df.tail()"
      ],
      "execution_count": 5,
      "outputs": [
        {
          "output_type": "stream",
          "text": [
            "-100.0 -0.0\n"
          ],
          "name": "stdout"
        },
        {
          "output_type": "execute_result",
          "data": {
            "text/html": [
              "<div>\n",
              "<style scoped>\n",
              "    .dataframe tbody tr th:only-of-type {\n",
              "        vertical-align: middle;\n",
              "    }\n",
              "\n",
              "    .dataframe tbody tr th {\n",
              "        vertical-align: top;\n",
              "    }\n",
              "\n",
              "    .dataframe thead th {\n",
              "        text-align: right;\n",
              "    }\n",
              "</style>\n",
              "<table border=\"1\" class=\"dataframe\">\n",
              "  <thead>\n",
              "    <tr style=\"text-align: right;\">\n",
              "      <th></th>\n",
              "      <th>High</th>\n",
              "      <th>Low</th>\n",
              "      <th>Open</th>\n",
              "      <th>Close</th>\n",
              "      <th>Volume</th>\n",
              "      <th>return%</th>\n",
              "      <th>RSI</th>\n",
              "      <th>Williams %R</th>\n",
              "    </tr>\n",
              "    <tr>\n",
              "      <th>Date</th>\n",
              "      <th></th>\n",
              "      <th></th>\n",
              "      <th></th>\n",
              "      <th></th>\n",
              "      <th></th>\n",
              "      <th></th>\n",
              "      <th></th>\n",
              "      <th></th>\n",
              "    </tr>\n",
              "  </thead>\n",
              "  <tbody>\n",
              "    <tr>\n",
              "      <th>2019-09-02</th>\n",
              "      <td>82.000000</td>\n",
              "      <td>81.650002</td>\n",
              "      <td>81.800003</td>\n",
              "      <td>81.900002</td>\n",
              "      <td>6457870.0</td>\n",
              "      <td>0.061091</td>\n",
              "      <td>62.698693</td>\n",
              "      <td>-4.166600</td>\n",
              "    </tr>\n",
              "    <tr>\n",
              "      <th>2019-09-03</th>\n",
              "      <td>82.000000</td>\n",
              "      <td>81.199997</td>\n",
              "      <td>81.849998</td>\n",
              "      <td>81.199997</td>\n",
              "      <td>5052925.0</td>\n",
              "      <td>-0.854706</td>\n",
              "      <td>76.622808</td>\n",
              "      <td>-33.333439</td>\n",
              "    </tr>\n",
              "    <tr>\n",
              "      <th>2019-09-04</th>\n",
              "      <td>82.199997</td>\n",
              "      <td>81.400002</td>\n",
              "      <td>81.449997</td>\n",
              "      <td>82.150002</td>\n",
              "      <td>10748771.0</td>\n",
              "      <td>1.169956</td>\n",
              "      <td>81.317962</td>\n",
              "      <td>-1.922902</td>\n",
              "    </tr>\n",
              "    <tr>\n",
              "      <th>2019-09-05</th>\n",
              "      <td>83.199997</td>\n",
              "      <td>82.550003</td>\n",
              "      <td>82.550003</td>\n",
              "      <td>83.000000</td>\n",
              "      <td>25429390.0</td>\n",
              "      <td>1.034691</td>\n",
              "      <td>82.631139</td>\n",
              "      <td>-5.555473</td>\n",
              "    </tr>\n",
              "    <tr>\n",
              "      <th>2019-09-06</th>\n",
              "      <td>83.550003</td>\n",
              "      <td>82.550003</td>\n",
              "      <td>82.550003</td>\n",
              "      <td>83.500000</td>\n",
              "      <td>17194000.0</td>\n",
              "      <td>0.602410</td>\n",
              "      <td>83.984523</td>\n",
              "      <td>-1.315869</td>\n",
              "    </tr>\n",
              "  </tbody>\n",
              "</table>\n",
              "</div>"
            ],
            "text/plain": [
              "                 High        Low       Open  ...   return%        RSI  Williams %R\n",
              "Date                                         ...                                  \n",
              "2019-09-02  82.000000  81.650002  81.800003  ...  0.061091  62.698693    -4.166600\n",
              "2019-09-03  82.000000  81.199997  81.849998  ... -0.854706  76.622808   -33.333439\n",
              "2019-09-04  82.199997  81.400002  81.449997  ...  1.169956  81.317962    -1.922902\n",
              "2019-09-05  83.199997  82.550003  82.550003  ...  1.034691  82.631139    -5.555473\n",
              "2019-09-06  83.550003  82.550003  82.550003  ...  0.602410  83.984523    -1.315869\n",
              "\n",
              "[5 rows x 8 columns]"
            ]
          },
          "metadata": {
            "tags": []
          },
          "execution_count": 5
        },
        {
          "output_type": "display_data",
          "data": {
            "image/png": "[encoded data removed]",
            "text/plain": [
              "<Figure size 432x288 with 1 Axes>"
            ]
          },
          "metadata": {
            "tags": []
          }
        }
      ]
    },
    {
      "cell_type": "markdown",
      "metadata": {
        "id": "xK4jb6KTDdGa",
        "colab_type": "text"
      },
      "source": [
        "# SMA"
      ]
    },
    {
      "cell_type": "code",
      "metadata": {
        "id": "osETw-NkfgfL",
        "colab_type": "code",
        "colab": {
          "base_uri": "https://localhost:8080/",
          "height": 656
        },
        "outputId": "fecddab6-a05e-4593-871b-3b58c94fe17c"
      },
      "source": [
        "from finta import TA\n",
        "ohlc = df[['Open','High','Low','Close','Volume']]\n",
        "ohlc.columns = ['open','high','low','close','volume']\n",
        "df['SMA'] = TA.SMA(ohlc,5)\n",
        "print(df['SMA'].describe())\n",
        "sns.distplot(df['SMA'].dropna())\n",
        "df.tail()"
      ],
      "execution_count": 6,
      "outputs": [
        {
          "output_type": "stream",
          "text": [
            "count    2873.000000\n",
            "mean       62.187205\n",
            "std        12.451018\n",
            "min        30.008000\n",
            "25%        53.800000\n",
            "50%        60.180000\n",
            "75%        71.050000\n",
            "max        87.679999\n",
            "Name: SMA, dtype: float64\n"
          ],
          "name": "stdout"
        },
        {
          "output_type": "execute_result",
          "data": {
            "text/html": [
              "<div>\n",
              "<style scoped>\n",
              "    .dataframe tbody tr th:only-of-type {\n",
              "        vertical-align: middle;\n",
              "    }\n",
              "\n",
              "    .dataframe tbody tr th {\n",
              "        vertical-align: top;\n",
              "    }\n",
              "\n",
              "    .dataframe thead th {\n",
              "        text-align: right;\n",
              "    }\n",
              "</style>\n",
              "<table border=\"1\" class=\"dataframe\">\n",
              "  <thead>\n",
              "    <tr style=\"text-align: right;\">\n",
              "      <th></th>\n",
              "      <th>High</th>\n",
              "      <th>Low</th>\n",
              "      <th>Open</th>\n",
              "      <th>Close</th>\n",
              "      <th>Volume</th>\n",
              "      <th>return%</th>\n",
              "      <th>RSI</th>\n",
              "      <th>Williams %R</th>\n",
              "      <th>SMA</th>\n",
              "    </tr>\n",
              "    <tr>\n",
              "      <th>Date</th>\n",
              "      <th></th>\n",
              "      <th></th>\n",
              "      <th></th>\n",
              "      <th></th>\n",
              "      <th></th>\n",
              "      <th></th>\n",
              "      <th></th>\n",
              "      <th></th>\n",
              "      <th></th>\n",
              "    </tr>\n",
              "  </thead>\n",
              "  <tbody>\n",
              "    <tr>\n",
              "      <th>2019-09-02</th>\n",
              "      <td>82.000000</td>\n",
              "      <td>81.650002</td>\n",
              "      <td>81.800003</td>\n",
              "      <td>81.900002</td>\n",
              "      <td>6457870.0</td>\n",
              "      <td>0.061091</td>\n",
              "      <td>62.698693</td>\n",
              "      <td>-4.166600</td>\n",
              "      <td>80.910001</td>\n",
              "    </tr>\n",
              "    <tr>\n",
              "      <th>2019-09-03</th>\n",
              "      <td>82.000000</td>\n",
              "      <td>81.199997</td>\n",
              "      <td>81.849998</td>\n",
              "      <td>81.199997</td>\n",
              "      <td>5052925.0</td>\n",
              "      <td>-0.854706</td>\n",
              "      <td>76.622808</td>\n",
              "      <td>-33.333439</td>\n",
              "      <td>81.180000</td>\n",
              "    </tr>\n",
              "    <tr>\n",
              "      <th>2019-09-04</th>\n",
              "      <td>82.199997</td>\n",
              "      <td>81.400002</td>\n",
              "      <td>81.449997</td>\n",
              "      <td>82.150002</td>\n",
              "      <td>10748771.0</td>\n",
              "      <td>1.169956</td>\n",
              "      <td>81.317962</td>\n",
              "      <td>-1.922902</td>\n",
              "      <td>81.530000</td>\n",
              "    </tr>\n",
              "    <tr>\n",
              "      <th>2019-09-05</th>\n",
              "      <td>83.199997</td>\n",
              "      <td>82.550003</td>\n",
              "      <td>82.550003</td>\n",
              "      <td>83.000000</td>\n",
              "      <td>25429390.0</td>\n",
              "      <td>1.034691</td>\n",
              "      <td>82.631139</td>\n",
              "      <td>-5.555473</td>\n",
              "      <td>82.020000</td>\n",
              "    </tr>\n",
              "    <tr>\n",
              "      <th>2019-09-06</th>\n",
              "      <td>83.550003</td>\n",
              "      <td>82.550003</td>\n",
              "      <td>82.550003</td>\n",
              "      <td>83.500000</td>\n",
              "      <td>17194000.0</td>\n",
              "      <td>0.602410</td>\n",
              "      <td>83.984523</td>\n",
              "      <td>-1.315869</td>\n",
              "      <td>82.350000</td>\n",
              "    </tr>\n",
              "  </tbody>\n",
              "</table>\n",
              "</div>"
            ],
            "text/plain": [
              "                 High        Low       Open  ...        RSI  Williams %R        SMA\n",
              "Date                                         ...                                   \n",
              "2019-09-02  82.000000  81.650002  81.800003  ...  62.698693    -4.166600  80.910001\n",
              "2019-09-03  82.000000  81.199997  81.849998  ...  76.622808   -33.333439  81.180000\n",
              "2019-09-04  82.199997  81.400002  81.449997  ...  81.317962    -1.922902  81.530000\n",
              "2019-09-05  83.199997  82.550003  82.550003  ...  82.631139    -5.555473  82.020000\n",
              "2019-09-06  83.550003  82.550003  82.550003  ...  83.984523    -1.315869  82.350000\n",
              "\n",
              "[5 rows x 9 columns]"
            ]
          },
          "metadata": {
            "tags": []
          },
          "execution_count": 6
        },
        {
          "output_type": "display_data",
          "data": {
            "image/png": "[encoded data removed]",
            "text/plain": [
              "<Figure size 432x288 with 1 Axes>"
            ]
          },
          "metadata": {
            "tags": []
          }
        }
      ]
    },
    {
      "cell_type": "markdown",
      "metadata": {
        "id": "a2Mf0ckEoHC_",
        "colab_type": "text"
      },
      "source": [
        "# EMA"
      ]
    },
    {
      "cell_type": "code",
      "metadata": {
        "id": "EQlFyJLeh4WA",
        "colab_type": "code",
        "colab": {
          "base_uri": "https://localhost:8080/",
          "height": 656
        },
        "outputId": "a3712d3e-9754-485f-eebe-ec16480f1830"
      },
      "source": [
        "df['EMA'] = TA.EMA(ohlc)\n",
        "print(df['EMA'].describe())\n",
        "sns.distplot(df['EMA'])\n",
        "df.tail()"
      ],
      "execution_count": 7,
      "outputs": [
        {
          "output_type": "stream",
          "text": [
            "count    2877.000000\n",
            "mean       62.169258\n",
            "std        12.408653\n",
            "min        30.751804\n",
            "25%        53.796584\n",
            "50%        60.290459\n",
            "75%        70.972187\n",
            "max        86.800883\n",
            "Name: EMA, dtype: float64\n"
          ],
          "name": "stdout"
        },
        {
          "output_type": "execute_result",
          "data": {
            "text/html": [
              "<div>\n",
              "<style scoped>\n",
              "    .dataframe tbody tr th:only-of-type {\n",
              "        vertical-align: middle;\n",
              "    }\n",
              "\n",
              "    .dataframe tbody tr th {\n",
              "        vertical-align: top;\n",
              "    }\n",
              "\n",
              "    .dataframe thead th {\n",
              "        text-align: right;\n",
              "    }\n",
              "</style>\n",
              "<table border=\"1\" class=\"dataframe\">\n",
              "  <thead>\n",
              "    <tr style=\"text-align: right;\">\n",
              "      <th></th>\n",
              "      <th>High</th>\n",
              "      <th>Low</th>\n",
              "      <th>Open</th>\n",
              "      <th>Close</th>\n",
              "      <th>Volume</th>\n",
              "      <th>return%</th>\n",
              "      <th>RSI</th>\n",
              "      <th>Williams %R</th>\n",
              "      <th>SMA</th>\n",
              "      <th>EMA</th>\n",
              "    </tr>\n",
              "    <tr>\n",
              "      <th>Date</th>\n",
              "      <th></th>\n",
              "      <th></th>\n",
              "      <th></th>\n",
              "      <th></th>\n",
              "      <th></th>\n",
              "      <th></th>\n",
              "      <th></th>\n",
              "      <th></th>\n",
              "      <th></th>\n",
              "      <th></th>\n",
              "    </tr>\n",
              "  </thead>\n",
              "  <tbody>\n",
              "    <tr>\n",
              "      <th>2019-09-02</th>\n",
              "      <td>82.000000</td>\n",
              "      <td>81.650002</td>\n",
              "      <td>81.800003</td>\n",
              "      <td>81.900002</td>\n",
              "      <td>6457870.0</td>\n",
              "      <td>0.061091</td>\n",
              "      <td>62.698693</td>\n",
              "      <td>-4.166600</td>\n",
              "      <td>80.910001</td>\n",
              "      <td>80.950204</td>\n",
              "    </tr>\n",
              "    <tr>\n",
              "      <th>2019-09-03</th>\n",
              "      <td>82.000000</td>\n",
              "      <td>81.199997</td>\n",
              "      <td>81.849998</td>\n",
              "      <td>81.199997</td>\n",
              "      <td>5052925.0</td>\n",
              "      <td>-0.854706</td>\n",
              "      <td>76.622808</td>\n",
              "      <td>-33.333439</td>\n",
              "      <td>81.180000</td>\n",
              "      <td>81.000163</td>\n",
              "    </tr>\n",
              "    <tr>\n",
              "      <th>2019-09-04</th>\n",
              "      <td>82.199997</td>\n",
              "      <td>81.400002</td>\n",
              "      <td>81.449997</td>\n",
              "      <td>82.150002</td>\n",
              "      <td>10748771.0</td>\n",
              "      <td>1.169956</td>\n",
              "      <td>81.317962</td>\n",
              "      <td>-1.922902</td>\n",
              "      <td>81.530000</td>\n",
              "      <td>81.230130</td>\n",
              "    </tr>\n",
              "    <tr>\n",
              "      <th>2019-09-05</th>\n",
              "      <td>83.199997</td>\n",
              "      <td>82.550003</td>\n",
              "      <td>82.550003</td>\n",
              "      <td>83.000000</td>\n",
              "      <td>25429390.0</td>\n",
              "      <td>1.034691</td>\n",
              "      <td>82.631139</td>\n",
              "      <td>-5.555473</td>\n",
              "      <td>82.020000</td>\n",
              "      <td>81.584104</td>\n",
              "    </tr>\n",
              "    <tr>\n",
              "      <th>2019-09-06</th>\n",
              "      <td>83.550003</td>\n",
              "      <td>82.550003</td>\n",
              "      <td>82.550003</td>\n",
              "      <td>83.500000</td>\n",
              "      <td>17194000.0</td>\n",
              "      <td>0.602410</td>\n",
              "      <td>83.984523</td>\n",
              "      <td>-1.315869</td>\n",
              "      <td>82.350000</td>\n",
              "      <td>81.967283</td>\n",
              "    </tr>\n",
              "  </tbody>\n",
              "</table>\n",
              "</div>"
            ],
            "text/plain": [
              "                 High        Low       Open  ...  Williams %R        SMA        EMA\n",
              "Date                                         ...                                   \n",
              "2019-09-02  82.000000  81.650002  81.800003  ...    -4.166600  80.910001  80.950204\n",
              "2019-09-03  82.000000  81.199997  81.849998  ...   -33.333439  81.180000  81.000163\n",
              "2019-09-04  82.199997  81.400002  81.449997  ...    -1.922902  81.530000  81.230130\n",
              "2019-09-05  83.199997  82.550003  82.550003  ...    -5.555473  82.020000  81.584104\n",
              "2019-09-06  83.550003  82.550003  82.550003  ...    -1.315869  82.350000  81.967283\n",
              "\n",
              "[5 rows x 10 columns]"
            ]
          },
          "metadata": {
            "tags": []
          },
          "execution_count": 7
        },
        {
          "output_type": "display_data",
          "data": {
            "image/png": "[encoded data removed]",
            "text/plain": [
              "<Figure size 432x288 with 1 Axes>"
            ]
          },
          "metadata": {
            "tags": []
          }
        }
      ]
    },
    {
      "cell_type": "markdown",
      "metadata": {
        "id": "wqkaWfQryV3W",
        "colab_type": "text"
      },
      "source": [
        "# WMA"
      ]
    },
    {
      "cell_type": "code",
      "metadata": {
        "id": "9Dw9scCSieLI",
        "colab_type": "code",
        "colab": {
          "base_uri": "https://localhost:8080/",
          "height": 712
        },
        "outputId": "3e4a1b2e-0b79-4c3e-fb78-42046c09071e"
      },
      "source": [
        "df['WMA'] = TA.WMA(ohlc)\n",
        "print(df['WMA'].describe())\n",
        "sns.distplot(df['WMA'].dropna())\n",
        "df.tail()"
      ],
      "execution_count": 8,
      "outputs": [
        {
          "output_type": "stream",
          "text": [
            "/usr/local/lib/python3.6/dist-packages/finta/finta.py:263: FutureWarning: Currently, 'apply' passes the values as ndarrays to the applied function. In the future, this will change to passing it as Series objects. You need to specify 'raw=True' to keep the current behaviour, and you can pass 'raw=False' to silence this warning\n",
            "  wma = close_.apply(linear(weights))\n"
          ],
          "name": "stderr"
        },
        {
          "output_type": "stream",
          "text": [
            "count    2869.000000\n",
            "mean       62.165520\n",
            "std        12.433770\n",
            "min        30.099111\n",
            "25%        53.821112\n",
            "50%        60.232222\n",
            "75%        71.011110\n",
            "max        87.264444\n",
            "Name: WMA, dtype: float64\n"
          ],
          "name": "stdout"
        },
        {
          "output_type": "execute_result",
          "data": {
            "text/html": [
              "<div>\n",
              "<style scoped>\n",
              "    .dataframe tbody tr th:only-of-type {\n",
              "        vertical-align: middle;\n",
              "    }\n",
              "\n",
              "    .dataframe tbody tr th {\n",
              "        vertical-align: top;\n",
              "    }\n",
              "\n",
              "    .dataframe thead th {\n",
              "        text-align: right;\n",
              "    }\n",
              "</style>\n",
              "<table border=\"1\" class=\"dataframe\">\n",
              "  <thead>\n",
              "    <tr style=\"text-align: right;\">\n",
              "      <th></th>\n",
              "      <th>High</th>\n",
              "      <th>Low</th>\n",
              "      <th>Open</th>\n",
              "      <th>Close</th>\n",
              "      <th>Volume</th>\n",
              "      <th>return%</th>\n",
              "      <th>RSI</th>\n",
              "      <th>Williams %R</th>\n",
              "      <th>SMA</th>\n",
              "      <th>EMA</th>\n",
              "      <th>WMA</th>\n",
              "    </tr>\n",
              "    <tr>\n",
              "      <th>Date</th>\n",
              "      <th></th>\n",
              "      <th></th>\n",
              "      <th></th>\n",
              "      <th></th>\n",
              "      <th></th>\n",
              "      <th></th>\n",
              "      <th></th>\n",
              "      <th></th>\n",
              "      <th></th>\n",
              "      <th></th>\n",
              "      <th></th>\n",
              "    </tr>\n",
              "  </thead>\n",
              "  <tbody>\n",
              "    <tr>\n",
              "      <th>2019-09-02</th>\n",
              "      <td>82.000000</td>\n",
              "      <td>81.650002</td>\n",
              "      <td>81.800003</td>\n",
              "      <td>81.900002</td>\n",
              "      <td>6457870.0</td>\n",
              "      <td>0.061091</td>\n",
              "      <td>62.698693</td>\n",
              "      <td>-4.166600</td>\n",
              "      <td>80.910001</td>\n",
              "      <td>80.950204</td>\n",
              "      <td>80.684445</td>\n",
              "    </tr>\n",
              "    <tr>\n",
              "      <th>2019-09-03</th>\n",
              "      <td>82.000000</td>\n",
              "      <td>81.199997</td>\n",
              "      <td>81.849998</td>\n",
              "      <td>81.199997</td>\n",
              "      <td>5052925.0</td>\n",
              "      <td>-0.854706</td>\n",
              "      <td>76.622808</td>\n",
              "      <td>-33.333439</td>\n",
              "      <td>81.180000</td>\n",
              "      <td>81.000163</td>\n",
              "      <td>80.651111</td>\n",
              "    </tr>\n",
              "    <tr>\n",
              "      <th>2019-09-04</th>\n",
              "      <td>82.199997</td>\n",
              "      <td>81.400002</td>\n",
              "      <td>81.449997</td>\n",
              "      <td>82.150002</td>\n",
              "      <td>10748771.0</td>\n",
              "      <td>1.169956</td>\n",
              "      <td>81.317962</td>\n",
              "      <td>-1.922902</td>\n",
              "      <td>81.530000</td>\n",
              "      <td>81.230130</td>\n",
              "      <td>80.621112</td>\n",
              "    </tr>\n",
              "    <tr>\n",
              "      <th>2019-09-05</th>\n",
              "      <td>83.199997</td>\n",
              "      <td>82.550003</td>\n",
              "      <td>82.550003</td>\n",
              "      <td>83.000000</td>\n",
              "      <td>25429390.0</td>\n",
              "      <td>1.034691</td>\n",
              "      <td>82.631139</td>\n",
              "      <td>-5.555473</td>\n",
              "      <td>82.020000</td>\n",
              "      <td>81.584104</td>\n",
              "      <td>80.655556</td>\n",
              "    </tr>\n",
              "    <tr>\n",
              "      <th>2019-09-06</th>\n",
              "      <td>83.550003</td>\n",
              "      <td>82.550003</td>\n",
              "      <td>82.550003</td>\n",
              "      <td>83.500000</td>\n",
              "      <td>17194000.0</td>\n",
              "      <td>0.602410</td>\n",
              "      <td>83.984523</td>\n",
              "      <td>-1.315869</td>\n",
              "      <td>82.350000</td>\n",
              "      <td>81.967283</td>\n",
              "      <td>81.045556</td>\n",
              "    </tr>\n",
              "  </tbody>\n",
              "</table>\n",
              "</div>"
            ],
            "text/plain": [
              "                 High        Low       Open  ...        SMA        EMA        WMA\n",
              "Date                                         ...                                 \n",
              "2019-09-02  82.000000  81.650002  81.800003  ...  80.910001  80.950204  80.684445\n",
              "2019-09-03  82.000000  81.199997  81.849998  ...  81.180000  81.000163  80.651111\n",
              "2019-09-04  82.199997  81.400002  81.449997  ...  81.530000  81.230130  80.621112\n",
              "2019-09-05  83.199997  82.550003  82.550003  ...  82.020000  81.584104  80.655556\n",
              "2019-09-06  83.550003  82.550003  82.550003  ...  82.350000  81.967283  81.045556\n",
              "\n",
              "[5 rows x 11 columns]"
            ]
          },
          "metadata": {
            "tags": []
          },
          "execution_count": 8
        },
        {
          "output_type": "display_data",
          "data": {
            "image/png": "[encoded data removed]",
            "text/plain": [
              "<Figure size 432x288 with 1 Axes>"
            ]
          },
          "metadata": {
            "tags": []
          }
        }
      ]
    },
    {
      "cell_type": "markdown",
      "metadata": {
        "id": "HNC131ghyrF1",
        "colab_type": "text"
      },
      "source": [
        "# HMA"
      ]
    },
    {
      "cell_type": "code",
      "metadata": {
        "id": "b02O6Yevi6mN",
        "colab_type": "code",
        "colab": {
          "base_uri": "https://localhost:8080/",
          "height": 818
        },
        "outputId": "096734e4-6e1f-412d-8917-3e78215901ee"
      },
      "source": [
        "df['HMA'] = TA.HMA(ohlc)\n",
        "print(df['HMA'].describe())\n",
        "sns.distplot(df['HMA'].dropna())\n",
        "df.tail()"
      ],
      "execution_count": 9,
      "outputs": [
        {
          "output_type": "stream",
          "text": [
            "/usr/local/lib/python3.6/dist-packages/finta/finta.py:263: FutureWarning: Currently, 'apply' passes the values as ndarrays to the applied function. In the future, this will change to passing it as Series objects. You need to specify 'raw=True' to keep the current behaviour, and you can pass 'raw=False' to silence this warning\n",
            "  wma = close_.apply(linear(weights))\n",
            "/usr/local/lib/python3.6/dist-packages/finta/finta.py:285: SettingWithCopyWarning: \n",
            "A value is trying to be set on a copy of a slice from a DataFrame.\n",
            "Try using .loc[row_indexer,col_indexer] = value instead\n",
            "\n",
            "See the caveats in the documentation: http://pandas.pydata.org/pandas-docs/stable/indexing.html#indexing-view-versus-copy\n",
            "  ohlc['deltawma'] = 2 * wmaf - wmas\n"
          ],
          "name": "stderr"
        },
        {
          "output_type": "stream",
          "text": [
            "count    2874.000000\n",
            "mean       62.186256\n",
            "std        12.453690\n",
            "min        29.586000\n",
            "25%        53.766250\n",
            "50%        60.182500\n",
            "75%        71.128750\n",
            "max        87.854999\n",
            "Name: HMA, dtype: float64\n"
          ],
          "name": "stdout"
        },
        {
          "output_type": "execute_result",
          "data": {
            "text/html": [
              "<div>\n",
              "<style scoped>\n",
              "    .dataframe tbody tr th:only-of-type {\n",
              "        vertical-align: middle;\n",
              "    }\n",
              "\n",
              "    .dataframe tbody tr th {\n",
              "        vertical-align: top;\n",
              "    }\n",
              "\n",
              "    .dataframe thead th {\n",
              "        text-align: right;\n",
              "    }\n",
              "</style>\n",
              "<table border=\"1\" class=\"dataframe\">\n",
              "  <thead>\n",
              "    <tr style=\"text-align: right;\">\n",
              "      <th></th>\n",
              "      <th>High</th>\n",
              "      <th>Low</th>\n",
              "      <th>Open</th>\n",
              "      <th>Close</th>\n",
              "      <th>Volume</th>\n",
              "      <th>return%</th>\n",
              "      <th>RSI</th>\n",
              "      <th>Williams %R</th>\n",
              "      <th>SMA</th>\n",
              "      <th>EMA</th>\n",
              "      <th>WMA</th>\n",
              "      <th>HMA</th>\n",
              "    </tr>\n",
              "    <tr>\n",
              "      <th>Date</th>\n",
              "      <th></th>\n",
              "      <th></th>\n",
              "      <th></th>\n",
              "      <th></th>\n",
              "      <th></th>\n",
              "      <th></th>\n",
              "      <th></th>\n",
              "      <th></th>\n",
              "      <th></th>\n",
              "      <th></th>\n",
              "      <th></th>\n",
              "      <th></th>\n",
              "    </tr>\n",
              "  </thead>\n",
              "  <tbody>\n",
              "    <tr>\n",
              "      <th>2019-09-02</th>\n",
              "      <td>82.000000</td>\n",
              "      <td>81.650002</td>\n",
              "      <td>81.800003</td>\n",
              "      <td>81.900002</td>\n",
              "      <td>6457870.0</td>\n",
              "      <td>0.061091</td>\n",
              "      <td>62.698693</td>\n",
              "      <td>-4.166600</td>\n",
              "      <td>80.910001</td>\n",
              "      <td>80.950204</td>\n",
              "      <td>80.684445</td>\n",
              "      <td>80.885001</td>\n",
              "    </tr>\n",
              "    <tr>\n",
              "      <th>2019-09-03</th>\n",
              "      <td>82.000000</td>\n",
              "      <td>81.199997</td>\n",
              "      <td>81.849998</td>\n",
              "      <td>81.199997</td>\n",
              "      <td>5052925.0</td>\n",
              "      <td>-0.854706</td>\n",
              "      <td>76.622808</td>\n",
              "      <td>-33.333439</td>\n",
              "      <td>81.180000</td>\n",
              "      <td>81.000163</td>\n",
              "      <td>80.651111</td>\n",
              "      <td>81.275001</td>\n",
              "    </tr>\n",
              "    <tr>\n",
              "      <th>2019-09-04</th>\n",
              "      <td>82.199997</td>\n",
              "      <td>81.400002</td>\n",
              "      <td>81.449997</td>\n",
              "      <td>82.150002</td>\n",
              "      <td>10748771.0</td>\n",
              "      <td>1.169956</td>\n",
              "      <td>81.317962</td>\n",
              "      <td>-1.922902</td>\n",
              "      <td>81.530000</td>\n",
              "      <td>81.230130</td>\n",
              "      <td>80.621112</td>\n",
              "      <td>81.764999</td>\n",
              "    </tr>\n",
              "    <tr>\n",
              "      <th>2019-09-05</th>\n",
              "      <td>83.199997</td>\n",
              "      <td>82.550003</td>\n",
              "      <td>82.550003</td>\n",
              "      <td>83.000000</td>\n",
              "      <td>25429390.0</td>\n",
              "      <td>1.034691</td>\n",
              "      <td>82.631139</td>\n",
              "      <td>-5.555473</td>\n",
              "      <td>82.020000</td>\n",
              "      <td>81.584104</td>\n",
              "      <td>80.655556</td>\n",
              "      <td>81.850000</td>\n",
              "    </tr>\n",
              "    <tr>\n",
              "      <th>2019-09-06</th>\n",
              "      <td>83.550003</td>\n",
              "      <td>82.550003</td>\n",
              "      <td>82.550003</td>\n",
              "      <td>83.500000</td>\n",
              "      <td>17194000.0</td>\n",
              "      <td>0.602410</td>\n",
              "      <td>83.984523</td>\n",
              "      <td>-1.315869</td>\n",
              "      <td>82.350000</td>\n",
              "      <td>81.967283</td>\n",
              "      <td>81.045556</td>\n",
              "      <td>82.074999</td>\n",
              "    </tr>\n",
              "  </tbody>\n",
              "</table>\n",
              "</div>"
            ],
            "text/plain": [
              "                 High        Low       Open  ...        EMA        WMA        HMA\n",
              "Date                                         ...                                 \n",
              "2019-09-02  82.000000  81.650002  81.800003  ...  80.950204  80.684445  80.885001\n",
              "2019-09-03  82.000000  81.199997  81.849998  ...  81.000163  80.651111  81.275001\n",
              "2019-09-04  82.199997  81.400002  81.449997  ...  81.230130  80.621112  81.764999\n",
              "2019-09-05  83.199997  82.550003  82.550003  ...  81.584104  80.655556  81.850000\n",
              "2019-09-06  83.550003  82.550003  82.550003  ...  81.967283  81.045556  82.074999\n",
              "\n",
              "[5 rows x 12 columns]"
            ]
          },
          "metadata": {
            "tags": []
          },
          "execution_count": 9
        },
        {
          "output_type": "display_data",
          "data": {
            "image/png": "[encoded data removed]",
            "text/plain": [
              "<Figure size 432x288 with 1 Axes>"
            ]
          },
          "metadata": {
            "tags": []
          }
        }
      ]
    },
    {
      "cell_type": "markdown",
      "metadata": {
        "id": "ch7SZ7aFjCit",
        "colab_type": "text"
      },
      "source": [
        "# TEMA"
      ]
    },
    {
      "cell_type": "code",
      "metadata": {
        "id": "GeS0aHxZjFtA",
        "colab_type": "code",
        "colab": {
          "base_uri": "https://localhost:8080/",
          "height": 656
        },
        "outputId": "e959e767-a461-43fe-ea46-376030d7db7d"
      },
      "source": [
        "df['TEMA'] = TA.TEMA(ohlc)\n",
        "print(df['TEMA'].describe())\n",
        "sns.distplot(df['TEMA'].dropna())\n",
        "df.tail()"
      ],
      "execution_count": 10,
      "outputs": [
        {
          "output_type": "stream",
          "text": [
            "count    2877.000000\n",
            "mean       62.199432\n",
            "std        12.474058\n",
            "min        29.280004\n",
            "25%        53.796861\n",
            "50%        60.261556\n",
            "75%        71.148825\n",
            "max        88.240036\n",
            "Name: TEMA, dtype: float64\n"
          ],
          "name": "stdout"
        },
        {
          "output_type": "execute_result",
          "data": {
            "text/html": [
              "<div>\n",
              "<style scoped>\n",
              "    .dataframe tbody tr th:only-of-type {\n",
              "        vertical-align: middle;\n",
              "    }\n",
              "\n",
              "    .dataframe tbody tr th {\n",
              "        vertical-align: top;\n",
              "    }\n",
              "\n",
              "    .dataframe thead th {\n",
              "        text-align: right;\n",
              "    }\n",
              "</style>\n",
              "<table border=\"1\" class=\"dataframe\">\n",
              "  <thead>\n",
              "    <tr style=\"text-align: right;\">\n",
              "      <th></th>\n",
              "      <th>High</th>\n",
              "      <th>Low</th>\n",
              "      <th>Open</th>\n",
              "      <th>Close</th>\n",
              "      <th>Volume</th>\n",
              "      <th>return%</th>\n",
              "      <th>RSI</th>\n",
              "      <th>Williams %R</th>\n",
              "      <th>SMA</th>\n",
              "      <th>EMA</th>\n",
              "      <th>WMA</th>\n",
              "      <th>HMA</th>\n",
              "      <th>TEMA</th>\n",
              "    </tr>\n",
              "    <tr>\n",
              "      <th>Date</th>\n",
              "      <th></th>\n",
              "      <th></th>\n",
              "      <th></th>\n",
              "      <th></th>\n",
              "      <th></th>\n",
              "      <th></th>\n",
              "      <th></th>\n",
              "      <th></th>\n",
              "      <th></th>\n",
              "      <th></th>\n",
              "      <th></th>\n",
              "      <th></th>\n",
              "      <th></th>\n",
              "    </tr>\n",
              "  </thead>\n",
              "  <tbody>\n",
              "    <tr>\n",
              "      <th>2019-09-02</th>\n",
              "      <td>82.000000</td>\n",
              "      <td>81.650002</td>\n",
              "      <td>81.800003</td>\n",
              "      <td>81.900002</td>\n",
              "      <td>6457870.0</td>\n",
              "      <td>0.061091</td>\n",
              "      <td>62.698693</td>\n",
              "      <td>-4.166600</td>\n",
              "      <td>80.910001</td>\n",
              "      <td>80.950204</td>\n",
              "      <td>80.684445</td>\n",
              "      <td>80.885001</td>\n",
              "      <td>81.603058</td>\n",
              "    </tr>\n",
              "    <tr>\n",
              "      <th>2019-09-03</th>\n",
              "      <td>82.000000</td>\n",
              "      <td>81.199997</td>\n",
              "      <td>81.849998</td>\n",
              "      <td>81.199997</td>\n",
              "      <td>5052925.0</td>\n",
              "      <td>-0.854706</td>\n",
              "      <td>76.622808</td>\n",
              "      <td>-33.333439</td>\n",
              "      <td>81.180000</td>\n",
              "      <td>81.000163</td>\n",
              "      <td>80.651111</td>\n",
              "      <td>81.275001</td>\n",
              "      <td>81.552079</td>\n",
              "    </tr>\n",
              "    <tr>\n",
              "      <th>2019-09-04</th>\n",
              "      <td>82.199997</td>\n",
              "      <td>81.400002</td>\n",
              "      <td>81.449997</td>\n",
              "      <td>82.150002</td>\n",
              "      <td>10748771.0</td>\n",
              "      <td>1.169956</td>\n",
              "      <td>81.317962</td>\n",
              "      <td>-1.922902</td>\n",
              "      <td>81.530000</td>\n",
              "      <td>81.230130</td>\n",
              "      <td>80.621112</td>\n",
              "      <td>81.764999</td>\n",
              "      <td>81.962576</td>\n",
              "    </tr>\n",
              "    <tr>\n",
              "      <th>2019-09-05</th>\n",
              "      <td>83.199997</td>\n",
              "      <td>82.550003</td>\n",
              "      <td>82.550003</td>\n",
              "      <td>83.000000</td>\n",
              "      <td>25429390.0</td>\n",
              "      <td>1.034691</td>\n",
              "      <td>82.631139</td>\n",
              "      <td>-5.555473</td>\n",
              "      <td>82.020000</td>\n",
              "      <td>81.584104</td>\n",
              "      <td>80.655556</td>\n",
              "      <td>81.850000</td>\n",
              "      <td>82.618155</td>\n",
              "    </tr>\n",
              "    <tr>\n",
              "      <th>2019-09-06</th>\n",
              "      <td>83.550003</td>\n",
              "      <td>82.550003</td>\n",
              "      <td>82.550003</td>\n",
              "      <td>83.500000</td>\n",
              "      <td>17194000.0</td>\n",
              "      <td>0.602410</td>\n",
              "      <td>83.984523</td>\n",
              "      <td>-1.315869</td>\n",
              "      <td>82.350000</td>\n",
              "      <td>81.967283</td>\n",
              "      <td>81.045556</td>\n",
              "      <td>82.074999</td>\n",
              "      <td>83.251691</td>\n",
              "    </tr>\n",
              "  </tbody>\n",
              "</table>\n",
              "</div>"
            ],
            "text/plain": [
              "                 High        Low       Open  ...        WMA        HMA       TEMA\n",
              "Date                                         ...                                 \n",
              "2019-09-02  82.000000  81.650002  81.800003  ...  80.684445  80.885001  81.603058\n",
              "2019-09-03  82.000000  81.199997  81.849998  ...  80.651111  81.275001  81.552079\n",
              "2019-09-04  82.199997  81.400002  81.449997  ...  80.621112  81.764999  81.962576\n",
              "2019-09-05  83.199997  82.550003  82.550003  ...  80.655556  81.850000  82.618155\n",
              "2019-09-06  83.550003  82.550003  82.550003  ...  81.045556  82.074999  83.251691\n",
              "\n",
              "[5 rows x 13 columns]"
            ]
          },
          "metadata": {
            "tags": []
          },
          "execution_count": 10
        },
        {
          "output_type": "display_data",
          "data": {
            "image/png": "[encoded data removed]",
            "text/plain": [
              "<Figure size 432x288 with 1 Axes>"
            ]
          },
          "metadata": {
            "tags": []
          }
        }
      ]
    },
    {
      "cell_type": "markdown",
      "metadata": {
        "id": "EbMrqw5jjZaa",
        "colab_type": "text"
      },
      "source": [
        "# CCI"
      ]
    },
    {
      "cell_type": "code",
      "metadata": {
        "id": "WBfeDdkUjZiP",
        "colab_type": "code",
        "colab": {
          "base_uri": "https://localhost:8080/",
          "height": 656
        },
        "outputId": "b2b76f7b-3fd0-4c5c-8b45-3d8d68574a3f"
      },
      "source": [
        "df['CCI'] = TA.CCI(ohlc)\n",
        "print(df['CCI'].describe())\n",
        "sns.distplot(df['CCI'].dropna())\n",
        "df.tail()"
      ],
      "execution_count": 11,
      "outputs": [
        {
          "output_type": "stream",
          "text": [
            "count    2876.000000\n",
            "mean       11.287074\n",
            "std        86.794311\n",
            "min      -226.628960\n",
            "25%       -56.936860\n",
            "50%        22.095370\n",
            "75%        82.556241\n",
            "max       221.975646\n",
            "Name: CCI, dtype: float64\n"
          ],
          "name": "stdout"
        },
        {
          "output_type": "execute_result",
          "data": {
            "text/html": [
              "<div>\n",
              "<style scoped>\n",
              "    .dataframe tbody tr th:only-of-type {\n",
              "        vertical-align: middle;\n",
              "    }\n",
              "\n",
              "    .dataframe tbody tr th {\n",
              "        vertical-align: top;\n",
              "    }\n",
              "\n",
              "    .dataframe thead th {\n",
              "        text-align: right;\n",
              "    }\n",
              "</style>\n",
              "<table border=\"1\" class=\"dataframe\">\n",
              "  <thead>\n",
              "    <tr style=\"text-align: right;\">\n",
              "      <th></th>\n",
              "      <th>High</th>\n",
              "      <th>Low</th>\n",
              "      <th>Open</th>\n",
              "      <th>Close</th>\n",
              "      <th>Volume</th>\n",
              "      <th>return%</th>\n",
              "      <th>RSI</th>\n",
              "      <th>Williams %R</th>\n",
              "      <th>SMA</th>\n",
              "      <th>EMA</th>\n",
              "      <th>WMA</th>\n",
              "      <th>HMA</th>\n",
              "      <th>TEMA</th>\n",
              "      <th>CCI</th>\n",
              "    </tr>\n",
              "    <tr>\n",
              "      <th>Date</th>\n",
              "      <th></th>\n",
              "      <th></th>\n",
              "      <th></th>\n",
              "      <th></th>\n",
              "      <th></th>\n",
              "      <th></th>\n",
              "      <th></th>\n",
              "      <th></th>\n",
              "      <th></th>\n",
              "      <th></th>\n",
              "      <th></th>\n",
              "      <th></th>\n",
              "      <th></th>\n",
              "      <th></th>\n",
              "    </tr>\n",
              "  </thead>\n",
              "  <tbody>\n",
              "    <tr>\n",
              "      <th>2019-09-02</th>\n",
              "      <td>82.000000</td>\n",
              "      <td>81.650002</td>\n",
              "      <td>81.800003</td>\n",
              "      <td>81.900002</td>\n",
              "      <td>6457870.0</td>\n",
              "      <td>0.061091</td>\n",
              "      <td>62.698693</td>\n",
              "      <td>-4.166600</td>\n",
              "      <td>80.910001</td>\n",
              "      <td>80.950204</td>\n",
              "      <td>80.684445</td>\n",
              "      <td>80.885001</td>\n",
              "      <td>81.603058</td>\n",
              "      <td>143.717155</td>\n",
              "    </tr>\n",
              "    <tr>\n",
              "      <th>2019-09-03</th>\n",
              "      <td>82.000000</td>\n",
              "      <td>81.199997</td>\n",
              "      <td>81.849998</td>\n",
              "      <td>81.199997</td>\n",
              "      <td>5052925.0</td>\n",
              "      <td>-0.854706</td>\n",
              "      <td>76.622808</td>\n",
              "      <td>-33.333439</td>\n",
              "      <td>81.180000</td>\n",
              "      <td>81.000163</td>\n",
              "      <td>80.651111</td>\n",
              "      <td>81.275001</td>\n",
              "      <td>81.552079</td>\n",
              "      <td>96.940970</td>\n",
              "    </tr>\n",
              "    <tr>\n",
              "      <th>2019-09-04</th>\n",
              "      <td>82.199997</td>\n",
              "      <td>81.400002</td>\n",
              "      <td>81.449997</td>\n",
              "      <td>82.150002</td>\n",
              "      <td>10748771.0</td>\n",
              "      <td>1.169956</td>\n",
              "      <td>81.317962</td>\n",
              "      <td>-1.922902</td>\n",
              "      <td>81.530000</td>\n",
              "      <td>81.230130</td>\n",
              "      <td>80.621112</td>\n",
              "      <td>81.764999</td>\n",
              "      <td>81.962576</td>\n",
              "      <td>120.541026</td>\n",
              "    </tr>\n",
              "    <tr>\n",
              "      <th>2019-09-05</th>\n",
              "      <td>83.199997</td>\n",
              "      <td>82.550003</td>\n",
              "      <td>82.550003</td>\n",
              "      <td>83.000000</td>\n",
              "      <td>25429390.0</td>\n",
              "      <td>1.034691</td>\n",
              "      <td>82.631139</td>\n",
              "      <td>-5.555473</td>\n",
              "      <td>82.020000</td>\n",
              "      <td>81.584104</td>\n",
              "      <td>80.655556</td>\n",
              "      <td>81.850000</td>\n",
              "      <td>82.618155</td>\n",
              "      <td>164.641823</td>\n",
              "    </tr>\n",
              "    <tr>\n",
              "      <th>2019-09-06</th>\n",
              "      <td>83.550003</td>\n",
              "      <td>82.550003</td>\n",
              "      <td>82.550003</td>\n",
              "      <td>83.500000</td>\n",
              "      <td>17194000.0</td>\n",
              "      <td>0.602410</td>\n",
              "      <td>83.984523</td>\n",
              "      <td>-1.315869</td>\n",
              "      <td>82.350000</td>\n",
              "      <td>81.967283</td>\n",
              "      <td>81.045556</td>\n",
              "      <td>82.074999</td>\n",
              "      <td>83.251691</td>\n",
              "      <td>150.881234</td>\n",
              "    </tr>\n",
              "  </tbody>\n",
              "</table>\n",
              "</div>"
            ],
            "text/plain": [
              "                 High        Low       Open  ...        HMA       TEMA         CCI\n",
              "Date                                         ...                                  \n",
              "2019-09-02  82.000000  81.650002  81.800003  ...  80.885001  81.603058  143.717155\n",
              "2019-09-03  82.000000  81.199997  81.849998  ...  81.275001  81.552079   96.940970\n",
              "2019-09-04  82.199997  81.400002  81.449997  ...  81.764999  81.962576  120.541026\n",
              "2019-09-05  83.199997  82.550003  82.550003  ...  81.850000  82.618155  164.641823\n",
              "2019-09-06  83.550003  82.550003  82.550003  ...  82.074999  83.251691  150.881234\n",
              "\n",
              "[5 rows x 14 columns]"
            ]
          },
          "metadata": {
            "tags": []
          },
          "execution_count": 11
        },
        {
          "output_type": "display_data",
          "data": {
            "image/png": "[encoded data removed]",
            "text/plain": [
              "<Figure size 432x288 with 1 Axes>"
            ]
          },
          "metadata": {
            "tags": []
          }
        }
      ]
    },
    {
      "cell_type": "markdown",
      "metadata": {
        "id": "G8rAJ61cjkJ4",
        "colab_type": "text"
      },
      "source": [
        "# CMO"
      ]
    },
    {
      "cell_type": "code",
      "metadata": {
        "id": "P9EispJmjkj_",
        "colab_type": "code",
        "colab": {
          "base_uri": "https://localhost:8080/",
          "height": 778
        },
        "outputId": "222bf7d5-f89c-4251-aa53-f4c6a3ce63a2"
      },
      "source": [
        "df['CMO'] = TA.CMO(ohlc)\n",
        "print(df['CMO'].describe())\n",
        "sns.distplot(df['CMO'].dropna())\n",
        "df.tail()"
      ],
      "execution_count": 12,
      "outputs": [
        {
          "output_type": "stream",
          "text": [
            "count    2868.000000\n",
            "mean        5.795790\n",
            "std        41.803346\n",
            "min       -97.530901\n",
            "25%       -25.000081\n",
            "50%         5.537113\n",
            "75%        36.999043\n",
            "max       100.000000\n",
            "Name: CMO, dtype: float64\n"
          ],
          "name": "stdout"
        },
        {
          "output_type": "execute_result",
          "data": {
            "text/html": [
              "<div>\n",
              "<style scoped>\n",
              "    .dataframe tbody tr th:only-of-type {\n",
              "        vertical-align: middle;\n",
              "    }\n",
              "\n",
              "    .dataframe tbody tr th {\n",
              "        vertical-align: top;\n",
              "    }\n",
              "\n",
              "    .dataframe thead th {\n",
              "        text-align: right;\n",
              "    }\n",
              "</style>\n",
              "<table border=\"1\" class=\"dataframe\">\n",
              "  <thead>\n",
              "    <tr style=\"text-align: right;\">\n",
              "      <th></th>\n",
              "      <th>High</th>\n",
              "      <th>Low</th>\n",
              "      <th>Open</th>\n",
              "      <th>Close</th>\n",
              "      <th>Volume</th>\n",
              "      <th>return%</th>\n",
              "      <th>RSI</th>\n",
              "      <th>Williams %R</th>\n",
              "      <th>SMA</th>\n",
              "      <th>EMA</th>\n",
              "      <th>WMA</th>\n",
              "      <th>HMA</th>\n",
              "      <th>TEMA</th>\n",
              "      <th>CCI</th>\n",
              "      <th>CMO</th>\n",
              "    </tr>\n",
              "    <tr>\n",
              "      <th>Date</th>\n",
              "      <th></th>\n",
              "      <th></th>\n",
              "      <th></th>\n",
              "      <th></th>\n",
              "      <th></th>\n",
              "      <th></th>\n",
              "      <th></th>\n",
              "      <th></th>\n",
              "      <th></th>\n",
              "      <th></th>\n",
              "      <th></th>\n",
              "      <th></th>\n",
              "      <th></th>\n",
              "      <th></th>\n",
              "      <th></th>\n",
              "    </tr>\n",
              "  </thead>\n",
              "  <tbody>\n",
              "    <tr>\n",
              "      <th>2019-09-02</th>\n",
              "      <td>82.000000</td>\n",
              "      <td>81.650002</td>\n",
              "      <td>81.800003</td>\n",
              "      <td>81.900002</td>\n",
              "      <td>6457870.0</td>\n",
              "      <td>0.061091</td>\n",
              "      <td>62.698693</td>\n",
              "      <td>-4.166600</td>\n",
              "      <td>80.910001</td>\n",
              "      <td>80.950204</td>\n",
              "      <td>80.684445</td>\n",
              "      <td>80.885001</td>\n",
              "      <td>81.603058</td>\n",
              "      <td>143.717155</td>\n",
              "      <td>27.500014</td>\n",
              "    </tr>\n",
              "    <tr>\n",
              "      <th>2019-09-03</th>\n",
              "      <td>82.000000</td>\n",
              "      <td>81.199997</td>\n",
              "      <td>81.849998</td>\n",
              "      <td>81.199997</td>\n",
              "      <td>5052925.0</td>\n",
              "      <td>-0.854706</td>\n",
              "      <td>76.622808</td>\n",
              "      <td>-33.333439</td>\n",
              "      <td>81.180000</td>\n",
              "      <td>81.000163</td>\n",
              "      <td>80.651111</td>\n",
              "      <td>81.275001</td>\n",
              "      <td>81.552079</td>\n",
              "      <td>96.940970</td>\n",
              "      <td>4.444377</td>\n",
              "    </tr>\n",
              "    <tr>\n",
              "      <th>2019-09-04</th>\n",
              "      <td>82.199997</td>\n",
              "      <td>81.400002</td>\n",
              "      <td>81.449997</td>\n",
              "      <td>82.150002</td>\n",
              "      <td>10748771.0</td>\n",
              "      <td>1.169956</td>\n",
              "      <td>81.317962</td>\n",
              "      <td>-1.922902</td>\n",
              "      <td>81.530000</td>\n",
              "      <td>81.230130</td>\n",
              "      <td>80.621112</td>\n",
              "      <td>81.764999</td>\n",
              "      <td>81.962576</td>\n",
              "      <td>120.541026</td>\n",
              "      <td>19.626203</td>\n",
              "    </tr>\n",
              "    <tr>\n",
              "      <th>2019-09-05</th>\n",
              "      <td>83.199997</td>\n",
              "      <td>82.550003</td>\n",
              "      <td>82.550003</td>\n",
              "      <td>83.000000</td>\n",
              "      <td>25429390.0</td>\n",
              "      <td>1.034691</td>\n",
              "      <td>82.631139</td>\n",
              "      <td>-5.555473</td>\n",
              "      <td>82.020000</td>\n",
              "      <td>81.584104</td>\n",
              "      <td>80.655556</td>\n",
              "      <td>81.850000</td>\n",
              "      <td>82.618155</td>\n",
              "      <td>164.641823</td>\n",
              "      <td>32.786852</td>\n",
              "    </tr>\n",
              "    <tr>\n",
              "      <th>2019-09-06</th>\n",
              "      <td>83.550003</td>\n",
              "      <td>82.550003</td>\n",
              "      <td>82.550003</td>\n",
              "      <td>83.500000</td>\n",
              "      <td>17194000.0</td>\n",
              "      <td>0.602410</td>\n",
              "      <td>83.984523</td>\n",
              "      <td>-1.315869</td>\n",
              "      <td>82.350000</td>\n",
              "      <td>81.967283</td>\n",
              "      <td>81.045556</td>\n",
              "      <td>82.074999</td>\n",
              "      <td>83.251691</td>\n",
              "      <td>150.881234</td>\n",
              "      <td>73.333198</td>\n",
              "    </tr>\n",
              "  </tbody>\n",
              "</table>\n",
              "</div>"
            ],
            "text/plain": [
              "                 High        Low       Open  ...       TEMA         CCI        CMO\n",
              "Date                                         ...                                  \n",
              "2019-09-02  82.000000  81.650002  81.800003  ...  81.603058  143.717155  27.500014\n",
              "2019-09-03  82.000000  81.199997  81.849998  ...  81.552079   96.940970   4.444377\n",
              "2019-09-04  82.199997  81.400002  81.449997  ...  81.962576  120.541026  19.626203\n",
              "2019-09-05  83.199997  82.550003  82.550003  ...  82.618155  164.641823  32.786852\n",
              "2019-09-06  83.550003  82.550003  82.550003  ...  83.251691  150.881234  73.333198\n",
              "\n",
              "[5 rows x 15 columns]"
            ]
          },
          "metadata": {
            "tags": []
          },
          "execution_count": 12
        },
        {
          "output_type": "display_data",
          "data": {
            "image/png": "[encoded data removed]",
            "text/plain": [
              "<Figure size 432x288 with 1 Axes>"
            ]
          },
          "metadata": {
            "tags": []
          }
        }
      ]
    },
    {
      "cell_type": "markdown",
      "metadata": {
        "id": "35qI_9gZjsR0",
        "colab_type": "text"
      },
      "source": [
        "# MACD"
      ]
    },
    {
      "cell_type": "code",
      "metadata": {
        "id": "5QG4lBEfjsZb",
        "colab_type": "code",
        "colab": {
          "base_uri": "https://localhost:8080/",
          "height": 778
        },
        "outputId": "3a748d2b-de55-441b-df08-196d0d31bf1e"
      },
      "source": [
        "df['MACD'] = TA.MACD(ohlc)['MACD'] - TA.MACD(ohlc)['SIGNAL']\n",
        "print(df['MACD'].describe())\n",
        "sns.distplot(df['MACD'].dropna())\n",
        "df.tail()"
      ],
      "execution_count": 13,
      "outputs": [
        {
          "output_type": "stream",
          "text": [
            "count    2877.000000\n",
            "mean        0.000033\n",
            "std         0.215907\n",
            "min        -0.894187\n",
            "25%        -0.132880\n",
            "50%         0.004641\n",
            "75%         0.142205\n",
            "max         0.773870\n",
            "Name: MACD, dtype: float64\n"
          ],
          "name": "stdout"
        },
        {
          "output_type": "execute_result",
          "data": {
            "text/html": [
              "<div>\n",
              "<style scoped>\n",
              "    .dataframe tbody tr th:only-of-type {\n",
              "        vertical-align: middle;\n",
              "    }\n",
              "\n",
              "    .dataframe tbody tr th {\n",
              "        vertical-align: top;\n",
              "    }\n",
              "\n",
              "    .dataframe thead th {\n",
              "        text-align: right;\n",
              "    }\n",
              "</style>\n",
              "<table border=\"1\" class=\"dataframe\">\n",
              "  <thead>\n",
              "    <tr style=\"text-align: right;\">\n",
              "      <th></th>\n",
              "      <th>High</th>\n",
              "      <th>Low</th>\n",
              "      <th>Open</th>\n",
              "      <th>Close</th>\n",
              "      <th>Volume</th>\n",
              "      <th>return%</th>\n",
              "      <th>RSI</th>\n",
              "      <th>Williams %R</th>\n",
              "      <th>SMA</th>\n",
              "      <th>EMA</th>\n",
              "      <th>WMA</th>\n",
              "      <th>HMA</th>\n",
              "      <th>TEMA</th>\n",
              "      <th>CCI</th>\n",
              "      <th>CMO</th>\n",
              "      <th>MACD</th>\n",
              "    </tr>\n",
              "    <tr>\n",
              "      <th>Date</th>\n",
              "      <th></th>\n",
              "      <th></th>\n",
              "      <th></th>\n",
              "      <th></th>\n",
              "      <th></th>\n",
              "      <th></th>\n",
              "      <th></th>\n",
              "      <th></th>\n",
              "      <th></th>\n",
              "      <th></th>\n",
              "      <th></th>\n",
              "      <th></th>\n",
              "      <th></th>\n",
              "      <th></th>\n",
              "      <th></th>\n",
              "      <th></th>\n",
              "    </tr>\n",
              "  </thead>\n",
              "  <tbody>\n",
              "    <tr>\n",
              "      <th>2019-09-02</th>\n",
              "      <td>82.000000</td>\n",
              "      <td>81.650002</td>\n",
              "      <td>81.800003</td>\n",
              "      <td>81.900002</td>\n",
              "      <td>6457870.0</td>\n",
              "      <td>0.061091</td>\n",
              "      <td>62.698693</td>\n",
              "      <td>-4.166600</td>\n",
              "      <td>80.910001</td>\n",
              "      <td>80.950204</td>\n",
              "      <td>80.684445</td>\n",
              "      <td>80.885001</td>\n",
              "      <td>81.603058</td>\n",
              "      <td>143.717155</td>\n",
              "      <td>27.500014</td>\n",
              "      <td>0.180702</td>\n",
              "    </tr>\n",
              "    <tr>\n",
              "      <th>2019-09-03</th>\n",
              "      <td>82.000000</td>\n",
              "      <td>81.199997</td>\n",
              "      <td>81.849998</td>\n",
              "      <td>81.199997</td>\n",
              "      <td>5052925.0</td>\n",
              "      <td>-0.854706</td>\n",
              "      <td>76.622808</td>\n",
              "      <td>-33.333439</td>\n",
              "      <td>81.180000</td>\n",
              "      <td>81.000163</td>\n",
              "      <td>80.651111</td>\n",
              "      <td>81.275001</td>\n",
              "      <td>81.552079</td>\n",
              "      <td>96.940970</td>\n",
              "      <td>4.444377</td>\n",
              "      <td>0.171747</td>\n",
              "    </tr>\n",
              "    <tr>\n",
              "      <th>2019-09-04</th>\n",
              "      <td>82.199997</td>\n",
              "      <td>81.400002</td>\n",
              "      <td>81.449997</td>\n",
              "      <td>82.150002</td>\n",
              "      <td>10748771.0</td>\n",
              "      <td>1.169956</td>\n",
              "      <td>81.317962</td>\n",
              "      <td>-1.922902</td>\n",
              "      <td>81.530000</td>\n",
              "      <td>81.230130</td>\n",
              "      <td>80.621112</td>\n",
              "      <td>81.764999</td>\n",
              "      <td>81.962576</td>\n",
              "      <td>120.541026</td>\n",
              "      <td>19.626203</td>\n",
              "      <td>0.220213</td>\n",
              "    </tr>\n",
              "    <tr>\n",
              "      <th>2019-09-05</th>\n",
              "      <td>83.199997</td>\n",
              "      <td>82.550003</td>\n",
              "      <td>82.550003</td>\n",
              "      <td>83.000000</td>\n",
              "      <td>25429390.0</td>\n",
              "      <td>1.034691</td>\n",
              "      <td>82.631139</td>\n",
              "      <td>-5.555473</td>\n",
              "      <td>82.020000</td>\n",
              "      <td>81.584104</td>\n",
              "      <td>80.655556</td>\n",
              "      <td>81.850000</td>\n",
              "      <td>82.618155</td>\n",
              "      <td>164.641823</td>\n",
              "      <td>32.786852</td>\n",
              "      <td>0.295244</td>\n",
              "    </tr>\n",
              "    <tr>\n",
              "      <th>2019-09-06</th>\n",
              "      <td>83.550003</td>\n",
              "      <td>82.550003</td>\n",
              "      <td>82.550003</td>\n",
              "      <td>83.500000</td>\n",
              "      <td>17194000.0</td>\n",
              "      <td>0.602410</td>\n",
              "      <td>83.984523</td>\n",
              "      <td>-1.315869</td>\n",
              "      <td>82.350000</td>\n",
              "      <td>81.967283</td>\n",
              "      <td>81.045556</td>\n",
              "      <td>82.074999</td>\n",
              "      <td>83.251691</td>\n",
              "      <td>150.881234</td>\n",
              "      <td>73.333198</td>\n",
              "      <td>0.359984</td>\n",
              "    </tr>\n",
              "  </tbody>\n",
              "</table>\n",
              "</div>"
            ],
            "text/plain": [
              "                 High        Low       Open  ...         CCI        CMO      MACD\n",
              "Date                                         ...                                 \n",
              "2019-09-02  82.000000  81.650002  81.800003  ...  143.717155  27.500014  0.180702\n",
              "2019-09-03  82.000000  81.199997  81.849998  ...   96.940970   4.444377  0.171747\n",
              "2019-09-04  82.199997  81.400002  81.449997  ...  120.541026  19.626203  0.220213\n",
              "2019-09-05  83.199997  82.550003  82.550003  ...  164.641823  32.786852  0.295244\n",
              "2019-09-06  83.550003  82.550003  82.550003  ...  150.881234  73.333198  0.359984\n",
              "\n",
              "[5 rows x 16 columns]"
            ]
          },
          "metadata": {
            "tags": []
          },
          "execution_count": 13
        },
        {
          "output_type": "display_data",
          "data": {
            "image/png": "[encoded data removed]",
            "text/plain": [
              "<Figure size 432x288 with 1 Axes>"
            ]
          },
          "metadata": {
            "tags": []
          }
        }
      ]
    },
    {
      "cell_type": "markdown",
      "metadata": {
        "id": "roEAzvV7liUA",
        "colab_type": "text"
      },
      "source": [
        "# PPO"
      ]
    },
    {
      "cell_type": "code",
      "metadata": {
        "id": "ovCLHYPXli73",
        "colab_type": "code",
        "colab": {
          "base_uri": "https://localhost:8080/",
          "height": 778
        },
        "outputId": "a31a4a22-d1c0-4da1-cc1a-af86c0ffdd92"
      },
      "source": [
        "df['PPO'] = TA.PPO(ohlc)['PPO'] - TA.PPO(ohlc)['SIGNAL']\n",
        "print(df['PPO'].describe())\n",
        "sns.distplot(df['PPO'].dropna())\n",
        "df.tail()"
      ],
      "execution_count": 14,
      "outputs": [
        {
          "output_type": "stream",
          "text": [
            "count    2877.000000\n",
            "mean        0.000087\n",
            "std         0.383064\n",
            "min        -2.154603\n",
            "25%        -0.223186\n",
            "50%         0.000829\n",
            "75%         0.231133\n",
            "max         2.330703\n",
            "Name: PPO, dtype: float64\n"
          ],
          "name": "stdout"
        },
        {
          "output_type": "execute_result",
          "data": {
            "text/html": [
              "<div>\n",
              "<style scoped>\n",
              "    .dataframe tbody tr th:only-of-type {\n",
              "        vertical-align: middle;\n",
              "    }\n",
              "\n",
              "    .dataframe tbody tr th {\n",
              "        vertical-align: top;\n",
              "    }\n",
              "\n",
              "    .dataframe thead th {\n",
              "        text-align: right;\n",
              "    }\n",
              "</style>\n",
              "<table border=\"1\" class=\"dataframe\">\n",
              "  <thead>\n",
              "    <tr style=\"text-align: right;\">\n",
              "      <th></th>\n",
              "      <th>High</th>\n",
              "      <th>Low</th>\n",
              "      <th>Open</th>\n",
              "      <th>Close</th>\n",
              "      <th>Volume</th>\n",
              "      <th>return%</th>\n",
              "      <th>RSI</th>\n",
              "      <th>Williams %R</th>\n",
              "      <th>SMA</th>\n",
              "      <th>EMA</th>\n",
              "      <th>WMA</th>\n",
              "      <th>HMA</th>\n",
              "      <th>TEMA</th>\n",
              "      <th>CCI</th>\n",
              "      <th>CMO</th>\n",
              "      <th>MACD</th>\n",
              "      <th>PPO</th>\n",
              "    </tr>\n",
              "    <tr>\n",
              "      <th>Date</th>\n",
              "      <th></th>\n",
              "      <th></th>\n",
              "      <th></th>\n",
              "      <th></th>\n",
              "      <th></th>\n",
              "      <th></th>\n",
              "      <th></th>\n",
              "      <th></th>\n",
              "      <th></th>\n",
              "      <th></th>\n",
              "      <th></th>\n",
              "      <th></th>\n",
              "      <th></th>\n",
              "      <th></th>\n",
              "      <th></th>\n",
              "      <th></th>\n",
              "      <th></th>\n",
              "    </tr>\n",
              "  </thead>\n",
              "  <tbody>\n",
              "    <tr>\n",
              "      <th>2019-09-02</th>\n",
              "      <td>82.000000</td>\n",
              "      <td>81.650002</td>\n",
              "      <td>81.800003</td>\n",
              "      <td>81.900002</td>\n",
              "      <td>6457870.0</td>\n",
              "      <td>0.061091</td>\n",
              "      <td>62.698693</td>\n",
              "      <td>-4.166600</td>\n",
              "      <td>80.910001</td>\n",
              "      <td>80.950204</td>\n",
              "      <td>80.684445</td>\n",
              "      <td>80.885001</td>\n",
              "      <td>81.603058</td>\n",
              "      <td>143.717155</td>\n",
              "      <td>27.500014</td>\n",
              "      <td>0.180702</td>\n",
              "      <td>0.223065</td>\n",
              "    </tr>\n",
              "    <tr>\n",
              "      <th>2019-09-03</th>\n",
              "      <td>82.000000</td>\n",
              "      <td>81.199997</td>\n",
              "      <td>81.849998</td>\n",
              "      <td>81.199997</td>\n",
              "      <td>5052925.0</td>\n",
              "      <td>-0.854706</td>\n",
              "      <td>76.622808</td>\n",
              "      <td>-33.333439</td>\n",
              "      <td>81.180000</td>\n",
              "      <td>81.000163</td>\n",
              "      <td>80.651111</td>\n",
              "      <td>81.275001</td>\n",
              "      <td>81.552079</td>\n",
              "      <td>96.940970</td>\n",
              "      <td>4.444377</td>\n",
              "      <td>0.171747</td>\n",
              "      <td>0.212018</td>\n",
              "    </tr>\n",
              "    <tr>\n",
              "      <th>2019-09-04</th>\n",
              "      <td>82.199997</td>\n",
              "      <td>81.400002</td>\n",
              "      <td>81.449997</td>\n",
              "      <td>82.150002</td>\n",
              "      <td>10748771.0</td>\n",
              "      <td>1.169956</td>\n",
              "      <td>81.317962</td>\n",
              "      <td>-1.922902</td>\n",
              "      <td>81.530000</td>\n",
              "      <td>81.230130</td>\n",
              "      <td>80.621112</td>\n",
              "      <td>81.764999</td>\n",
              "      <td>81.962576</td>\n",
              "      <td>120.541026</td>\n",
              "      <td>19.626203</td>\n",
              "      <td>0.220213</td>\n",
              "      <td>0.271799</td>\n",
              "    </tr>\n",
              "    <tr>\n",
              "      <th>2019-09-05</th>\n",
              "      <td>83.199997</td>\n",
              "      <td>82.550003</td>\n",
              "      <td>82.550003</td>\n",
              "      <td>83.000000</td>\n",
              "      <td>25429390.0</td>\n",
              "      <td>1.034691</td>\n",
              "      <td>82.631139</td>\n",
              "      <td>-5.555473</td>\n",
              "      <td>82.020000</td>\n",
              "      <td>81.584104</td>\n",
              "      <td>80.655556</td>\n",
              "      <td>81.850000</td>\n",
              "      <td>82.618155</td>\n",
              "      <td>164.641823</td>\n",
              "      <td>32.786852</td>\n",
              "      <td>0.295244</td>\n",
              "      <td>0.363960</td>\n",
              "    </tr>\n",
              "    <tr>\n",
              "      <th>2019-09-06</th>\n",
              "      <td>83.550003</td>\n",
              "      <td>82.550003</td>\n",
              "      <td>82.550003</td>\n",
              "      <td>83.500000</td>\n",
              "      <td>17194000.0</td>\n",
              "      <td>0.602410</td>\n",
              "      <td>83.984523</td>\n",
              "      <td>-1.315869</td>\n",
              "      <td>82.350000</td>\n",
              "      <td>81.967283</td>\n",
              "      <td>81.045556</td>\n",
              "      <td>82.074999</td>\n",
              "      <td>83.251691</td>\n",
              "      <td>150.881234</td>\n",
              "      <td>73.333198</td>\n",
              "      <td>0.359984</td>\n",
              "      <td>0.442881</td>\n",
              "    </tr>\n",
              "  </tbody>\n",
              "</table>\n",
              "</div>"
            ],
            "text/plain": [
              "                 High        Low       Open  ...        CMO      MACD       PPO\n",
              "Date                                         ...                               \n",
              "2019-09-02  82.000000  81.650002  81.800003  ...  27.500014  0.180702  0.223065\n",
              "2019-09-03  82.000000  81.199997  81.849998  ...   4.444377  0.171747  0.212018\n",
              "2019-09-04  82.199997  81.400002  81.449997  ...  19.626203  0.220213  0.271799\n",
              "2019-09-05  83.199997  82.550003  82.550003  ...  32.786852  0.295244  0.363960\n",
              "2019-09-06  83.550003  82.550003  82.550003  ...  73.333198  0.359984  0.442881\n",
              "\n",
              "[5 rows x 17 columns]"
            ]
          },
          "metadata": {
            "tags": []
          },
          "execution_count": 14
        },
        {
          "output_type": "display_data",
          "data": {
            "image/png": "[encoded data removed]",
            "text/plain": [
              "<Figure size 432x288 with 1 Axes>"
            ]
          },
          "metadata": {
            "tags": []
          }
        }
      ]
    },
    {
      "cell_type": "markdown",
      "metadata": {
        "id": "5BBE8vaWmdGN",
        "colab_type": "text"
      },
      "source": [
        "# ROC"
      ]
    },
    {
      "cell_type": "code",
      "metadata": {
        "id": "OKI3MqwhmdOj",
        "colab_type": "code",
        "colab": {
          "base_uri": "https://localhost:8080/",
          "height": 778
        },
        "outputId": "0ce8658a-2a6b-48f7-e07e-2fa379c7734b"
      },
      "source": [
        "df['ROC'] = TA.ROC(ohlc)\n",
        "print(df['ROC'].describe())\n",
        "sns.distplot(df['ROC'].dropna())\n",
        "df.tail()"
      ],
      "execution_count": 15,
      "outputs": [
        {
          "output_type": "stream",
          "text": [
            "count    2865.000000\n",
            "mean        0.223087\n",
            "std         4.117214\n",
            "min       -25.105744\n",
            "25%        -1.878360\n",
            "50%         0.484427\n",
            "75%         2.622500\n",
            "max        19.192592\n",
            "Name: ROC, dtype: float64\n"
          ],
          "name": "stdout"
        },
        {
          "output_type": "execute_result",
          "data": {
            "text/html": [
              "<div>\n",
              "<style scoped>\n",
              "    .dataframe tbody tr th:only-of-type {\n",
              "        vertical-align: middle;\n",
              "    }\n",
              "\n",
              "    .dataframe tbody tr th {\n",
              "        vertical-align: top;\n",
              "    }\n",
              "\n",
              "    .dataframe thead th {\n",
              "        text-align: right;\n",
              "    }\n",
              "</style>\n",
              "<table border=\"1\" class=\"dataframe\">\n",
              "  <thead>\n",
              "    <tr style=\"text-align: right;\">\n",
              "      <th></th>\n",
              "      <th>High</th>\n",
              "      <th>Low</th>\n",
              "      <th>Open</th>\n",
              "      <th>Close</th>\n",
              "      <th>Volume</th>\n",
              "      <th>return%</th>\n",
              "      <th>RSI</th>\n",
              "      <th>Williams %R</th>\n",
              "      <th>SMA</th>\n",
              "      <th>EMA</th>\n",
              "      <th>WMA</th>\n",
              "      <th>HMA</th>\n",
              "      <th>TEMA</th>\n",
              "      <th>CCI</th>\n",
              "      <th>CMO</th>\n",
              "      <th>MACD</th>\n",
              "      <th>PPO</th>\n",
              "      <th>ROC</th>\n",
              "    </tr>\n",
              "    <tr>\n",
              "      <th>Date</th>\n",
              "      <th></th>\n",
              "      <th></th>\n",
              "      <th></th>\n",
              "      <th></th>\n",
              "      <th></th>\n",
              "      <th></th>\n",
              "      <th></th>\n",
              "      <th></th>\n",
              "      <th></th>\n",
              "      <th></th>\n",
              "      <th></th>\n",
              "      <th></th>\n",
              "      <th></th>\n",
              "      <th></th>\n",
              "      <th></th>\n",
              "      <th></th>\n",
              "      <th></th>\n",
              "      <th></th>\n",
              "    </tr>\n",
              "  </thead>\n",
              "  <tbody>\n",
              "    <tr>\n",
              "      <th>2019-09-02</th>\n",
              "      <td>82.000000</td>\n",
              "      <td>81.650002</td>\n",
              "      <td>81.800003</td>\n",
              "      <td>81.900002</td>\n",
              "      <td>6457870.0</td>\n",
              "      <td>0.061091</td>\n",
              "      <td>62.698693</td>\n",
              "      <td>-4.166600</td>\n",
              "      <td>80.910001</td>\n",
              "      <td>80.950204</td>\n",
              "      <td>80.684445</td>\n",
              "      <td>80.885001</td>\n",
              "      <td>81.603058</td>\n",
              "      <td>143.717155</td>\n",
              "      <td>27.500014</td>\n",
              "      <td>0.180702</td>\n",
              "      <td>0.223065</td>\n",
              "      <td>1.992526</td>\n",
              "    </tr>\n",
              "    <tr>\n",
              "      <th>2019-09-03</th>\n",
              "      <td>82.000000</td>\n",
              "      <td>81.199997</td>\n",
              "      <td>81.849998</td>\n",
              "      <td>81.199997</td>\n",
              "      <td>5052925.0</td>\n",
              "      <td>-0.854706</td>\n",
              "      <td>76.622808</td>\n",
              "      <td>-33.333439</td>\n",
              "      <td>81.180000</td>\n",
              "      <td>81.000163</td>\n",
              "      <td>80.651111</td>\n",
              "      <td>81.275001</td>\n",
              "      <td>81.552079</td>\n",
              "      <td>96.940970</td>\n",
              "      <td>4.444377</td>\n",
              "      <td>0.171747</td>\n",
              "      <td>0.212018</td>\n",
              "      <td>2.266997</td>\n",
              "    </tr>\n",
              "    <tr>\n",
              "      <th>2019-09-04</th>\n",
              "      <td>82.199997</td>\n",
              "      <td>81.400002</td>\n",
              "      <td>81.449997</td>\n",
              "      <td>82.150002</td>\n",
              "      <td>10748771.0</td>\n",
              "      <td>1.169956</td>\n",
              "      <td>81.317962</td>\n",
              "      <td>-1.922902</td>\n",
              "      <td>81.530000</td>\n",
              "      <td>81.230130</td>\n",
              "      <td>80.621112</td>\n",
              "      <td>81.764999</td>\n",
              "      <td>81.962576</td>\n",
              "      <td>120.541026</td>\n",
              "      <td>19.626203</td>\n",
              "      <td>0.220213</td>\n",
              "      <td>0.271799</td>\n",
              "      <td>2.240203</td>\n",
              "    </tr>\n",
              "    <tr>\n",
              "      <th>2019-09-05</th>\n",
              "      <td>83.199997</td>\n",
              "      <td>82.550003</td>\n",
              "      <td>82.550003</td>\n",
              "      <td>83.000000</td>\n",
              "      <td>25429390.0</td>\n",
              "      <td>1.034691</td>\n",
              "      <td>82.631139</td>\n",
              "      <td>-5.555473</td>\n",
              "      <td>82.020000</td>\n",
              "      <td>81.584104</td>\n",
              "      <td>80.655556</td>\n",
              "      <td>81.850000</td>\n",
              "      <td>82.618155</td>\n",
              "      <td>164.641823</td>\n",
              "      <td>32.786852</td>\n",
              "      <td>0.295244</td>\n",
              "      <td>0.363960</td>\n",
              "      <td>2.722768</td>\n",
              "    </tr>\n",
              "    <tr>\n",
              "      <th>2019-09-06</th>\n",
              "      <td>83.550003</td>\n",
              "      <td>82.550003</td>\n",
              "      <td>82.550003</td>\n",
              "      <td>83.500000</td>\n",
              "      <td>17194000.0</td>\n",
              "      <td>0.602410</td>\n",
              "      <td>83.984523</td>\n",
              "      <td>-1.315869</td>\n",
              "      <td>82.350000</td>\n",
              "      <td>81.967283</td>\n",
              "      <td>81.045556</td>\n",
              "      <td>82.074999</td>\n",
              "      <td>83.251691</td>\n",
              "      <td>150.881234</td>\n",
              "      <td>73.333198</td>\n",
              "      <td>0.359984</td>\n",
              "      <td>0.442881</td>\n",
              "      <td>3.086420</td>\n",
              "    </tr>\n",
              "  </tbody>\n",
              "</table>\n",
              "</div>"
            ],
            "text/plain": [
              "                 High        Low       Open  ...      MACD       PPO       ROC\n",
              "Date                                         ...                              \n",
              "2019-09-02  82.000000  81.650002  81.800003  ...  0.180702  0.223065  1.992526\n",
              "2019-09-03  82.000000  81.199997  81.849998  ...  0.171747  0.212018  2.266997\n",
              "2019-09-04  82.199997  81.400002  81.449997  ...  0.220213  0.271799  2.240203\n",
              "2019-09-05  83.199997  82.550003  82.550003  ...  0.295244  0.363960  2.722768\n",
              "2019-09-06  83.550003  82.550003  82.550003  ...  0.359984  0.442881  3.086420\n",
              "\n",
              "[5 rows x 18 columns]"
            ]
          },
          "metadata": {
            "tags": []
          },
          "execution_count": 15
        },
        {
          "output_type": "display_data",
          "data": {
            "image/png": "[encoded data removed]",
            "text/plain": [
              "<Figure size 432x288 with 1 Axes>"
            ]
          },
          "metadata": {
            "tags": []
          }
        }
      ]
    },
    {
      "cell_type": "markdown",
      "metadata": {
        "id": "b9LTKsyvmuSd",
        "colab_type": "text"
      },
      "source": [
        "# CMFI"
      ]
    },
    {
      "cell_type": "code",
      "metadata": {
        "id": "somnlSTOmvjJ",
        "colab_type": "code",
        "colab": {
          "base_uri": "https://localhost:8080/",
          "height": 785
        },
        "outputId": "8ecadcca-2522-4544-b47d-caab70b27fdd"
      },
      "source": [
        "df['CFI'] = TA.CFI(ohlc)\n",
        "print(df['CFI'].describe())\n",
        "sns.distplot(df['CFI'].dropna())\n",
        "df.tail()"
      ],
      "execution_count": 16,
      "outputs": [
        {
          "output_type": "stream",
          "text": [
            "count    2.868000e+03\n",
            "mean    -3.373043e+08\n",
            "std      1.625415e+08\n",
            "min     -8.755913e+08\n",
            "25%     -3.434069e+08\n",
            "50%     -3.068897e+08\n",
            "75%     -2.763640e+08\n",
            "max      1.163450e+08\n",
            "Name: CFI, dtype: float64\n"
          ],
          "name": "stdout"
        },
        {
          "output_type": "execute_result",
          "data": {
            "text/html": [
              "<div>\n",
              "<style scoped>\n",
              "    .dataframe tbody tr th:only-of-type {\n",
              "        vertical-align: middle;\n",
              "    }\n",
              "\n",
              "    .dataframe tbody tr th {\n",
              "        vertical-align: top;\n",
              "    }\n",
              "\n",
              "    .dataframe thead th {\n",
              "        text-align: right;\n",
              "    }\n",
              "</style>\n",
              "<table border=\"1\" class=\"dataframe\">\n",
              "  <thead>\n",
              "    <tr style=\"text-align: right;\">\n",
              "      <th></th>\n",
              "      <th>High</th>\n",
              "      <th>Low</th>\n",
              "      <th>Open</th>\n",
              "      <th>Close</th>\n",
              "      <th>Volume</th>\n",
              "      <th>return%</th>\n",
              "      <th>RSI</th>\n",
              "      <th>Williams %R</th>\n",
              "      <th>SMA</th>\n",
              "      <th>EMA</th>\n",
              "      <th>WMA</th>\n",
              "      <th>HMA</th>\n",
              "      <th>TEMA</th>\n",
              "      <th>CCI</th>\n",
              "      <th>CMO</th>\n",
              "      <th>MACD</th>\n",
              "      <th>PPO</th>\n",
              "      <th>ROC</th>\n",
              "      <th>CFI</th>\n",
              "    </tr>\n",
              "    <tr>\n",
              "      <th>Date</th>\n",
              "      <th></th>\n",
              "      <th></th>\n",
              "      <th></th>\n",
              "      <th></th>\n",
              "      <th></th>\n",
              "      <th></th>\n",
              "      <th></th>\n",
              "      <th></th>\n",
              "      <th></th>\n",
              "      <th></th>\n",
              "      <th></th>\n",
              "      <th></th>\n",
              "      <th></th>\n",
              "      <th></th>\n",
              "      <th></th>\n",
              "      <th></th>\n",
              "      <th></th>\n",
              "      <th></th>\n",
              "      <th></th>\n",
              "    </tr>\n",
              "  </thead>\n",
              "  <tbody>\n",
              "    <tr>\n",
              "      <th>2019-09-02</th>\n",
              "      <td>82.000000</td>\n",
              "      <td>81.650002</td>\n",
              "      <td>81.800003</td>\n",
              "      <td>81.900002</td>\n",
              "      <td>6457870.0</td>\n",
              "      <td>0.061091</td>\n",
              "      <td>62.698693</td>\n",
              "      <td>-4.166600</td>\n",
              "      <td>80.910001</td>\n",
              "      <td>80.950204</td>\n",
              "      <td>80.684445</td>\n",
              "      <td>80.885001</td>\n",
              "      <td>81.603058</td>\n",
              "      <td>143.717155</td>\n",
              "      <td>27.500014</td>\n",
              "      <td>0.180702</td>\n",
              "      <td>0.223065</td>\n",
              "      <td>1.992526</td>\n",
              "      <td>-7.786882e+08</td>\n",
              "    </tr>\n",
              "    <tr>\n",
              "      <th>2019-09-03</th>\n",
              "      <td>82.000000</td>\n",
              "      <td>81.199997</td>\n",
              "      <td>81.849998</td>\n",
              "      <td>81.199997</td>\n",
              "      <td>5052925.0</td>\n",
              "      <td>-0.854706</td>\n",
              "      <td>76.622808</td>\n",
              "      <td>-33.333439</td>\n",
              "      <td>81.180000</td>\n",
              "      <td>81.000163</td>\n",
              "      <td>80.651111</td>\n",
              "      <td>81.275001</td>\n",
              "      <td>81.552079</td>\n",
              "      <td>96.940970</td>\n",
              "      <td>4.444377</td>\n",
              "      <td>0.171747</td>\n",
              "      <td>0.212018</td>\n",
              "      <td>2.266997</td>\n",
              "      <td>-7.770803e+08</td>\n",
              "    </tr>\n",
              "    <tr>\n",
              "      <th>2019-09-04</th>\n",
              "      <td>82.199997</td>\n",
              "      <td>81.400002</td>\n",
              "      <td>81.449997</td>\n",
              "      <td>82.150002</td>\n",
              "      <td>10748771.0</td>\n",
              "      <td>1.169956</td>\n",
              "      <td>81.317962</td>\n",
              "      <td>-1.922902</td>\n",
              "      <td>81.530000</td>\n",
              "      <td>81.230130</td>\n",
              "      <td>80.621112</td>\n",
              "      <td>81.764999</td>\n",
              "      <td>81.962576</td>\n",
              "      <td>120.541026</td>\n",
              "      <td>19.626203</td>\n",
              "      <td>0.220213</td>\n",
              "      <td>0.271799</td>\n",
              "      <td>2.240203</td>\n",
              "      <td>-7.739082e+08</td>\n",
              "    </tr>\n",
              "    <tr>\n",
              "      <th>2019-09-05</th>\n",
              "      <td>83.199997</td>\n",
              "      <td>82.550003</td>\n",
              "      <td>82.550003</td>\n",
              "      <td>83.000000</td>\n",
              "      <td>25429390.0</td>\n",
              "      <td>1.034691</td>\n",
              "      <td>82.631139</td>\n",
              "      <td>-5.555473</td>\n",
              "      <td>82.020000</td>\n",
              "      <td>81.584104</td>\n",
              "      <td>80.655556</td>\n",
              "      <td>81.850000</td>\n",
              "      <td>82.618155</td>\n",
              "      <td>164.641823</td>\n",
              "      <td>32.786852</td>\n",
              "      <td>0.295244</td>\n",
              "      <td>0.363960</td>\n",
              "      <td>2.722768</td>\n",
              "      <td>-7.673828e+08</td>\n",
              "    </tr>\n",
              "    <tr>\n",
              "      <th>2019-09-06</th>\n",
              "      <td>83.550003</td>\n",
              "      <td>82.550003</td>\n",
              "      <td>82.550003</td>\n",
              "      <td>83.500000</td>\n",
              "      <td>17194000.0</td>\n",
              "      <td>0.602410</td>\n",
              "      <td>83.984523</td>\n",
              "      <td>-1.315869</td>\n",
              "      <td>82.350000</td>\n",
              "      <td>81.967283</td>\n",
              "      <td>81.045556</td>\n",
              "      <td>82.074999</td>\n",
              "      <td>83.251691</td>\n",
              "      <td>150.881234</td>\n",
              "      <td>73.333198</td>\n",
              "      <td>0.359984</td>\n",
              "      <td>0.442881</td>\n",
              "      <td>3.086420</td>\n",
              "      <td>-7.604808e+08</td>\n",
              "    </tr>\n",
              "  </tbody>\n",
              "</table>\n",
              "</div>"
            ],
            "text/plain": [
              "                 High        Low       Open  ...       PPO       ROC           CFI\n",
              "Date                                         ...                                  \n",
              "2019-09-02  82.000000  81.650002  81.800003  ...  0.223065  1.992526 -7.786882e+08\n",
              "2019-09-03  82.000000  81.199997  81.849998  ...  0.212018  2.266997 -7.770803e+08\n",
              "2019-09-04  82.199997  81.400002  81.449997  ...  0.271799  2.240203 -7.739082e+08\n",
              "2019-09-05  83.199997  82.550003  82.550003  ...  0.363960  2.722768 -7.673828e+08\n",
              "2019-09-06  83.550003  82.550003  82.550003  ...  0.442881  3.086420 -7.604808e+08\n",
              "\n",
              "[5 rows x 19 columns]"
            ]
          },
          "metadata": {
            "tags": []
          },
          "execution_count": 16
        },
        {
          "output_type": "display_data",
          "data": {
            "image/png": "[encoded data removed]",
            "text/plain": [
              "<Figure size 432x288 with 1 Axes>"
            ]
          },
          "metadata": {
            "tags": []
          }
        }
      ]
    },
    {
      "cell_type": "markdown",
      "metadata": {
        "id": "8WydSl0doUYk",
        "colab_type": "text"
      },
      "source": [
        "# DMI"
      ]
    },
    {
      "cell_type": "code",
      "metadata": {
        "id": "xRTnC6DboU05",
        "colab_type": "code",
        "colab": {
          "base_uri": "https://localhost:8080/",
          "height": 1000
        },
        "outputId": "de67084a-6181-4fec-f43c-98dab8cd8d97"
      },
      "source": [
        "df['DMI'] = TA.DMI(ohlc)['DI+'] - TA.DMI(ohlc)['DI-']\n",
        "print(df['DMI'].describe())\n",
        "sns.distplot(df['DMI'].dropna())\n",
        "df.tail()"
      ],
      "execution_count": 17,
      "outputs": [
        {
          "output_type": "stream",
          "text": [
            "/usr/local/lib/python3.6/dist-packages/finta/finta.py:792: SettingWithCopyWarning: \n",
            "A value is trying to be set on a copy of a slice from a DataFrame.\n",
            "Try using .loc[row_indexer,col_indexer] = value instead\n",
            "\n",
            "See the caveats in the documentation: http://pandas.pydata.org/pandas-docs/stable/indexing.html#indexing-view-versus-copy\n",
            "  ohlc[\"up_move\"] = ohlc[\"high\"].diff()\n",
            "/usr/local/lib/python3.6/dist-packages/finta/finta.py:793: SettingWithCopyWarning: \n",
            "A value is trying to be set on a copy of a slice from a DataFrame.\n",
            "Try using .loc[row_indexer,col_indexer] = value instead\n",
            "\n",
            "See the caveats in the documentation: http://pandas.pydata.org/pandas-docs/stable/indexing.html#indexing-view-versus-copy\n",
            "  ohlc[\"down_move\"] = -ohlc[\"low\"].diff()\n",
            "/usr/local/lib/python3.6/dist-packages/finta/finta.py:809: SettingWithCopyWarning: \n",
            "A value is trying to be set on a copy of a slice from a DataFrame.\n",
            "Try using .loc[row_indexer,col_indexer] = value instead\n",
            "\n",
            "See the caveats in the documentation: http://pandas.pydata.org/pandas-docs/stable/indexing.html#indexing-view-versus-copy\n",
            "  ohlc[\"DMp\"] = DMp\n",
            "/usr/local/lib/python3.6/dist-packages/finta/finta.py:810: SettingWithCopyWarning: \n",
            "A value is trying to be set on a copy of a slice from a DataFrame.\n",
            "Try using .loc[row_indexer,col_indexer] = value instead\n",
            "\n",
            "See the caveats in the documentation: http://pandas.pydata.org/pandas-docs/stable/indexing.html#indexing-view-versus-copy\n",
            "  ohlc[\"DMm\"] = DMm\n"
          ],
          "name": "stderr"
        },
        {
          "output_type": "stream",
          "text": [
            "count    2794.000000\n",
            "mean       -0.642846\n",
            "std        22.381356\n",
            "min      -127.770346\n",
            "25%       -13.539123\n",
            "50%         1.638485\n",
            "75%        14.735095\n",
            "max        70.975012\n",
            "Name: DMI, dtype: float64\n"
          ],
          "name": "stdout"
        },
        {
          "output_type": "execute_result",
          "data": {
            "text/html": [
              "<div>\n",
              "<style scoped>\n",
              "    .dataframe tbody tr th:only-of-type {\n",
              "        vertical-align: middle;\n",
              "    }\n",
              "\n",
              "    .dataframe tbody tr th {\n",
              "        vertical-align: top;\n",
              "    }\n",
              "\n",
              "    .dataframe thead th {\n",
              "        text-align: right;\n",
              "    }\n",
              "</style>\n",
              "<table border=\"1\" class=\"dataframe\">\n",
              "  <thead>\n",
              "    <tr style=\"text-align: right;\">\n",
              "      <th></th>\n",
              "      <th>High</th>\n",
              "      <th>Low</th>\n",
              "      <th>Open</th>\n",
              "      <th>Close</th>\n",
              "      <th>Volume</th>\n",
              "      <th>return%</th>\n",
              "      <th>RSI</th>\n",
              "      <th>Williams %R</th>\n",
              "      <th>SMA</th>\n",
              "      <th>EMA</th>\n",
              "      <th>WMA</th>\n",
              "      <th>HMA</th>\n",
              "      <th>TEMA</th>\n",
              "      <th>CCI</th>\n",
              "      <th>CMO</th>\n",
              "      <th>MACD</th>\n",
              "      <th>PPO</th>\n",
              "      <th>ROC</th>\n",
              "      <th>CFI</th>\n",
              "      <th>DMI</th>\n",
              "    </tr>\n",
              "    <tr>\n",
              "      <th>Date</th>\n",
              "      <th></th>\n",
              "      <th></th>\n",
              "      <th></th>\n",
              "      <th></th>\n",
              "      <th></th>\n",
              "      <th></th>\n",
              "      <th></th>\n",
              "      <th></th>\n",
              "      <th></th>\n",
              "      <th></th>\n",
              "      <th></th>\n",
              "      <th></th>\n",
              "      <th></th>\n",
              "      <th></th>\n",
              "      <th></th>\n",
              "      <th></th>\n",
              "      <th></th>\n",
              "      <th></th>\n",
              "      <th></th>\n",
              "      <th></th>\n",
              "    </tr>\n",
              "  </thead>\n",
              "  <tbody>\n",
              "    <tr>\n",
              "      <th>2019-09-02</th>\n",
              "      <td>82.000000</td>\n",
              "      <td>81.650002</td>\n",
              "      <td>81.800003</td>\n",
              "      <td>81.900002</td>\n",
              "      <td>6457870.0</td>\n",
              "      <td>0.061091</td>\n",
              "      <td>62.698693</td>\n",
              "      <td>-4.166600</td>\n",
              "      <td>80.910001</td>\n",
              "      <td>80.950204</td>\n",
              "      <td>80.684445</td>\n",
              "      <td>80.885001</td>\n",
              "      <td>81.603058</td>\n",
              "      <td>143.717155</td>\n",
              "      <td>27.500014</td>\n",
              "      <td>0.180702</td>\n",
              "      <td>0.223065</td>\n",
              "      <td>1.992526</td>\n",
              "      <td>-7.786882e+08</td>\n",
              "      <td>11.995912</td>\n",
              "    </tr>\n",
              "    <tr>\n",
              "      <th>2019-09-03</th>\n",
              "      <td>82.000000</td>\n",
              "      <td>81.199997</td>\n",
              "      <td>81.849998</td>\n",
              "      <td>81.199997</td>\n",
              "      <td>5052925.0</td>\n",
              "      <td>-0.854706</td>\n",
              "      <td>76.622808</td>\n",
              "      <td>-33.333439</td>\n",
              "      <td>81.180000</td>\n",
              "      <td>81.000163</td>\n",
              "      <td>80.651111</td>\n",
              "      <td>81.275001</td>\n",
              "      <td>81.552079</td>\n",
              "      <td>96.940970</td>\n",
              "      <td>4.444377</td>\n",
              "      <td>0.171747</td>\n",
              "      <td>0.212018</td>\n",
              "      <td>2.266997</td>\n",
              "      <td>-7.770803e+08</td>\n",
              "      <td>3.011767</td>\n",
              "    </tr>\n",
              "    <tr>\n",
              "      <th>2019-09-04</th>\n",
              "      <td>82.199997</td>\n",
              "      <td>81.400002</td>\n",
              "      <td>81.449997</td>\n",
              "      <td>82.150002</td>\n",
              "      <td>10748771.0</td>\n",
              "      <td>1.169956</td>\n",
              "      <td>81.317962</td>\n",
              "      <td>-1.922902</td>\n",
              "      <td>81.530000</td>\n",
              "      <td>81.230130</td>\n",
              "      <td>80.621112</td>\n",
              "      <td>81.764999</td>\n",
              "      <td>81.962576</td>\n",
              "      <td>120.541026</td>\n",
              "      <td>19.626203</td>\n",
              "      <td>0.220213</td>\n",
              "      <td>0.271799</td>\n",
              "      <td>2.240203</td>\n",
              "      <td>-7.739082e+08</td>\n",
              "      <td>5.926209</td>\n",
              "    </tr>\n",
              "    <tr>\n",
              "      <th>2019-09-05</th>\n",
              "      <td>83.199997</td>\n",
              "      <td>82.550003</td>\n",
              "      <td>82.550003</td>\n",
              "      <td>83.000000</td>\n",
              "      <td>25429390.0</td>\n",
              "      <td>1.034691</td>\n",
              "      <td>82.631139</td>\n",
              "      <td>-5.555473</td>\n",
              "      <td>82.020000</td>\n",
              "      <td>81.584104</td>\n",
              "      <td>80.655556</td>\n",
              "      <td>81.850000</td>\n",
              "      <td>82.618155</td>\n",
              "      <td>164.641823</td>\n",
              "      <td>32.786852</td>\n",
              "      <td>0.295244</td>\n",
              "      <td>0.363960</td>\n",
              "      <td>2.722768</td>\n",
              "      <td>-7.673828e+08</td>\n",
              "      <td>21.704096</td>\n",
              "    </tr>\n",
              "    <tr>\n",
              "      <th>2019-09-06</th>\n",
              "      <td>83.550003</td>\n",
              "      <td>82.550003</td>\n",
              "      <td>82.550003</td>\n",
              "      <td>83.500000</td>\n",
              "      <td>17194000.0</td>\n",
              "      <td>0.602410</td>\n",
              "      <td>83.984523</td>\n",
              "      <td>-1.315869</td>\n",
              "      <td>82.350000</td>\n",
              "      <td>81.967283</td>\n",
              "      <td>81.045556</td>\n",
              "      <td>82.074999</td>\n",
              "      <td>83.251691</td>\n",
              "      <td>150.881234</td>\n",
              "      <td>73.333198</td>\n",
              "      <td>0.359984</td>\n",
              "      <td>0.442881</td>\n",
              "      <td>3.086420</td>\n",
              "      <td>-7.604808e+08</td>\n",
              "      <td>24.600569</td>\n",
              "    </tr>\n",
              "  </tbody>\n",
              "</table>\n",
              "</div>"
            ],
            "text/plain": [
              "                 High        Low       Open  ...       ROC           CFI        DMI\n",
              "Date                                         ...                                   \n",
              "2019-09-02  82.000000  81.650002  81.800003  ...  1.992526 -7.786882e+08  11.995912\n",
              "2019-09-03  82.000000  81.199997  81.849998  ...  2.266997 -7.770803e+08   3.011767\n",
              "2019-09-04  82.199997  81.400002  81.449997  ...  2.240203 -7.739082e+08   5.926209\n",
              "2019-09-05  83.199997  82.550003  82.550003  ...  2.722768 -7.673828e+08  21.704096\n",
              "2019-09-06  83.550003  82.550003  82.550003  ...  3.086420 -7.604808e+08  24.600569\n",
              "\n",
              "[5 rows x 20 columns]"
            ]
          },
          "metadata": {
            "tags": []
          },
          "execution_count": 17
        },
        {
          "output_type": "display_data",
          "data": {
            "image/png": "[encoded data removed]",
            "text/plain": [
              "<Figure size 432x288 with 1 Axes>"
            ]
          },
          "metadata": {
            "tags": []
          }
        }
      ]
    },
    {
      "cell_type": "markdown",
      "metadata": {
        "id": "96c_FgXOo98u",
        "colab_type": "text"
      },
      "source": [
        "# SAR"
      ]
    },
    {
      "cell_type": "code",
      "metadata": {
        "id": "eRPVEtrmo-bi",
        "colab_type": "code",
        "colab": {
          "base_uri": "https://localhost:8080/",
          "height": 778
        },
        "outputId": "bc638a89-40af-4605-8704-b20868902d50"
      },
      "source": [
        "df['SAR'] = TA.SAR(ohlc)\n",
        "print(df['SAR'].describe())\n",
        "sns.distplot(df['SAR'].dropna())\n",
        "df.tail()"
      ],
      "execution_count": 18,
      "outputs": [
        {
          "output_type": "stream",
          "text": [
            "count    2877.000000\n",
            "mean       62.045070\n",
            "std        12.555531\n",
            "min        27.870001\n",
            "25%        53.894021\n",
            "50%        59.978199\n",
            "75%        70.747998\n",
            "max        88.400002\n",
            "Name: SAR, dtype: float64\n"
          ],
          "name": "stdout"
        },
        {
          "output_type": "execute_result",
          "data": {
            "text/html": [
              "<div>\n",
              "<style scoped>\n",
              "    .dataframe tbody tr th:only-of-type {\n",
              "        vertical-align: middle;\n",
              "    }\n",
              "\n",
              "    .dataframe tbody tr th {\n",
              "        vertical-align: top;\n",
              "    }\n",
              "\n",
              "    .dataframe thead th {\n",
              "        text-align: right;\n",
              "    }\n",
              "</style>\n",
              "<table border=\"1\" class=\"dataframe\">\n",
              "  <thead>\n",
              "    <tr style=\"text-align: right;\">\n",
              "      <th></th>\n",
              "      <th>High</th>\n",
              "      <th>Low</th>\n",
              "      <th>Open</th>\n",
              "      <th>Close</th>\n",
              "      <th>Volume</th>\n",
              "      <th>return%</th>\n",
              "      <th>RSI</th>\n",
              "      <th>Williams %R</th>\n",
              "      <th>SMA</th>\n",
              "      <th>EMA</th>\n",
              "      <th>WMA</th>\n",
              "      <th>HMA</th>\n",
              "      <th>TEMA</th>\n",
              "      <th>CCI</th>\n",
              "      <th>CMO</th>\n",
              "      <th>MACD</th>\n",
              "      <th>PPO</th>\n",
              "      <th>ROC</th>\n",
              "      <th>CFI</th>\n",
              "      <th>DMI</th>\n",
              "      <th>SAR</th>\n",
              "    </tr>\n",
              "    <tr>\n",
              "      <th>Date</th>\n",
              "      <th></th>\n",
              "      <th></th>\n",
              "      <th></th>\n",
              "      <th></th>\n",
              "      <th></th>\n",
              "      <th></th>\n",
              "      <th></th>\n",
              "      <th></th>\n",
              "      <th></th>\n",
              "      <th></th>\n",
              "      <th></th>\n",
              "      <th></th>\n",
              "      <th></th>\n",
              "      <th></th>\n",
              "      <th></th>\n",
              "      <th></th>\n",
              "      <th></th>\n",
              "      <th></th>\n",
              "      <th></th>\n",
              "      <th></th>\n",
              "      <th></th>\n",
              "    </tr>\n",
              "  </thead>\n",
              "  <tbody>\n",
              "    <tr>\n",
              "      <th>2019-09-02</th>\n",
              "      <td>82.000000</td>\n",
              "      <td>81.650002</td>\n",
              "      <td>81.800003</td>\n",
              "      <td>81.900002</td>\n",
              "      <td>6457870.0</td>\n",
              "      <td>0.061091</td>\n",
              "      <td>62.698693</td>\n",
              "      <td>-4.166600</td>\n",
              "      <td>80.910001</td>\n",
              "      <td>80.950204</td>\n",
              "      <td>80.684445</td>\n",
              "      <td>80.885001</td>\n",
              "      <td>81.603058</td>\n",
              "      <td>143.717155</td>\n",
              "      <td>27.500014</td>\n",
              "      <td>0.180702</td>\n",
              "      <td>0.223065</td>\n",
              "      <td>1.992526</td>\n",
              "      <td>-7.786882e+08</td>\n",
              "      <td>11.995912</td>\n",
              "      <td>79.594105</td>\n",
              "    </tr>\n",
              "    <tr>\n",
              "      <th>2019-09-03</th>\n",
              "      <td>82.000000</td>\n",
              "      <td>81.199997</td>\n",
              "      <td>81.849998</td>\n",
              "      <td>81.199997</td>\n",
              "      <td>5052925.0</td>\n",
              "      <td>-0.854706</td>\n",
              "      <td>76.622808</td>\n",
              "      <td>-33.333439</td>\n",
              "      <td>81.180000</td>\n",
              "      <td>81.000163</td>\n",
              "      <td>80.651111</td>\n",
              "      <td>81.275001</td>\n",
              "      <td>81.552079</td>\n",
              "      <td>96.940970</td>\n",
              "      <td>4.444377</td>\n",
              "      <td>0.171747</td>\n",
              "      <td>0.212018</td>\n",
              "      <td>2.266997</td>\n",
              "      <td>-7.770803e+08</td>\n",
              "      <td>3.011767</td>\n",
              "      <td>79.834694</td>\n",
              "    </tr>\n",
              "    <tr>\n",
              "      <th>2019-09-04</th>\n",
              "      <td>82.199997</td>\n",
              "      <td>81.400002</td>\n",
              "      <td>81.449997</td>\n",
              "      <td>82.150002</td>\n",
              "      <td>10748771.0</td>\n",
              "      <td>1.169956</td>\n",
              "      <td>81.317962</td>\n",
              "      <td>-1.922902</td>\n",
              "      <td>81.530000</td>\n",
              "      <td>81.230130</td>\n",
              "      <td>80.621112</td>\n",
              "      <td>81.764999</td>\n",
              "      <td>81.962576</td>\n",
              "      <td>120.541026</td>\n",
              "      <td>19.626203</td>\n",
              "      <td>0.220213</td>\n",
              "      <td>0.271799</td>\n",
              "      <td>2.240203</td>\n",
              "      <td>-7.739082e+08</td>\n",
              "      <td>5.926209</td>\n",
              "      <td>80.051225</td>\n",
              "    </tr>\n",
              "    <tr>\n",
              "      <th>2019-09-05</th>\n",
              "      <td>83.199997</td>\n",
              "      <td>82.550003</td>\n",
              "      <td>82.550003</td>\n",
              "      <td>83.000000</td>\n",
              "      <td>25429390.0</td>\n",
              "      <td>1.034691</td>\n",
              "      <td>82.631139</td>\n",
              "      <td>-5.555473</td>\n",
              "      <td>82.020000</td>\n",
              "      <td>81.584104</td>\n",
              "      <td>80.655556</td>\n",
              "      <td>81.850000</td>\n",
              "      <td>82.618155</td>\n",
              "      <td>164.641823</td>\n",
              "      <td>32.786852</td>\n",
              "      <td>0.295244</td>\n",
              "      <td>0.363960</td>\n",
              "      <td>2.722768</td>\n",
              "      <td>-7.673828e+08</td>\n",
              "      <td>21.704096</td>\n",
              "      <td>80.309077</td>\n",
              "    </tr>\n",
              "    <tr>\n",
              "      <th>2019-09-06</th>\n",
              "      <td>83.550003</td>\n",
              "      <td>82.550003</td>\n",
              "      <td>82.550003</td>\n",
              "      <td>83.500000</td>\n",
              "      <td>17194000.0</td>\n",
              "      <td>0.602410</td>\n",
              "      <td>83.984523</td>\n",
              "      <td>-1.315869</td>\n",
              "      <td>82.350000</td>\n",
              "      <td>81.967283</td>\n",
              "      <td>81.045556</td>\n",
              "      <td>82.074999</td>\n",
              "      <td>83.251691</td>\n",
              "      <td>150.881234</td>\n",
              "      <td>73.333198</td>\n",
              "      <td>0.359984</td>\n",
              "      <td>0.442881</td>\n",
              "      <td>3.086420</td>\n",
              "      <td>-7.604808e+08</td>\n",
              "      <td>24.600569</td>\n",
              "      <td>80.713806</td>\n",
              "    </tr>\n",
              "  </tbody>\n",
              "</table>\n",
              "</div>"
            ],
            "text/plain": [
              "                 High        Low       Open  ...           CFI        DMI        SAR\n",
              "Date                                         ...                                    \n",
              "2019-09-02  82.000000  81.650002  81.800003  ... -7.786882e+08  11.995912  79.594105\n",
              "2019-09-03  82.000000  81.199997  81.849998  ... -7.770803e+08   3.011767  79.834694\n",
              "2019-09-04  82.199997  81.400002  81.449997  ... -7.739082e+08   5.926209  80.051225\n",
              "2019-09-05  83.199997  82.550003  82.550003  ... -7.673828e+08  21.704096  80.309077\n",
              "2019-09-06  83.550003  82.550003  82.550003  ... -7.604808e+08  24.600569  80.713806\n",
              "\n",
              "[5 rows x 21 columns]"
            ]
          },
          "metadata": {
            "tags": []
          },
          "execution_count": 18
        },
        {
          "output_type": "display_data",
          "data": {
            "image/png": "[encoded data removed]",
            "text/plain": [
              "<Figure size 432x288 with 1 Axes>"
            ]
          },
          "metadata": {
            "tags": []
          }
        }
      ]
    },
    {
      "cell_type": "markdown",
      "metadata": {
        "id": "MoqrDEejwYOV",
        "colab_type": "text"
      },
      "source": [
        "# columns選取"
      ]
    },
    {
      "cell_type": "code",
      "metadata": {
        "id": "qrGg0ojRKuE1",
        "colab_type": "code",
        "outputId": "f13fca5d-e997-46b9-be0d-37e23f34bfdf",
        "colab": {
          "base_uri": "https://localhost:8080/",
          "height": 370
        }
      },
      "source": [
        "df = df.dropna(axis=0)#刪除有缺失的row,會缺失主要因為rolling計算技術指標導致\n",
        "features = df.columns[6:].tolist()\n",
        "labels = ['return%']\n",
        "df = df[features+labels]\n",
        "print(df.shape)\n",
        "df.head()"
      ],
      "execution_count": 19,
      "outputs": [
        {
          "output_type": "stream",
          "text": [
            "(2794, 16)\n"
          ],
          "name": "stdout"
        },
        {
          "output_type": "execute_result",
          "data": {
            "text/html": [
              "<div>\n",
              "<style scoped>\n",
              "    .dataframe tbody tr th:only-of-type {\n",
              "        vertical-align: middle;\n",
              "    }\n",
              "\n",
              "    .dataframe tbody tr th {\n",
              "        vertical-align: top;\n",
              "    }\n",
              "\n",
              "    .dataframe thead th {\n",
              "        text-align: right;\n",
              "    }\n",
              "</style>\n",
              "<table border=\"1\" class=\"dataframe\">\n",
              "  <thead>\n",
              "    <tr style=\"text-align: right;\">\n",
              "      <th></th>\n",
              "      <th>RSI</th>\n",
              "      <th>Williams %R</th>\n",
              "      <th>SMA</th>\n",
              "      <th>EMA</th>\n",
              "      <th>WMA</th>\n",
              "      <th>HMA</th>\n",
              "      <th>TEMA</th>\n",
              "      <th>CCI</th>\n",
              "      <th>CMO</th>\n",
              "      <th>MACD</th>\n",
              "      <th>PPO</th>\n",
              "      <th>ROC</th>\n",
              "      <th>CFI</th>\n",
              "      <th>DMI</th>\n",
              "      <th>SAR</th>\n",
              "      <th>return%</th>\n",
              "    </tr>\n",
              "    <tr>\n",
              "      <th>Date</th>\n",
              "      <th></th>\n",
              "      <th></th>\n",
              "      <th></th>\n",
              "      <th></th>\n",
              "      <th></th>\n",
              "      <th></th>\n",
              "      <th></th>\n",
              "      <th></th>\n",
              "      <th></th>\n",
              "      <th></th>\n",
              "      <th></th>\n",
              "      <th></th>\n",
              "      <th></th>\n",
              "      <th></th>\n",
              "      <th></th>\n",
              "      <th></th>\n",
              "    </tr>\n",
              "  </thead>\n",
              "  <tbody>\n",
              "    <tr>\n",
              "      <th>2008-05-08</th>\n",
              "      <td>38.789222</td>\n",
              "      <td>-78.723425</td>\n",
              "      <td>63.299999</td>\n",
              "      <td>63.382882</td>\n",
              "      <td>63.654445</td>\n",
              "      <td>63.085000</td>\n",
              "      <td>62.924831</td>\n",
              "      <td>-106.919003</td>\n",
              "      <td>-15.463947</td>\n",
              "      <td>-0.248012</td>\n",
              "      <td>-0.398158</td>\n",
              "      <td>-2.941173</td>\n",
              "      <td>1.052384e+08</td>\n",
              "      <td>-62.962853</td>\n",
              "      <td>65.579519</td>\n",
              "      <td>-1.415091</td>\n",
              "    </tr>\n",
              "    <tr>\n",
              "      <th>2008-05-09</th>\n",
              "      <td>26.891090</td>\n",
              "      <td>-91.999982</td>\n",
              "      <td>62.910000</td>\n",
              "      <td>63.156306</td>\n",
              "      <td>63.627778</td>\n",
              "      <td>63.064999</td>\n",
              "      <td>62.489224</td>\n",
              "      <td>-135.200512</td>\n",
              "      <td>-23.809558</td>\n",
              "      <td>-0.297035</td>\n",
              "      <td>-0.474788</td>\n",
              "      <td>-3.338512</td>\n",
              "      <td>1.014267e+08</td>\n",
              "      <td>-35.185195</td>\n",
              "      <td>65.376748</td>\n",
              "      <td>-0.717705</td>\n",
              "    </tr>\n",
              "    <tr>\n",
              "      <th>2008-05-12</th>\n",
              "      <td>30.066838</td>\n",
              "      <td>-69.811367</td>\n",
              "      <td>62.860000</td>\n",
              "      <td>63.065045</td>\n",
              "      <td>63.438889</td>\n",
              "      <td>62.970000</td>\n",
              "      <td>62.449469</td>\n",
              "      <td>-111.339184</td>\n",
              "      <td>-28.712934</td>\n",
              "      <td>-0.288934</td>\n",
              "      <td>-0.461280</td>\n",
              "      <td>-1.647058</td>\n",
              "      <td>9.870901e+07</td>\n",
              "      <td>-26.013218</td>\n",
              "      <td>65.110608</td>\n",
              "      <td>0.722893</td>\n",
              "    </tr>\n",
              "    <tr>\n",
              "      <th>2008-05-13</th>\n",
              "      <td>63.232365</td>\n",
              "      <td>-21.568487</td>\n",
              "      <td>63.030000</td>\n",
              "      <td>63.232036</td>\n",
              "      <td>63.388889</td>\n",
              "      <td>62.685001</td>\n",
              "      <td>63.031329</td>\n",
              "      <td>-13.260110</td>\n",
              "      <td>7.142896</td>\n",
              "      <td>-0.196984</td>\n",
              "      <td>-0.315131</td>\n",
              "      <td>0.709221</td>\n",
              "      <td>9.902963e+07</td>\n",
              "      <td>9.343968</td>\n",
              "      <td>64.789547</td>\n",
              "      <td>1.913877</td>\n",
              "    </tr>\n",
              "    <tr>\n",
              "      <th>2008-05-14</th>\n",
              "      <td>64.648572</td>\n",
              "      <td>-11.764547</td>\n",
              "      <td>63.140001</td>\n",
              "      <td>63.415629</td>\n",
              "      <td>63.264444</td>\n",
              "      <td>62.905001</td>\n",
              "      <td>63.539091</td>\n",
              "      <td>41.376611</td>\n",
              "      <td>4.587165</td>\n",
              "      <td>-0.117408</td>\n",
              "      <td>-0.188882</td>\n",
              "      <td>1.023624</td>\n",
              "      <td>9.976218e+07</td>\n",
              "      <td>14.747127</td>\n",
              "      <td>64.500593</td>\n",
              "      <td>0.391236</td>\n",
              "    </tr>\n",
              "  </tbody>\n",
              "</table>\n",
              "</div>"
            ],
            "text/plain": [
              "                  RSI  Williams %R        SMA  ...        DMI        SAR   return%\n",
              "Date                                           ...                                \n",
              "2008-05-08  38.789222   -78.723425  63.299999  ... -62.962853  65.579519 -1.415091\n",
              "2008-05-09  26.891090   -91.999982  62.910000  ... -35.185195  65.376748 -0.717705\n",
              "2008-05-12  30.066838   -69.811367  62.860000  ... -26.013218  65.110608  0.722893\n",
              "2008-05-13  63.232365   -21.568487  63.030000  ...   9.343968  64.789547  1.913877\n",
              "2008-05-14  64.648572   -11.764547  63.140001  ...  14.747127  64.500593  0.391236\n",
              "\n",
              "[5 rows x 16 columns]"
            ]
          },
          "metadata": {
            "tags": []
          },
          "execution_count": 19
        }
      ]
    },
    {
      "cell_type": "markdown",
      "metadata": {
        "id": "YSh6cJBEwgtg",
        "colab_type": "text"
      },
      "source": [
        "# 相關性分析"
      ]
    },
    {
      "cell_type": "code",
      "metadata": {
        "id": "hKy0pMZfLKEH",
        "colab_type": "code",
        "outputId": "c1b43398-38c9-42e9-8421-3c1837ddf1cb",
        "colab": {
          "base_uri": "https://localhost:8080/",
          "height": 774
        }
      },
      "source": [
        "import seaborn as sns\n",
        "import matplotlib.pyplot as plt\n",
        "plt.figure(figsize=(14,12))\n",
        "sns.heatmap(abs(df.corr()),annot=True,linewidths=0.1)"
      ],
      "execution_count": 20,
      "outputs": [
        {
          "output_type": "execute_result",
          "data": {
            "text/plain": [
              "<matplotlib.axes._subplots.AxesSubplot at 0x7face3e6fbe0>"
            ]
          },
          "metadata": {
            "tags": []
          },
          "execution_count": 20
        },
        {
          "output_type": "display_data",
          "data": {
            "image/png": "[encoded data removed]",
            "text/plain": [
              "<Figure size 1008x864 with 2 Axes>"
            ]
          },
          "metadata": {
            "tags": []
          }
        }
      ]
    },
    {
      "cell_type": "markdown",
      "metadata": {
        "id": "c68TXVQaqGl3",
        "colab_type": "text"
      },
      "source": [
        "# features scaling"
      ]
    },
    {
      "cell_type": "code",
      "metadata": {
        "id": "JpZPZWfJqGuo",
        "colab_type": "code",
        "colab": {
          "base_uri": "https://localhost:8080/",
          "height": 528
        },
        "outputId": "aae41db5-7b71-4c1d-c30a-98e03551b8a2"
      },
      "source": [
        "from sklearn.preprocessing import MinMaxScaler\n",
        "min_max_scaler = MinMaxScaler()\n",
        "df_minmax = min_max_scaler.fit_transform(df)#縮放到0-1之間\n",
        "df_minmax = pd.DataFrame(df_minmax,index=df.index,columns=df.columns)#轉回dataframe格式\n",
        "df_minmax['return%'] = df['return%']#y不用MinMaxScaler\n",
        "print(df_minmax.describe())\n",
        "df_minmax.tail()"
      ],
      "execution_count": 21,
      "outputs": [
        {
          "output_type": "stream",
          "text": [
            "               RSI  Williams %R  ...          SAR      return%\n",
            "count  2794.000000  2794.000000  ...  2794.000000  2794.000000\n",
            "mean      0.532066     0.554354  ...     0.565794     0.022623\n",
            "std       0.256128     0.315333  ...     0.210230     1.611649\n",
            "min       0.000000     0.000000  ...     0.000000   -11.922342\n",
            "25%       0.342154     0.258063  ...     0.427558    -0.514448\n",
            "50%       0.540634     0.589743  ...     0.529800     0.000000\n",
            "75%       0.730634     0.852587  ...     0.719862     0.602344\n",
            "max       1.000000     1.000000  ...     1.000000    19.945908\n",
            "\n",
            "[8 rows x 16 columns]\n"
          ],
          "name": "stdout"
        },
        {
          "output_type": "execute_result",
          "data": {
            "text/html": [
              "<div>\n",
              "<style scoped>\n",
              "    .dataframe tbody tr th:only-of-type {\n",
              "        vertical-align: middle;\n",
              "    }\n",
              "\n",
              "    .dataframe tbody tr th {\n",
              "        vertical-align: top;\n",
              "    }\n",
              "\n",
              "    .dataframe thead th {\n",
              "        text-align: right;\n",
              "    }\n",
              "</style>\n",
              "<table border=\"1\" class=\"dataframe\">\n",
              "  <thead>\n",
              "    <tr style=\"text-align: right;\">\n",
              "      <th></th>\n",
              "      <th>RSI</th>\n",
              "      <th>Williams %R</th>\n",
              "      <th>SMA</th>\n",
              "      <th>EMA</th>\n",
              "      <th>WMA</th>\n",
              "      <th>HMA</th>\n",
              "      <th>TEMA</th>\n",
              "      <th>CCI</th>\n",
              "      <th>CMO</th>\n",
              "      <th>MACD</th>\n",
              "      <th>PPO</th>\n",
              "      <th>ROC</th>\n",
              "      <th>CFI</th>\n",
              "      <th>DMI</th>\n",
              "      <th>SAR</th>\n",
              "      <th>return%</th>\n",
              "    </tr>\n",
              "    <tr>\n",
              "      <th>Date</th>\n",
              "      <th></th>\n",
              "      <th></th>\n",
              "      <th></th>\n",
              "      <th></th>\n",
              "      <th></th>\n",
              "      <th></th>\n",
              "      <th></th>\n",
              "      <th></th>\n",
              "      <th></th>\n",
              "      <th></th>\n",
              "      <th></th>\n",
              "      <th></th>\n",
              "      <th></th>\n",
              "      <th></th>\n",
              "      <th></th>\n",
              "      <th></th>\n",
              "    </tr>\n",
              "  </thead>\n",
              "  <tbody>\n",
              "    <tr>\n",
              "      <th>2019-09-02</th>\n",
              "      <td>0.626987</td>\n",
              "      <td>0.958334</td>\n",
              "      <td>0.882612</td>\n",
              "      <td>0.895615</td>\n",
              "      <td>0.884895</td>\n",
              "      <td>0.880382</td>\n",
              "      <td>0.887433</td>\n",
              "      <td>0.825551</td>\n",
              "      <td>0.632969</td>\n",
              "      <td>0.644396</td>\n",
              "      <td>0.530102</td>\n",
              "      <td>0.611722</td>\n",
              "      <td>0.098273</td>\n",
              "      <td>0.703243</td>\n",
              "      <td>0.854520</td>\n",
              "      <td>0.061091</td>\n",
              "    </tr>\n",
              "    <tr>\n",
              "      <th>2019-09-03</th>\n",
              "      <td>0.766228</td>\n",
              "      <td>0.666666</td>\n",
              "      <td>0.887294</td>\n",
              "      <td>0.896506</td>\n",
              "      <td>0.884312</td>\n",
              "      <td>0.887075</td>\n",
              "      <td>0.886568</td>\n",
              "      <td>0.721281</td>\n",
              "      <td>0.516250</td>\n",
              "      <td>0.639028</td>\n",
              "      <td>0.527639</td>\n",
              "      <td>0.617918</td>\n",
              "      <td>0.099904</td>\n",
              "      <td>0.658039</td>\n",
              "      <td>0.858495</td>\n",
              "      <td>-0.854706</td>\n",
              "    </tr>\n",
              "    <tr>\n",
              "      <th>2019-09-04</th>\n",
              "      <td>0.813180</td>\n",
              "      <td>0.980771</td>\n",
              "      <td>0.893362</td>\n",
              "      <td>0.900609</td>\n",
              "      <td>0.883787</td>\n",
              "      <td>0.895485</td>\n",
              "      <td>0.893530</td>\n",
              "      <td>0.773889</td>\n",
              "      <td>0.593108</td>\n",
              "      <td>0.668083</td>\n",
              "      <td>0.540967</td>\n",
              "      <td>0.617313</td>\n",
              "      <td>0.103121</td>\n",
              "      <td>0.672703</td>\n",
              "      <td>0.862072</td>\n",
              "      <td>1.169956</td>\n",
              "    </tr>\n",
              "    <tr>\n",
              "      <th>2019-09-05</th>\n",
              "      <td>0.826311</td>\n",
              "      <td>0.944445</td>\n",
              "      <td>0.901859</td>\n",
              "      <td>0.906925</td>\n",
              "      <td>0.884390</td>\n",
              "      <td>0.896944</td>\n",
              "      <td>0.904649</td>\n",
              "      <td>0.872195</td>\n",
              "      <td>0.659734</td>\n",
              "      <td>0.713064</td>\n",
              "      <td>0.561514</td>\n",
              "      <td>0.628207</td>\n",
              "      <td>0.109738</td>\n",
              "      <td>0.752090</td>\n",
              "      <td>0.866332</td>\n",
              "      <td>1.034691</td>\n",
              "    </tr>\n",
              "    <tr>\n",
              "      <th>2019-09-06</th>\n",
              "      <td>0.839845</td>\n",
              "      <td>0.986841</td>\n",
              "      <td>0.907581</td>\n",
              "      <td>0.913761</td>\n",
              "      <td>0.891212</td>\n",
              "      <td>0.900805</td>\n",
              "      <td>0.915394</td>\n",
              "      <td>0.841521</td>\n",
              "      <td>0.864999</td>\n",
              "      <td>0.751875</td>\n",
              "      <td>0.579110</td>\n",
              "      <td>0.636416</td>\n",
              "      <td>0.116738</td>\n",
              "      <td>0.766664</td>\n",
              "      <td>0.873018</td>\n",
              "      <td>0.602410</td>\n",
              "    </tr>\n",
              "  </tbody>\n",
              "</table>\n",
              "</div>"
            ],
            "text/plain": [
              "                 RSI  Williams %R       SMA  ...       DMI       SAR   return%\n",
              "Date                                         ...                              \n",
              "2019-09-02  0.626987     0.958334  0.882612  ...  0.703243  0.854520  0.061091\n",
              "2019-09-03  0.766228     0.666666  0.887294  ...  0.658039  0.858495 -0.854706\n",
              "2019-09-04  0.813180     0.980771  0.893362  ...  0.672703  0.862072  1.169956\n",
              "2019-09-05  0.826311     0.944445  0.901859  ...  0.752090  0.866332  1.034691\n",
              "2019-09-06  0.839845     0.986841  0.907581  ...  0.766664  0.873018  0.602410\n",
              "\n",
              "[5 rows x 16 columns]"
            ]
          },
          "metadata": {
            "tags": []
          },
          "execution_count": 21
        }
      ]
    },
    {
      "cell_type": "code",
      "metadata": {
        "id": "5MCZDpBgrrQQ",
        "colab_type": "code",
        "colab": {
          "base_uri": "https://localhost:8080/",
          "height": 35
        },
        "outputId": "ab1dfff5-047d-4d7c-8067-59d7eba369c9"
      },
      "source": [
        "df = df_minmax\n",
        "print('特徵縮放完成!')"
      ],
      "execution_count": 22,
      "outputs": [
        {
          "output_type": "stream",
          "text": [
            "特徵縮放完成!\n"
          ],
          "name": "stdout"
        }
      ]
    },
    {
      "cell_type": "markdown",
      "metadata": {
        "id": "_kc7tvz_M7PO",
        "colab_type": "text"
      },
      "source": [
        "# Xs ,ys prepare"
      ]
    },
    {
      "cell_type": "code",
      "metadata": {
        "id": "2ZHvlRJ5Lzzu",
        "colab_type": "code",
        "outputId": "c175ac0c-4b30-42b8-a833-0cedf384e8fa",
        "colab": {
          "base_uri": "https://localhost:8080/",
          "height": 52
        }
      },
      "source": [
        "from tqdm import tqdm\n",
        "import numpy as np\n",
        "\n",
        "#定義觀察天數,起始index(0),結束index(資料筆數-觀察天數)\n",
        "days = 15\n",
        "b_index = 0\n",
        "f_index = len(df)-days\n",
        "\n",
        "#特徵欄位\n",
        "features = df.drop('return%',axis=1).columns.tolist()\n",
        "\n",
        "#目標名稱\n",
        "y_name = 'return%'\n",
        "\n",
        "#待存放序列\n",
        "Xs = []\n",
        "ys = []\n",
        "indexs = []\n",
        "\n",
        "for i in tqdm(range(b_index,f_index,1)):#每次i都會遞增1\n",
        "  X = df.iloc[i:i+days,:][features]#取i:i+days這段時間的features(不包括i+days這一天),例如0,1,2...14日這些日期的features\n",
        "  y = df.iloc[i+days:i+days+1,:][y_name]#取i+days這一天的y_name,例如第15日y_name\n",
        "  X = np.array(X) #2維df表格轉成2維np_array\n",
        "  Xs.append(X) #加入一筆X\n",
        "  ys.append(y) #加入一筆y\n",
        "  indexs.append((df.iloc[[i]].index,df.iloc[[i+days]].index)) #加入資料日期\n",
        "#轉換成np_array\n",
        "Xs = np.array(Xs)\n",
        "ys = np.array(ys)\n",
        "print('準備完成')"
      ],
      "execution_count": 23,
      "outputs": [
        {
          "output_type": "stream",
          "text": [
            "100%|██████████| 2779/2779 [00:05<00:00, 526.19it/s]\n"
          ],
          "name": "stderr"
        },
        {
          "output_type": "stream",
          "text": [
            "準備完成\n"
          ],
          "name": "stdout"
        }
      ]
    },
    {
      "cell_type": "markdown",
      "metadata": {
        "id": "a9iNRYKpNfIP",
        "colab_type": "text"
      },
      "source": [
        "# check"
      ]
    },
    {
      "cell_type": "code",
      "metadata": {
        "id": "7YiS6ZmtNfSf",
        "colab_type": "code",
        "outputId": "4ec249f9-6d42-4823-81a4-fcbb01845fa3",
        "colab": {
          "base_uri": "https://localhost:8080/",
          "height": 90
        }
      },
      "source": [
        "print('資料筆數:',len(df))\n",
        "print('第一筆的index開始和結束',indexs[0])\n",
        "print('最後一筆的index開始和結束',indexs[-1])"
      ],
      "execution_count": 24,
      "outputs": [
        {
          "output_type": "stream",
          "text": [
            "資料筆數: 2794\n",
            "第一筆的index開始和結束 (DatetimeIndex(['2008-05-08'], dtype='datetime64[ns]', name='Date', freq=None), DatetimeIndex(['2008-05-29'], dtype='datetime64[ns]', name='Date', freq=None))\n",
            "最後一筆的index開始和結束 (DatetimeIndex(['2019-08-15'], dtype='datetime64[ns]', name='Date', freq=None), DatetimeIndex(['2019-09-06'], dtype='datetime64[ns]', name='Date', freq=None))\n"
          ],
          "name": "stdout"
        }
      ]
    },
    {
      "cell_type": "markdown",
      "metadata": {
        "id": "Pabl4tEsXYB8",
        "colab_type": "text"
      },
      "source": [
        "# Reshape X"
      ]
    },
    {
      "cell_type": "markdown",
      "metadata": {
        "id": "RvUPQWb1An8u",
        "colab_type": "text"
      },
      "source": [
        "(圖片數量,長,寬,1張)"
      ]
    },
    {
      "cell_type": "code",
      "metadata": {
        "id": "In4R0IcSPDwG",
        "colab_type": "code",
        "outputId": "7f1c81c5-c34f-468d-cbc5-ac114250acda",
        "colab": {
          "base_uri": "https://localhost:8080/",
          "height": 52
        }
      },
      "source": [
        "print(Xs.shape)\n",
        "Xs = Xs.reshape(-1,days,len(features),1)\n",
        "print(Xs.shape)"
      ],
      "execution_count": 25,
      "outputs": [
        {
          "output_type": "stream",
          "text": [
            "(2779, 15, 15)\n",
            "(2779, 15, 15, 1)\n"
          ],
          "name": "stdout"
        }
      ]
    },
    {
      "cell_type": "markdown",
      "metadata": {
        "id": "lUy2cpReXaOV",
        "colab_type": "text"
      },
      "source": [
        "# One hot encoding of label"
      ]
    },
    {
      "cell_type": "markdown",
      "metadata": {
        "id": "hjDc-sStA1gk",
        "colab_type": "text"
      },
      "source": [
        "原始y代表漲幅"
      ]
    },
    {
      "cell_type": "code",
      "metadata": {
        "id": "6XGRdxmfWrfo",
        "colab_type": "code",
        "outputId": "d288f555-407c-42cd-dcea-98fd86f51a74",
        "colab": {
          "base_uri": "https://localhost:8080/",
          "height": 124
        }
      },
      "source": [
        "print(ys.shape)\n",
        "print(ys[:5])"
      ],
      "execution_count": 26,
      "outputs": [
        {
          "output_type": "stream",
          "text": [
            "(2779, 1)\n",
            "[[ 0.97244484]\n",
            " [-0.1605112 ]\n",
            " [ 0.64308313]\n",
            " [-1.59744413]\n",
            " [ 0.32467657]]\n"
          ],
          "name": "stdout"
        }
      ]
    },
    {
      "cell_type": "markdown",
      "metadata": {
        "id": "zj6RK_nhA5Vt",
        "colab_type": "text"
      },
      "source": [
        "轉換成 漲或跌 的one_hot_array"
      ]
    },
    {
      "cell_type": "code",
      "metadata": {
        "id": "zs2aMc2qRUo4",
        "colab_type": "code",
        "outputId": "a9219d3c-fa47-4789-e538-9fe239012375",
        "colab": {
          "base_uri": "https://localhost:8080/",
          "height": 141
        }
      },
      "source": [
        "from keras.utils.np_utils import to_categorical\n",
        "r1 = (ys>0)\n",
        "r2 = (ys<0)\n",
        "ys[r1] = int(1)\n",
        "ys[r2] = int(0)\n",
        "ys = to_categorical(ys, num_classes = 2)\n",
        "print(ys.shape)\n",
        "print(ys[:5])"
      ],
      "execution_count": 27,
      "outputs": [
        {
          "output_type": "stream",
          "text": [
            "Using TensorFlow backend.\n"
          ],
          "name": "stderr"
        },
        {
          "output_type": "stream",
          "text": [
            "(2779, 2)\n",
            "[[0. 1.]\n",
            " [1. 0.]\n",
            " [0. 1.]\n",
            " [1. 0.]\n",
            " [0. 1.]]\n"
          ],
          "name": "stdout"
        }
      ]
    },
    {
      "cell_type": "markdown",
      "metadata": {
        "id": "TYcPI2TWBTpJ",
        "colab_type": "text"
      },
      "source": [
        "# Visualization"
      ]
    },
    {
      "cell_type": "code",
      "metadata": {
        "id": "2bv3dxecChjt",
        "colab_type": "code",
        "outputId": "8f99ec91-49dc-41e4-80c5-a6072fd106b0",
        "colab": {
          "base_uri": "https://localhost:8080/",
          "height": 52
        }
      },
      "source": [
        "print(Xs.shape)\n",
        "Xs_v = Xs.reshape(-1,Xs.shape[1],Xs.shape[2])\n",
        "print(Xs_v.shape)"
      ],
      "execution_count": 28,
      "outputs": [
        {
          "output_type": "stream",
          "text": [
            "(2779, 15, 15, 1)\n",
            "(2779, 15, 15)\n"
          ],
          "name": "stdout"
        }
      ]
    },
    {
      "cell_type": "code",
      "metadata": {
        "id": "ibNjBLRaBUJh",
        "colab_type": "code",
        "outputId": "3a789f22-21da-4b44-aefb-50be0da95653",
        "colab": {
          "base_uri": "https://localhost:8080/",
          "height": 607
        }
      },
      "source": [
        "import matplotlib.pyplot as plt\n",
        "import matplotlib.image as mpimg\n",
        "%matplotlib inline\n",
        "plt.figure(figsize=(10,10))\n",
        "plt.subplots_adjust(wspace =0, hspace =0.3)\n",
        "for i in range(0,9):\n",
        "    plt.subplot(330 + (i+1))\n",
        "    plt.imshow(Xs_v[i])\n",
        "    plt.title(np.argmax(ys[i]))"
      ],
      "execution_count": 29,
      "outputs": [
        {
          "output_type": "display_data",
          "data": {
            "image/png": "[encoded data removed]",
            "text/plain": [
              "<Figure size 720x720 with 9 Axes>"
            ]
          },
          "metadata": {
            "tags": []
          }
        }
      ]
    },
    {
      "cell_type": "markdown",
      "metadata": {
        "id": "5Oa6gYq_aVjE",
        "colab_type": "text"
      },
      "source": [
        "# Split training and validation sets"
      ]
    },
    {
      "cell_type": "code",
      "metadata": {
        "id": "MgsrVpYUYf5J",
        "colab_type": "code",
        "outputId": "a633ee0b-a070-4ddd-902c-cd274d0f2319",
        "colab": {
          "base_uri": "https://localhost:8080/",
          "height": 35
        }
      },
      "source": [
        "from sklearn.model_selection import train_test_split\n",
        "xtrain, xval, ytrain, yval = train_test_split(Xs,\n",
        "                                              ys, \n",
        "                                              test_size=0.1,#切分比例\n",
        "                                              random_state=42, #隨機種子\n",
        "                                              shuffle=True,#是否洗牌\n",
        "                                              stratify=None #是否根據y欄位做分層取樣\n",
        "                                             )\n",
        "print(xtrain.shape, ytrain.shape, xval.shape, yval.shape)"
      ],
      "execution_count": 30,
      "outputs": [
        {
          "output_type": "stream",
          "text": [
            "(2501, 15, 15, 1) (2501, 2) (278, 15, 15, 1) (278, 2)\n"
          ],
          "name": "stdout"
        }
      ]
    },
    {
      "cell_type": "markdown",
      "metadata": {
        "id": "2xQOFrENMkSb",
        "colab_type": "text"
      },
      "source": [
        "# 看一下樣本的label分布情況是否平均"
      ]
    },
    {
      "cell_type": "code",
      "metadata": {
        "id": "aA9SXiicML6Y",
        "colab_type": "code",
        "outputId": "ac80320b-ddc6-4d49-c6e4-35b9e507b702",
        "colab": {
          "base_uri": "https://localhost:8080/",
          "height": 70
        }
      },
      "source": [
        "pd.Series([np.argmax(i) for i in ys]).value_counts()"
      ],
      "execution_count": 31,
      "outputs": [
        {
          "output_type": "execute_result",
          "data": {
            "text/plain": [
              "0    1403\n",
              "1    1376\n",
              "dtype: int64"
            ]
          },
          "metadata": {
            "tags": []
          },
          "execution_count": 31
        }
      ]
    },
    {
      "cell_type": "code",
      "metadata": {
        "id": "UIOBe8tVL5dV",
        "colab_type": "code",
        "outputId": "1e573486-2908-4a4a-c6f3-3d154c19b7cc",
        "colab": {
          "base_uri": "https://localhost:8080/",
          "height": 70
        }
      },
      "source": [
        "pd.Series([np.argmax(i) for i in ytrain]).value_counts()"
      ],
      "execution_count": 32,
      "outputs": [
        {
          "output_type": "execute_result",
          "data": {
            "text/plain": [
              "0    1259\n",
              "1    1242\n",
              "dtype: int64"
            ]
          },
          "metadata": {
            "tags": []
          },
          "execution_count": 32
        }
      ]
    },
    {
      "cell_type": "code",
      "metadata": {
        "id": "A235BZ6cMQ-S",
        "colab_type": "code",
        "outputId": "b69b9dcf-507d-498b-b5d2-c09a6e724e9b",
        "colab": {
          "base_uri": "https://localhost:8080/",
          "height": 70
        }
      },
      "source": [
        "pd.Series([np.argmax(i) for i in yval]).value_counts()"
      ],
      "execution_count": 33,
      "outputs": [
        {
          "output_type": "execute_result",
          "data": {
            "text/plain": [
              "0    144\n",
              "1    134\n",
              "dtype: int64"
            ]
          },
          "metadata": {
            "tags": []
          },
          "execution_count": 33
        }
      ]
    },
    {
      "cell_type": "markdown",
      "metadata": {
        "id": "m-oXz0FGarb1",
        "colab_type": "text"
      },
      "source": [
        "# CNN"
      ]
    },
    {
      "cell_type": "code",
      "metadata": {
        "id": "eWOsWp7_amoX",
        "colab_type": "code",
        "colab": {}
      },
      "source": [
        "from keras import backend as K\n",
        "from keras.models import Sequential\n",
        "from keras.layers import Dense, Dropout, Lambda, Flatten, BatchNormalization\n",
        "from keras.layers import Conv2D, MaxPool2D, AvgPool2D\n",
        "from keras.optimizers import Adam #做梯度下降的一種優化方法\n",
        "from keras.callbacks import ReduceLROnPlateau , EarlyStopping #減少學習速率 on Plateau"
      ],
      "execution_count": 0,
      "outputs": []
    },
    {
      "cell_type": "code",
      "metadata": {
        "id": "yd-csnW2auJS",
        "colab_type": "code",
        "outputId": "8e5a0581-0c24-45f1-dd87-899651b40bd3",
        "colab": {
          "base_uri": "https://localhost:8080/",
          "height": 712
        }
      },
      "source": [
        "model = Sequential()\n",
        "\n",
        "dim1 = days #觀察時間\n",
        "dim2 = len(features) #特徵數量\n",
        "nclasses = 2 #漲或跌\n",
        "\n",
        "# two convolutional layers (15x15x32, 15x15x64), \n",
        "#兩層conv+maxpool+dropout\n",
        "model.add(Conv2D(filters=32, kernel_size=(3,3), padding='same', activation='relu', input_shape=(15,15,1)))\n",
        "model.add(Conv2D(filters=64, kernel_size=(3,3), padding='same', activation='relu',))\n",
        "model.add(MaxPool2D(pool_size=(2,2)))\n",
        "model.add(Dropout(0.25))\n",
        "#全連接層\n",
        "model.add(Flatten())\n",
        "model.add(Dense(128, activation='relu'))\n",
        "model.add(Dropout(0.50))\n",
        "model.add(Dense(nclasses, activation='softmax'))#分類輸出漲或跌\n",
        "model.summary()"
      ],
      "execution_count": 35,
      "outputs": [
        {
          "output_type": "stream",
          "text": [
            "WARNING: Logging before flag parsing goes to stderr.\n",
            "W0906 13:43:05.974956 140381362878336 deprecation_wrapper.py:119] From /usr/local/lib/python3.6/dist-packages/keras/backend/tensorflow_backend.py:66: The name tf.get_default_graph is deprecated. Please use tf.compat.v1.get_default_graph instead.\n",
            "\n",
            "W0906 13:43:06.019419 140381362878336 deprecation_wrapper.py:119] From /usr/local/lib/python3.6/dist-packages/keras/backend/tensorflow_backend.py:541: The name tf.placeholder is deprecated. Please use tf.compat.v1.placeholder instead.\n",
            "\n",
            "W0906 13:43:06.026211 140381362878336 deprecation_wrapper.py:119] From /usr/local/lib/python3.6/dist-packages/keras/backend/tensorflow_backend.py:4432: The name tf.random_uniform is deprecated. Please use tf.random.uniform instead.\n",
            "\n",
            "W0906 13:43:06.066624 140381362878336 deprecation_wrapper.py:119] From /usr/local/lib/python3.6/dist-packages/keras/backend/tensorflow_backend.py:4267: The name tf.nn.max_pool is deprecated. Please use tf.nn.max_pool2d instead.\n",
            "\n",
            "W0906 13:43:06.068921 140381362878336 deprecation_wrapper.py:119] From /usr/local/lib/python3.6/dist-packages/keras/backend/tensorflow_backend.py:148: The name tf.placeholder_with_default is deprecated. Please use tf.compat.v1.placeholder_with_default instead.\n",
            "\n",
            "W0906 13:43:06.077152 140381362878336 deprecation.py:506] From /usr/local/lib/python3.6/dist-packages/keras/backend/tensorflow_backend.py:3733: calling dropout (from tensorflow.python.ops.nn_ops) with keep_prob is deprecated and will be removed in a future version.\n",
            "Instructions for updating:\n",
            "Please use `rate` instead of `keep_prob`. Rate should be set to `rate = 1 - keep_prob`.\n"
          ],
          "name": "stderr"
        },
        {
          "output_type": "stream",
          "text": [
            "Model: \"sequential_1\"\n",
            "_________________________________________________________________\n",
            "Layer (type)                 Output Shape              Param #   \n",
            "=================================================================\n",
            "conv2d_1 (Conv2D)            (None, 15, 15, 32)        320       \n",
            "_________________________________________________________________\n",
            "conv2d_2 (Conv2D)            (None, 15, 15, 64)        18496     \n",
            "_________________________________________________________________\n",
            "max_pooling2d_1 (MaxPooling2 (None, 7, 7, 64)          0         \n",
            "_________________________________________________________________\n",
            "dropout_1 (Dropout)          (None, 7, 7, 64)          0         \n",
            "_________________________________________________________________\n",
            "flatten_1 (Flatten)          (None, 3136)              0         \n",
            "_________________________________________________________________\n",
            "dense_1 (Dense)              (None, 128)               401536    \n",
            "_________________________________________________________________\n",
            "dropout_2 (Dropout)          (None, 128)               0         \n",
            "_________________________________________________________________\n",
            "dense_2 (Dense)              (None, 2)                 258       \n",
            "=================================================================\n",
            "Total params: 420,610\n",
            "Trainable params: 420,610\n",
            "Non-trainable params: 0\n",
            "_________________________________________________________________\n"
          ],
          "name": "stdout"
        }
      ]
    },
    {
      "cell_type": "code",
      "metadata": {
        "id": "8Z913AqUa8bJ",
        "colab_type": "code",
        "outputId": "9793b4f6-d06a-4259-c9ea-e8db805da680",
        "colab": {
          "base_uri": "https://localhost:8080/",
          "height": 108
        }
      },
      "source": [
        "model.compile(optimizer=\"adam\", loss=\"categorical_crossentropy\", metrics=[\"accuracy\"])"
      ],
      "execution_count": 36,
      "outputs": [
        {
          "output_type": "stream",
          "text": [
            "W0906 13:43:06.145642 140381362878336 deprecation_wrapper.py:119] From /usr/local/lib/python3.6/dist-packages/keras/optimizers.py:793: The name tf.train.Optimizer is deprecated. Please use tf.compat.v1.train.Optimizer instead.\n",
            "\n",
            "W0906 13:43:06.170447 140381362878336 deprecation_wrapper.py:119] From /usr/local/lib/python3.6/dist-packages/keras/backend/tensorflow_backend.py:3576: The name tf.log is deprecated. Please use tf.math.log instead.\n",
            "\n"
          ],
          "name": "stderr"
        }
      ]
    },
    {
      "cell_type": "markdown",
      "metadata": {
        "id": "VORA4n9Lz9of",
        "colab_type": "text"
      },
      "source": [
        "# 優化器"
      ]
    },
    {
      "cell_type": "code",
      "metadata": {
        "id": "Kw_j4R4Da_To",
        "colab_type": "code",
        "colab": {}
      },
      "source": [
        "#1\n",
        "lr_reduction = ReduceLROnPlateau(monitor='val_acc', \n",
        "                                 patience=20, \n",
        "                                 verbose=1, \n",
        "                                 factor=0.5, \n",
        "                                 min_lr=0.000001)\n",
        "#2\n",
        "es = EarlyStopping(monitor='val_loss', #驗證集loss\n",
        "                   min_delta=0, \n",
        "                   patience=30,  \n",
        "                   mode='min',\n",
        "                   restore_best_weights=False)#恢復最佳權重"
      ],
      "execution_count": 0,
      "outputs": []
    },
    {
      "cell_type": "markdown",
      "metadata": {
        "id": "aevlVsI9Lk9a",
        "colab_type": "text"
      },
      "source": [
        "# fit"
      ]
    },
    {
      "cell_type": "code",
      "metadata": {
        "id": "TJJR7Yg-bHac",
        "colab_type": "code",
        "outputId": "6eaa10e8-8faa-480e-d685-991e1f6d8bf1",
        "colab": {
          "base_uri": "https://localhost:8080/",
          "height": 1000
        }
      },
      "source": [
        "history = model.fit(xtrain,ytrain,\n",
        "                    batch_size=128,\n",
        "                    epochs=200,\n",
        "                    validation_data=(xval,yval),\n",
        "                    verbose=1,callbacks=[lr_reduction])"
      ],
      "execution_count": 38,
      "outputs": [
        {
          "output_type": "stream",
          "text": [
            "W0906 13:43:06.458516 140381362878336 deprecation.py:323] From /usr/local/lib/python3.6/dist-packages/tensorflow/python/ops/math_grad.py:1250: add_dispatch_support.<locals>.wrapper (from tensorflow.python.ops.array_ops) is deprecated and will be removed in a future version.\n",
            "Instructions for updating:\n",
            "Use tf.where in 2.0, which has the same broadcast rule as np.where\n"
          ],
          "name": "stderr"
        },
        {
          "output_type": "stream",
          "text": [
            "Train on 2501 samples, validate on 278 samples\n",
            "Epoch 1/200\n",
            "2501/2501 [==============================] - 8s 3ms/step - loss: 0.6958 - acc: 0.4990 - val_loss: 0.6928 - val_acc: 0.5324\n",
            "Epoch 2/200\n",
            "2501/2501 [==============================] - 0s 52us/step - loss: 0.6946 - acc: 0.4954 - val_loss: 0.6924 - val_acc: 0.5216\n",
            "Epoch 3/200\n",
            "2501/2501 [==============================] - 0s 51us/step - loss: 0.6932 - acc: 0.5202 - val_loss: 0.6930 - val_acc: 0.5000\n",
            "Epoch 4/200\n",
            "2501/2501 [==============================] - 0s 51us/step - loss: 0.6931 - acc: 0.5202 - val_loss: 0.6924 - val_acc: 0.5180\n",
            "Epoch 5/200\n",
            "2501/2501 [==============================] - 0s 51us/step - loss: 0.6925 - acc: 0.5186 - val_loss: 0.6913 - val_acc: 0.5288\n",
            "Epoch 6/200\n",
            "2501/2501 [==============================] - 0s 47us/step - loss: 0.6922 - acc: 0.5238 - val_loss: 0.6918 - val_acc: 0.5180\n",
            "Epoch 7/200\n",
            "2501/2501 [==============================] - 0s 47us/step - loss: 0.6919 - acc: 0.5326 - val_loss: 0.6916 - val_acc: 0.5252\n",
            "Epoch 8/200\n",
            "2501/2501 [==============================] - 0s 50us/step - loss: 0.6928 - acc: 0.5130 - val_loss: 0.6912 - val_acc: 0.5432\n",
            "Epoch 9/200\n",
            "2501/2501 [==============================] - 0s 45us/step - loss: 0.6908 - acc: 0.5274 - val_loss: 0.6921 - val_acc: 0.5144\n",
            "Epoch 10/200\n",
            "2501/2501 [==============================] - 0s 46us/step - loss: 0.6891 - acc: 0.5314 - val_loss: 0.6898 - val_acc: 0.5252\n",
            "Epoch 11/200\n",
            "2501/2501 [==============================] - 0s 46us/step - loss: 0.6899 - acc: 0.5310 - val_loss: 0.6910 - val_acc: 0.5324\n",
            "Epoch 12/200\n",
            "2501/2501 [==============================] - 0s 46us/step - loss: 0.6904 - acc: 0.5382 - val_loss: 0.6900 - val_acc: 0.5072\n",
            "Epoch 13/200\n",
            "2501/2501 [==============================] - 0s 52us/step - loss: 0.6886 - acc: 0.5422 - val_loss: 0.6921 - val_acc: 0.5144\n",
            "Epoch 14/200\n",
            "2501/2501 [==============================] - 0s 46us/step - loss: 0.6866 - acc: 0.5434 - val_loss: 0.6917 - val_acc: 0.5396\n",
            "Epoch 15/200\n",
            "2501/2501 [==============================] - 0s 45us/step - loss: 0.6844 - acc: 0.5466 - val_loss: 0.6910 - val_acc: 0.5144\n",
            "Epoch 16/200\n",
            "2501/2501 [==============================] - 0s 45us/step - loss: 0.6826 - acc: 0.5526 - val_loss: 0.6904 - val_acc: 0.5252\n",
            "Epoch 17/200\n",
            "2501/2501 [==============================] - 0s 45us/step - loss: 0.6823 - acc: 0.5534 - val_loss: 0.6937 - val_acc: 0.5108\n",
            "Epoch 18/200\n",
            "2501/2501 [==============================] - 0s 47us/step - loss: 0.6780 - acc: 0.5650 - val_loss: 0.6891 - val_acc: 0.5252\n",
            "Epoch 19/200\n",
            "2501/2501 [==============================] - 0s 47us/step - loss: 0.6772 - acc: 0.5686 - val_loss: 0.6907 - val_acc: 0.5540\n",
            "Epoch 20/200\n",
            "2501/2501 [==============================] - 0s 46us/step - loss: 0.6721 - acc: 0.5830 - val_loss: 0.6904 - val_acc: 0.5396\n",
            "Epoch 21/200\n",
            "2501/2501 [==============================] - 0s 46us/step - loss: 0.6763 - acc: 0.5826 - val_loss: 0.6883 - val_acc: 0.5432\n",
            "Epoch 22/200\n",
            "2501/2501 [==============================] - 0s 50us/step - loss: 0.6710 - acc: 0.5742 - val_loss: 0.6925 - val_acc: 0.5072\n",
            "Epoch 23/200\n",
            "2501/2501 [==============================] - 0s 45us/step - loss: 0.6681 - acc: 0.5814 - val_loss: 0.6919 - val_acc: 0.5468\n",
            "Epoch 24/200\n",
            "2501/2501 [==============================] - 0s 46us/step - loss: 0.6688 - acc: 0.5866 - val_loss: 0.6956 - val_acc: 0.5000\n",
            "Epoch 25/200\n",
            "2501/2501 [==============================] - 0s 46us/step - loss: 0.6618 - acc: 0.5974 - val_loss: 0.6972 - val_acc: 0.5576\n",
            "Epoch 26/200\n",
            "2501/2501 [==============================] - 0s 44us/step - loss: 0.6594 - acc: 0.5970 - val_loss: 0.6964 - val_acc: 0.4712\n",
            "Epoch 27/200\n",
            "2501/2501 [==============================] - 0s 44us/step - loss: 0.6641 - acc: 0.5902 - val_loss: 0.6999 - val_acc: 0.5000\n",
            "Epoch 28/200\n",
            "2501/2501 [==============================] - 0s 46us/step - loss: 0.6596 - acc: 0.5938 - val_loss: 0.6983 - val_acc: 0.5360\n",
            "Epoch 29/200\n",
            "2501/2501 [==============================] - 0s 46us/step - loss: 0.6488 - acc: 0.6178 - val_loss: 0.7079 - val_acc: 0.5360\n",
            "Epoch 30/200\n",
            "2501/2501 [==============================] - 0s 47us/step - loss: 0.6404 - acc: 0.6226 - val_loss: 0.7109 - val_acc: 0.5144\n",
            "Epoch 31/200\n",
            "2501/2501 [==============================] - 0s 47us/step - loss: 0.6390 - acc: 0.6218 - val_loss: 0.7104 - val_acc: 0.5252\n",
            "Epoch 32/200\n",
            "2501/2501 [==============================] - 0s 44us/step - loss: 0.6412 - acc: 0.6230 - val_loss: 0.7116 - val_acc: 0.4964\n",
            "Epoch 33/200\n",
            "2501/2501 [==============================] - 0s 44us/step - loss: 0.6270 - acc: 0.6461 - val_loss: 0.7111 - val_acc: 0.5540\n",
            "Epoch 34/200\n",
            "2501/2501 [==============================] - 0s 48us/step - loss: 0.6246 - acc: 0.6485 - val_loss: 0.7183 - val_acc: 0.5468\n",
            "Epoch 35/200\n",
            "2501/2501 [==============================] - 0s 46us/step - loss: 0.6207 - acc: 0.6405 - val_loss: 0.7195 - val_acc: 0.5288\n",
            "Epoch 36/200\n",
            "2501/2501 [==============================] - 0s 45us/step - loss: 0.6152 - acc: 0.6441 - val_loss: 0.7303 - val_acc: 0.4928\n",
            "Epoch 37/200\n",
            "2501/2501 [==============================] - 0s 46us/step - loss: 0.6092 - acc: 0.6661 - val_loss: 0.7320 - val_acc: 0.4928\n",
            "Epoch 38/200\n",
            "2501/2501 [==============================] - 0s 44us/step - loss: 0.6011 - acc: 0.6649 - val_loss: 0.7435 - val_acc: 0.5180\n",
            "Epoch 39/200\n",
            "2501/2501 [==============================] - 0s 45us/step - loss: 0.5926 - acc: 0.6745 - val_loss: 0.7457 - val_acc: 0.5108\n",
            "Epoch 40/200\n",
            "2501/2501 [==============================] - 0s 50us/step - loss: 0.5876 - acc: 0.6837 - val_loss: 0.7555 - val_acc: 0.4892\n",
            "Epoch 41/200\n",
            "2501/2501 [==============================] - 0s 47us/step - loss: 0.5782 - acc: 0.6885 - val_loss: 0.7622 - val_acc: 0.5072\n",
            "Epoch 42/200\n",
            "2501/2501 [==============================] - 0s 45us/step - loss: 0.5831 - acc: 0.6765 - val_loss: 0.7646 - val_acc: 0.5180\n",
            "Epoch 43/200\n",
            "2501/2501 [==============================] - 0s 44us/step - loss: 0.5747 - acc: 0.6897 - val_loss: 0.7716 - val_acc: 0.5072\n",
            "Epoch 44/200\n",
            "2501/2501 [==============================] - 0s 45us/step - loss: 0.5702 - acc: 0.6913 - val_loss: 0.7763 - val_acc: 0.4856\n",
            "Epoch 45/200\n",
            "2501/2501 [==============================] - 0s 46us/step - loss: 0.5539 - acc: 0.7137 - val_loss: 0.7710 - val_acc: 0.4856\n",
            "\n",
            "Epoch 00045: ReduceLROnPlateau reducing learning rate to 0.0005000000237487257.\n",
            "Epoch 46/200\n",
            "2501/2501 [==============================] - 0s 46us/step - loss: 0.5388 - acc: 0.7241 - val_loss: 0.7805 - val_acc: 0.5072\n",
            "Epoch 47/200\n",
            "2501/2501 [==============================] - 0s 45us/step - loss: 0.5309 - acc: 0.7217 - val_loss: 0.7878 - val_acc: 0.5108\n",
            "Epoch 48/200\n",
            "2501/2501 [==============================] - 0s 52us/step - loss: 0.5249 - acc: 0.7405 - val_loss: 0.7868 - val_acc: 0.4928\n",
            "Epoch 49/200\n",
            "2501/2501 [==============================] - 0s 46us/step - loss: 0.5127 - acc: 0.7413 - val_loss: 0.7994 - val_acc: 0.5036\n",
            "Epoch 50/200\n",
            "2501/2501 [==============================] - 0s 46us/step - loss: 0.5089 - acc: 0.7453 - val_loss: 0.8097 - val_acc: 0.5000\n",
            "Epoch 51/200\n",
            "2501/2501 [==============================] - 0s 46us/step - loss: 0.5042 - acc: 0.7481 - val_loss: 0.8075 - val_acc: 0.5288\n",
            "Epoch 52/200\n",
            "2501/2501 [==============================] - 0s 46us/step - loss: 0.5006 - acc: 0.7501 - val_loss: 0.8035 - val_acc: 0.5036\n",
            "Epoch 53/200\n",
            "2501/2501 [==============================] - 0s 47us/step - loss: 0.5034 - acc: 0.7569 - val_loss: 0.8240 - val_acc: 0.5072\n",
            "Epoch 54/200\n",
            "2501/2501 [==============================] - 0s 45us/step - loss: 0.4938 - acc: 0.7541 - val_loss: 0.8039 - val_acc: 0.5108\n",
            "Epoch 55/200\n",
            "2501/2501 [==============================] - 0s 44us/step - loss: 0.4822 - acc: 0.7657 - val_loss: 0.8244 - val_acc: 0.5144\n",
            "Epoch 56/200\n",
            "2501/2501 [==============================] - 0s 46us/step - loss: 0.4772 - acc: 0.7657 - val_loss: 0.8346 - val_acc: 0.5252\n",
            "Epoch 57/200\n",
            "2501/2501 [==============================] - 0s 52us/step - loss: 0.4833 - acc: 0.7489 - val_loss: 0.8301 - val_acc: 0.5252\n",
            "Epoch 58/200\n",
            "2501/2501 [==============================] - 0s 45us/step - loss: 0.4868 - acc: 0.7641 - val_loss: 0.8390 - val_acc: 0.5000\n",
            "Epoch 59/200\n",
            "2501/2501 [==============================] - 0s 48us/step - loss: 0.4674 - acc: 0.7757 - val_loss: 0.8315 - val_acc: 0.5180\n",
            "Epoch 60/200\n",
            "2501/2501 [==============================] - 0s 56us/step - loss: 0.4668 - acc: 0.7749 - val_loss: 0.8412 - val_acc: 0.5360\n",
            "Epoch 61/200\n",
            "2501/2501 [==============================] - 0s 47us/step - loss: 0.4650 - acc: 0.7845 - val_loss: 0.8331 - val_acc: 0.5144\n",
            "Epoch 62/200\n",
            "2501/2501 [==============================] - 0s 45us/step - loss: 0.4630 - acc: 0.7813 - val_loss: 0.8570 - val_acc: 0.5288\n",
            "Epoch 63/200\n",
            "2501/2501 [==============================] - 0s 46us/step - loss: 0.4592 - acc: 0.7733 - val_loss: 0.8466 - val_acc: 0.5144\n",
            "Epoch 64/200\n",
            "2501/2501 [==============================] - 0s 44us/step - loss: 0.4399 - acc: 0.7985 - val_loss: 0.8650 - val_acc: 0.5180\n",
            "Epoch 65/200\n",
            "2501/2501 [==============================] - 0s 49us/step - loss: 0.4417 - acc: 0.7901 - val_loss: 0.8740 - val_acc: 0.5144\n",
            "\n",
            "Epoch 00065: ReduceLROnPlateau reducing learning rate to 0.0002500000118743628.\n",
            "Epoch 66/200\n",
            "2501/2501 [==============================] - 0s 48us/step - loss: 0.4328 - acc: 0.8033 - val_loss: 0.8781 - val_acc: 0.5036\n",
            "Epoch 67/200\n",
            "2501/2501 [==============================] - 0s 45us/step - loss: 0.4199 - acc: 0.8005 - val_loss: 0.8822 - val_acc: 0.5216\n",
            "Epoch 68/200\n",
            "2501/2501 [==============================] - 0s 45us/step - loss: 0.4279 - acc: 0.8045 - val_loss: 0.8756 - val_acc: 0.5288\n",
            "Epoch 69/200\n",
            "2501/2501 [==============================] - 0s 47us/step - loss: 0.4249 - acc: 0.7961 - val_loss: 0.8909 - val_acc: 0.5144\n",
            "Epoch 70/200\n",
            "2501/2501 [==============================] - 0s 47us/step - loss: 0.4236 - acc: 0.8129 - val_loss: 0.8824 - val_acc: 0.5252\n",
            "Epoch 71/200\n",
            "2501/2501 [==============================] - 0s 46us/step - loss: 0.4145 - acc: 0.8153 - val_loss: 0.8831 - val_acc: 0.5288\n",
            "Epoch 72/200\n",
            "2501/2501 [==============================] - 0s 44us/step - loss: 0.4083 - acc: 0.8145 - val_loss: 0.8903 - val_acc: 0.5396\n",
            "Epoch 73/200\n",
            "2501/2501 [==============================] - 0s 46us/step - loss: 0.4239 - acc: 0.8105 - val_loss: 0.8903 - val_acc: 0.5288\n",
            "Epoch 74/200\n",
            "2501/2501 [==============================] - 0s 53us/step - loss: 0.4068 - acc: 0.8145 - val_loss: 0.8916 - val_acc: 0.5252\n",
            "Epoch 75/200\n",
            "2501/2501 [==============================] - 0s 46us/step - loss: 0.4080 - acc: 0.8193 - val_loss: 0.8930 - val_acc: 0.5288\n",
            "Epoch 76/200\n",
            "2501/2501 [==============================] - 0s 46us/step - loss: 0.4111 - acc: 0.8153 - val_loss: 0.8955 - val_acc: 0.5288\n",
            "Epoch 77/200\n",
            "2501/2501 [==============================] - 0s 44us/step - loss: 0.3944 - acc: 0.8133 - val_loss: 0.9041 - val_acc: 0.5216\n",
            "Epoch 78/200\n",
            "2501/2501 [==============================] - 0s 46us/step - loss: 0.3993 - acc: 0.8269 - val_loss: 0.9039 - val_acc: 0.5360\n",
            "Epoch 79/200\n",
            "2501/2501 [==============================] - 0s 46us/step - loss: 0.3907 - acc: 0.8277 - val_loss: 0.9085 - val_acc: 0.5288\n",
            "Epoch 80/200\n",
            "2501/2501 [==============================] - 0s 47us/step - loss: 0.3875 - acc: 0.8285 - val_loss: 0.9195 - val_acc: 0.5072\n",
            "Epoch 81/200\n",
            "2501/2501 [==============================] - 0s 45us/step - loss: 0.3939 - acc: 0.8245 - val_loss: 0.9153 - val_acc: 0.5216\n",
            "Epoch 82/200\n",
            "2501/2501 [==============================] - 0s 54us/step - loss: 0.3897 - acc: 0.8197 - val_loss: 0.9101 - val_acc: 0.5144\n",
            "Epoch 83/200\n",
            "2501/2501 [==============================] - 0s 48us/step - loss: 0.3840 - acc: 0.8297 - val_loss: 0.9232 - val_acc: 0.5252\n",
            "Epoch 84/200\n",
            "2501/2501 [==============================] - 0s 49us/step - loss: 0.3906 - acc: 0.8305 - val_loss: 0.9239 - val_acc: 0.5108\n",
            "Epoch 85/200\n",
            "2501/2501 [==============================] - 0s 46us/step - loss: 0.3824 - acc: 0.8293 - val_loss: 0.9289 - val_acc: 0.5252\n",
            "\n",
            "Epoch 00085: ReduceLROnPlateau reducing learning rate to 0.0001250000059371814.\n",
            "Epoch 86/200\n",
            "2501/2501 [==============================] - 0s 45us/step - loss: 0.3920 - acc: 0.8181 - val_loss: 0.9273 - val_acc: 0.5288\n",
            "Epoch 87/200\n",
            "2501/2501 [==============================] - 0s 44us/step - loss: 0.3766 - acc: 0.8413 - val_loss: 0.9336 - val_acc: 0.5252\n",
            "Epoch 88/200\n",
            "2501/2501 [==============================] - 0s 48us/step - loss: 0.3764 - acc: 0.8333 - val_loss: 0.9324 - val_acc: 0.5252\n",
            "Epoch 89/200\n",
            "2501/2501 [==============================] - 0s 49us/step - loss: 0.3735 - acc: 0.8353 - val_loss: 0.9285 - val_acc: 0.5288\n",
            "Epoch 90/200\n",
            "2501/2501 [==============================] - 0s 53us/step - loss: 0.3578 - acc: 0.8449 - val_loss: 0.9425 - val_acc: 0.5288\n",
            "Epoch 91/200\n",
            "2501/2501 [==============================] - 0s 50us/step - loss: 0.3657 - acc: 0.8429 - val_loss: 0.9450 - val_acc: 0.5288\n",
            "Epoch 92/200\n",
            "2501/2501 [==============================] - 0s 46us/step - loss: 0.3658 - acc: 0.8421 - val_loss: 0.9454 - val_acc: 0.5252\n",
            "Epoch 93/200\n",
            "2501/2501 [==============================] - 0s 46us/step - loss: 0.3732 - acc: 0.8385 - val_loss: 0.9401 - val_acc: 0.5180\n",
            "Epoch 94/200\n",
            "2501/2501 [==============================] - 0s 45us/step - loss: 0.3722 - acc: 0.8285 - val_loss: 0.9376 - val_acc: 0.5324\n",
            "Epoch 95/200\n",
            "2501/2501 [==============================] - 0s 46us/step - loss: 0.3747 - acc: 0.8389 - val_loss: 0.9353 - val_acc: 0.5252\n",
            "Epoch 96/200\n",
            "2501/2501 [==============================] - 0s 48us/step - loss: 0.3661 - acc: 0.8317 - val_loss: 0.9482 - val_acc: 0.5288\n",
            "Epoch 97/200\n",
            "2501/2501 [==============================] - 0s 44us/step - loss: 0.3616 - acc: 0.8405 - val_loss: 0.9441 - val_acc: 0.5360\n",
            "Epoch 98/200\n",
            "2501/2501 [==============================] - 0s 46us/step - loss: 0.3662 - acc: 0.8353 - val_loss: 0.9476 - val_acc: 0.5288\n",
            "Epoch 99/200\n",
            "2501/2501 [==============================] - 0s 51us/step - loss: 0.3623 - acc: 0.8393 - val_loss: 0.9447 - val_acc: 0.5252\n",
            "Epoch 100/200\n",
            "2501/2501 [==============================] - 0s 51us/step - loss: 0.3660 - acc: 0.8357 - val_loss: 0.9544 - val_acc: 0.5288\n",
            "Epoch 101/200\n",
            "2501/2501 [==============================] - 0s 48us/step - loss: 0.3558 - acc: 0.8509 - val_loss: 0.9501 - val_acc: 0.5288\n",
            "Epoch 102/200\n",
            "2501/2501 [==============================] - 0s 47us/step - loss: 0.3461 - acc: 0.8561 - val_loss: 0.9548 - val_acc: 0.5252\n",
            "Epoch 103/200\n",
            "2501/2501 [==============================] - 0s 47us/step - loss: 0.3542 - acc: 0.8437 - val_loss: 0.9524 - val_acc: 0.5216\n",
            "Epoch 104/200\n",
            "2501/2501 [==============================] - 0s 49us/step - loss: 0.3600 - acc: 0.8405 - val_loss: 0.9596 - val_acc: 0.5324\n",
            "Epoch 105/200\n",
            "2501/2501 [==============================] - 0s 47us/step - loss: 0.3594 - acc: 0.8409 - val_loss: 0.9612 - val_acc: 0.5360\n",
            "\n",
            "Epoch 00105: ReduceLROnPlateau reducing learning rate to 6.25000029685907e-05.\n",
            "Epoch 106/200\n",
            "2501/2501 [==============================] - 0s 49us/step - loss: 0.3662 - acc: 0.8389 - val_loss: 0.9543 - val_acc: 0.5216\n",
            "Epoch 107/200\n",
            "2501/2501 [==============================] - 0s 51us/step - loss: 0.3555 - acc: 0.8505 - val_loss: 0.9555 - val_acc: 0.5324\n",
            "Epoch 108/200\n",
            "2501/2501 [==============================] - 0s 47us/step - loss: 0.3550 - acc: 0.8509 - val_loss: 0.9554 - val_acc: 0.5288\n",
            "Epoch 109/200\n",
            "2501/2501 [==============================] - 0s 51us/step - loss: 0.3564 - acc: 0.8501 - val_loss: 0.9534 - val_acc: 0.5432\n",
            "Epoch 110/200\n",
            "2501/2501 [==============================] - 0s 45us/step - loss: 0.3434 - acc: 0.8533 - val_loss: 0.9591 - val_acc: 0.5324\n",
            "Epoch 111/200\n",
            "2501/2501 [==============================] - 0s 46us/step - loss: 0.3525 - acc: 0.8517 - val_loss: 0.9615 - val_acc: 0.5288\n",
            "Epoch 112/200\n",
            "2501/2501 [==============================] - 0s 45us/step - loss: 0.3649 - acc: 0.8413 - val_loss: 0.9575 - val_acc: 0.5324\n",
            "Epoch 113/200\n",
            "2501/2501 [==============================] - 0s 46us/step - loss: 0.3500 - acc: 0.8545 - val_loss: 0.9585 - val_acc: 0.5360\n",
            "Epoch 114/200\n",
            "2501/2501 [==============================] - 0s 46us/step - loss: 0.3522 - acc: 0.8477 - val_loss: 0.9572 - val_acc: 0.5396\n",
            "Epoch 115/200\n",
            "2501/2501 [==============================] - 0s 45us/step - loss: 0.3536 - acc: 0.8505 - val_loss: 0.9569 - val_acc: 0.5432\n",
            "Epoch 116/200\n",
            "2501/2501 [==============================] - 0s 52us/step - loss: 0.3479 - acc: 0.8549 - val_loss: 0.9583 - val_acc: 0.5324\n",
            "Epoch 117/200\n",
            "2501/2501 [==============================] - 0s 48us/step - loss: 0.3483 - acc: 0.8509 - val_loss: 0.9617 - val_acc: 0.5432\n",
            "Epoch 118/200\n",
            "2501/2501 [==============================] - 0s 45us/step - loss: 0.3499 - acc: 0.8489 - val_loss: 0.9628 - val_acc: 0.5360\n",
            "Epoch 119/200\n",
            "2501/2501 [==============================] - 0s 46us/step - loss: 0.3536 - acc: 0.8461 - val_loss: 0.9606 - val_acc: 0.5396\n",
            "Epoch 120/200\n",
            "2501/2501 [==============================] - 0s 44us/step - loss: 0.3490 - acc: 0.8541 - val_loss: 0.9568 - val_acc: 0.5324\n",
            "Epoch 121/200\n",
            "2501/2501 [==============================] - 0s 45us/step - loss: 0.3389 - acc: 0.8633 - val_loss: 0.9639 - val_acc: 0.5288\n",
            "Epoch 122/200\n",
            "2501/2501 [==============================] - 0s 46us/step - loss: 0.3418 - acc: 0.8533 - val_loss: 0.9679 - val_acc: 0.5324\n",
            "Epoch 123/200\n",
            "2501/2501 [==============================] - 0s 48us/step - loss: 0.3470 - acc: 0.8481 - val_loss: 0.9676 - val_acc: 0.5324\n",
            "Epoch 124/200\n",
            "2501/2501 [==============================] - 0s 50us/step - loss: 0.3474 - acc: 0.8477 - val_loss: 0.9683 - val_acc: 0.5432\n",
            "Epoch 125/200\n",
            "2501/2501 [==============================] - 0s 47us/step - loss: 0.3408 - acc: 0.8557 - val_loss: 0.9660 - val_acc: 0.5360\n",
            "\n",
            "Epoch 00125: ReduceLROnPlateau reducing learning rate to 3.125000148429535e-05.\n",
            "Epoch 126/200\n",
            "2501/2501 [==============================] - 0s 45us/step - loss: 0.3478 - acc: 0.8489 - val_loss: 0.9643 - val_acc: 0.5288\n",
            "Epoch 127/200\n",
            "2501/2501 [==============================] - 0s 46us/step - loss: 0.3319 - acc: 0.8601 - val_loss: 0.9673 - val_acc: 0.5324\n",
            "Epoch 128/200\n",
            "2501/2501 [==============================] - 0s 47us/step - loss: 0.3306 - acc: 0.8617 - val_loss: 0.9703 - val_acc: 0.5288\n",
            "Epoch 129/200\n",
            "2501/2501 [==============================] - 0s 45us/step - loss: 0.3395 - acc: 0.8509 - val_loss: 0.9730 - val_acc: 0.5288\n",
            "Epoch 130/200\n",
            "2501/2501 [==============================] - 0s 46us/step - loss: 0.3406 - acc: 0.8577 - val_loss: 0.9715 - val_acc: 0.5252\n",
            "Epoch 131/200\n",
            "2501/2501 [==============================] - 0s 45us/step - loss: 0.3466 - acc: 0.8497 - val_loss: 0.9695 - val_acc: 0.5252\n",
            "Epoch 132/200\n",
            "2501/2501 [==============================] - 0s 45us/step - loss: 0.3426 - acc: 0.8489 - val_loss: 0.9683 - val_acc: 0.5324\n",
            "Epoch 133/200\n",
            "2501/2501 [==============================] - 0s 49us/step - loss: 0.3437 - acc: 0.8533 - val_loss: 0.9692 - val_acc: 0.5252\n",
            "Epoch 134/200\n",
            "2501/2501 [==============================] - 0s 48us/step - loss: 0.3428 - acc: 0.8581 - val_loss: 0.9703 - val_acc: 0.5288\n",
            "Epoch 135/200\n",
            "2501/2501 [==============================] - 0s 46us/step - loss: 0.3482 - acc: 0.8469 - val_loss: 0.9693 - val_acc: 0.5324\n",
            "Epoch 136/200\n",
            "2501/2501 [==============================] - 0s 46us/step - loss: 0.3366 - acc: 0.8653 - val_loss: 0.9697 - val_acc: 0.5252\n",
            "Epoch 137/200\n",
            "2501/2501 [==============================] - 0s 46us/step - loss: 0.3396 - acc: 0.8537 - val_loss: 0.9701 - val_acc: 0.5216\n",
            "Epoch 138/200\n",
            "2501/2501 [==============================] - 0s 46us/step - loss: 0.3475 - acc: 0.8509 - val_loss: 0.9710 - val_acc: 0.5252\n",
            "Epoch 139/200\n",
            "2501/2501 [==============================] - 0s 47us/step - loss: 0.3354 - acc: 0.8521 - val_loss: 0.9711 - val_acc: 0.5360\n",
            "Epoch 140/200\n",
            "2501/2501 [==============================] - 0s 45us/step - loss: 0.3482 - acc: 0.8553 - val_loss: 0.9704 - val_acc: 0.5324\n",
            "Epoch 141/200\n",
            "2501/2501 [==============================] - 0s 47us/step - loss: 0.3468 - acc: 0.8457 - val_loss: 0.9727 - val_acc: 0.5252\n",
            "Epoch 142/200\n",
            "2501/2501 [==============================] - 0s 50us/step - loss: 0.3423 - acc: 0.8525 - val_loss: 0.9726 - val_acc: 0.5252\n",
            "Epoch 143/200\n",
            "2501/2501 [==============================] - 0s 45us/step - loss: 0.3463 - acc: 0.8537 - val_loss: 0.9722 - val_acc: 0.5288\n",
            "Epoch 144/200\n",
            "2501/2501 [==============================] - 0s 45us/step - loss: 0.3482 - acc: 0.8525 - val_loss: 0.9725 - val_acc: 0.5324\n",
            "Epoch 145/200\n",
            "2501/2501 [==============================] - 0s 45us/step - loss: 0.3300 - acc: 0.8713 - val_loss: 0.9729 - val_acc: 0.5324\n",
            "\n",
            "Epoch 00145: ReduceLROnPlateau reducing learning rate to 1.5625000742147677e-05.\n",
            "Epoch 146/200\n",
            "2501/2501 [==============================] - 0s 46us/step - loss: 0.3423 - acc: 0.8593 - val_loss: 0.9733 - val_acc: 0.5288\n",
            "Epoch 147/200\n",
            "2501/2501 [==============================] - 0s 54us/step - loss: 0.3309 - acc: 0.8569 - val_loss: 0.9738 - val_acc: 0.5288\n",
            "Epoch 148/200\n",
            "2501/2501 [==============================] - 0s 46us/step - loss: 0.3304 - acc: 0.8593 - val_loss: 0.9740 - val_acc: 0.5288\n",
            "Epoch 149/200\n",
            "2501/2501 [==============================] - 0s 46us/step - loss: 0.3377 - acc: 0.8581 - val_loss: 0.9745 - val_acc: 0.5288\n",
            "Epoch 150/200\n",
            "2501/2501 [==============================] - 0s 52us/step - loss: 0.3359 - acc: 0.8613 - val_loss: 0.9740 - val_acc: 0.5324\n",
            "Epoch 151/200\n",
            "2501/2501 [==============================] - 0s 45us/step - loss: 0.3402 - acc: 0.8533 - val_loss: 0.9734 - val_acc: 0.5324\n",
            "Epoch 152/200\n",
            "2501/2501 [==============================] - 0s 46us/step - loss: 0.3345 - acc: 0.8625 - val_loss: 0.9733 - val_acc: 0.5288\n",
            "Epoch 153/200\n",
            "2501/2501 [==============================] - 0s 46us/step - loss: 0.3399 - acc: 0.8545 - val_loss: 0.9732 - val_acc: 0.5288\n",
            "Epoch 154/200\n",
            "2501/2501 [==============================] - 0s 47us/step - loss: 0.3360 - acc: 0.8533 - val_loss: 0.9733 - val_acc: 0.5288\n",
            "Epoch 155/200\n",
            "2501/2501 [==============================] - 0s 46us/step - loss: 0.3262 - acc: 0.8665 - val_loss: 0.9744 - val_acc: 0.5288\n",
            "Epoch 156/200\n",
            "2501/2501 [==============================] - 0s 45us/step - loss: 0.3330 - acc: 0.8577 - val_loss: 0.9753 - val_acc: 0.5288\n",
            "Epoch 157/200\n",
            "2501/2501 [==============================] - 0s 46us/step - loss: 0.3428 - acc: 0.8545 - val_loss: 0.9762 - val_acc: 0.5324\n",
            "Epoch 158/200\n",
            "2501/2501 [==============================] - 0s 46us/step - loss: 0.3349 - acc: 0.8633 - val_loss: 0.9756 - val_acc: 0.5288\n",
            "Epoch 159/200\n",
            "2501/2501 [==============================] - 0s 51us/step - loss: 0.3355 - acc: 0.8617 - val_loss: 0.9756 - val_acc: 0.5324\n",
            "Epoch 160/200\n",
            "2501/2501 [==============================] - 0s 47us/step - loss: 0.3508 - acc: 0.8489 - val_loss: 0.9751 - val_acc: 0.5288\n",
            "Epoch 161/200\n",
            "2501/2501 [==============================] - 0s 46us/step - loss: 0.3425 - acc: 0.8509 - val_loss: 0.9748 - val_acc: 0.5324\n",
            "Epoch 162/200\n",
            "2501/2501 [==============================] - 0s 46us/step - loss: 0.3386 - acc: 0.8557 - val_loss: 0.9735 - val_acc: 0.5288\n",
            "Epoch 163/200\n",
            "2501/2501 [==============================] - 0s 50us/step - loss: 0.3265 - acc: 0.8629 - val_loss: 0.9740 - val_acc: 0.5252\n",
            "Epoch 164/200\n",
            "2501/2501 [==============================] - 0s 46us/step - loss: 0.3484 - acc: 0.8521 - val_loss: 0.9746 - val_acc: 0.5252\n",
            "Epoch 165/200\n",
            "2501/2501 [==============================] - 0s 46us/step - loss: 0.3342 - acc: 0.8601 - val_loss: 0.9750 - val_acc: 0.5216\n",
            "\n",
            "Epoch 00165: ReduceLROnPlateau reducing learning rate to 7.812500371073838e-06.\n",
            "Epoch 166/200\n",
            "2501/2501 [==============================] - 0s 47us/step - loss: 0.3293 - acc: 0.8653 - val_loss: 0.9760 - val_acc: 0.5252\n",
            "Epoch 167/200\n",
            "2501/2501 [==============================] - 0s 50us/step - loss: 0.3395 - acc: 0.8521 - val_loss: 0.9763 - val_acc: 0.5252\n",
            "Epoch 168/200\n",
            "2501/2501 [==============================] - 0s 44us/step - loss: 0.3355 - acc: 0.8573 - val_loss: 0.9763 - val_acc: 0.5216\n",
            "Epoch 169/200\n",
            "2501/2501 [==============================] - 0s 46us/step - loss: 0.3283 - acc: 0.8685 - val_loss: 0.9769 - val_acc: 0.5252\n",
            "Epoch 170/200\n",
            "2501/2501 [==============================] - 0s 46us/step - loss: 0.3354 - acc: 0.8637 - val_loss: 0.9766 - val_acc: 0.5252\n",
            "Epoch 171/200\n",
            "2501/2501 [==============================] - 0s 45us/step - loss: 0.3413 - acc: 0.8485 - val_loss: 0.9762 - val_acc: 0.5288\n",
            "Epoch 172/200\n",
            "2501/2501 [==============================] - 0s 45us/step - loss: 0.3290 - acc: 0.8629 - val_loss: 0.9763 - val_acc: 0.5288\n",
            "Epoch 173/200\n",
            "2501/2501 [==============================] - 0s 46us/step - loss: 0.3359 - acc: 0.8673 - val_loss: 0.9768 - val_acc: 0.5252\n",
            "Epoch 174/200\n",
            "2501/2501 [==============================] - 0s 46us/step - loss: 0.3413 - acc: 0.8513 - val_loss: 0.9769 - val_acc: 0.5216\n",
            "Epoch 175/200\n",
            "2501/2501 [==============================] - 0s 48us/step - loss: 0.3289 - acc: 0.8621 - val_loss: 0.9776 - val_acc: 0.5252\n",
            "Epoch 176/200\n",
            "2501/2501 [==============================] - 0s 47us/step - loss: 0.3352 - acc: 0.8601 - val_loss: 0.9776 - val_acc: 0.5252\n",
            "Epoch 177/200\n",
            "2501/2501 [==============================] - 0s 44us/step - loss: 0.3316 - acc: 0.8601 - val_loss: 0.9780 - val_acc: 0.5252\n",
            "Epoch 178/200\n",
            "2501/2501 [==============================] - 0s 45us/step - loss: 0.3341 - acc: 0.8553 - val_loss: 0.9779 - val_acc: 0.5252\n",
            "Epoch 179/200\n",
            "2501/2501 [==============================] - 0s 45us/step - loss: 0.3358 - acc: 0.8633 - val_loss: 0.9776 - val_acc: 0.5252\n",
            "Epoch 180/200\n",
            "2501/2501 [==============================] - 0s 44us/step - loss: 0.3302 - acc: 0.8601 - val_loss: 0.9774 - val_acc: 0.5252\n",
            "Epoch 181/200\n",
            "2501/2501 [==============================] - 0s 44us/step - loss: 0.3394 - acc: 0.8573 - val_loss: 0.9778 - val_acc: 0.5252\n",
            "Epoch 182/200\n",
            "2501/2501 [==============================] - 0s 46us/step - loss: 0.3352 - acc: 0.8573 - val_loss: 0.9774 - val_acc: 0.5252\n",
            "Epoch 183/200\n",
            "2501/2501 [==============================] - 0s 45us/step - loss: 0.3357 - acc: 0.8629 - val_loss: 0.9779 - val_acc: 0.5252\n",
            "Epoch 184/200\n",
            "2501/2501 [==============================] - 0s 44us/step - loss: 0.3332 - acc: 0.8585 - val_loss: 0.9785 - val_acc: 0.5252\n",
            "Epoch 185/200\n",
            "2501/2501 [==============================] - 0s 49us/step - loss: 0.3332 - acc: 0.8509 - val_loss: 0.9782 - val_acc: 0.5252\n",
            "\n",
            "Epoch 00185: ReduceLROnPlateau reducing learning rate to 3.906250185536919e-06.\n",
            "Epoch 186/200\n",
            "2501/2501 [==============================] - 0s 45us/step - loss: 0.3290 - acc: 0.8625 - val_loss: 0.9782 - val_acc: 0.5252\n",
            "Epoch 187/200\n",
            "2501/2501 [==============================] - 0s 44us/step - loss: 0.3381 - acc: 0.8561 - val_loss: 0.9781 - val_acc: 0.5252\n",
            "Epoch 188/200\n",
            "2501/2501 [==============================] - 0s 44us/step - loss: 0.3320 - acc: 0.8597 - val_loss: 0.9780 - val_acc: 0.5252\n",
            "Epoch 189/200\n",
            "2501/2501 [==============================] - 0s 45us/step - loss: 0.3312 - acc: 0.8713 - val_loss: 0.9779 - val_acc: 0.5252\n",
            "Epoch 190/200\n",
            "2501/2501 [==============================] - 0s 50us/step - loss: 0.3301 - acc: 0.8569 - val_loss: 0.9779 - val_acc: 0.5216\n",
            "Epoch 191/200\n",
            "2501/2501 [==============================] - 0s 47us/step - loss: 0.3426 - acc: 0.8557 - val_loss: 0.9779 - val_acc: 0.5252\n",
            "Epoch 192/200\n",
            "2501/2501 [==============================] - 0s 46us/step - loss: 0.3373 - acc: 0.8625 - val_loss: 0.9781 - val_acc: 0.5252\n",
            "Epoch 193/200\n",
            "2501/2501 [==============================] - 0s 49us/step - loss: 0.3454 - acc: 0.8401 - val_loss: 0.9784 - val_acc: 0.5252\n",
            "Epoch 194/200\n",
            "2501/2501 [==============================] - 0s 45us/step - loss: 0.3355 - acc: 0.8597 - val_loss: 0.9784 - val_acc: 0.5216\n",
            "Epoch 195/200\n",
            "2501/2501 [==============================] - 0s 46us/step - loss: 0.3397 - acc: 0.8533 - val_loss: 0.9783 - val_acc: 0.5216\n",
            "Epoch 196/200\n",
            "2501/2501 [==============================] - 0s 50us/step - loss: 0.3357 - acc: 0.8541 - val_loss: 0.9782 - val_acc: 0.5216\n",
            "Epoch 197/200\n",
            "2501/2501 [==============================] - 0s 47us/step - loss: 0.3315 - acc: 0.8621 - val_loss: 0.9784 - val_acc: 0.5252\n",
            "Epoch 198/200\n",
            "2501/2501 [==============================] - 0s 45us/step - loss: 0.3429 - acc: 0.8609 - val_loss: 0.9781 - val_acc: 0.5252\n",
            "Epoch 199/200\n",
            "2501/2501 [==============================] - 0s 45us/step - loss: 0.3351 - acc: 0.8609 - val_loss: 0.9781 - val_acc: 0.5252\n",
            "Epoch 200/200\n",
            "2501/2501 [==============================] - 0s 46us/step - loss: 0.3311 - acc: 0.8657 - val_loss: 0.9785 - val_acc: 0.5252\n"
          ],
          "name": "stdout"
        }
      ]
    },
    {
      "cell_type": "markdown",
      "metadata": {
        "id": "xQ2Koxsz0Zun",
        "colab_type": "text"
      },
      "source": [
        "# 訓練過程評估"
      ]
    },
    {
      "cell_type": "code",
      "metadata": {
        "id": "2SxJIEDzbaZ7",
        "colab_type": "code",
        "outputId": "541a7ee6-b1e7-4f0f-82fe-1d079bff0d82",
        "colab": {
          "base_uri": "https://localhost:8080/",
          "height": 269
        }
      },
      "source": [
        "import matplotlib.pyplot as plt\n",
        "fig, ax = plt.subplots(2,1)\n",
        "ax[0].plot(history.history['loss'], color='b', label=\"Training loss\")\n",
        "ax[0].plot(history.history['val_loss'], color='r', label=\"Validation loss\",axes =ax[0])\n",
        "ax[0].grid(color='black', linestyle='-', linewidth=0.25)\n",
        "legend = ax[0].legend(loc='best', shadow=True)\n",
        "\n",
        "ax[1].plot(history.history['acc'], color='b', label=\"Training accuracy\")\n",
        "ax[1].plot(history.history['val_acc'], color='r',label=\"Validation accuracy\")\n",
        "ax[1].grid(color='black', linestyle='-', linewidth=0.25)\n",
        "legend = ax[1].legend(loc='best', shadow=True)"
      ],
      "execution_count": 39,
      "outputs": [
        {
          "output_type": "display_data",
          "data": {
            "image/png": "[encoded data removed]",
            "text/plain": [
              "<Figure size 432x288 with 2 Axes>"
            ]
          },
          "metadata": {
            "tags": []
          }
        }
      ]
    },
    {
      "cell_type": "markdown",
      "metadata": {
        "id": "zWVmgHz80cCp",
        "colab_type": "text"
      },
      "source": [
        "# 混淆矩陣"
      ]
    },
    {
      "cell_type": "code",
      "metadata": {
        "id": "UH5CcmX6btme",
        "colab_type": "code",
        "outputId": "7cd10331-a431-454f-adf0-583ed20bf29e",
        "colab": {
          "base_uri": "https://localhost:8080/",
          "height": 311
        }
      },
      "source": [
        "from sklearn.metrics import confusion_matrix\n",
        "import itertools\n",
        "\n",
        "def plot_confusion_matrix(cm, classes, normalize=False, title='Confusion matrix', cmap=plt.cm.Blues):\n",
        "    plt.imshow(cm, interpolation='nearest', cmap=cmap)\n",
        "    plt.title(title)\n",
        "    plt.colorbar()\n",
        "    tick_marks = np.arange(len(classes))\n",
        "    plt.xticks(tick_marks, classes, rotation=45)\n",
        "    plt.yticks(tick_marks, classes)\n",
        "    if normalize:\n",
        "        cm = cm.astype('float') / cm.sum(axis=1)[:, np.newaxis]\n",
        "    thresh = cm.max() / 2.\n",
        "    for i, j in itertools.product(range(cm.shape[0]), range(cm.shape[1])):\n",
        "        plt.text(j, i, cm[i, j],\n",
        "                 horizontalalignment=\"center\",\n",
        "                 color=\"white\" if cm[i, j] > thresh else \"black\")\n",
        "    plt.tight_layout()\n",
        "    plt.ylabel('True label')\n",
        "    plt.xlabel('Predicted label')\n",
        "\n",
        "#預測的y\n",
        "ypred_onehot = model.predict(xval)\n",
        "#轉換預測的y: [0 0 1 0 0 ...] --> 2\n",
        "ypred = np.argmax(ypred_onehot,axis=1)\n",
        "#轉換真實的y\n",
        "ytrue = np.argmax(yval,axis=1)\n",
        "#計算 confusion matrix\n",
        "confusion_mtx = confusion_matrix(ytrue, ypred)\n",
        "#畫出 confusion matrix\n",
        "plot_confusion_matrix(confusion_mtx, classes=range(nclasses))"
      ],
      "execution_count": 40,
      "outputs": [
        {
          "output_type": "display_data",
          "data": {
            "image/png": "[encoded data removed]",
            "text/plain": [
              "<Figure size 432x288 with 2 Axes>"
            ]
          },
          "metadata": {
            "tags": []
          }
        }
      ]
    },
    {
      "cell_type": "markdown",
      "metadata": {
        "id": "PmgafP2rpjAO",
        "colab_type": "text"
      },
      "source": [
        "# 分類report"
      ]
    },
    {
      "cell_type": "markdown",
      "metadata": {
        "id": "zXQ8o9mj1Ydh",
        "colab_type": "text"
      },
      "source": [
        "轉換預測結果"
      ]
    },
    {
      "cell_type": "code",
      "metadata": {
        "id": "lCSuw9cYqEYk",
        "colab_type": "code",
        "outputId": "d6029b2b-dbea-4b96-a96f-4120adad494d",
        "colab": {
          "base_uri": "https://localhost:8080/",
          "height": 106
        }
      },
      "source": [
        "y_pred = model.predict(xval)#[[0.6,0.4],[0.4,0.6]]\n",
        "y_pred = [np.argmax(i) for i in y_pred]#[0,1]\n",
        "y_pred = to_categorical(y_pred, num_classes = 2)#[[1,0],[0,1]]\n",
        "print(y_pred[:5])"
      ],
      "execution_count": 41,
      "outputs": [
        {
          "output_type": "stream",
          "text": [
            "[[1. 0.]\n",
            " [1. 0.]\n",
            " [1. 0.]\n",
            " [0. 1.]\n",
            " [0. 1.]]\n"
          ],
          "name": "stdout"
        }
      ]
    },
    {
      "cell_type": "markdown",
      "metadata": {
        "id": "XrHrpsVb1avA",
        "colab_type": "text"
      },
      "source": [
        "真實y值"
      ]
    },
    {
      "cell_type": "code",
      "metadata": {
        "id": "T2tyxRdo1Mqm",
        "colab_type": "code",
        "outputId": "7dd94ee2-3888-4871-9989-7a55681fa3ae",
        "colab": {
          "base_uri": "https://localhost:8080/",
          "height": 106
        }
      },
      "source": [
        "print(yval[:5])"
      ],
      "execution_count": 42,
      "outputs": [
        {
          "output_type": "stream",
          "text": [
            "[[1. 0.]\n",
            " [1. 0.]\n",
            " [0. 1.]\n",
            " [0. 1.]\n",
            " [0. 1.]]\n"
          ],
          "name": "stdout"
        }
      ]
    },
    {
      "cell_type": "markdown",
      "metadata": {
        "id": "wztZOw2r1ddE",
        "colab_type": "text"
      },
      "source": [
        "分類報告"
      ]
    },
    {
      "cell_type": "code",
      "metadata": {
        "id": "vzMaU-Y8pjJT",
        "colab_type": "code",
        "outputId": "145ef740-30e4-489f-9bfa-f3317707e926",
        "colab": {
          "base_uri": "https://localhost:8080/",
          "height": 195
        }
      },
      "source": [
        "from sklearn.metrics import classification_report \n",
        "target_names = ['0','1']#漲跌\n",
        "print(classification_report(yval,y_pred,target_names=target_names))"
      ],
      "execution_count": 43,
      "outputs": [
        {
          "output_type": "stream",
          "text": [
            "              precision    recall  f1-score   support\n",
            "\n",
            "           0       0.54      0.55      0.54       144\n",
            "           1       0.51      0.50      0.50       134\n",
            "\n",
            "   micro avg       0.53      0.53      0.53       278\n",
            "   macro avg       0.52      0.52      0.52       278\n",
            "weighted avg       0.52      0.53      0.53       278\n",
            " samples avg       0.53      0.53      0.53       278\n",
            "\n"
          ],
          "name": "stdout"
        }
      ]
    },
    {
      "cell_type": "markdown",
      "metadata": {
        "id": "n-KXEoZLb9ie",
        "colab_type": "text"
      },
      "source": [
        "# plot error"
      ]
    },
    {
      "cell_type": "code",
      "metadata": {
        "id": "nCW5Xvtrb0fC",
        "colab_type": "code",
        "outputId": "80bf8c0d-bb99-431e-83c6-6388822fe01c",
        "colab": {
          "base_uri": "https://localhost:8080/",
          "height": 293
        }
      },
      "source": [
        "errors = (ypred - ytrue != 0)\n",
        "\n",
        "ypred_er = ypred_onehot[errors]\n",
        "ypred_classes_er = ypred[errors]\n",
        "ytrue_er = ytrue[errors]\n",
        "xval_er = xval[errors]\n",
        "\n",
        "def display_errors(errors_index, img_errors, pred_errors, obs_errors):\n",
        "    n = 0\n",
        "    nrows = 2\n",
        "    ncols = 3\n",
        "    fig, ax = plt.subplots(nrows, ncols, sharex=True, sharey=True)\n",
        "    plt.subplots_adjust(wspace =0.5, hspace =0.5)\n",
        "    for row in range(nrows):\n",
        "        for col in range(ncols):\n",
        "            error = errors_index[n]\n",
        "            ax[row,col].imshow((img_errors[error]).reshape((days,len(features))))\n",
        "            ax[row,col].set_title(\"Predicted label :{}\\nTrue label :{}\".format(pred_errors[error],obs_errors[error]))\n",
        "            n += 1\n",
        "            \n",
        "# 錯誤預測的概率\n",
        "ypred_er_prob = np.max(ypred_er,axis=1)\n",
        "\n",
        "# Predicted probabilities of the true values in the error set\n",
        "true_prob_er = np.diagonal(np.take(ypred_er, ytrue_er, axis=1))\n",
        "\n",
        "# Difference between the probability of the predicted label and the true label\n",
        "delta_pred_true_er = ypred_er_prob - true_prob_er\n",
        "\n",
        "# Sorted list of the delta prob errors\n",
        "sorted_delta_er = np.argsort(delta_pred_true_er)\n",
        "\n",
        "# Top 6 errors. You can change the range to see other images\n",
        "most_important_er = sorted_delta_er[-6:]\n",
        "\n",
        "# Show the top 6 errors\n",
        "display_errors(most_important_er, xval_er, ypred_classes_er, ytrue_er)"
      ],
      "execution_count": 44,
      "outputs": [
        {
          "output_type": "display_data",
          "data": {
            "image/png": "[encoded data removed]",
            "text/plain": [
              "<Figure size 432x288 with 6 Axes>"
            ]
          },
          "metadata": {
            "tags": []
          }
        }
      ]
    },
    {
      "cell_type": "code",
      "metadata": {
        "id": "4rw-BejYb_hd",
        "colab_type": "code",
        "colab": {}
      },
      "source": [
        ""
      ],
      "execution_count": 0,
      "outputs": []
    }
  ]
}