{
  "nbformat": 4,
  "nbformat_minor": 0,
  "metadata": {
    "colab": {
      "name": "CNN_stock.ipynb",
      "version": "0.3.2",
      "provenance": [],
      "collapsed_sections": [],
      "include_colab_link": true
    },
    "kernelspec": {
      "name": "python3",
      "display_name": "Python 3"
    },
    "accelerator": "GPU"
  },
  "cells": [
    {
      "cell_type": "markdown",
      "metadata": {
        "id": "view-in-github",
        "colab_type": "text"
      },
      "source": [
        "<a href=\"https://colab.research.google.com/github/skywalker0803r/Ricky/blob/master/CNN_stock_v3.ipynb\" target=\"_parent\"><img src=\"https://colab.research.google.com/assets/colab-badge.svg\" alt=\"Open In Colab\"/></a>"
      ]
    },
    {
      "cell_type": "code",
      "metadata": {
        "id": "g7NPpY26_qJm",
        "colab_type": "code",
        "colab": {}
      },
      "source": [
        "import pandas as pd\n",
        "import seaborn as sns\n",
        "import pandas_datareader.data as web\n",
        "#!pip install finta\n",
        "df = web.DataReader('3481.tw','yahoo',start=\"2000-01-01\")\n",
        "df = df.iloc[:,:5]"
      ],
      "execution_count": 0,
      "outputs": []
    },
    {
      "cell_type": "markdown",
      "metadata": {
        "id": "6vaRLIuvJlZ7",
        "colab_type": "text"
      },
      "source": [
        "# 載入資料"
      ]
    },
    {
      "cell_type": "code",
      "metadata": {
        "id": "kRKHlNGl_7JV",
        "colab_type": "code",
        "outputId": "fbfb406a-a9c3-4f38-9ab3-6d576bde6535",
        "colab": {
          "base_uri": "https://localhost:8080/",
          "height": 189
        }
      },
      "source": [
        "print(df.shape)\n",
        "df.head(3)"
      ],
      "execution_count": 2,
      "outputs": [
        {
          "output_type": "stream",
          "text": [
            "(3166, 5)\n"
          ],
          "name": "stdout"
        },
        {
          "output_type": "execute_result",
          "data": {
            "text/html": [
              "<div>\n",
              "<style scoped>\n",
              "    .dataframe tbody tr th:only-of-type {\n",
              "        vertical-align: middle;\n",
              "    }\n",
              "\n",
              "    .dataframe tbody tr th {\n",
              "        vertical-align: top;\n",
              "    }\n",
              "\n",
              "    .dataframe thead th {\n",
              "        text-align: right;\n",
              "    }\n",
              "</style>\n",
              "<table border=\"1\" class=\"dataframe\">\n",
              "  <thead>\n",
              "    <tr style=\"text-align: right;\">\n",
              "      <th></th>\n",
              "      <th>High</th>\n",
              "      <th>Low</th>\n",
              "      <th>Open</th>\n",
              "      <th>Close</th>\n",
              "      <th>Volume</th>\n",
              "    </tr>\n",
              "    <tr>\n",
              "      <th>Date</th>\n",
              "      <th></th>\n",
              "      <th></th>\n",
              "      <th></th>\n",
              "      <th></th>\n",
              "      <th></th>\n",
              "    </tr>\n",
              "  </thead>\n",
              "  <tbody>\n",
              "    <tr>\n",
              "      <th>2006-10-24</th>\n",
              "      <td>50.110100</td>\n",
              "      <td>45.683701</td>\n",
              "      <td>47.604599</td>\n",
              "      <td>45.767200</td>\n",
              "      <td>9.928784e+07</td>\n",
              "    </tr>\n",
              "    <tr>\n",
              "      <th>2006-10-25</th>\n",
              "      <td>45.934200</td>\n",
              "      <td>42.092400</td>\n",
              "      <td>45.934200</td>\n",
              "      <td>43.846298</td>\n",
              "      <td>4.607697e+07</td>\n",
              "    </tr>\n",
              "    <tr>\n",
              "      <th>2006-10-26</th>\n",
              "      <td>42.889198</td>\n",
              "      <td>40.961601</td>\n",
              "      <td>42.166401</td>\n",
              "      <td>42.327000</td>\n",
              "      <td>2.724332e+10</td>\n",
              "    </tr>\n",
              "  </tbody>\n",
              "</table>\n",
              "</div>"
            ],
            "text/plain": [
              "                 High        Low       Open      Close        Volume\n",
              "Date                                                                \n",
              "2006-10-24  50.110100  45.683701  47.604599  45.767200  9.928784e+07\n",
              "2006-10-25  45.934200  42.092400  45.934200  43.846298  4.607697e+07\n",
              "2006-10-26  42.889198  40.961601  42.166401  42.327000  2.724332e+10"
            ]
          },
          "metadata": {
            "tags": []
          },
          "execution_count": 2
        }
      ]
    },
    {
      "cell_type": "code",
      "metadata": {
        "id": "9YvzTIEDddVx",
        "colab_type": "code",
        "colab": {
          "base_uri": "https://localhost:8080/",
          "height": 171
        },
        "outputId": "3d71d568-bd4f-41fa-f058-ab711d6bcce1"
      },
      "source": [
        "df.tail(3)"
      ],
      "execution_count": 3,
      "outputs": [
        {
          "output_type": "execute_result",
          "data": {
            "text/html": [
              "<div>\n",
              "<style scoped>\n",
              "    .dataframe tbody tr th:only-of-type {\n",
              "        vertical-align: middle;\n",
              "    }\n",
              "\n",
              "    .dataframe tbody tr th {\n",
              "        vertical-align: top;\n",
              "    }\n",
              "\n",
              "    .dataframe thead th {\n",
              "        text-align: right;\n",
              "    }\n",
              "</style>\n",
              "<table border=\"1\" class=\"dataframe\">\n",
              "  <thead>\n",
              "    <tr style=\"text-align: right;\">\n",
              "      <th></th>\n",
              "      <th>High</th>\n",
              "      <th>Low</th>\n",
              "      <th>Open</th>\n",
              "      <th>Close</th>\n",
              "      <th>Volume</th>\n",
              "    </tr>\n",
              "    <tr>\n",
              "      <th>Date</th>\n",
              "      <th></th>\n",
              "      <th></th>\n",
              "      <th></th>\n",
              "      <th></th>\n",
              "      <th></th>\n",
              "    </tr>\n",
              "  </thead>\n",
              "  <tbody>\n",
              "    <tr>\n",
              "      <th>2019-09-04</th>\n",
              "      <td>7.05</td>\n",
              "      <td>6.93</td>\n",
              "      <td>6.94</td>\n",
              "      <td>7.04</td>\n",
              "      <td>58686252.0</td>\n",
              "    </tr>\n",
              "    <tr>\n",
              "      <th>2019-09-05</th>\n",
              "      <td>7.13</td>\n",
              "      <td>7.01</td>\n",
              "      <td>7.10</td>\n",
              "      <td>7.01</td>\n",
              "      <td>62700785.0</td>\n",
              "    </tr>\n",
              "    <tr>\n",
              "      <th>2019-09-06</th>\n",
              "      <td>7.19</td>\n",
              "      <td>7.01</td>\n",
              "      <td>7.05</td>\n",
              "      <td>7.16</td>\n",
              "      <td>116308137.0</td>\n",
              "    </tr>\n",
              "  </tbody>\n",
              "</table>\n",
              "</div>"
            ],
            "text/plain": [
              "            High   Low  Open  Close       Volume\n",
              "Date                                            \n",
              "2019-09-04  7.05  6.93  6.94   7.04   58686252.0\n",
              "2019-09-05  7.13  7.01  7.10   7.01   62700785.0\n",
              "2019-09-06  7.19  7.01  7.05   7.16  116308137.0"
            ]
          },
          "metadata": {
            "tags": []
          },
          "execution_count": 3
        }
      ]
    },
    {
      "cell_type": "markdown",
      "metadata": {
        "id": "ZsFMU68NI85j",
        "colab_type": "text"
      },
      "source": [
        "# Labeling(計算return)"
      ]
    },
    {
      "cell_type": "code",
      "metadata": {
        "id": "WaNG41cBI9BT",
        "colab_type": "code",
        "colab": {}
      },
      "source": [
        "#今天股價 = df['Close']\n",
        "#昨天股價 = df['Close'].shift(1)\n",
        "#df['return%'] = (今天股價/昨天股價-1)*100\n",
        "#print(df['return%'].min(),df['return%'].max())\n",
        "#sns.distplot(df['return%'].dropna())\n",
        "#df.tail()"
      ],
      "execution_count": 0,
      "outputs": []
    },
    {
      "cell_type": "markdown",
      "metadata": {
        "id": "HegmuvBN0FKD",
        "colab_type": "text"
      },
      "source": [
        "# Label triple_barrier"
      ]
    },
    {
      "cell_type": "code",
      "metadata": {
        "id": "RFsmFQfF0FXt",
        "colab_type": "code",
        "colab": {}
      },
      "source": [
        "import numpy as np\n",
        "import math\n",
        "def triple_barrier(price, ub, lb, max_period):\n",
        "\n",
        "    def end_price(s):\n",
        "        return np.append(s[(s / s[0] > ub) | (s / s[0] < lb)], s[-1])[0]/s[0]\n",
        "    \n",
        "    r = np.array(range(max_period))\n",
        "    \n",
        "    def end_time(s):\n",
        "        return np.append(r[(s / s[0] > ub) | (s / s[0] < lb)], max_period-1)[0]\n",
        "\n",
        "    p = price.rolling(max_period).apply(end_price, raw=True).shift(-max_period+1)\n",
        "    t = price.rolling(max_period).apply(end_time, raw=True).shift(-max_period+1)\n",
        "    t = pd.Series([t.index[int(k+i)] if not math.isnan(k+i) else np.datetime64('NaT') \n",
        "                   for i, k in enumerate(t)], index=t.index).dropna()\n",
        "\n",
        "    signal = pd.Series(0, p.index)\n",
        "    signal.loc[p > ub] = 1\n",
        "    signal.loc[p < lb] = -1\n",
        "    ret = pd.DataFrame({'triple_barrier_profit':p, 'triple_barrier_sell_time':t, 'triple_barrier_signal':signal})\n",
        "\n",
        "    return ret\n",
        "\n",
        "ret = triple_barrier(df.Close, 1.07, 0.97, 20)['triple_barrier_signal']\n",
        "df = df.join(ret)"
      ],
      "execution_count": 0,
      "outputs": []
    },
    {
      "cell_type": "code",
      "metadata": {
        "id": "MHRZWGG40a3q",
        "colab_type": "code",
        "outputId": "0c240a9c-85ee-4541-ad84-6ba60b3ea595",
        "colab": {
          "base_uri": "https://localhost:8080/",
          "height": 233
        }
      },
      "source": [
        "df.head()"
      ],
      "execution_count": 6,
      "outputs": [
        {
          "output_type": "execute_result",
          "data": {
            "text/html": [
              "<div>\n",
              "<style scoped>\n",
              "    .dataframe tbody tr th:only-of-type {\n",
              "        vertical-align: middle;\n",
              "    }\n",
              "\n",
              "    .dataframe tbody tr th {\n",
              "        vertical-align: top;\n",
              "    }\n",
              "\n",
              "    .dataframe thead th {\n",
              "        text-align: right;\n",
              "    }\n",
              "</style>\n",
              "<table border=\"1\" class=\"dataframe\">\n",
              "  <thead>\n",
              "    <tr style=\"text-align: right;\">\n",
              "      <th></th>\n",
              "      <th>High</th>\n",
              "      <th>Low</th>\n",
              "      <th>Open</th>\n",
              "      <th>Close</th>\n",
              "      <th>Volume</th>\n",
              "      <th>triple_barrier_signal</th>\n",
              "    </tr>\n",
              "    <tr>\n",
              "      <th>Date</th>\n",
              "      <th></th>\n",
              "      <th></th>\n",
              "      <th></th>\n",
              "      <th></th>\n",
              "      <th></th>\n",
              "      <th></th>\n",
              "    </tr>\n",
              "  </thead>\n",
              "  <tbody>\n",
              "    <tr>\n",
              "      <th>2006-10-24</th>\n",
              "      <td>50.110100</td>\n",
              "      <td>45.683701</td>\n",
              "      <td>47.604599</td>\n",
              "      <td>45.767200</td>\n",
              "      <td>9.928784e+07</td>\n",
              "      <td>-1</td>\n",
              "    </tr>\n",
              "    <tr>\n",
              "      <th>2006-10-25</th>\n",
              "      <td>45.934200</td>\n",
              "      <td>42.092400</td>\n",
              "      <td>45.934200</td>\n",
              "      <td>43.846298</td>\n",
              "      <td>4.607697e+07</td>\n",
              "      <td>-1</td>\n",
              "    </tr>\n",
              "    <tr>\n",
              "      <th>2006-10-26</th>\n",
              "      <td>42.889198</td>\n",
              "      <td>40.961601</td>\n",
              "      <td>42.166401</td>\n",
              "      <td>42.327000</td>\n",
              "      <td>2.724332e+10</td>\n",
              "      <td>1</td>\n",
              "    </tr>\n",
              "    <tr>\n",
              "      <th>2006-10-27</th>\n",
              "      <td>45.099098</td>\n",
              "      <td>43.762798</td>\n",
              "      <td>45.099098</td>\n",
              "      <td>44.263901</td>\n",
              "      <td>3.003948e+07</td>\n",
              "      <td>1</td>\n",
              "    </tr>\n",
              "    <tr>\n",
              "      <th>2006-10-30</th>\n",
              "      <td>44.263901</td>\n",
              "      <td>43.428699</td>\n",
              "      <td>43.846298</td>\n",
              "      <td>43.428699</td>\n",
              "      <td>1.011054e+07</td>\n",
              "      <td>1</td>\n",
              "    </tr>\n",
              "  </tbody>\n",
              "</table>\n",
              "</div>"
            ],
            "text/plain": [
              "                 High        Low  ...        Volume  triple_barrier_signal\n",
              "Date                              ...                                     \n",
              "2006-10-24  50.110100  45.683701  ...  9.928784e+07                     -1\n",
              "2006-10-25  45.934200  42.092400  ...  4.607697e+07                     -1\n",
              "2006-10-26  42.889198  40.961601  ...  2.724332e+10                      1\n",
              "2006-10-27  45.099098  43.762798  ...  3.003948e+07                      1\n",
              "2006-10-30  44.263901  43.428699  ...  1.011054e+07                      1\n",
              "\n",
              "[5 rows x 6 columns]"
            ]
          },
          "metadata": {
            "tags": []
          },
          "execution_count": 6
        }
      ]
    },
    {
      "cell_type": "code",
      "metadata": {
        "id": "Qti5Zd4-jOrH",
        "colab_type": "code",
        "outputId": "decee45a-0232-4fbe-992c-bc77ac4527b7",
        "colab": {
          "base_uri": "https://localhost:8080/",
          "height": 307
        }
      },
      "source": [
        "import matplotlib.pyplot as plt\n",
        "buy = df[df['triple_barrier_signal']==1]['Close']\n",
        "sell = df[df['triple_barrier_signal']==-1]['Close']\n",
        "df['Close'][0:80].plot()\n",
        "plt.scatter(buy.index,buy.values,color='red')\n",
        "plt.scatter(sell.index,sell.values,color='black')"
      ],
      "execution_count": 7,
      "outputs": [
        {
          "output_type": "execute_result",
          "data": {
            "text/plain": [
              "<matplotlib.collections.PathCollection at 0x7f2eab060cc0>"
            ]
          },
          "metadata": {
            "tags": []
          },
          "execution_count": 7
        },
        {
          "output_type": "display_data",
          "data": {
            "image/png": "[encoded data removed]",
            "text/plain": [
              "<Figure size 432x288 with 1 Axes>"
            ]
          },
          "metadata": {
            "tags": []
          }
        }
      ]
    },
    {
      "cell_type": "markdown",
      "metadata": {
        "id": "HUtEilqGfIJl",
        "colab_type": "text"
      },
      "source": [
        "# 建立ohlcv"
      ]
    },
    {
      "cell_type": "code",
      "metadata": {
        "id": "FdFhLZkYfKpN",
        "colab_type": "code",
        "colab": {}
      },
      "source": [
        "from finta import TA\n",
        "ohlcv = df[['Open','High','Low','Close','Volume']]\n",
        "ohlcv.columns = ['open','high','low','close','volume']"
      ],
      "execution_count": 0,
      "outputs": []
    },
    {
      "cell_type": "markdown",
      "metadata": {
        "id": "9K9RepGQwbQQ",
        "colab_type": "text"
      },
      "source": [
        "# 計算技術指標RSI"
      ]
    },
    {
      "cell_type": "code",
      "metadata": {
        "id": "ZZkpnqk9e0Rw",
        "colab_type": "code",
        "colab": {
          "base_uri": "https://localhost:8080/",
          "height": 655
        },
        "outputId": "9d3a9ab7-42d0-4411-ba39-f567f4d497a4"
      },
      "source": [
        "df['RSI'] = TA.RSI(ohlcv)\n",
        "print(df['RSI'].describe())\n",
        "sns.distplot(df['RSI'].dropna())\n",
        "df.tail()"
      ],
      "execution_count": 9,
      "outputs": [
        {
          "output_type": "stream",
          "text": [
            "count    3165.000000\n",
            "mean       48.835105\n",
            "std        16.595292\n",
            "min         0.000000\n",
            "25%        37.480427\n",
            "50%        48.824926\n",
            "75%        60.155706\n",
            "max        92.656815\n",
            "Name: RSI, dtype: float64\n"
          ],
          "name": "stdout"
        },
        {
          "output_type": "execute_result",
          "data": {
            "text/html": [
              "<div>\n",
              "<style scoped>\n",
              "    .dataframe tbody tr th:only-of-type {\n",
              "        vertical-align: middle;\n",
              "    }\n",
              "\n",
              "    .dataframe tbody tr th {\n",
              "        vertical-align: top;\n",
              "    }\n",
              "\n",
              "    .dataframe thead th {\n",
              "        text-align: right;\n",
              "    }\n",
              "</style>\n",
              "<table border=\"1\" class=\"dataframe\">\n",
              "  <thead>\n",
              "    <tr style=\"text-align: right;\">\n",
              "      <th></th>\n",
              "      <th>High</th>\n",
              "      <th>Low</th>\n",
              "      <th>Open</th>\n",
              "      <th>Close</th>\n",
              "      <th>Volume</th>\n",
              "      <th>triple_barrier_signal</th>\n",
              "      <th>RSI</th>\n",
              "    </tr>\n",
              "    <tr>\n",
              "      <th>Date</th>\n",
              "      <th></th>\n",
              "      <th></th>\n",
              "      <th></th>\n",
              "      <th></th>\n",
              "      <th></th>\n",
              "      <th></th>\n",
              "      <th></th>\n",
              "    </tr>\n",
              "  </thead>\n",
              "  <tbody>\n",
              "    <tr>\n",
              "      <th>2019-09-02</th>\n",
              "      <td>7.10</td>\n",
              "      <td>6.96</td>\n",
              "      <td>7.09</td>\n",
              "      <td>6.96</td>\n",
              "      <td>68714019.0</td>\n",
              "      <td>0</td>\n",
              "      <td>57.991622</td>\n",
              "    </tr>\n",
              "    <tr>\n",
              "      <th>2019-09-03</th>\n",
              "      <td>7.08</td>\n",
              "      <td>6.92</td>\n",
              "      <td>7.00</td>\n",
              "      <td>6.92</td>\n",
              "      <td>49562988.0</td>\n",
              "      <td>0</td>\n",
              "      <td>56.002480</td>\n",
              "    </tr>\n",
              "    <tr>\n",
              "      <th>2019-09-04</th>\n",
              "      <td>7.05</td>\n",
              "      <td>6.93</td>\n",
              "      <td>6.94</td>\n",
              "      <td>7.04</td>\n",
              "      <td>58686252.0</td>\n",
              "      <td>0</td>\n",
              "      <td>60.671992</td>\n",
              "    </tr>\n",
              "    <tr>\n",
              "      <th>2019-09-05</th>\n",
              "      <td>7.13</td>\n",
              "      <td>7.01</td>\n",
              "      <td>7.10</td>\n",
              "      <td>7.01</td>\n",
              "      <td>62700785.0</td>\n",
              "      <td>0</td>\n",
              "      <td>58.869723</td>\n",
              "    </tr>\n",
              "    <tr>\n",
              "      <th>2019-09-06</th>\n",
              "      <td>7.19</td>\n",
              "      <td>7.01</td>\n",
              "      <td>7.05</td>\n",
              "      <td>7.16</td>\n",
              "      <td>116308137.0</td>\n",
              "      <td>0</td>\n",
              "      <td>64.887238</td>\n",
              "    </tr>\n",
              "  </tbody>\n",
              "</table>\n",
              "</div>"
            ],
            "text/plain": [
              "            High   Low  Open  ...       Volume  triple_barrier_signal        RSI\n",
              "Date                          ...                                               \n",
              "2019-09-02  7.10  6.96  7.09  ...   68714019.0                      0  57.991622\n",
              "2019-09-03  7.08  6.92  7.00  ...   49562988.0                      0  56.002480\n",
              "2019-09-04  7.05  6.93  6.94  ...   58686252.0                      0  60.671992\n",
              "2019-09-05  7.13  7.01  7.10  ...   62700785.0                      0  58.869723\n",
              "2019-09-06  7.19  7.01  7.05  ...  116308137.0                      0  64.887238\n",
              "\n",
              "[5 rows x 7 columns]"
            ]
          },
          "metadata": {
            "tags": []
          },
          "execution_count": 9
        },
        {
          "output_type": "display_data",
          "data": {
            "image/png": "[encoded data removed]",
            "text/plain": [
              "<Figure size 432x288 with 1 Axes>"
            ]
          },
          "metadata": {
            "tags": []
          }
        }
      ]
    },
    {
      "cell_type": "markdown",
      "metadata": {
        "id": "fZXZuQe93pJE",
        "colab_type": "text"
      },
      "source": [
        "# 計算威廉指標"
      ]
    },
    {
      "cell_type": "code",
      "metadata": {
        "id": "Q8_qx-dnfPJa",
        "colab_type": "code",
        "colab": {
          "base_uri": "https://localhost:8080/",
          "height": 655
        },
        "outputId": "04352239-e8b0-4853-d585-c415c77e9e76"
      },
      "source": [
        "df['Williams %R'] = TA.WILLIAMS(ohlcv)\n",
        "print(df['Williams %R'].describe())\n",
        "sns.distplot(df['Williams %R'].dropna())\n",
        "df.tail()"
      ],
      "execution_count": 10,
      "outputs": [
        {
          "output_type": "stream",
          "text": [
            "count    3153.000000\n",
            "mean      -54.558401\n",
            "std        30.536138\n",
            "min      -100.000000\n",
            "25%       -82.658359\n",
            "50%       -56.250030\n",
            "75%       -27.777486\n",
            "max        -0.000000\n",
            "Name: Williams %R, dtype: float64\n"
          ],
          "name": "stdout"
        },
        {
          "output_type": "execute_result",
          "data": {
            "text/html": [
              "<div>\n",
              "<style scoped>\n",
              "    .dataframe tbody tr th:only-of-type {\n",
              "        vertical-align: middle;\n",
              "    }\n",
              "\n",
              "    .dataframe tbody tr th {\n",
              "        vertical-align: top;\n",
              "    }\n",
              "\n",
              "    .dataframe thead th {\n",
              "        text-align: right;\n",
              "    }\n",
              "</style>\n",
              "<table border=\"1\" class=\"dataframe\">\n",
              "  <thead>\n",
              "    <tr style=\"text-align: right;\">\n",
              "      <th></th>\n",
              "      <th>High</th>\n",
              "      <th>Low</th>\n",
              "      <th>Open</th>\n",
              "      <th>Close</th>\n",
              "      <th>Volume</th>\n",
              "      <th>triple_barrier_signal</th>\n",
              "      <th>RSI</th>\n",
              "      <th>Williams %R</th>\n",
              "    </tr>\n",
              "    <tr>\n",
              "      <th>Date</th>\n",
              "      <th></th>\n",
              "      <th></th>\n",
              "      <th></th>\n",
              "      <th></th>\n",
              "      <th></th>\n",
              "      <th></th>\n",
              "      <th></th>\n",
              "      <th></th>\n",
              "    </tr>\n",
              "  </thead>\n",
              "  <tbody>\n",
              "    <tr>\n",
              "      <th>2019-09-02</th>\n",
              "      <td>7.10</td>\n",
              "      <td>6.96</td>\n",
              "      <td>7.09</td>\n",
              "      <td>6.96</td>\n",
              "      <td>68714019.0</td>\n",
              "      <td>0</td>\n",
              "      <td>57.991622</td>\n",
              "      <td>-24.050641</td>\n",
              "    </tr>\n",
              "    <tr>\n",
              "      <th>2019-09-03</th>\n",
              "      <td>7.08</td>\n",
              "      <td>6.92</td>\n",
              "      <td>7.00</td>\n",
              "      <td>6.92</td>\n",
              "      <td>49562988.0</td>\n",
              "      <td>0</td>\n",
              "      <td>56.002480</td>\n",
              "      <td>-26.582285</td>\n",
              "    </tr>\n",
              "    <tr>\n",
              "      <th>2019-09-04</th>\n",
              "      <td>7.05</td>\n",
              "      <td>6.93</td>\n",
              "      <td>6.94</td>\n",
              "      <td>7.04</td>\n",
              "      <td>58686252.0</td>\n",
              "      <td>0</td>\n",
              "      <td>60.671992</td>\n",
              "      <td>-18.987355</td>\n",
              "    </tr>\n",
              "    <tr>\n",
              "      <th>2019-09-05</th>\n",
              "      <td>7.13</td>\n",
              "      <td>7.01</td>\n",
              "      <td>7.10</td>\n",
              "      <td>7.01</td>\n",
              "      <td>62700785.0</td>\n",
              "      <td>0</td>\n",
              "      <td>58.869723</td>\n",
              "      <td>-25.781240</td>\n",
              "    </tr>\n",
              "    <tr>\n",
              "      <th>2019-09-06</th>\n",
              "      <td>7.19</td>\n",
              "      <td>7.01</td>\n",
              "      <td>7.05</td>\n",
              "      <td>7.16</td>\n",
              "      <td>116308137.0</td>\n",
              "      <td>0</td>\n",
              "      <td>64.887238</td>\n",
              "      <td>-24.324357</td>\n",
              "    </tr>\n",
              "  </tbody>\n",
              "</table>\n",
              "</div>"
            ],
            "text/plain": [
              "            High   Low  Open  ...  triple_barrier_signal        RSI  Williams %R\n",
              "Date                          ...                                               \n",
              "2019-09-02  7.10  6.96  7.09  ...                      0  57.991622   -24.050641\n",
              "2019-09-03  7.08  6.92  7.00  ...                      0  56.002480   -26.582285\n",
              "2019-09-04  7.05  6.93  6.94  ...                      0  60.671992   -18.987355\n",
              "2019-09-05  7.13  7.01  7.10  ...                      0  58.869723   -25.781240\n",
              "2019-09-06  7.19  7.01  7.05  ...                      0  64.887238   -24.324357\n",
              "\n",
              "[5 rows x 8 columns]"
            ]
          },
          "metadata": {
            "tags": []
          },
          "execution_count": 10
        },
        {
          "output_type": "display_data",
          "data": {
            "image/png": "[encoded data removed]",
            "text/plain": [
              "<Figure size 432x288 with 1 Axes>"
            ]
          },
          "metadata": {
            "tags": []
          }
        }
      ]
    },
    {
      "cell_type": "markdown",
      "metadata": {
        "id": "xK4jb6KTDdGa",
        "colab_type": "text"
      },
      "source": [
        "# SMA"
      ]
    },
    {
      "cell_type": "code",
      "metadata": {
        "id": "osETw-NkfgfL",
        "colab_type": "code",
        "outputId": "893628ae-cf9d-41b0-90f8-e8fc3a2dbe49",
        "colab": {
          "base_uri": "https://localhost:8080/",
          "height": 655
        }
      },
      "source": [
        "df['SMA'] = TA.SMA(ohlcv)\n",
        "print(df['SMA'].describe())\n",
        "sns.distplot(df['SMA'].dropna())\n",
        "df.tail()"
      ],
      "execution_count": 11,
      "outputs": [
        {
          "output_type": "stream",
          "text": [
            "count    3126.000000\n",
            "mean       27.572607\n",
            "std        26.335042\n",
            "min         6.946585\n",
            "25%        11.303643\n",
            "50%        14.329268\n",
            "75%        38.115670\n",
            "max       129.534976\n",
            "Name: SMA, dtype: float64\n"
          ],
          "name": "stdout"
        },
        {
          "output_type": "execute_result",
          "data": {
            "text/html": [
              "<div>\n",
              "<style scoped>\n",
              "    .dataframe tbody tr th:only-of-type {\n",
              "        vertical-align: middle;\n",
              "    }\n",
              "\n",
              "    .dataframe tbody tr th {\n",
              "        vertical-align: top;\n",
              "    }\n",
              "\n",
              "    .dataframe thead th {\n",
              "        text-align: right;\n",
              "    }\n",
              "</style>\n",
              "<table border=\"1\" class=\"dataframe\">\n",
              "  <thead>\n",
              "    <tr style=\"text-align: right;\">\n",
              "      <th></th>\n",
              "      <th>High</th>\n",
              "      <th>Low</th>\n",
              "      <th>Open</th>\n",
              "      <th>Close</th>\n",
              "      <th>Volume</th>\n",
              "      <th>triple_barrier_signal</th>\n",
              "      <th>RSI</th>\n",
              "      <th>Williams %R</th>\n",
              "      <th>SMA</th>\n",
              "    </tr>\n",
              "    <tr>\n",
              "      <th>Date</th>\n",
              "      <th></th>\n",
              "      <th></th>\n",
              "      <th></th>\n",
              "      <th></th>\n",
              "      <th></th>\n",
              "      <th></th>\n",
              "      <th></th>\n",
              "      <th></th>\n",
              "      <th></th>\n",
              "    </tr>\n",
              "  </thead>\n",
              "  <tbody>\n",
              "    <tr>\n",
              "      <th>2019-09-02</th>\n",
              "      <td>7.10</td>\n",
              "      <td>6.96</td>\n",
              "      <td>7.09</td>\n",
              "      <td>6.96</td>\n",
              "      <td>68714019.0</td>\n",
              "      <td>0</td>\n",
              "      <td>57.991622</td>\n",
              "      <td>-24.050641</td>\n",
              "      <td>6.972195</td>\n",
              "    </tr>\n",
              "    <tr>\n",
              "      <th>2019-09-03</th>\n",
              "      <td>7.08</td>\n",
              "      <td>6.92</td>\n",
              "      <td>7.00</td>\n",
              "      <td>6.92</td>\n",
              "      <td>49562988.0</td>\n",
              "      <td>0</td>\n",
              "      <td>56.002480</td>\n",
              "      <td>-26.582285</td>\n",
              "      <td>6.962439</td>\n",
              "    </tr>\n",
              "    <tr>\n",
              "      <th>2019-09-04</th>\n",
              "      <td>7.05</td>\n",
              "      <td>6.93</td>\n",
              "      <td>6.94</td>\n",
              "      <td>7.04</td>\n",
              "      <td>58686252.0</td>\n",
              "      <td>0</td>\n",
              "      <td>60.671992</td>\n",
              "      <td>-18.987355</td>\n",
              "      <td>6.954634</td>\n",
              "    </tr>\n",
              "    <tr>\n",
              "      <th>2019-09-05</th>\n",
              "      <td>7.13</td>\n",
              "      <td>7.01</td>\n",
              "      <td>7.10</td>\n",
              "      <td>7.01</td>\n",
              "      <td>62700785.0</td>\n",
              "      <td>0</td>\n",
              "      <td>58.869723</td>\n",
              "      <td>-25.781240</td>\n",
              "      <td>6.947561</td>\n",
              "    </tr>\n",
              "    <tr>\n",
              "      <th>2019-09-06</th>\n",
              "      <td>7.19</td>\n",
              "      <td>7.01</td>\n",
              "      <td>7.05</td>\n",
              "      <td>7.16</td>\n",
              "      <td>116308137.0</td>\n",
              "      <td>0</td>\n",
              "      <td>64.887238</td>\n",
              "      <td>-24.324357</td>\n",
              "      <td>6.946585</td>\n",
              "    </tr>\n",
              "  </tbody>\n",
              "</table>\n",
              "</div>"
            ],
            "text/plain": [
              "            High   Low  Open  ...        RSI  Williams %R       SMA\n",
              "Date                          ...                                  \n",
              "2019-09-02  7.10  6.96  7.09  ...  57.991622   -24.050641  6.972195\n",
              "2019-09-03  7.08  6.92  7.00  ...  56.002480   -26.582285  6.962439\n",
              "2019-09-04  7.05  6.93  6.94  ...  60.671992   -18.987355  6.954634\n",
              "2019-09-05  7.13  7.01  7.10  ...  58.869723   -25.781240  6.947561\n",
              "2019-09-06  7.19  7.01  7.05  ...  64.887238   -24.324357  6.946585\n",
              "\n",
              "[5 rows x 9 columns]"
            ]
          },
          "metadata": {
            "tags": []
          },
          "execution_count": 11
        },
        {
          "output_type": "display_data",
          "data": {
            "image/png": "[encoded data removed]",
            "text/plain": [
              "<Figure size 432x288 with 1 Axes>"
            ]
          },
          "metadata": {
            "tags": []
          }
        }
      ]
    },
    {
      "cell_type": "markdown",
      "metadata": {
        "id": "a2Mf0ckEoHC_",
        "colab_type": "text"
      },
      "source": [
        "# EMA"
      ]
    },
    {
      "cell_type": "code",
      "metadata": {
        "id": "EQlFyJLeh4WA",
        "colab_type": "code",
        "outputId": "efaa52c3-152c-4a1b-83ce-339edf05376a",
        "colab": {
          "base_uri": "https://localhost:8080/",
          "height": 655
        }
      },
      "source": [
        "df['EMA'] = TA.EMA(ohlcv)\n",
        "print(df['EMA'].describe())\n",
        "sns.distplot(df['EMA'])\n",
        "df.tail()"
      ],
      "execution_count": 12,
      "outputs": [
        {
          "output_type": "stream",
          "text": [
            "count    3166.000000\n",
            "mean       27.603003\n",
            "std        26.431100\n",
            "min         6.284750\n",
            "25%        11.257825\n",
            "50%        14.444027\n",
            "75%        38.232830\n",
            "max       137.159774\n",
            "Name: EMA, dtype: float64\n"
          ],
          "name": "stdout"
        },
        {
          "output_type": "execute_result",
          "data": {
            "text/html": [
              "<div>\n",
              "<style scoped>\n",
              "    .dataframe tbody tr th:only-of-type {\n",
              "        vertical-align: middle;\n",
              "    }\n",
              "\n",
              "    .dataframe tbody tr th {\n",
              "        vertical-align: top;\n",
              "    }\n",
              "\n",
              "    .dataframe thead th {\n",
              "        text-align: right;\n",
              "    }\n",
              "</style>\n",
              "<table border=\"1\" class=\"dataframe\">\n",
              "  <thead>\n",
              "    <tr style=\"text-align: right;\">\n",
              "      <th></th>\n",
              "      <th>High</th>\n",
              "      <th>Low</th>\n",
              "      <th>Open</th>\n",
              "      <th>Close</th>\n",
              "      <th>Volume</th>\n",
              "      <th>triple_barrier_signal</th>\n",
              "      <th>RSI</th>\n",
              "      <th>Williams %R</th>\n",
              "      <th>SMA</th>\n",
              "      <th>EMA</th>\n",
              "    </tr>\n",
              "    <tr>\n",
              "      <th>Date</th>\n",
              "      <th></th>\n",
              "      <th></th>\n",
              "      <th></th>\n",
              "      <th></th>\n",
              "      <th></th>\n",
              "      <th></th>\n",
              "      <th></th>\n",
              "      <th></th>\n",
              "      <th></th>\n",
              "      <th></th>\n",
              "    </tr>\n",
              "  </thead>\n",
              "  <tbody>\n",
              "    <tr>\n",
              "      <th>2019-09-02</th>\n",
              "      <td>7.10</td>\n",
              "      <td>6.96</td>\n",
              "      <td>7.09</td>\n",
              "      <td>6.96</td>\n",
              "      <td>68714019.0</td>\n",
              "      <td>0</td>\n",
              "      <td>57.991622</td>\n",
              "      <td>-24.050641</td>\n",
              "      <td>6.972195</td>\n",
              "      <td>6.816864</td>\n",
              "    </tr>\n",
              "    <tr>\n",
              "      <th>2019-09-03</th>\n",
              "      <td>7.08</td>\n",
              "      <td>6.92</td>\n",
              "      <td>7.00</td>\n",
              "      <td>6.92</td>\n",
              "      <td>49562988.0</td>\n",
              "      <td>0</td>\n",
              "      <td>56.002480</td>\n",
              "      <td>-26.582285</td>\n",
              "      <td>6.962439</td>\n",
              "      <td>6.837491</td>\n",
              "    </tr>\n",
              "    <tr>\n",
              "      <th>2019-09-04</th>\n",
              "      <td>7.05</td>\n",
              "      <td>6.93</td>\n",
              "      <td>6.94</td>\n",
              "      <td>7.04</td>\n",
              "      <td>58686252.0</td>\n",
              "      <td>0</td>\n",
              "      <td>60.671992</td>\n",
              "      <td>-18.987355</td>\n",
              "      <td>6.954634</td>\n",
              "      <td>6.877993</td>\n",
              "    </tr>\n",
              "    <tr>\n",
              "      <th>2019-09-05</th>\n",
              "      <td>7.13</td>\n",
              "      <td>7.01</td>\n",
              "      <td>7.10</td>\n",
              "      <td>7.01</td>\n",
              "      <td>62700785.0</td>\n",
              "      <td>0</td>\n",
              "      <td>58.869723</td>\n",
              "      <td>-25.781240</td>\n",
              "      <td>6.947561</td>\n",
              "      <td>6.904395</td>\n",
              "    </tr>\n",
              "    <tr>\n",
              "      <th>2019-09-06</th>\n",
              "      <td>7.19</td>\n",
              "      <td>7.01</td>\n",
              "      <td>7.05</td>\n",
              "      <td>7.16</td>\n",
              "      <td>116308137.0</td>\n",
              "      <td>0</td>\n",
              "      <td>64.887238</td>\n",
              "      <td>-24.324357</td>\n",
              "      <td>6.946585</td>\n",
              "      <td>6.955516</td>\n",
              "    </tr>\n",
              "  </tbody>\n",
              "</table>\n",
              "</div>"
            ],
            "text/plain": [
              "            High   Low  Open  Close  ...        RSI  Williams %R       SMA       EMA\n",
              "Date                                 ...                                            \n",
              "2019-09-02  7.10  6.96  7.09   6.96  ...  57.991622   -24.050641  6.972195  6.816864\n",
              "2019-09-03  7.08  6.92  7.00   6.92  ...  56.002480   -26.582285  6.962439  6.837491\n",
              "2019-09-04  7.05  6.93  6.94   7.04  ...  60.671992   -18.987355  6.954634  6.877993\n",
              "2019-09-05  7.13  7.01  7.10   7.01  ...  58.869723   -25.781240  6.947561  6.904395\n",
              "2019-09-06  7.19  7.01  7.05   7.16  ...  64.887238   -24.324357  6.946585  6.955516\n",
              "\n",
              "[5 rows x 10 columns]"
            ]
          },
          "metadata": {
            "tags": []
          },
          "execution_count": 12
        },
        {
          "output_type": "display_data",
          "data": {
            "image/png": "[encoded data removed]",
            "text/plain": [
              "<Figure size 432x288 with 1 Axes>"
            ]
          },
          "metadata": {
            "tags": []
          }
        }
      ]
    },
    {
      "cell_type": "markdown",
      "metadata": {
        "id": "wqkaWfQryV3W",
        "colab_type": "text"
      },
      "source": [
        "# WMA"
      ]
    },
    {
      "cell_type": "code",
      "metadata": {
        "id": "9Dw9scCSieLI",
        "colab_type": "code",
        "outputId": "b06d6223-c966-48be-856f-fe255d488f0c",
        "colab": {
          "base_uri": "https://localhost:8080/",
          "height": 709
        }
      },
      "source": [
        "df['WMA'] = TA.WMA(ohlcv)\n",
        "print(df['WMA'].describe())\n",
        "sns.distplot(df['WMA'].dropna())\n",
        "df.tail()"
      ],
      "execution_count": 13,
      "outputs": [
        {
          "output_type": "stream",
          "text": [
            "/usr/local/lib/python3.6/dist-packages/finta/finta.py:263: FutureWarning: Currently, 'apply' passes the values as ndarrays to the applied function. In the future, this will change to passing it as Series objects. You need to specify 'raw=True' to keep the current behaviour, and you can pass 'raw=False' to silence this warning\n",
            "  wma = close_.apply(linear(weights))\n"
          ],
          "name": "stderr"
        },
        {
          "output_type": "stream",
          "text": [
            "count    3158.000000\n",
            "mean       27.576093\n",
            "std        26.484762\n",
            "min         6.177333\n",
            "25%        11.265833\n",
            "50%        14.462778\n",
            "75%        37.816841\n",
            "max       140.988958\n",
            "Name: WMA, dtype: float64\n"
          ],
          "name": "stdout"
        },
        {
          "output_type": "execute_result",
          "data": {
            "text/html": [
              "<div>\n",
              "<style scoped>\n",
              "    .dataframe tbody tr th:only-of-type {\n",
              "        vertical-align: middle;\n",
              "    }\n",
              "\n",
              "    .dataframe tbody tr th {\n",
              "        vertical-align: top;\n",
              "    }\n",
              "\n",
              "    .dataframe thead th {\n",
              "        text-align: right;\n",
              "    }\n",
              "</style>\n",
              "<table border=\"1\" class=\"dataframe\">\n",
              "  <thead>\n",
              "    <tr style=\"text-align: right;\">\n",
              "      <th></th>\n",
              "      <th>High</th>\n",
              "      <th>Low</th>\n",
              "      <th>Open</th>\n",
              "      <th>Close</th>\n",
              "      <th>Volume</th>\n",
              "      <th>triple_barrier_signal</th>\n",
              "      <th>RSI</th>\n",
              "      <th>Williams %R</th>\n",
              "      <th>SMA</th>\n",
              "      <th>EMA</th>\n",
              "      <th>WMA</th>\n",
              "    </tr>\n",
              "    <tr>\n",
              "      <th>Date</th>\n",
              "      <th></th>\n",
              "      <th></th>\n",
              "      <th></th>\n",
              "      <th></th>\n",
              "      <th></th>\n",
              "      <th></th>\n",
              "      <th></th>\n",
              "      <th></th>\n",
              "      <th></th>\n",
              "      <th></th>\n",
              "      <th></th>\n",
              "    </tr>\n",
              "  </thead>\n",
              "  <tbody>\n",
              "    <tr>\n",
              "      <th>2019-09-02</th>\n",
              "      <td>7.10</td>\n",
              "      <td>6.96</td>\n",
              "      <td>7.09</td>\n",
              "      <td>6.96</td>\n",
              "      <td>68714019.0</td>\n",
              "      <td>0</td>\n",
              "      <td>57.991622</td>\n",
              "      <td>-24.050641</td>\n",
              "      <td>6.972195</td>\n",
              "      <td>6.816864</td>\n",
              "      <td>6.866000</td>\n",
              "    </tr>\n",
              "    <tr>\n",
              "      <th>2019-09-03</th>\n",
              "      <td>7.08</td>\n",
              "      <td>6.92</td>\n",
              "      <td>7.00</td>\n",
              "      <td>6.92</td>\n",
              "      <td>49562988.0</td>\n",
              "      <td>0</td>\n",
              "      <td>56.002480</td>\n",
              "      <td>-26.582285</td>\n",
              "      <td>6.962439</td>\n",
              "      <td>6.837491</td>\n",
              "      <td>6.870000</td>\n",
              "    </tr>\n",
              "    <tr>\n",
              "      <th>2019-09-04</th>\n",
              "      <td>7.05</td>\n",
              "      <td>6.93</td>\n",
              "      <td>6.94</td>\n",
              "      <td>7.04</td>\n",
              "      <td>58686252.0</td>\n",
              "      <td>0</td>\n",
              "      <td>60.671992</td>\n",
              "      <td>-18.987355</td>\n",
              "      <td>6.954634</td>\n",
              "      <td>6.877993</td>\n",
              "      <td>6.827111</td>\n",
              "    </tr>\n",
              "    <tr>\n",
              "      <th>2019-09-05</th>\n",
              "      <td>7.13</td>\n",
              "      <td>7.01</td>\n",
              "      <td>7.10</td>\n",
              "      <td>7.01</td>\n",
              "      <td>62700785.0</td>\n",
              "      <td>0</td>\n",
              "      <td>58.869723</td>\n",
              "      <td>-25.781240</td>\n",
              "      <td>6.947561</td>\n",
              "      <td>6.904395</td>\n",
              "      <td>6.833778</td>\n",
              "    </tr>\n",
              "    <tr>\n",
              "      <th>2019-09-06</th>\n",
              "      <td>7.19</td>\n",
              "      <td>7.01</td>\n",
              "      <td>7.05</td>\n",
              "      <td>7.16</td>\n",
              "      <td>116308137.0</td>\n",
              "      <td>0</td>\n",
              "      <td>64.887238</td>\n",
              "      <td>-24.324357</td>\n",
              "      <td>6.946585</td>\n",
              "      <td>6.955516</td>\n",
              "      <td>6.829556</td>\n",
              "    </tr>\n",
              "  </tbody>\n",
              "</table>\n",
              "</div>"
            ],
            "text/plain": [
              "            High   Low  Open  Close  ...  Williams %R       SMA       EMA       WMA\n",
              "Date                                 ...                                           \n",
              "2019-09-02  7.10  6.96  7.09   6.96  ...   -24.050641  6.972195  6.816864  6.866000\n",
              "2019-09-03  7.08  6.92  7.00   6.92  ...   -26.582285  6.962439  6.837491  6.870000\n",
              "2019-09-04  7.05  6.93  6.94   7.04  ...   -18.987355  6.954634  6.877993  6.827111\n",
              "2019-09-05  7.13  7.01  7.10   7.01  ...   -25.781240  6.947561  6.904395  6.833778\n",
              "2019-09-06  7.19  7.01  7.05   7.16  ...   -24.324357  6.946585  6.955516  6.829556\n",
              "\n",
              "[5 rows x 11 columns]"
            ]
          },
          "metadata": {
            "tags": []
          },
          "execution_count": 13
        },
        {
          "output_type": "display_data",
          "data": {
            "image/png": "[encoded data removed]",
            "text/plain": [
              "<Figure size 432x288 with 1 Axes>"
            ]
          },
          "metadata": {
            "tags": []
          }
        }
      ]
    },
    {
      "cell_type": "markdown",
      "metadata": {
        "id": "HNC131ghyrF1",
        "colab_type": "text"
      },
      "source": [
        "# HMA"
      ]
    },
    {
      "cell_type": "code",
      "metadata": {
        "id": "b02O6Yevi6mN",
        "colab_type": "code",
        "outputId": "0a837dbc-e503-4dd8-fedc-a2024d5d1ae5",
        "colab": {
          "base_uri": "https://localhost:8080/",
          "height": 813
        }
      },
      "source": [
        "df['HMA'] = TA.HMA(ohlcv)\n",
        "print(df['HMA'].describe())\n",
        "sns.distplot(df['HMA'].dropna())\n",
        "df.tail()"
      ],
      "execution_count": 14,
      "outputs": [
        {
          "output_type": "stream",
          "text": [
            "/usr/local/lib/python3.6/dist-packages/finta/finta.py:263: FutureWarning: Currently, 'apply' passes the values as ndarrays to the applied function. In the future, this will change to passing it as Series objects. You need to specify 'raw=True' to keep the current behaviour, and you can pass 'raw=False' to silence this warning\n",
            "  wma = close_.apply(linear(weights))\n",
            "/usr/local/lib/python3.6/dist-packages/finta/finta.py:285: SettingWithCopyWarning: \n",
            "A value is trying to be set on a copy of a slice from a DataFrame.\n",
            "Try using .loc[row_indexer,col_indexer] = value instead\n",
            "\n",
            "See the caveats in the documentation: http://pandas.pydata.org/pandas-docs/stable/indexing.html#indexing-view-versus-copy\n",
            "  ohlc['deltawma'] = 2 * wmaf - wmas\n"
          ],
          "name": "stderr"
        },
        {
          "output_type": "stream",
          "text": [
            "count    3163.000000\n",
            "mean       27.562834\n",
            "std        26.501974\n",
            "min         6.081000\n",
            "25%        11.265285\n",
            "50%        14.465960\n",
            "75%        37.978680\n",
            "max       142.446104\n",
            "Name: HMA, dtype: float64\n"
          ],
          "name": "stdout"
        },
        {
          "output_type": "execute_result",
          "data": {
            "text/html": [
              "<div>\n",
              "<style scoped>\n",
              "    .dataframe tbody tr th:only-of-type {\n",
              "        vertical-align: middle;\n",
              "    }\n",
              "\n",
              "    .dataframe tbody tr th {\n",
              "        vertical-align: top;\n",
              "    }\n",
              "\n",
              "    .dataframe thead th {\n",
              "        text-align: right;\n",
              "    }\n",
              "</style>\n",
              "<table border=\"1\" class=\"dataframe\">\n",
              "  <thead>\n",
              "    <tr style=\"text-align: right;\">\n",
              "      <th></th>\n",
              "      <th>High</th>\n",
              "      <th>Low</th>\n",
              "      <th>Open</th>\n",
              "      <th>Close</th>\n",
              "      <th>Volume</th>\n",
              "      <th>triple_barrier_signal</th>\n",
              "      <th>RSI</th>\n",
              "      <th>Williams %R</th>\n",
              "      <th>SMA</th>\n",
              "      <th>EMA</th>\n",
              "      <th>WMA</th>\n",
              "      <th>HMA</th>\n",
              "    </tr>\n",
              "    <tr>\n",
              "      <th>Date</th>\n",
              "      <th></th>\n",
              "      <th></th>\n",
              "      <th></th>\n",
              "      <th></th>\n",
              "      <th></th>\n",
              "      <th></th>\n",
              "      <th></th>\n",
              "      <th></th>\n",
              "      <th></th>\n",
              "      <th></th>\n",
              "      <th></th>\n",
              "      <th></th>\n",
              "    </tr>\n",
              "  </thead>\n",
              "  <tbody>\n",
              "    <tr>\n",
              "      <th>2019-09-02</th>\n",
              "      <td>7.10</td>\n",
              "      <td>6.96</td>\n",
              "      <td>7.09</td>\n",
              "      <td>6.96</td>\n",
              "      <td>68714019.0</td>\n",
              "      <td>0</td>\n",
              "      <td>57.991622</td>\n",
              "      <td>-24.050641</td>\n",
              "      <td>6.972195</td>\n",
              "      <td>6.816864</td>\n",
              "      <td>6.866000</td>\n",
              "      <td>6.795</td>\n",
              "    </tr>\n",
              "    <tr>\n",
              "      <th>2019-09-03</th>\n",
              "      <td>7.08</td>\n",
              "      <td>6.92</td>\n",
              "      <td>7.00</td>\n",
              "      <td>6.92</td>\n",
              "      <td>49562988.0</td>\n",
              "      <td>0</td>\n",
              "      <td>56.002480</td>\n",
              "      <td>-26.582285</td>\n",
              "      <td>6.962439</td>\n",
              "      <td>6.837491</td>\n",
              "      <td>6.870000</td>\n",
              "      <td>6.898</td>\n",
              "    </tr>\n",
              "    <tr>\n",
              "      <th>2019-09-04</th>\n",
              "      <td>7.05</td>\n",
              "      <td>6.93</td>\n",
              "      <td>6.94</td>\n",
              "      <td>7.04</td>\n",
              "      <td>58686252.0</td>\n",
              "      <td>0</td>\n",
              "      <td>60.671992</td>\n",
              "      <td>-18.987355</td>\n",
              "      <td>6.954634</td>\n",
              "      <td>6.877993</td>\n",
              "      <td>6.827111</td>\n",
              "      <td>6.984</td>\n",
              "    </tr>\n",
              "    <tr>\n",
              "      <th>2019-09-05</th>\n",
              "      <td>7.13</td>\n",
              "      <td>7.01</td>\n",
              "      <td>7.10</td>\n",
              "      <td>7.01</td>\n",
              "      <td>62700785.0</td>\n",
              "      <td>0</td>\n",
              "      <td>58.869723</td>\n",
              "      <td>-25.781240</td>\n",
              "      <td>6.947561</td>\n",
              "      <td>6.904395</td>\n",
              "      <td>6.833778</td>\n",
              "      <td>6.969</td>\n",
              "    </tr>\n",
              "    <tr>\n",
              "      <th>2019-09-06</th>\n",
              "      <td>7.19</td>\n",
              "      <td>7.01</td>\n",
              "      <td>7.05</td>\n",
              "      <td>7.16</td>\n",
              "      <td>116308137.0</td>\n",
              "      <td>0</td>\n",
              "      <td>64.887238</td>\n",
              "      <td>-24.324357</td>\n",
              "      <td>6.946585</td>\n",
              "      <td>6.955516</td>\n",
              "      <td>6.829556</td>\n",
              "      <td>6.998</td>\n",
              "    </tr>\n",
              "  </tbody>\n",
              "</table>\n",
              "</div>"
            ],
            "text/plain": [
              "            High   Low  Open  Close  ...       SMA       EMA       WMA    HMA\n",
              "Date                                 ...                                     \n",
              "2019-09-02  7.10  6.96  7.09   6.96  ...  6.972195  6.816864  6.866000  6.795\n",
              "2019-09-03  7.08  6.92  7.00   6.92  ...  6.962439  6.837491  6.870000  6.898\n",
              "2019-09-04  7.05  6.93  6.94   7.04  ...  6.954634  6.877993  6.827111  6.984\n",
              "2019-09-05  7.13  7.01  7.10   7.01  ...  6.947561  6.904395  6.833778  6.969\n",
              "2019-09-06  7.19  7.01  7.05   7.16  ...  6.946585  6.955516  6.829556  6.998\n",
              "\n",
              "[5 rows x 12 columns]"
            ]
          },
          "metadata": {
            "tags": []
          },
          "execution_count": 14
        },
        {
          "output_type": "display_data",
          "data": {
            "image/png": "[encoded data removed]",
            "text/plain": [
              "<Figure size 432x288 with 1 Axes>"
            ]
          },
          "metadata": {
            "tags": []
          }
        }
      ]
    },
    {
      "cell_type": "markdown",
      "metadata": {
        "id": "ch7SZ7aFjCit",
        "colab_type": "text"
      },
      "source": [
        "# TEMA"
      ]
    },
    {
      "cell_type": "code",
      "metadata": {
        "id": "GeS0aHxZjFtA",
        "colab_type": "code",
        "outputId": "bdfb08b6-8f56-4868-fbe7-83ec3c85672c",
        "colab": {
          "base_uri": "https://localhost:8080/",
          "height": 655
        }
      },
      "source": [
        "df['TEMA'] = TA.TEMA(ohlcv)\n",
        "print(df['TEMA'].describe())\n",
        "sns.distplot(df['TEMA'].dropna())\n",
        "df.tail()"
      ],
      "execution_count": 15,
      "outputs": [
        {
          "output_type": "stream",
          "text": [
            "count    3166.000000\n",
            "mean       27.555336\n",
            "std        26.526960\n",
            "min         5.900177\n",
            "25%        11.300303\n",
            "50%        14.526711\n",
            "75%        37.894501\n",
            "max       145.363252\n",
            "Name: TEMA, dtype: float64\n"
          ],
          "name": "stdout"
        },
        {
          "output_type": "execute_result",
          "data": {
            "text/html": [
              "<div>\n",
              "<style scoped>\n",
              "    .dataframe tbody tr th:only-of-type {\n",
              "        vertical-align: middle;\n",
              "    }\n",
              "\n",
              "    .dataframe tbody tr th {\n",
              "        vertical-align: top;\n",
              "    }\n",
              "\n",
              "    .dataframe thead th {\n",
              "        text-align: right;\n",
              "    }\n",
              "</style>\n",
              "<table border=\"1\" class=\"dataframe\">\n",
              "  <thead>\n",
              "    <tr style=\"text-align: right;\">\n",
              "      <th></th>\n",
              "      <th>High</th>\n",
              "      <th>Low</th>\n",
              "      <th>Open</th>\n",
              "      <th>Close</th>\n",
              "      <th>Volume</th>\n",
              "      <th>triple_barrier_signal</th>\n",
              "      <th>RSI</th>\n",
              "      <th>Williams %R</th>\n",
              "      <th>SMA</th>\n",
              "      <th>EMA</th>\n",
              "      <th>WMA</th>\n",
              "      <th>HMA</th>\n",
              "      <th>TEMA</th>\n",
              "    </tr>\n",
              "    <tr>\n",
              "      <th>Date</th>\n",
              "      <th></th>\n",
              "      <th></th>\n",
              "      <th></th>\n",
              "      <th></th>\n",
              "      <th></th>\n",
              "      <th></th>\n",
              "      <th></th>\n",
              "      <th></th>\n",
              "      <th></th>\n",
              "      <th></th>\n",
              "      <th></th>\n",
              "      <th></th>\n",
              "      <th></th>\n",
              "    </tr>\n",
              "  </thead>\n",
              "  <tbody>\n",
              "    <tr>\n",
              "      <th>2019-09-02</th>\n",
              "      <td>7.10</td>\n",
              "      <td>6.96</td>\n",
              "      <td>7.09</td>\n",
              "      <td>6.96</td>\n",
              "      <td>68714019.0</td>\n",
              "      <td>0</td>\n",
              "      <td>57.991622</td>\n",
              "      <td>-24.050641</td>\n",
              "      <td>6.972195</td>\n",
              "      <td>6.816864</td>\n",
              "      <td>6.866000</td>\n",
              "      <td>6.795</td>\n",
              "      <td>6.980470</td>\n",
              "    </tr>\n",
              "    <tr>\n",
              "      <th>2019-09-03</th>\n",
              "      <td>7.08</td>\n",
              "      <td>6.92</td>\n",
              "      <td>7.00</td>\n",
              "      <td>6.92</td>\n",
              "      <td>49562988.0</td>\n",
              "      <td>0</td>\n",
              "      <td>56.002480</td>\n",
              "      <td>-26.582285</td>\n",
              "      <td>6.962439</td>\n",
              "      <td>6.837491</td>\n",
              "      <td>6.870000</td>\n",
              "      <td>6.898</td>\n",
              "      <td>6.982150</td>\n",
              "    </tr>\n",
              "    <tr>\n",
              "      <th>2019-09-04</th>\n",
              "      <td>7.05</td>\n",
              "      <td>6.93</td>\n",
              "      <td>6.94</td>\n",
              "      <td>7.04</td>\n",
              "      <td>58686252.0</td>\n",
              "      <td>0</td>\n",
              "      <td>60.671992</td>\n",
              "      <td>-18.987355</td>\n",
              "      <td>6.954634</td>\n",
              "      <td>6.877993</td>\n",
              "      <td>6.827111</td>\n",
              "      <td>6.984</td>\n",
              "      <td>7.036660</td>\n",
              "    </tr>\n",
              "    <tr>\n",
              "      <th>2019-09-05</th>\n",
              "      <td>7.13</td>\n",
              "      <td>7.01</td>\n",
              "      <td>7.10</td>\n",
              "      <td>7.01</td>\n",
              "      <td>62700785.0</td>\n",
              "      <td>0</td>\n",
              "      <td>58.869723</td>\n",
              "      <td>-25.781240</td>\n",
              "      <td>6.947561</td>\n",
              "      <td>6.904395</td>\n",
              "      <td>6.833778</td>\n",
              "      <td>6.969</td>\n",
              "      <td>7.051855</td>\n",
              "    </tr>\n",
              "    <tr>\n",
              "      <th>2019-09-06</th>\n",
              "      <td>7.19</td>\n",
              "      <td>7.01</td>\n",
              "      <td>7.05</td>\n",
              "      <td>7.16</td>\n",
              "      <td>116308137.0</td>\n",
              "      <td>0</td>\n",
              "      <td>64.887238</td>\n",
              "      <td>-24.324357</td>\n",
              "      <td>6.946585</td>\n",
              "      <td>6.955516</td>\n",
              "      <td>6.829556</td>\n",
              "      <td>6.998</td>\n",
              "      <td>7.129726</td>\n",
              "    </tr>\n",
              "  </tbody>\n",
              "</table>\n",
              "</div>"
            ],
            "text/plain": [
              "            High   Low  Open  Close  ...       EMA       WMA    HMA      TEMA\n",
              "Date                                 ...                                     \n",
              "2019-09-02  7.10  6.96  7.09   6.96  ...  6.816864  6.866000  6.795  6.980470\n",
              "2019-09-03  7.08  6.92  7.00   6.92  ...  6.837491  6.870000  6.898  6.982150\n",
              "2019-09-04  7.05  6.93  6.94   7.04  ...  6.877993  6.827111  6.984  7.036660\n",
              "2019-09-05  7.13  7.01  7.10   7.01  ...  6.904395  6.833778  6.969  7.051855\n",
              "2019-09-06  7.19  7.01  7.05   7.16  ...  6.955516  6.829556  6.998  7.129726\n",
              "\n",
              "[5 rows x 13 columns]"
            ]
          },
          "metadata": {
            "tags": []
          },
          "execution_count": 15
        },
        {
          "output_type": "display_data",
          "data": {
            "image/png": "[encoded data removed]",
            "text/plain": [
              "<Figure size 432x288 with 1 Axes>"
            ]
          },
          "metadata": {
            "tags": []
          }
        }
      ]
    },
    {
      "cell_type": "markdown",
      "metadata": {
        "id": "EbMrqw5jjZaa",
        "colab_type": "text"
      },
      "source": [
        "# CCI"
      ]
    },
    {
      "cell_type": "code",
      "metadata": {
        "id": "WBfeDdkUjZiP",
        "colab_type": "code",
        "outputId": "f2425ade-b57b-4585-bc98-eca24329211e",
        "colab": {
          "base_uri": "https://localhost:8080/",
          "height": 759
        }
      },
      "source": [
        "df['CCI'] = TA.CCI(ohlcv)\n",
        "print(df['CCI'].describe())\n",
        "sns.distplot(df['CCI'].dropna())\n",
        "df.tail()"
      ],
      "execution_count": 16,
      "outputs": [
        {
          "output_type": "stream",
          "text": [
            "count    3165.000000\n",
            "mean       -3.993339\n",
            "std        88.706008\n",
            "min      -238.091407\n",
            "25%       -76.308956\n",
            "50%        -6.742347\n",
            "75%        65.395920\n",
            "max       244.848855\n",
            "Name: CCI, dtype: float64\n"
          ],
          "name": "stdout"
        },
        {
          "output_type": "execute_result",
          "data": {
            "text/html": [
              "<div>\n",
              "<style scoped>\n",
              "    .dataframe tbody tr th:only-of-type {\n",
              "        vertical-align: middle;\n",
              "    }\n",
              "\n",
              "    .dataframe tbody tr th {\n",
              "        vertical-align: top;\n",
              "    }\n",
              "\n",
              "    .dataframe thead th {\n",
              "        text-align: right;\n",
              "    }\n",
              "</style>\n",
              "<table border=\"1\" class=\"dataframe\">\n",
              "  <thead>\n",
              "    <tr style=\"text-align: right;\">\n",
              "      <th></th>\n",
              "      <th>High</th>\n",
              "      <th>Low</th>\n",
              "      <th>Open</th>\n",
              "      <th>Close</th>\n",
              "      <th>Volume</th>\n",
              "      <th>triple_barrier_signal</th>\n",
              "      <th>RSI</th>\n",
              "      <th>Williams %R</th>\n",
              "      <th>SMA</th>\n",
              "      <th>EMA</th>\n",
              "      <th>WMA</th>\n",
              "      <th>HMA</th>\n",
              "      <th>TEMA</th>\n",
              "      <th>CCI</th>\n",
              "    </tr>\n",
              "    <tr>\n",
              "      <th>Date</th>\n",
              "      <th></th>\n",
              "      <th></th>\n",
              "      <th></th>\n",
              "      <th></th>\n",
              "      <th></th>\n",
              "      <th></th>\n",
              "      <th></th>\n",
              "      <th></th>\n",
              "      <th></th>\n",
              "      <th></th>\n",
              "      <th></th>\n",
              "      <th></th>\n",
              "      <th></th>\n",
              "      <th></th>\n",
              "    </tr>\n",
              "  </thead>\n",
              "  <tbody>\n",
              "    <tr>\n",
              "      <th>2019-09-02</th>\n",
              "      <td>7.10</td>\n",
              "      <td>6.96</td>\n",
              "      <td>7.09</td>\n",
              "      <td>6.96</td>\n",
              "      <td>68714019.0</td>\n",
              "      <td>0</td>\n",
              "      <td>57.991622</td>\n",
              "      <td>-24.050641</td>\n",
              "      <td>6.972195</td>\n",
              "      <td>6.816864</td>\n",
              "      <td>6.866000</td>\n",
              "      <td>6.795</td>\n",
              "      <td>6.980470</td>\n",
              "      <td>72.534912</td>\n",
              "    </tr>\n",
              "    <tr>\n",
              "      <th>2019-09-03</th>\n",
              "      <td>7.08</td>\n",
              "      <td>6.92</td>\n",
              "      <td>7.00</td>\n",
              "      <td>6.92</td>\n",
              "      <td>49562988.0</td>\n",
              "      <td>0</td>\n",
              "      <td>56.002480</td>\n",
              "      <td>-26.582285</td>\n",
              "      <td>6.962439</td>\n",
              "      <td>6.837491</td>\n",
              "      <td>6.870000</td>\n",
              "      <td>6.898</td>\n",
              "      <td>6.982150</td>\n",
              "      <td>65.991933</td>\n",
              "    </tr>\n",
              "    <tr>\n",
              "      <th>2019-09-04</th>\n",
              "      <td>7.05</td>\n",
              "      <td>6.93</td>\n",
              "      <td>6.94</td>\n",
              "      <td>7.04</td>\n",
              "      <td>58686252.0</td>\n",
              "      <td>0</td>\n",
              "      <td>60.671992</td>\n",
              "      <td>-18.987355</td>\n",
              "      <td>6.954634</td>\n",
              "      <td>6.877993</td>\n",
              "      <td>6.827111</td>\n",
              "      <td>6.984</td>\n",
              "      <td>7.036660</td>\n",
              "      <td>65.686128</td>\n",
              "    </tr>\n",
              "    <tr>\n",
              "      <th>2019-09-05</th>\n",
              "      <td>7.13</td>\n",
              "      <td>7.01</td>\n",
              "      <td>7.10</td>\n",
              "      <td>7.01</td>\n",
              "      <td>62700785.0</td>\n",
              "      <td>0</td>\n",
              "      <td>58.869723</td>\n",
              "      <td>-25.781240</td>\n",
              "      <td>6.947561</td>\n",
              "      <td>6.904395</td>\n",
              "      <td>6.833778</td>\n",
              "      <td>6.969</td>\n",
              "      <td>7.051855</td>\n",
              "      <td>65.971199</td>\n",
              "    </tr>\n",
              "    <tr>\n",
              "      <th>2019-09-06</th>\n",
              "      <td>7.19</td>\n",
              "      <td>7.01</td>\n",
              "      <td>7.05</td>\n",
              "      <td>7.16</td>\n",
              "      <td>116308137.0</td>\n",
              "      <td>0</td>\n",
              "      <td>64.887238</td>\n",
              "      <td>-24.324357</td>\n",
              "      <td>6.946585</td>\n",
              "      <td>6.955516</td>\n",
              "      <td>6.829556</td>\n",
              "      <td>6.998</td>\n",
              "      <td>7.129726</td>\n",
              "      <td>70.624363</td>\n",
              "    </tr>\n",
              "  </tbody>\n",
              "</table>\n",
              "</div>"
            ],
            "text/plain": [
              "            High   Low  Open  Close  ...       WMA    HMA      TEMA        CCI\n",
              "Date                                 ...                                      \n",
              "2019-09-02  7.10  6.96  7.09   6.96  ...  6.866000  6.795  6.980470  72.534912\n",
              "2019-09-03  7.08  6.92  7.00   6.92  ...  6.870000  6.898  6.982150  65.991933\n",
              "2019-09-04  7.05  6.93  6.94   7.04  ...  6.827111  6.984  7.036660  65.686128\n",
              "2019-09-05  7.13  7.01  7.10   7.01  ...  6.833778  6.969  7.051855  65.971199\n",
              "2019-09-06  7.19  7.01  7.05   7.16  ...  6.829556  6.998  7.129726  70.624363\n",
              "\n",
              "[5 rows x 14 columns]"
            ]
          },
          "metadata": {
            "tags": []
          },
          "execution_count": 16
        },
        {
          "output_type": "display_data",
          "data": {
            "image/png": "[encoded data removed]",
            "text/plain": [
              "<Figure size 432x288 with 1 Axes>"
            ]
          },
          "metadata": {
            "tags": []
          }
        }
      ]
    },
    {
      "cell_type": "markdown",
      "metadata": {
        "id": "G8rAJ61cjkJ4",
        "colab_type": "text"
      },
      "source": [
        "# CMO"
      ]
    },
    {
      "cell_type": "code",
      "metadata": {
        "id": "P9EispJmjkj_",
        "colab_type": "code",
        "outputId": "c3c469e4-df04-4e01-fd44-82a30d33fab7",
        "colab": {
          "base_uri": "https://localhost:8080/",
          "height": 779
        }
      },
      "source": [
        "df['CMO'] = TA.CMO(ohlcv)\n",
        "print(df['CMO'].describe())\n",
        "sns.distplot(df['CMO'].dropna())\n",
        "df.tail()"
      ],
      "execution_count": 17,
      "outputs": [
        {
          "output_type": "stream",
          "text": [
            "count    3157.000000\n",
            "mean       -2.187673\n",
            "std        41.373920\n",
            "min      -100.000000\n",
            "25%       -31.917840\n",
            "50%        -1.681903\n",
            "75%        28.282018\n",
            "max       100.000000\n",
            "Name: CMO, dtype: float64\n"
          ],
          "name": "stdout"
        },
        {
          "output_type": "execute_result",
          "data": {
            "text/html": [
              "<div>\n",
              "<style scoped>\n",
              "    .dataframe tbody tr th:only-of-type {\n",
              "        vertical-align: middle;\n",
              "    }\n",
              "\n",
              "    .dataframe tbody tr th {\n",
              "        vertical-align: top;\n",
              "    }\n",
              "\n",
              "    .dataframe thead th {\n",
              "        text-align: right;\n",
              "    }\n",
              "</style>\n",
              "<table border=\"1\" class=\"dataframe\">\n",
              "  <thead>\n",
              "    <tr style=\"text-align: right;\">\n",
              "      <th></th>\n",
              "      <th>High</th>\n",
              "      <th>Low</th>\n",
              "      <th>Open</th>\n",
              "      <th>Close</th>\n",
              "      <th>Volume</th>\n",
              "      <th>triple_barrier_signal</th>\n",
              "      <th>RSI</th>\n",
              "      <th>Williams %R</th>\n",
              "      <th>SMA</th>\n",
              "      <th>EMA</th>\n",
              "      <th>WMA</th>\n",
              "      <th>HMA</th>\n",
              "      <th>TEMA</th>\n",
              "      <th>CCI</th>\n",
              "      <th>CMO</th>\n",
              "    </tr>\n",
              "    <tr>\n",
              "      <th>Date</th>\n",
              "      <th></th>\n",
              "      <th></th>\n",
              "      <th></th>\n",
              "      <th></th>\n",
              "      <th></th>\n",
              "      <th></th>\n",
              "      <th></th>\n",
              "      <th></th>\n",
              "      <th></th>\n",
              "      <th></th>\n",
              "      <th></th>\n",
              "      <th></th>\n",
              "      <th></th>\n",
              "      <th></th>\n",
              "      <th></th>\n",
              "    </tr>\n",
              "  </thead>\n",
              "  <tbody>\n",
              "    <tr>\n",
              "      <th>2019-09-02</th>\n",
              "      <td>7.10</td>\n",
              "      <td>6.96</td>\n",
              "      <td>7.09</td>\n",
              "      <td>6.96</td>\n",
              "      <td>68714019.0</td>\n",
              "      <td>0</td>\n",
              "      <td>57.991622</td>\n",
              "      <td>-24.050641</td>\n",
              "      <td>6.972195</td>\n",
              "      <td>6.816864</td>\n",
              "      <td>6.866000</td>\n",
              "      <td>6.795</td>\n",
              "      <td>6.980470</td>\n",
              "      <td>72.534912</td>\n",
              "      <td>-5.479447</td>\n",
              "    </tr>\n",
              "    <tr>\n",
              "      <th>2019-09-03</th>\n",
              "      <td>7.08</td>\n",
              "      <td>6.92</td>\n",
              "      <td>7.00</td>\n",
              "      <td>6.92</td>\n",
              "      <td>49562988.0</td>\n",
              "      <td>0</td>\n",
              "      <td>56.002480</td>\n",
              "      <td>-26.582285</td>\n",
              "      <td>6.962439</td>\n",
              "      <td>6.837491</td>\n",
              "      <td>6.870000</td>\n",
              "      <td>6.898</td>\n",
              "      <td>6.982150</td>\n",
              "      <td>65.991933</td>\n",
              "      <td>5.343525</td>\n",
              "    </tr>\n",
              "    <tr>\n",
              "      <th>2019-09-04</th>\n",
              "      <td>7.05</td>\n",
              "      <td>6.93</td>\n",
              "      <td>6.94</td>\n",
              "      <td>7.04</td>\n",
              "      <td>58686252.0</td>\n",
              "      <td>0</td>\n",
              "      <td>60.671992</td>\n",
              "      <td>-18.987355</td>\n",
              "      <td>6.954634</td>\n",
              "      <td>6.877993</td>\n",
              "      <td>6.827111</td>\n",
              "      <td>6.984</td>\n",
              "      <td>7.036660</td>\n",
              "      <td>65.686128</td>\n",
              "      <td>-3.333331</td>\n",
              "    </tr>\n",
              "    <tr>\n",
              "      <th>2019-09-05</th>\n",
              "      <td>7.13</td>\n",
              "      <td>7.01</td>\n",
              "      <td>7.10</td>\n",
              "      <td>7.01</td>\n",
              "      <td>62700785.0</td>\n",
              "      <td>0</td>\n",
              "      <td>58.869723</td>\n",
              "      <td>-25.781240</td>\n",
              "      <td>6.947561</td>\n",
              "      <td>6.904395</td>\n",
              "      <td>6.833778</td>\n",
              "      <td>6.969</td>\n",
              "      <td>7.051855</td>\n",
              "      <td>65.971199</td>\n",
              "      <td>16.000040</td>\n",
              "    </tr>\n",
              "    <tr>\n",
              "      <th>2019-09-06</th>\n",
              "      <td>7.19</td>\n",
              "      <td>7.01</td>\n",
              "      <td>7.05</td>\n",
              "      <td>7.16</td>\n",
              "      <td>116308137.0</td>\n",
              "      <td>0</td>\n",
              "      <td>64.887238</td>\n",
              "      <td>-24.324357</td>\n",
              "      <td>6.946585</td>\n",
              "      <td>6.955516</td>\n",
              "      <td>6.829556</td>\n",
              "      <td>6.998</td>\n",
              "      <td>7.129726</td>\n",
              "      <td>70.624363</td>\n",
              "      <td>21.495345</td>\n",
              "    </tr>\n",
              "  </tbody>\n",
              "</table>\n",
              "</div>"
            ],
            "text/plain": [
              "            High   Low  Open  Close  ...    HMA      TEMA        CCI        CMO\n",
              "Date                                 ...                                       \n",
              "2019-09-02  7.10  6.96  7.09   6.96  ...  6.795  6.980470  72.534912  -5.479447\n",
              "2019-09-03  7.08  6.92  7.00   6.92  ...  6.898  6.982150  65.991933   5.343525\n",
              "2019-09-04  7.05  6.93  6.94   7.04  ...  6.984  7.036660  65.686128  -3.333331\n",
              "2019-09-05  7.13  7.01  7.10   7.01  ...  6.969  7.051855  65.971199  16.000040\n",
              "2019-09-06  7.19  7.01  7.05   7.16  ...  6.998  7.129726  70.624363  21.495345\n",
              "\n",
              "[5 rows x 15 columns]"
            ]
          },
          "metadata": {
            "tags": []
          },
          "execution_count": 17
        },
        {
          "output_type": "display_data",
          "data": {
            "image/png": "[encoded data removed]",
            "text/plain": [
              "<Figure size 432x288 with 1 Axes>"
            ]
          },
          "metadata": {
            "tags": []
          }
        }
      ]
    },
    {
      "cell_type": "markdown",
      "metadata": {
        "id": "35qI_9gZjsR0",
        "colab_type": "text"
      },
      "source": [
        "# MACD"
      ]
    },
    {
      "cell_type": "code",
      "metadata": {
        "id": "5QG4lBEfjsZb",
        "colab_type": "code",
        "outputId": "ace0d858-7425-4768-c02c-8b67fbbe973a",
        "colab": {
          "base_uri": "https://localhost:8080/",
          "height": 779
        }
      },
      "source": [
        "df['MACD'] = TA.MACD(ohlcv)['MACD'] - TA.MACD(ohlcv)['SIGNAL']\n",
        "print(df['MACD'].describe())\n",
        "sns.distplot(df['MACD'].dropna())\n",
        "df.tail()"
      ],
      "execution_count": 18,
      "outputs": [
        {
          "output_type": "stream",
          "text": [
            "count    3166.000000\n",
            "mean       -0.000047\n",
            "std         0.441797\n",
            "min        -3.544346\n",
            "25%        -0.100148\n",
            "50%         0.005438\n",
            "75%         0.099083\n",
            "max         3.210115\n",
            "Name: MACD, dtype: float64\n"
          ],
          "name": "stdout"
        },
        {
          "output_type": "execute_result",
          "data": {
            "text/html": [
              "<div>\n",
              "<style scoped>\n",
              "    .dataframe tbody tr th:only-of-type {\n",
              "        vertical-align: middle;\n",
              "    }\n",
              "\n",
              "    .dataframe tbody tr th {\n",
              "        vertical-align: top;\n",
              "    }\n",
              "\n",
              "    .dataframe thead th {\n",
              "        text-align: right;\n",
              "    }\n",
              "</style>\n",
              "<table border=\"1\" class=\"dataframe\">\n",
              "  <thead>\n",
              "    <tr style=\"text-align: right;\">\n",
              "      <th></th>\n",
              "      <th>High</th>\n",
              "      <th>Low</th>\n",
              "      <th>Open</th>\n",
              "      <th>Close</th>\n",
              "      <th>Volume</th>\n",
              "      <th>triple_barrier_signal</th>\n",
              "      <th>RSI</th>\n",
              "      <th>Williams %R</th>\n",
              "      <th>SMA</th>\n",
              "      <th>EMA</th>\n",
              "      <th>WMA</th>\n",
              "      <th>HMA</th>\n",
              "      <th>TEMA</th>\n",
              "      <th>CCI</th>\n",
              "      <th>CMO</th>\n",
              "      <th>MACD</th>\n",
              "    </tr>\n",
              "    <tr>\n",
              "      <th>Date</th>\n",
              "      <th></th>\n",
              "      <th></th>\n",
              "      <th></th>\n",
              "      <th></th>\n",
              "      <th></th>\n",
              "      <th></th>\n",
              "      <th></th>\n",
              "      <th></th>\n",
              "      <th></th>\n",
              "      <th></th>\n",
              "      <th></th>\n",
              "      <th></th>\n",
              "      <th></th>\n",
              "      <th></th>\n",
              "      <th></th>\n",
              "      <th></th>\n",
              "    </tr>\n",
              "  </thead>\n",
              "  <tbody>\n",
              "    <tr>\n",
              "      <th>2019-09-02</th>\n",
              "      <td>7.10</td>\n",
              "      <td>6.96</td>\n",
              "      <td>7.09</td>\n",
              "      <td>6.96</td>\n",
              "      <td>68714019.0</td>\n",
              "      <td>0</td>\n",
              "      <td>57.991622</td>\n",
              "      <td>-24.050641</td>\n",
              "      <td>6.972195</td>\n",
              "      <td>6.816864</td>\n",
              "      <td>6.866000</td>\n",
              "      <td>6.795</td>\n",
              "      <td>6.980470</td>\n",
              "      <td>72.534912</td>\n",
              "      <td>-5.479447</td>\n",
              "      <td>0.076618</td>\n",
              "    </tr>\n",
              "    <tr>\n",
              "      <th>2019-09-03</th>\n",
              "      <td>7.08</td>\n",
              "      <td>6.92</td>\n",
              "      <td>7.00</td>\n",
              "      <td>6.92</td>\n",
              "      <td>49562988.0</td>\n",
              "      <td>0</td>\n",
              "      <td>56.002480</td>\n",
              "      <td>-26.582285</td>\n",
              "      <td>6.962439</td>\n",
              "      <td>6.837491</td>\n",
              "      <td>6.870000</td>\n",
              "      <td>6.898</td>\n",
              "      <td>6.982150</td>\n",
              "      <td>65.991933</td>\n",
              "      <td>5.343525</td>\n",
              "      <td>0.071566</td>\n",
              "    </tr>\n",
              "    <tr>\n",
              "      <th>2019-09-04</th>\n",
              "      <td>7.05</td>\n",
              "      <td>6.93</td>\n",
              "      <td>6.94</td>\n",
              "      <td>7.04</td>\n",
              "      <td>58686252.0</td>\n",
              "      <td>0</td>\n",
              "      <td>60.671992</td>\n",
              "      <td>-18.987355</td>\n",
              "      <td>6.954634</td>\n",
              "      <td>6.877993</td>\n",
              "      <td>6.827111</td>\n",
              "      <td>6.984</td>\n",
              "      <td>7.036660</td>\n",
              "      <td>65.686128</td>\n",
              "      <td>-3.333331</td>\n",
              "      <td>0.073134</td>\n",
              "    </tr>\n",
              "    <tr>\n",
              "      <th>2019-09-05</th>\n",
              "      <td>7.13</td>\n",
              "      <td>7.01</td>\n",
              "      <td>7.10</td>\n",
              "      <td>7.01</td>\n",
              "      <td>62700785.0</td>\n",
              "      <td>0</td>\n",
              "      <td>58.869723</td>\n",
              "      <td>-25.781240</td>\n",
              "      <td>6.947561</td>\n",
              "      <td>6.904395</td>\n",
              "      <td>6.833778</td>\n",
              "      <td>6.969</td>\n",
              "      <td>7.051855</td>\n",
              "      <td>65.971199</td>\n",
              "      <td>16.000040</td>\n",
              "      <td>0.069030</td>\n",
              "    </tr>\n",
              "    <tr>\n",
              "      <th>2019-09-06</th>\n",
              "      <td>7.19</td>\n",
              "      <td>7.01</td>\n",
              "      <td>7.05</td>\n",
              "      <td>7.16</td>\n",
              "      <td>116308137.0</td>\n",
              "      <td>0</td>\n",
              "      <td>64.887238</td>\n",
              "      <td>-24.324357</td>\n",
              "      <td>6.946585</td>\n",
              "      <td>6.955516</td>\n",
              "      <td>6.829556</td>\n",
              "      <td>6.998</td>\n",
              "      <td>7.129726</td>\n",
              "      <td>70.624363</td>\n",
              "      <td>21.495345</td>\n",
              "      <td>0.072916</td>\n",
              "    </tr>\n",
              "  </tbody>\n",
              "</table>\n",
              "</div>"
            ],
            "text/plain": [
              "            High   Low  Open  Close  ...      TEMA        CCI        CMO      MACD\n",
              "Date                                 ...                                          \n",
              "2019-09-02  7.10  6.96  7.09   6.96  ...  6.980470  72.534912  -5.479447  0.076618\n",
              "2019-09-03  7.08  6.92  7.00   6.92  ...  6.982150  65.991933   5.343525  0.071566\n",
              "2019-09-04  7.05  6.93  6.94   7.04  ...  7.036660  65.686128  -3.333331  0.073134\n",
              "2019-09-05  7.13  7.01  7.10   7.01  ...  7.051855  65.971199  16.000040  0.069030\n",
              "2019-09-06  7.19  7.01  7.05   7.16  ...  7.129726  70.624363  21.495345  0.072916\n",
              "\n",
              "[5 rows x 16 columns]"
            ]
          },
          "metadata": {
            "tags": []
          },
          "execution_count": 18
        },
        {
          "output_type": "display_data",
          "data": {
            "image/png": "[encoded data removed]",
            "text/plain": [
              "<Figure size 432x288 with 1 Axes>"
            ]
          },
          "metadata": {
            "tags": []
          }
        }
      ]
    },
    {
      "cell_type": "markdown",
      "metadata": {
        "id": "roEAzvV7liUA",
        "colab_type": "text"
      },
      "source": [
        "# PPO"
      ]
    },
    {
      "cell_type": "code",
      "metadata": {
        "id": "ovCLHYPXli73",
        "colab_type": "code",
        "outputId": "91e4482b-fc25-427f-ad53-460bea9fe7cb",
        "colab": {
          "base_uri": "https://localhost:8080/",
          "height": 779
        }
      },
      "source": [
        "df['PPO'] = TA.PPO(ohlcv)['PPO'] - TA.PPO(ohlcv)['SIGNAL']\n",
        "print(df['PPO'].describe())\n",
        "sns.distplot(df['PPO'].dropna())\n",
        "df.tail()"
      ],
      "execution_count": 19,
      "outputs": [
        {
          "output_type": "stream",
          "text": [
            "count    3166.000000\n",
            "mean       -0.000683\n",
            "std         0.981859\n",
            "min        -2.990214\n",
            "25%        -0.595348\n",
            "50%         0.004953\n",
            "75%         0.550465\n",
            "max         5.325322\n",
            "Name: PPO, dtype: float64\n"
          ],
          "name": "stdout"
        },
        {
          "output_type": "execute_result",
          "data": {
            "text/html": [
              "<div>\n",
              "<style scoped>\n",
              "    .dataframe tbody tr th:only-of-type {\n",
              "        vertical-align: middle;\n",
              "    }\n",
              "\n",
              "    .dataframe tbody tr th {\n",
              "        vertical-align: top;\n",
              "    }\n",
              "\n",
              "    .dataframe thead th {\n",
              "        text-align: right;\n",
              "    }\n",
              "</style>\n",
              "<table border=\"1\" class=\"dataframe\">\n",
              "  <thead>\n",
              "    <tr style=\"text-align: right;\">\n",
              "      <th></th>\n",
              "      <th>High</th>\n",
              "      <th>Low</th>\n",
              "      <th>Open</th>\n",
              "      <th>Close</th>\n",
              "      <th>Volume</th>\n",
              "      <th>triple_barrier_signal</th>\n",
              "      <th>RSI</th>\n",
              "      <th>Williams %R</th>\n",
              "      <th>SMA</th>\n",
              "      <th>EMA</th>\n",
              "      <th>WMA</th>\n",
              "      <th>HMA</th>\n",
              "      <th>TEMA</th>\n",
              "      <th>CCI</th>\n",
              "      <th>CMO</th>\n",
              "      <th>MACD</th>\n",
              "      <th>PPO</th>\n",
              "    </tr>\n",
              "    <tr>\n",
              "      <th>Date</th>\n",
              "      <th></th>\n",
              "      <th></th>\n",
              "      <th></th>\n",
              "      <th></th>\n",
              "      <th></th>\n",
              "      <th></th>\n",
              "      <th></th>\n",
              "      <th></th>\n",
              "      <th></th>\n",
              "      <th></th>\n",
              "      <th></th>\n",
              "      <th></th>\n",
              "      <th></th>\n",
              "      <th></th>\n",
              "      <th></th>\n",
              "      <th></th>\n",
              "      <th></th>\n",
              "    </tr>\n",
              "  </thead>\n",
              "  <tbody>\n",
              "    <tr>\n",
              "      <th>2019-09-02</th>\n",
              "      <td>7.10</td>\n",
              "      <td>6.96</td>\n",
              "      <td>7.09</td>\n",
              "      <td>6.96</td>\n",
              "      <td>68714019.0</td>\n",
              "      <td>0</td>\n",
              "      <td>57.991622</td>\n",
              "      <td>-24.050641</td>\n",
              "      <td>6.972195</td>\n",
              "      <td>6.816864</td>\n",
              "      <td>6.866000</td>\n",
              "      <td>6.795</td>\n",
              "      <td>6.980470</td>\n",
              "      <td>72.534912</td>\n",
              "      <td>-5.479447</td>\n",
              "      <td>0.076618</td>\n",
              "      <td>1.122326</td>\n",
              "    </tr>\n",
              "    <tr>\n",
              "      <th>2019-09-03</th>\n",
              "      <td>7.08</td>\n",
              "      <td>6.92</td>\n",
              "      <td>7.00</td>\n",
              "      <td>6.92</td>\n",
              "      <td>49562988.0</td>\n",
              "      <td>0</td>\n",
              "      <td>56.002480</td>\n",
              "      <td>-26.582285</td>\n",
              "      <td>6.962439</td>\n",
              "      <td>6.837491</td>\n",
              "      <td>6.870000</td>\n",
              "      <td>6.898</td>\n",
              "      <td>6.982150</td>\n",
              "      <td>65.991933</td>\n",
              "      <td>5.343525</td>\n",
              "      <td>0.071566</td>\n",
              "      <td>1.048693</td>\n",
              "    </tr>\n",
              "    <tr>\n",
              "      <th>2019-09-04</th>\n",
              "      <td>7.05</td>\n",
              "      <td>6.93</td>\n",
              "      <td>6.94</td>\n",
              "      <td>7.04</td>\n",
              "      <td>58686252.0</td>\n",
              "      <td>0</td>\n",
              "      <td>60.671992</td>\n",
              "      <td>-18.987355</td>\n",
              "      <td>6.954634</td>\n",
              "      <td>6.877993</td>\n",
              "      <td>6.827111</td>\n",
              "      <td>6.984</td>\n",
              "      <td>7.036660</td>\n",
              "      <td>65.686128</td>\n",
              "      <td>-3.333331</td>\n",
              "      <td>0.073134</td>\n",
              "      <td>1.071519</td>\n",
              "    </tr>\n",
              "    <tr>\n",
              "      <th>2019-09-05</th>\n",
              "      <td>7.13</td>\n",
              "      <td>7.01</td>\n",
              "      <td>7.10</td>\n",
              "      <td>7.01</td>\n",
              "      <td>62700785.0</td>\n",
              "      <td>0</td>\n",
              "      <td>58.869723</td>\n",
              "      <td>-25.781240</td>\n",
              "      <td>6.947561</td>\n",
              "      <td>6.904395</td>\n",
              "      <td>6.833778</td>\n",
              "      <td>6.969</td>\n",
              "      <td>7.051855</td>\n",
              "      <td>65.971199</td>\n",
              "      <td>16.000040</td>\n",
              "      <td>0.069030</td>\n",
              "      <td>1.010678</td>\n",
              "    </tr>\n",
              "    <tr>\n",
              "      <th>2019-09-06</th>\n",
              "      <td>7.19</td>\n",
              "      <td>7.01</td>\n",
              "      <td>7.05</td>\n",
              "      <td>7.16</td>\n",
              "      <td>116308137.0</td>\n",
              "      <td>0</td>\n",
              "      <td>64.887238</td>\n",
              "      <td>-24.324357</td>\n",
              "      <td>6.946585</td>\n",
              "      <td>6.955516</td>\n",
              "      <td>6.829556</td>\n",
              "      <td>6.998</td>\n",
              "      <td>7.129726</td>\n",
              "      <td>70.624363</td>\n",
              "      <td>21.495345</td>\n",
              "      <td>0.072916</td>\n",
              "      <td>1.065209</td>\n",
              "    </tr>\n",
              "  </tbody>\n",
              "</table>\n",
              "</div>"
            ],
            "text/plain": [
              "            High   Low  Open  Close  ...        CCI        CMO      MACD       PPO\n",
              "Date                                 ...                                          \n",
              "2019-09-02  7.10  6.96  7.09   6.96  ...  72.534912  -5.479447  0.076618  1.122326\n",
              "2019-09-03  7.08  6.92  7.00   6.92  ...  65.991933   5.343525  0.071566  1.048693\n",
              "2019-09-04  7.05  6.93  6.94   7.04  ...  65.686128  -3.333331  0.073134  1.071519\n",
              "2019-09-05  7.13  7.01  7.10   7.01  ...  65.971199  16.000040  0.069030  1.010678\n",
              "2019-09-06  7.19  7.01  7.05   7.16  ...  70.624363  21.495345  0.072916  1.065209\n",
              "\n",
              "[5 rows x 17 columns]"
            ]
          },
          "metadata": {
            "tags": []
          },
          "execution_count": 19
        },
        {
          "output_type": "display_data",
          "data": {
            "image/png": "[encoded data removed]",
            "text/plain": [
              "<Figure size 432x288 with 1 Axes>"
            ]
          },
          "metadata": {
            "tags": []
          }
        }
      ]
    },
    {
      "cell_type": "markdown",
      "metadata": {
        "id": "5BBE8vaWmdGN",
        "colab_type": "text"
      },
      "source": [
        "# ROC"
      ]
    },
    {
      "cell_type": "code",
      "metadata": {
        "id": "OKI3MqwhmdOj",
        "colab_type": "code",
        "outputId": "45641e9b-1570-4e30-e925-8625f84f11a9",
        "colab": {
          "base_uri": "https://localhost:8080/",
          "height": 779
        }
      },
      "source": [
        "df['ROC'] = TA.ROC(ohlcv)\n",
        "print(df['ROC'].describe())\n",
        "sns.distplot(df['ROC'].dropna())\n",
        "df.tail()"
      ],
      "execution_count": 20,
      "outputs": [
        {
          "output_type": "stream",
          "text": [
            "count    3154.000000\n",
            "mean       -0.191874\n",
            "std        10.128694\n",
            "min       -40.706426\n",
            "25%        -5.614744\n",
            "50%        -0.479670\n",
            "75%         5.273361\n",
            "max        43.674733\n",
            "Name: ROC, dtype: float64\n"
          ],
          "name": "stdout"
        },
        {
          "output_type": "execute_result",
          "data": {
            "text/html": [
              "<div>\n",
              "<style scoped>\n",
              "    .dataframe tbody tr th:only-of-type {\n",
              "        vertical-align: middle;\n",
              "    }\n",
              "\n",
              "    .dataframe tbody tr th {\n",
              "        vertical-align: top;\n",
              "    }\n",
              "\n",
              "    .dataframe thead th {\n",
              "        text-align: right;\n",
              "    }\n",
              "</style>\n",
              "<table border=\"1\" class=\"dataframe\">\n",
              "  <thead>\n",
              "    <tr style=\"text-align: right;\">\n",
              "      <th></th>\n",
              "      <th>High</th>\n",
              "      <th>Low</th>\n",
              "      <th>Open</th>\n",
              "      <th>Close</th>\n",
              "      <th>Volume</th>\n",
              "      <th>triple_barrier_signal</th>\n",
              "      <th>RSI</th>\n",
              "      <th>Williams %R</th>\n",
              "      <th>SMA</th>\n",
              "      <th>EMA</th>\n",
              "      <th>WMA</th>\n",
              "      <th>HMA</th>\n",
              "      <th>TEMA</th>\n",
              "      <th>CCI</th>\n",
              "      <th>CMO</th>\n",
              "      <th>MACD</th>\n",
              "      <th>PPO</th>\n",
              "      <th>ROC</th>\n",
              "    </tr>\n",
              "    <tr>\n",
              "      <th>Date</th>\n",
              "      <th></th>\n",
              "      <th></th>\n",
              "      <th></th>\n",
              "      <th></th>\n",
              "      <th></th>\n",
              "      <th></th>\n",
              "      <th></th>\n",
              "      <th></th>\n",
              "      <th></th>\n",
              "      <th></th>\n",
              "      <th></th>\n",
              "      <th></th>\n",
              "      <th></th>\n",
              "      <th></th>\n",
              "      <th></th>\n",
              "      <th></th>\n",
              "      <th></th>\n",
              "      <th></th>\n",
              "    </tr>\n",
              "  </thead>\n",
              "  <tbody>\n",
              "    <tr>\n",
              "      <th>2019-09-02</th>\n",
              "      <td>7.10</td>\n",
              "      <td>6.96</td>\n",
              "      <td>7.09</td>\n",
              "      <td>6.96</td>\n",
              "      <td>68714019.0</td>\n",
              "      <td>0</td>\n",
              "      <td>57.991622</td>\n",
              "      <td>-24.050641</td>\n",
              "      <td>6.972195</td>\n",
              "      <td>6.816864</td>\n",
              "      <td>6.866000</td>\n",
              "      <td>6.795</td>\n",
              "      <td>6.980470</td>\n",
              "      <td>72.534912</td>\n",
              "      <td>-5.479447</td>\n",
              "      <td>0.076618</td>\n",
              "      <td>1.122326</td>\n",
              "      <td>16.778523</td>\n",
              "    </tr>\n",
              "    <tr>\n",
              "      <th>2019-09-03</th>\n",
              "      <td>7.08</td>\n",
              "      <td>6.92</td>\n",
              "      <td>7.00</td>\n",
              "      <td>6.92</td>\n",
              "      <td>49562988.0</td>\n",
              "      <td>0</td>\n",
              "      <td>56.002480</td>\n",
              "      <td>-26.582285</td>\n",
              "      <td>6.962439</td>\n",
              "      <td>6.837491</td>\n",
              "      <td>6.870000</td>\n",
              "      <td>6.898</td>\n",
              "      <td>6.982150</td>\n",
              "      <td>65.991933</td>\n",
              "      <td>5.343525</td>\n",
              "      <td>0.071566</td>\n",
              "      <td>1.048693</td>\n",
              "      <td>14.569538</td>\n",
              "    </tr>\n",
              "    <tr>\n",
              "      <th>2019-09-04</th>\n",
              "      <td>7.05</td>\n",
              "      <td>6.93</td>\n",
              "      <td>6.94</td>\n",
              "      <td>7.04</td>\n",
              "      <td>58686252.0</td>\n",
              "      <td>0</td>\n",
              "      <td>60.671992</td>\n",
              "      <td>-18.987355</td>\n",
              "      <td>6.954634</td>\n",
              "      <td>6.877993</td>\n",
              "      <td>6.827111</td>\n",
              "      <td>6.984</td>\n",
              "      <td>7.036660</td>\n",
              "      <td>65.686128</td>\n",
              "      <td>-3.333331</td>\n",
              "      <td>0.073134</td>\n",
              "      <td>1.071519</td>\n",
              "      <td>7.810103</td>\n",
              "    </tr>\n",
              "    <tr>\n",
              "      <th>2019-09-05</th>\n",
              "      <td>7.13</td>\n",
              "      <td>7.01</td>\n",
              "      <td>7.10</td>\n",
              "      <td>7.01</td>\n",
              "      <td>62700785.0</td>\n",
              "      <td>0</td>\n",
              "      <td>58.869723</td>\n",
              "      <td>-25.781240</td>\n",
              "      <td>6.947561</td>\n",
              "      <td>6.904395</td>\n",
              "      <td>6.833778</td>\n",
              "      <td>6.969</td>\n",
              "      <td>7.051855</td>\n",
              "      <td>65.971199</td>\n",
              "      <td>16.000040</td>\n",
              "      <td>0.069030</td>\n",
              "      <td>1.010678</td>\n",
              "      <td>-0.426133</td>\n",
              "    </tr>\n",
              "    <tr>\n",
              "      <th>2019-09-06</th>\n",
              "      <td>7.19</td>\n",
              "      <td>7.01</td>\n",
              "      <td>7.05</td>\n",
              "      <td>7.16</td>\n",
              "      <td>116308137.0</td>\n",
              "      <td>0</td>\n",
              "      <td>64.887238</td>\n",
              "      <td>-24.324357</td>\n",
              "      <td>6.946585</td>\n",
              "      <td>6.955516</td>\n",
              "      <td>6.829556</td>\n",
              "      <td>6.998</td>\n",
              "      <td>7.129726</td>\n",
              "      <td>70.624363</td>\n",
              "      <td>21.495345</td>\n",
              "      <td>0.072916</td>\n",
              "      <td>1.065209</td>\n",
              "      <td>4.525547</td>\n",
              "    </tr>\n",
              "  </tbody>\n",
              "</table>\n",
              "</div>"
            ],
            "text/plain": [
              "            High   Low  Open  Close  ...        CMO      MACD       PPO        ROC\n",
              "Date                                 ...                                          \n",
              "2019-09-02  7.10  6.96  7.09   6.96  ...  -5.479447  0.076618  1.122326  16.778523\n",
              "2019-09-03  7.08  6.92  7.00   6.92  ...   5.343525  0.071566  1.048693  14.569538\n",
              "2019-09-04  7.05  6.93  6.94   7.04  ...  -3.333331  0.073134  1.071519   7.810103\n",
              "2019-09-05  7.13  7.01  7.10   7.01  ...  16.000040  0.069030  1.010678  -0.426133\n",
              "2019-09-06  7.19  7.01  7.05   7.16  ...  21.495345  0.072916  1.065209   4.525547\n",
              "\n",
              "[5 rows x 18 columns]"
            ]
          },
          "metadata": {
            "tags": []
          },
          "execution_count": 20
        },
        {
          "output_type": "display_data",
          "data": {
            "image/png": "[encoded data removed]",
            "text/plain": [
              "<Figure size 432x288 with 1 Axes>"
            ]
          },
          "metadata": {
            "tags": []
          }
        }
      ]
    },
    {
      "cell_type": "markdown",
      "metadata": {
        "id": "b9LTKsyvmuSd",
        "colab_type": "text"
      },
      "source": [
        "# CMFI"
      ]
    },
    {
      "cell_type": "code",
      "metadata": {
        "id": "somnlSTOmvjJ",
        "colab_type": "code",
        "outputId": "5203976c-d4a8-4b16-d1a5-66660fa73e05",
        "colab": {
          "base_uri": "https://localhost:8080/",
          "height": 785
        }
      },
      "source": [
        "df['CFI'] = TA.CFI(ohlcv)\n",
        "print(df['CFI'].describe())\n",
        "sns.distplot(df['CFI'].dropna())\n",
        "df.tail()"
      ],
      "execution_count": 21,
      "outputs": [
        {
          "output_type": "stream",
          "text": [
            "count    3.157000e+03\n",
            "mean     6.025402e+09\n",
            "std      1.220307e+10\n",
            "min     -2.364300e+10\n",
            "25%      9.224420e+09\n",
            "50%      1.052695e+10\n",
            "75%      1.248007e+10\n",
            "max      1.562805e+10\n",
            "Name: CFI, dtype: float64\n"
          ],
          "name": "stdout"
        },
        {
          "output_type": "execute_result",
          "data": {
            "text/html": [
              "<div>\n",
              "<style scoped>\n",
              "    .dataframe tbody tr th:only-of-type {\n",
              "        vertical-align: middle;\n",
              "    }\n",
              "\n",
              "    .dataframe tbody tr th {\n",
              "        vertical-align: top;\n",
              "    }\n",
              "\n",
              "    .dataframe thead th {\n",
              "        text-align: right;\n",
              "    }\n",
              "</style>\n",
              "<table border=\"1\" class=\"dataframe\">\n",
              "  <thead>\n",
              "    <tr style=\"text-align: right;\">\n",
              "      <th></th>\n",
              "      <th>High</th>\n",
              "      <th>Low</th>\n",
              "      <th>Open</th>\n",
              "      <th>Close</th>\n",
              "      <th>Volume</th>\n",
              "      <th>triple_barrier_signal</th>\n",
              "      <th>RSI</th>\n",
              "      <th>Williams %R</th>\n",
              "      <th>SMA</th>\n",
              "      <th>EMA</th>\n",
              "      <th>WMA</th>\n",
              "      <th>HMA</th>\n",
              "      <th>TEMA</th>\n",
              "      <th>CCI</th>\n",
              "      <th>CMO</th>\n",
              "      <th>MACD</th>\n",
              "      <th>PPO</th>\n",
              "      <th>ROC</th>\n",
              "      <th>CFI</th>\n",
              "    </tr>\n",
              "    <tr>\n",
              "      <th>Date</th>\n",
              "      <th></th>\n",
              "      <th></th>\n",
              "      <th></th>\n",
              "      <th></th>\n",
              "      <th></th>\n",
              "      <th></th>\n",
              "      <th></th>\n",
              "      <th></th>\n",
              "      <th></th>\n",
              "      <th></th>\n",
              "      <th></th>\n",
              "      <th></th>\n",
              "      <th></th>\n",
              "      <th></th>\n",
              "      <th></th>\n",
              "      <th></th>\n",
              "      <th></th>\n",
              "      <th></th>\n",
              "      <th></th>\n",
              "    </tr>\n",
              "  </thead>\n",
              "  <tbody>\n",
              "    <tr>\n",
              "      <th>2019-09-02</th>\n",
              "      <td>7.10</td>\n",
              "      <td>6.96</td>\n",
              "      <td>7.09</td>\n",
              "      <td>6.96</td>\n",
              "      <td>68714019.0</td>\n",
              "      <td>0</td>\n",
              "      <td>57.991622</td>\n",
              "      <td>-24.050641</td>\n",
              "      <td>6.972195</td>\n",
              "      <td>6.816864</td>\n",
              "      <td>6.866000</td>\n",
              "      <td>6.795</td>\n",
              "      <td>6.980470</td>\n",
              "      <td>72.534912</td>\n",
              "      <td>-5.479447</td>\n",
              "      <td>0.076618</td>\n",
              "      <td>1.122326</td>\n",
              "      <td>16.778523</td>\n",
              "      <td>1.379451e+10</td>\n",
              "    </tr>\n",
              "    <tr>\n",
              "      <th>2019-09-03</th>\n",
              "      <td>7.08</td>\n",
              "      <td>6.92</td>\n",
              "      <td>7.00</td>\n",
              "      <td>6.92</td>\n",
              "      <td>49562988.0</td>\n",
              "      <td>0</td>\n",
              "      <td>56.002480</td>\n",
              "      <td>-26.582285</td>\n",
              "      <td>6.962439</td>\n",
              "      <td>6.837491</td>\n",
              "      <td>6.870000</td>\n",
              "      <td>6.898</td>\n",
              "      <td>6.982150</td>\n",
              "      <td>65.991933</td>\n",
              "      <td>5.343525</td>\n",
              "      <td>0.071566</td>\n",
              "      <td>1.048693</td>\n",
              "      <td>14.569538</td>\n",
              "      <td>1.380177e+10</td>\n",
              "    </tr>\n",
              "    <tr>\n",
              "      <th>2019-09-04</th>\n",
              "      <td>7.05</td>\n",
              "      <td>6.93</td>\n",
              "      <td>6.94</td>\n",
              "      <td>7.04</td>\n",
              "      <td>58686252.0</td>\n",
              "      <td>0</td>\n",
              "      <td>60.671992</td>\n",
              "      <td>-18.987355</td>\n",
              "      <td>6.954634</td>\n",
              "      <td>6.877993</td>\n",
              "      <td>6.827111</td>\n",
              "      <td>6.984</td>\n",
              "      <td>7.036660</td>\n",
              "      <td>65.686128</td>\n",
              "      <td>-3.333331</td>\n",
              "      <td>0.073134</td>\n",
              "      <td>1.071519</td>\n",
              "      <td>7.810103</td>\n",
              "      <td>1.380899e+10</td>\n",
              "    </tr>\n",
              "    <tr>\n",
              "      <th>2019-09-05</th>\n",
              "      <td>7.13</td>\n",
              "      <td>7.01</td>\n",
              "      <td>7.10</td>\n",
              "      <td>7.01</td>\n",
              "      <td>62700785.0</td>\n",
              "      <td>0</td>\n",
              "      <td>58.869723</td>\n",
              "      <td>-25.781240</td>\n",
              "      <td>6.947561</td>\n",
              "      <td>6.904395</td>\n",
              "      <td>6.833778</td>\n",
              "      <td>6.969</td>\n",
              "      <td>7.051855</td>\n",
              "      <td>65.971199</td>\n",
              "      <td>16.000040</td>\n",
              "      <td>0.069030</td>\n",
              "      <td>1.010678</td>\n",
              "      <td>-0.426133</td>\n",
              "      <td>1.381456e+10</td>\n",
              "    </tr>\n",
              "    <tr>\n",
              "      <th>2019-09-06</th>\n",
              "      <td>7.19</td>\n",
              "      <td>7.01</td>\n",
              "      <td>7.05</td>\n",
              "      <td>7.16</td>\n",
              "      <td>116308137.0</td>\n",
              "      <td>0</td>\n",
              "      <td>64.887238</td>\n",
              "      <td>-24.324357</td>\n",
              "      <td>6.946585</td>\n",
              "      <td>6.955516</td>\n",
              "      <td>6.829556</td>\n",
              "      <td>6.998</td>\n",
              "      <td>7.129726</td>\n",
              "      <td>70.624363</td>\n",
              "      <td>21.495345</td>\n",
              "      <td>0.072916</td>\n",
              "      <td>1.065209</td>\n",
              "      <td>4.525547</td>\n",
              "      <td>1.382229e+10</td>\n",
              "    </tr>\n",
              "  </tbody>\n",
              "</table>\n",
              "</div>"
            ],
            "text/plain": [
              "            High   Low  Open  ...       PPO        ROC           CFI\n",
              "Date                          ...                                   \n",
              "2019-09-02  7.10  6.96  7.09  ...  1.122326  16.778523  1.379451e+10\n",
              "2019-09-03  7.08  6.92  7.00  ...  1.048693  14.569538  1.380177e+10\n",
              "2019-09-04  7.05  6.93  6.94  ...  1.071519   7.810103  1.380899e+10\n",
              "2019-09-05  7.13  7.01  7.10  ...  1.010678  -0.426133  1.381456e+10\n",
              "2019-09-06  7.19  7.01  7.05  ...  1.065209   4.525547  1.382229e+10\n",
              "\n",
              "[5 rows x 19 columns]"
            ]
          },
          "metadata": {
            "tags": []
          },
          "execution_count": 21
        },
        {
          "output_type": "display_data",
          "data": {
            "image/png": "[encoded data removed]",
            "text/plain": [
              "<Figure size 432x288 with 1 Axes>"
            ]
          },
          "metadata": {
            "tags": []
          }
        }
      ]
    },
    {
      "cell_type": "markdown",
      "metadata": {
        "id": "8WydSl0doUYk",
        "colab_type": "text"
      },
      "source": [
        "# DMI"
      ]
    },
    {
      "cell_type": "code",
      "metadata": {
        "id": "xRTnC6DboU05",
        "colab_type": "code",
        "outputId": "fbf68d5c-caed-4407-d2a4-f25d09e5227b",
        "colab": {
          "base_uri": "https://localhost:8080/",
          "height": 1000
        }
      },
      "source": [
        "df['DMI'] = TA.DMI(ohlcv)['DI+'] - TA.DMI(ohlcv)['DI-']\n",
        "print(df['DMI'].describe())\n",
        "sns.distplot(df['DMI'].dropna())\n",
        "df.tail()"
      ],
      "execution_count": 22,
      "outputs": [
        {
          "output_type": "stream",
          "text": [
            "/usr/local/lib/python3.6/dist-packages/finta/finta.py:792: SettingWithCopyWarning: \n",
            "A value is trying to be set on a copy of a slice from a DataFrame.\n",
            "Try using .loc[row_indexer,col_indexer] = value instead\n",
            "\n",
            "See the caveats in the documentation: http://pandas.pydata.org/pandas-docs/stable/indexing.html#indexing-view-versus-copy\n",
            "  ohlc[\"up_move\"] = ohlc[\"high\"].diff()\n",
            "/usr/local/lib/python3.6/dist-packages/finta/finta.py:793: SettingWithCopyWarning: \n",
            "A value is trying to be set on a copy of a slice from a DataFrame.\n",
            "Try using .loc[row_indexer,col_indexer] = value instead\n",
            "\n",
            "See the caveats in the documentation: http://pandas.pydata.org/pandas-docs/stable/indexing.html#indexing-view-versus-copy\n",
            "  ohlc[\"down_move\"] = -ohlc[\"low\"].diff()\n",
            "/usr/local/lib/python3.6/dist-packages/finta/finta.py:809: SettingWithCopyWarning: \n",
            "A value is trying to be set on a copy of a slice from a DataFrame.\n",
            "Try using .loc[row_indexer,col_indexer] = value instead\n",
            "\n",
            "See the caveats in the documentation: http://pandas.pydata.org/pandas-docs/stable/indexing.html#indexing-view-versus-copy\n",
            "  ohlc[\"DMp\"] = DMp\n",
            "/usr/local/lib/python3.6/dist-packages/finta/finta.py:810: SettingWithCopyWarning: \n",
            "A value is trying to be set on a copy of a slice from a DataFrame.\n",
            "Try using .loc[row_indexer,col_indexer] = value instead\n",
            "\n",
            "See the caveats in the documentation: http://pandas.pydata.org/pandas-docs/stable/indexing.html#indexing-view-versus-copy\n",
            "  ohlc[\"DMm\"] = DMm\n"
          ],
          "name": "stderr"
        },
        {
          "output_type": "stream",
          "text": [
            "count    3083.000000\n",
            "mean       -0.486316\n",
            "std        23.758501\n",
            "min      -120.015010\n",
            "25%       -14.637867\n",
            "50%        -1.125361\n",
            "75%        12.102207\n",
            "max       117.034017\n",
            "Name: DMI, dtype: float64\n"
          ],
          "name": "stdout"
        },
        {
          "output_type": "execute_result",
          "data": {
            "text/html": [
              "<div>\n",
              "<style scoped>\n",
              "    .dataframe tbody tr th:only-of-type {\n",
              "        vertical-align: middle;\n",
              "    }\n",
              "\n",
              "    .dataframe tbody tr th {\n",
              "        vertical-align: top;\n",
              "    }\n",
              "\n",
              "    .dataframe thead th {\n",
              "        text-align: right;\n",
              "    }\n",
              "</style>\n",
              "<table border=\"1\" class=\"dataframe\">\n",
              "  <thead>\n",
              "    <tr style=\"text-align: right;\">\n",
              "      <th></th>\n",
              "      <th>High</th>\n",
              "      <th>Low</th>\n",
              "      <th>Open</th>\n",
              "      <th>Close</th>\n",
              "      <th>Volume</th>\n",
              "      <th>triple_barrier_signal</th>\n",
              "      <th>RSI</th>\n",
              "      <th>Williams %R</th>\n",
              "      <th>SMA</th>\n",
              "      <th>EMA</th>\n",
              "      <th>WMA</th>\n",
              "      <th>HMA</th>\n",
              "      <th>TEMA</th>\n",
              "      <th>CCI</th>\n",
              "      <th>CMO</th>\n",
              "      <th>MACD</th>\n",
              "      <th>PPO</th>\n",
              "      <th>ROC</th>\n",
              "      <th>CFI</th>\n",
              "      <th>DMI</th>\n",
              "    </tr>\n",
              "    <tr>\n",
              "      <th>Date</th>\n",
              "      <th></th>\n",
              "      <th></th>\n",
              "      <th></th>\n",
              "      <th></th>\n",
              "      <th></th>\n",
              "      <th></th>\n",
              "      <th></th>\n",
              "      <th></th>\n",
              "      <th></th>\n",
              "      <th></th>\n",
              "      <th></th>\n",
              "      <th></th>\n",
              "      <th></th>\n",
              "      <th></th>\n",
              "      <th></th>\n",
              "      <th></th>\n",
              "      <th></th>\n",
              "      <th></th>\n",
              "      <th></th>\n",
              "      <th></th>\n",
              "    </tr>\n",
              "  </thead>\n",
              "  <tbody>\n",
              "    <tr>\n",
              "      <th>2019-09-02</th>\n",
              "      <td>7.10</td>\n",
              "      <td>6.96</td>\n",
              "      <td>7.09</td>\n",
              "      <td>6.96</td>\n",
              "      <td>68714019.0</td>\n",
              "      <td>0</td>\n",
              "      <td>57.991622</td>\n",
              "      <td>-24.050641</td>\n",
              "      <td>6.972195</td>\n",
              "      <td>6.816864</td>\n",
              "      <td>6.866000</td>\n",
              "      <td>6.795</td>\n",
              "      <td>6.980470</td>\n",
              "      <td>72.534912</td>\n",
              "      <td>-5.479447</td>\n",
              "      <td>0.076618</td>\n",
              "      <td>1.122326</td>\n",
              "      <td>16.778523</td>\n",
              "      <td>1.379451e+10</td>\n",
              "      <td>20.002075</td>\n",
              "    </tr>\n",
              "    <tr>\n",
              "      <th>2019-09-03</th>\n",
              "      <td>7.08</td>\n",
              "      <td>6.92</td>\n",
              "      <td>7.00</td>\n",
              "      <td>6.92</td>\n",
              "      <td>49562988.0</td>\n",
              "      <td>0</td>\n",
              "      <td>56.002480</td>\n",
              "      <td>-26.582285</td>\n",
              "      <td>6.962439</td>\n",
              "      <td>6.837491</td>\n",
              "      <td>6.870000</td>\n",
              "      <td>6.898</td>\n",
              "      <td>6.982150</td>\n",
              "      <td>65.991933</td>\n",
              "      <td>5.343525</td>\n",
              "      <td>0.071566</td>\n",
              "      <td>1.048693</td>\n",
              "      <td>14.569538</td>\n",
              "      <td>1.380177e+10</td>\n",
              "      <td>14.814031</td>\n",
              "    </tr>\n",
              "    <tr>\n",
              "      <th>2019-09-04</th>\n",
              "      <td>7.05</td>\n",
              "      <td>6.93</td>\n",
              "      <td>6.94</td>\n",
              "      <td>7.04</td>\n",
              "      <td>58686252.0</td>\n",
              "      <td>0</td>\n",
              "      <td>60.671992</td>\n",
              "      <td>-18.987355</td>\n",
              "      <td>6.954634</td>\n",
              "      <td>6.877993</td>\n",
              "      <td>6.827111</td>\n",
              "      <td>6.984</td>\n",
              "      <td>7.036660</td>\n",
              "      <td>65.686128</td>\n",
              "      <td>-3.333331</td>\n",
              "      <td>0.073134</td>\n",
              "      <td>1.071519</td>\n",
              "      <td>7.810103</td>\n",
              "      <td>1.380899e+10</td>\n",
              "      <td>12.838827</td>\n",
              "    </tr>\n",
              "    <tr>\n",
              "      <th>2019-09-05</th>\n",
              "      <td>7.13</td>\n",
              "      <td>7.01</td>\n",
              "      <td>7.10</td>\n",
              "      <td>7.01</td>\n",
              "      <td>62700785.0</td>\n",
              "      <td>0</td>\n",
              "      <td>58.869723</td>\n",
              "      <td>-25.781240</td>\n",
              "      <td>6.947561</td>\n",
              "      <td>6.904395</td>\n",
              "      <td>6.833778</td>\n",
              "      <td>6.969</td>\n",
              "      <td>7.051855</td>\n",
              "      <td>65.971199</td>\n",
              "      <td>16.000040</td>\n",
              "      <td>0.069030</td>\n",
              "      <td>1.010678</td>\n",
              "      <td>-0.426133</td>\n",
              "      <td>1.381456e+10</td>\n",
              "      <td>16.197720</td>\n",
              "    </tr>\n",
              "    <tr>\n",
              "      <th>2019-09-06</th>\n",
              "      <td>7.19</td>\n",
              "      <td>7.01</td>\n",
              "      <td>7.05</td>\n",
              "      <td>7.16</td>\n",
              "      <td>116308137.0</td>\n",
              "      <td>0</td>\n",
              "      <td>64.887238</td>\n",
              "      <td>-24.324357</td>\n",
              "      <td>6.946585</td>\n",
              "      <td>6.955516</td>\n",
              "      <td>6.829556</td>\n",
              "      <td>6.998</td>\n",
              "      <td>7.129726</td>\n",
              "      <td>70.624363</td>\n",
              "      <td>21.495345</td>\n",
              "      <td>0.072916</td>\n",
              "      <td>1.065209</td>\n",
              "      <td>4.525547</td>\n",
              "      <td>1.382229e+10</td>\n",
              "      <td>17.854035</td>\n",
              "    </tr>\n",
              "  </tbody>\n",
              "</table>\n",
              "</div>"
            ],
            "text/plain": [
              "            High   Low  Open  ...        ROC           CFI        DMI\n",
              "Date                          ...                                    \n",
              "2019-09-02  7.10  6.96  7.09  ...  16.778523  1.379451e+10  20.002075\n",
              "2019-09-03  7.08  6.92  7.00  ...  14.569538  1.380177e+10  14.814031\n",
              "2019-09-04  7.05  6.93  6.94  ...   7.810103  1.380899e+10  12.838827\n",
              "2019-09-05  7.13  7.01  7.10  ...  -0.426133  1.381456e+10  16.197720\n",
              "2019-09-06  7.19  7.01  7.05  ...   4.525547  1.382229e+10  17.854035\n",
              "\n",
              "[5 rows x 20 columns]"
            ]
          },
          "metadata": {
            "tags": []
          },
          "execution_count": 22
        },
        {
          "output_type": "display_data",
          "data": {
            "image/png": "[encoded data removed]",
            "text/plain": [
              "<Figure size 432x288 with 1 Axes>"
            ]
          },
          "metadata": {
            "tags": []
          }
        }
      ]
    },
    {
      "cell_type": "markdown",
      "metadata": {
        "id": "96c_FgXOo98u",
        "colab_type": "text"
      },
      "source": [
        "# SAR"
      ]
    },
    {
      "cell_type": "code",
      "metadata": {
        "id": "eRPVEtrmo-bi",
        "colab_type": "code",
        "outputId": "0465aa41-cbe7-4979-f44c-909ccbf808cd",
        "colab": {
          "base_uri": "https://localhost:8080/",
          "height": 779
        }
      },
      "source": [
        "df['SAR'] = TA.SAR(ohlcv)\n",
        "print(df['SAR'].describe())\n",
        "sns.distplot(df['SAR'].dropna())\n",
        "df.tail()"
      ],
      "execution_count": 23,
      "outputs": [
        {
          "output_type": "stream",
          "text": [
            "count    3166.000000\n",
            "mean       27.810216\n",
            "std        26.918903\n",
            "min         5.760000\n",
            "25%        11.388084\n",
            "50%        14.631072\n",
            "75%        37.555543\n",
            "max       154.606003\n",
            "Name: SAR, dtype: float64\n"
          ],
          "name": "stdout"
        },
        {
          "output_type": "execute_result",
          "data": {
            "text/html": [
              "<div>\n",
              "<style scoped>\n",
              "    .dataframe tbody tr th:only-of-type {\n",
              "        vertical-align: middle;\n",
              "    }\n",
              "\n",
              "    .dataframe tbody tr th {\n",
              "        vertical-align: top;\n",
              "    }\n",
              "\n",
              "    .dataframe thead th {\n",
              "        text-align: right;\n",
              "    }\n",
              "</style>\n",
              "<table border=\"1\" class=\"dataframe\">\n",
              "  <thead>\n",
              "    <tr style=\"text-align: right;\">\n",
              "      <th></th>\n",
              "      <th>High</th>\n",
              "      <th>Low</th>\n",
              "      <th>Open</th>\n",
              "      <th>Close</th>\n",
              "      <th>Volume</th>\n",
              "      <th>triple_barrier_signal</th>\n",
              "      <th>RSI</th>\n",
              "      <th>Williams %R</th>\n",
              "      <th>SMA</th>\n",
              "      <th>EMA</th>\n",
              "      <th>WMA</th>\n",
              "      <th>HMA</th>\n",
              "      <th>TEMA</th>\n",
              "      <th>CCI</th>\n",
              "      <th>CMO</th>\n",
              "      <th>MACD</th>\n",
              "      <th>PPO</th>\n",
              "      <th>ROC</th>\n",
              "      <th>CFI</th>\n",
              "      <th>DMI</th>\n",
              "      <th>SAR</th>\n",
              "    </tr>\n",
              "    <tr>\n",
              "      <th>Date</th>\n",
              "      <th></th>\n",
              "      <th></th>\n",
              "      <th></th>\n",
              "      <th></th>\n",
              "      <th></th>\n",
              "      <th></th>\n",
              "      <th></th>\n",
              "      <th></th>\n",
              "      <th></th>\n",
              "      <th></th>\n",
              "      <th></th>\n",
              "      <th></th>\n",
              "      <th></th>\n",
              "      <th></th>\n",
              "      <th></th>\n",
              "      <th></th>\n",
              "      <th></th>\n",
              "      <th></th>\n",
              "      <th></th>\n",
              "      <th></th>\n",
              "      <th></th>\n",
              "    </tr>\n",
              "  </thead>\n",
              "  <tbody>\n",
              "    <tr>\n",
              "      <th>2019-09-02</th>\n",
              "      <td>7.10</td>\n",
              "      <td>6.96</td>\n",
              "      <td>7.09</td>\n",
              "      <td>6.96</td>\n",
              "      <td>68714019.0</td>\n",
              "      <td>0</td>\n",
              "      <td>57.991622</td>\n",
              "      <td>-24.050641</td>\n",
              "      <td>6.972195</td>\n",
              "      <td>6.816864</td>\n",
              "      <td>6.866000</td>\n",
              "      <td>6.795</td>\n",
              "      <td>6.980470</td>\n",
              "      <td>72.534912</td>\n",
              "      <td>-5.479447</td>\n",
              "      <td>0.076618</td>\n",
              "      <td>1.122326</td>\n",
              "      <td>16.778523</td>\n",
              "      <td>1.379451e+10</td>\n",
              "      <td>20.002075</td>\n",
              "      <td>6.530971</td>\n",
              "    </tr>\n",
              "    <tr>\n",
              "      <th>2019-09-03</th>\n",
              "      <td>7.08</td>\n",
              "      <td>6.92</td>\n",
              "      <td>7.00</td>\n",
              "      <td>6.92</td>\n",
              "      <td>49562988.0</td>\n",
              "      <td>0</td>\n",
              "      <td>56.002480</td>\n",
              "      <td>-26.582285</td>\n",
              "      <td>6.962439</td>\n",
              "      <td>6.837491</td>\n",
              "      <td>6.870000</td>\n",
              "      <td>6.898</td>\n",
              "      <td>6.982150</td>\n",
              "      <td>65.991933</td>\n",
              "      <td>5.343525</td>\n",
              "      <td>0.071566</td>\n",
              "      <td>1.048693</td>\n",
              "      <td>14.569538</td>\n",
              "      <td>1.380177e+10</td>\n",
              "      <td>14.814031</td>\n",
              "      <td>6.595693</td>\n",
              "    </tr>\n",
              "    <tr>\n",
              "      <th>2019-09-04</th>\n",
              "      <td>7.05</td>\n",
              "      <td>6.93</td>\n",
              "      <td>6.94</td>\n",
              "      <td>7.04</td>\n",
              "      <td>58686252.0</td>\n",
              "      <td>0</td>\n",
              "      <td>60.671992</td>\n",
              "      <td>-18.987355</td>\n",
              "      <td>6.954634</td>\n",
              "      <td>6.877993</td>\n",
              "      <td>6.827111</td>\n",
              "      <td>6.984</td>\n",
              "      <td>7.036660</td>\n",
              "      <td>65.686128</td>\n",
              "      <td>-3.333331</td>\n",
              "      <td>0.073134</td>\n",
              "      <td>1.071519</td>\n",
              "      <td>7.810103</td>\n",
              "      <td>1.380899e+10</td>\n",
              "      <td>12.838827</td>\n",
              "      <td>6.655238</td>\n",
              "    </tr>\n",
              "    <tr>\n",
              "      <th>2019-09-05</th>\n",
              "      <td>7.13</td>\n",
              "      <td>7.01</td>\n",
              "      <td>7.10</td>\n",
              "      <td>7.01</td>\n",
              "      <td>62700785.0</td>\n",
              "      <td>0</td>\n",
              "      <td>58.869723</td>\n",
              "      <td>-25.781240</td>\n",
              "      <td>6.947561</td>\n",
              "      <td>6.904395</td>\n",
              "      <td>6.833778</td>\n",
              "      <td>6.969</td>\n",
              "      <td>7.051855</td>\n",
              "      <td>65.971199</td>\n",
              "      <td>16.000040</td>\n",
              "      <td>0.069030</td>\n",
              "      <td>1.010678</td>\n",
              "      <td>-0.426133</td>\n",
              "      <td>1.381456e+10</td>\n",
              "      <td>16.197720</td>\n",
              "      <td>6.710019</td>\n",
              "    </tr>\n",
              "    <tr>\n",
              "      <th>2019-09-06</th>\n",
              "      <td>7.19</td>\n",
              "      <td>7.01</td>\n",
              "      <td>7.05</td>\n",
              "      <td>7.16</td>\n",
              "      <td>116308137.0</td>\n",
              "      <td>0</td>\n",
              "      <td>64.887238</td>\n",
              "      <td>-24.324357</td>\n",
              "      <td>6.946585</td>\n",
              "      <td>6.955516</td>\n",
              "      <td>6.829556</td>\n",
              "      <td>6.998</td>\n",
              "      <td>7.129726</td>\n",
              "      <td>70.624363</td>\n",
              "      <td>21.495345</td>\n",
              "      <td>0.072916</td>\n",
              "      <td>1.065209</td>\n",
              "      <td>4.525547</td>\n",
              "      <td>1.382229e+10</td>\n",
              "      <td>17.854035</td>\n",
              "      <td>6.760417</td>\n",
              "    </tr>\n",
              "  </tbody>\n",
              "</table>\n",
              "</div>"
            ],
            "text/plain": [
              "            High   Low  Open  ...           CFI        DMI       SAR\n",
              "Date                          ...                                   \n",
              "2019-09-02  7.10  6.96  7.09  ...  1.379451e+10  20.002075  6.530971\n",
              "2019-09-03  7.08  6.92  7.00  ...  1.380177e+10  14.814031  6.595693\n",
              "2019-09-04  7.05  6.93  6.94  ...  1.380899e+10  12.838827  6.655238\n",
              "2019-09-05  7.13  7.01  7.10  ...  1.381456e+10  16.197720  6.710019\n",
              "2019-09-06  7.19  7.01  7.05  ...  1.382229e+10  17.854035  6.760417\n",
              "\n",
              "[5 rows x 21 columns]"
            ]
          },
          "metadata": {
            "tags": []
          },
          "execution_count": 23
        },
        {
          "output_type": "display_data",
          "data": {
            "image/png": "[encoded data removed]",
            "text/plain": [
              "<Figure size 432x288 with 1 Axes>"
            ]
          },
          "metadata": {
            "tags": []
          }
        }
      ]
    },
    {
      "cell_type": "markdown",
      "metadata": {
        "id": "MoqrDEejwYOV",
        "colab_type": "text"
      },
      "source": [
        "# columns選取"
      ]
    },
    {
      "cell_type": "code",
      "metadata": {
        "id": "qrGg0ojRKuE1",
        "colab_type": "code",
        "outputId": "b669431a-4b42-4662-8803-8ea95b85c9ef",
        "colab": {
          "base_uri": "https://localhost:8080/",
          "height": 374
        }
      },
      "source": [
        "df = df.dropna(axis=0)#刪除有缺失的row,會缺失主要因為用時間rolling計算技術指標導致,正常的\n",
        "features = df.columns[-15:].tolist() #15個剛剛建立的技術指標\n",
        "y_name = 'triple_barrier_signal' #當作labels\n",
        "df = df[features+[y_name]]\n",
        "print(df.shape)\n",
        "df.tail()"
      ],
      "execution_count": 24,
      "outputs": [
        {
          "output_type": "stream",
          "text": [
            "(3083, 16)\n"
          ],
          "name": "stdout"
        },
        {
          "output_type": "execute_result",
          "data": {
            "text/html": [
              "<div>\n",
              "<style scoped>\n",
              "    .dataframe tbody tr th:only-of-type {\n",
              "        vertical-align: middle;\n",
              "    }\n",
              "\n",
              "    .dataframe tbody tr th {\n",
              "        vertical-align: top;\n",
              "    }\n",
              "\n",
              "    .dataframe thead th {\n",
              "        text-align: right;\n",
              "    }\n",
              "</style>\n",
              "<table border=\"1\" class=\"dataframe\">\n",
              "  <thead>\n",
              "    <tr style=\"text-align: right;\">\n",
              "      <th></th>\n",
              "      <th>RSI</th>\n",
              "      <th>Williams %R</th>\n",
              "      <th>SMA</th>\n",
              "      <th>EMA</th>\n",
              "      <th>WMA</th>\n",
              "      <th>HMA</th>\n",
              "      <th>TEMA</th>\n",
              "      <th>CCI</th>\n",
              "      <th>CMO</th>\n",
              "      <th>MACD</th>\n",
              "      <th>PPO</th>\n",
              "      <th>ROC</th>\n",
              "      <th>CFI</th>\n",
              "      <th>DMI</th>\n",
              "      <th>SAR</th>\n",
              "      <th>triple_barrier_signal</th>\n",
              "    </tr>\n",
              "    <tr>\n",
              "      <th>Date</th>\n",
              "      <th></th>\n",
              "      <th></th>\n",
              "      <th></th>\n",
              "      <th></th>\n",
              "      <th></th>\n",
              "      <th></th>\n",
              "      <th></th>\n",
              "      <th></th>\n",
              "      <th></th>\n",
              "      <th></th>\n",
              "      <th></th>\n",
              "      <th></th>\n",
              "      <th></th>\n",
              "      <th></th>\n",
              "      <th></th>\n",
              "      <th></th>\n",
              "    </tr>\n",
              "  </thead>\n",
              "  <tbody>\n",
              "    <tr>\n",
              "      <th>2019-09-02</th>\n",
              "      <td>57.991622</td>\n",
              "      <td>-24.050641</td>\n",
              "      <td>6.972195</td>\n",
              "      <td>6.816864</td>\n",
              "      <td>6.866000</td>\n",
              "      <td>6.795</td>\n",
              "      <td>6.980470</td>\n",
              "      <td>72.534912</td>\n",
              "      <td>-5.479447</td>\n",
              "      <td>0.076618</td>\n",
              "      <td>1.122326</td>\n",
              "      <td>16.778523</td>\n",
              "      <td>1.379451e+10</td>\n",
              "      <td>20.002075</td>\n",
              "      <td>6.530971</td>\n",
              "      <td>0</td>\n",
              "    </tr>\n",
              "    <tr>\n",
              "      <th>2019-09-03</th>\n",
              "      <td>56.002480</td>\n",
              "      <td>-26.582285</td>\n",
              "      <td>6.962439</td>\n",
              "      <td>6.837491</td>\n",
              "      <td>6.870000</td>\n",
              "      <td>6.898</td>\n",
              "      <td>6.982150</td>\n",
              "      <td>65.991933</td>\n",
              "      <td>5.343525</td>\n",
              "      <td>0.071566</td>\n",
              "      <td>1.048693</td>\n",
              "      <td>14.569538</td>\n",
              "      <td>1.380177e+10</td>\n",
              "      <td>14.814031</td>\n",
              "      <td>6.595693</td>\n",
              "      <td>0</td>\n",
              "    </tr>\n",
              "    <tr>\n",
              "      <th>2019-09-04</th>\n",
              "      <td>60.671992</td>\n",
              "      <td>-18.987355</td>\n",
              "      <td>6.954634</td>\n",
              "      <td>6.877993</td>\n",
              "      <td>6.827111</td>\n",
              "      <td>6.984</td>\n",
              "      <td>7.036660</td>\n",
              "      <td>65.686128</td>\n",
              "      <td>-3.333331</td>\n",
              "      <td>0.073134</td>\n",
              "      <td>1.071519</td>\n",
              "      <td>7.810103</td>\n",
              "      <td>1.380899e+10</td>\n",
              "      <td>12.838827</td>\n",
              "      <td>6.655238</td>\n",
              "      <td>0</td>\n",
              "    </tr>\n",
              "    <tr>\n",
              "      <th>2019-09-05</th>\n",
              "      <td>58.869723</td>\n",
              "      <td>-25.781240</td>\n",
              "      <td>6.947561</td>\n",
              "      <td>6.904395</td>\n",
              "      <td>6.833778</td>\n",
              "      <td>6.969</td>\n",
              "      <td>7.051855</td>\n",
              "      <td>65.971199</td>\n",
              "      <td>16.000040</td>\n",
              "      <td>0.069030</td>\n",
              "      <td>1.010678</td>\n",
              "      <td>-0.426133</td>\n",
              "      <td>1.381456e+10</td>\n",
              "      <td>16.197720</td>\n",
              "      <td>6.710019</td>\n",
              "      <td>0</td>\n",
              "    </tr>\n",
              "    <tr>\n",
              "      <th>2019-09-06</th>\n",
              "      <td>64.887238</td>\n",
              "      <td>-24.324357</td>\n",
              "      <td>6.946585</td>\n",
              "      <td>6.955516</td>\n",
              "      <td>6.829556</td>\n",
              "      <td>6.998</td>\n",
              "      <td>7.129726</td>\n",
              "      <td>70.624363</td>\n",
              "      <td>21.495345</td>\n",
              "      <td>0.072916</td>\n",
              "      <td>1.065209</td>\n",
              "      <td>4.525547</td>\n",
              "      <td>1.382229e+10</td>\n",
              "      <td>17.854035</td>\n",
              "      <td>6.760417</td>\n",
              "      <td>0</td>\n",
              "    </tr>\n",
              "  </tbody>\n",
              "</table>\n",
              "</div>"
            ],
            "text/plain": [
              "                  RSI  Williams %R  ...       SAR  triple_barrier_signal\n",
              "Date                                ...                                 \n",
              "2019-09-02  57.991622   -24.050641  ...  6.530971                      0\n",
              "2019-09-03  56.002480   -26.582285  ...  6.595693                      0\n",
              "2019-09-04  60.671992   -18.987355  ...  6.655238                      0\n",
              "2019-09-05  58.869723   -25.781240  ...  6.710019                      0\n",
              "2019-09-06  64.887238   -24.324357  ...  6.760417                      0\n",
              "\n",
              "[5 rows x 16 columns]"
            ]
          },
          "metadata": {
            "tags": []
          },
          "execution_count": 24
        }
      ]
    },
    {
      "cell_type": "markdown",
      "metadata": {
        "id": "YSh6cJBEwgtg",
        "colab_type": "text"
      },
      "source": [
        "# 相關性分析"
      ]
    },
    {
      "cell_type": "code",
      "metadata": {
        "id": "hKy0pMZfLKEH",
        "colab_type": "code",
        "outputId": "89f04ff2-05a4-4645-d02d-2d1afe66ce08",
        "colab": {
          "base_uri": "https://localhost:8080/",
          "height": 811
        }
      },
      "source": [
        "import seaborn as sns\n",
        "import matplotlib.pyplot as plt\n",
        "plt.figure(figsize=(14,12))\n",
        "sns.heatmap(abs(df.corr()),annot=True,linewidths=0.1)"
      ],
      "execution_count": 25,
      "outputs": [
        {
          "output_type": "execute_result",
          "data": {
            "text/plain": [
              "<matplotlib.axes._subplots.AxesSubplot at 0x7f2ea72f2860>"
            ]
          },
          "metadata": {
            "tags": []
          },
          "execution_count": 25
        },
        {
          "output_type": "display_data",
          "data": {
            "image/png": "[encoded data removed]",
            "text/plain": [
              "<Figure size 1008x864 with 2 Axes>"
            ]
          },
          "metadata": {
            "tags": []
          }
        }
      ]
    },
    {
      "cell_type": "markdown",
      "metadata": {
        "id": "c68TXVQaqGl3",
        "colab_type": "text"
      },
      "source": [
        "# features scaling"
      ]
    },
    {
      "cell_type": "code",
      "metadata": {
        "id": "JpZPZWfJqGuo",
        "colab_type": "code",
        "outputId": "359f761c-3009-48d0-99f5-8355f01ead09",
        "colab": {
          "base_uri": "https://localhost:8080/",
          "height": 547
        }
      },
      "source": [
        "from sklearn.preprocessing import MinMaxScaler\n",
        "min_max_scaler = MinMaxScaler()\n",
        "df_minmax = min_max_scaler.fit_transform(df)#縮放到0-1之間\n",
        "df_minmax = pd.DataFrame(df_minmax,\n",
        "                         index=df.index,\n",
        "                         columns=df.columns)#轉回dataframe格式\n",
        "df_minmax[y_name] = df[y_name]#y不用MinMaxScaler\n",
        "print(df_minmax.describe())\n",
        "df_minmax.tail()"
      ],
      "execution_count": 26,
      "outputs": [
        {
          "output_type": "stream",
          "text": [
            "               RSI  Williams %R  ...          SAR  triple_barrier_signal\n",
            "count  3083.000000  3083.000000  ...  3083.000000            3083.000000\n",
            "mean      0.513766     0.450684  ...     0.143901              -0.301330\n",
            "std       0.181956     0.305326  ...     0.181197               0.901197\n",
            "min       0.000000     0.000000  ...     0.000000              -1.000000\n",
            "25%       0.388981     0.166704  ...     0.037453              -1.000000\n",
            "50%       0.514589     0.428573  ...     0.058422              -1.000000\n",
            "75%       0.638845     0.718626  ...     0.201693               1.000000\n",
            "max       1.000000     1.000000  ...     1.000000               1.000000\n",
            "\n",
            "[8 rows x 16 columns]\n"
          ],
          "name": "stdout"
        },
        {
          "output_type": "execute_result",
          "data": {
            "text/html": [
              "<div>\n",
              "<style scoped>\n",
              "    .dataframe tbody tr th:only-of-type {\n",
              "        vertical-align: middle;\n",
              "    }\n",
              "\n",
              "    .dataframe tbody tr th {\n",
              "        vertical-align: top;\n",
              "    }\n",
              "\n",
              "    .dataframe thead th {\n",
              "        text-align: right;\n",
              "    }\n",
              "</style>\n",
              "<table border=\"1\" class=\"dataframe\">\n",
              "  <thead>\n",
              "    <tr style=\"text-align: right;\">\n",
              "      <th></th>\n",
              "      <th>RSI</th>\n",
              "      <th>Williams %R</th>\n",
              "      <th>SMA</th>\n",
              "      <th>EMA</th>\n",
              "      <th>WMA</th>\n",
              "      <th>HMA</th>\n",
              "      <th>TEMA</th>\n",
              "      <th>CCI</th>\n",
              "      <th>CMO</th>\n",
              "      <th>MACD</th>\n",
              "      <th>PPO</th>\n",
              "      <th>ROC</th>\n",
              "      <th>CFI</th>\n",
              "      <th>DMI</th>\n",
              "      <th>SAR</th>\n",
              "      <th>triple_barrier_signal</th>\n",
              "    </tr>\n",
              "    <tr>\n",
              "      <th>Date</th>\n",
              "      <th></th>\n",
              "      <th></th>\n",
              "      <th></th>\n",
              "      <th></th>\n",
              "      <th></th>\n",
              "      <th></th>\n",
              "      <th></th>\n",
              "      <th></th>\n",
              "      <th></th>\n",
              "      <th></th>\n",
              "      <th></th>\n",
              "      <th></th>\n",
              "      <th></th>\n",
              "      <th></th>\n",
              "      <th></th>\n",
              "      <th></th>\n",
              "    </tr>\n",
              "  </thead>\n",
              "  <tbody>\n",
              "    <tr>\n",
              "      <th>2019-09-02</th>\n",
              "      <td>0.617479</td>\n",
              "      <td>0.759494</td>\n",
              "      <td>0.000209</td>\n",
              "      <td>0.004066</td>\n",
              "      <td>0.005108</td>\n",
              "      <td>0.005236</td>\n",
              "      <td>0.007746</td>\n",
              "      <td>0.643198</td>\n",
              "      <td>0.472603</td>\n",
              "      <td>0.536085</td>\n",
              "      <td>0.494561</td>\n",
              "      <td>0.681253</td>\n",
              "      <td>0.952467</td>\n",
              "      <td>0.590667</td>\n",
              "      <td>0.005180</td>\n",
              "      <td>0</td>\n",
              "    </tr>\n",
              "    <tr>\n",
              "      <th>2019-09-03</th>\n",
              "      <td>0.595530</td>\n",
              "      <td>0.734177</td>\n",
              "      <td>0.000129</td>\n",
              "      <td>0.004223</td>\n",
              "      <td>0.005138</td>\n",
              "      <td>0.005991</td>\n",
              "      <td>0.007758</td>\n",
              "      <td>0.629650</td>\n",
              "      <td>0.526718</td>\n",
              "      <td>0.535337</td>\n",
              "      <td>0.485706</td>\n",
              "      <td>0.655075</td>\n",
              "      <td>0.952655</td>\n",
              "      <td>0.568781</td>\n",
              "      <td>0.005614</td>\n",
              "      <td>0</td>\n",
              "    </tr>\n",
              "    <tr>\n",
              "      <th>2019-09-04</th>\n",
              "      <td>0.647056</td>\n",
              "      <td>0.810126</td>\n",
              "      <td>0.000066</td>\n",
              "      <td>0.004533</td>\n",
              "      <td>0.004820</td>\n",
              "      <td>0.006622</td>\n",
              "      <td>0.008149</td>\n",
              "      <td>0.629017</td>\n",
              "      <td>0.483333</td>\n",
              "      <td>0.535569</td>\n",
              "      <td>0.488451</td>\n",
              "      <td>0.574969</td>\n",
              "      <td>0.952842</td>\n",
              "      <td>0.560449</td>\n",
              "      <td>0.006015</td>\n",
              "      <td>0</td>\n",
              "    </tr>\n",
              "    <tr>\n",
              "      <th>2019-09-05</th>\n",
              "      <td>0.627169</td>\n",
              "      <td>0.742188</td>\n",
              "      <td>0.000008</td>\n",
              "      <td>0.004735</td>\n",
              "      <td>0.004869</td>\n",
              "      <td>0.006512</td>\n",
              "      <td>0.008258</td>\n",
              "      <td>0.629607</td>\n",
              "      <td>0.580000</td>\n",
              "      <td>0.534961</td>\n",
              "      <td>0.481135</td>\n",
              "      <td>0.477361</td>\n",
              "      <td>0.952987</td>\n",
              "      <td>0.574618</td>\n",
              "      <td>0.006383</td>\n",
              "      <td>0</td>\n",
              "    </tr>\n",
              "    <tr>\n",
              "      <th>2019-09-06</th>\n",
              "      <td>0.693570</td>\n",
              "      <td>0.756756</td>\n",
              "      <td>0.000000</td>\n",
              "      <td>0.005125</td>\n",
              "      <td>0.004838</td>\n",
              "      <td>0.006725</td>\n",
              "      <td>0.008816</td>\n",
              "      <td>0.639242</td>\n",
              "      <td>0.607477</td>\n",
              "      <td>0.535537</td>\n",
              "      <td>0.487692</td>\n",
              "      <td>0.536044</td>\n",
              "      <td>0.953187</td>\n",
              "      <td>0.581606</td>\n",
              "      <td>0.006721</td>\n",
              "      <td>0</td>\n",
              "    </tr>\n",
              "  </tbody>\n",
              "</table>\n",
              "</div>"
            ],
            "text/plain": [
              "                 RSI  Williams %R  ...       SAR  triple_barrier_signal\n",
              "Date                               ...                                 \n",
              "2019-09-02  0.617479     0.759494  ...  0.005180                      0\n",
              "2019-09-03  0.595530     0.734177  ...  0.005614                      0\n",
              "2019-09-04  0.647056     0.810126  ...  0.006015                      0\n",
              "2019-09-05  0.627169     0.742188  ...  0.006383                      0\n",
              "2019-09-06  0.693570     0.756756  ...  0.006721                      0\n",
              "\n",
              "[5 rows x 16 columns]"
            ]
          },
          "metadata": {
            "tags": []
          },
          "execution_count": 26
        }
      ]
    },
    {
      "cell_type": "code",
      "metadata": {
        "id": "5MCZDpBgrrQQ",
        "colab_type": "code",
        "outputId": "066162ae-7a75-411d-95a6-0599ec98b64f",
        "colab": {
          "base_uri": "https://localhost:8080/",
          "height": 35
        }
      },
      "source": [
        "df = df_minmax\n",
        "print('特徵縮放完成!')"
      ],
      "execution_count": 27,
      "outputs": [
        {
          "output_type": "stream",
          "text": [
            "特徵縮放完成!\n"
          ],
          "name": "stdout"
        }
      ]
    },
    {
      "cell_type": "markdown",
      "metadata": {
        "id": "_kc7tvz_M7PO",
        "colab_type": "text"
      },
      "source": [
        "# Xs ,ys prepare"
      ]
    },
    {
      "cell_type": "code",
      "metadata": {
        "id": "2ZHvlRJ5Lzzu",
        "colab_type": "code",
        "outputId": "6d526c13-6fe5-47f2-baf3-36c5bcdce630",
        "colab": {
          "base_uri": "https://localhost:8080/",
          "height": 52
        }
      },
      "source": [
        "from tqdm import tqdm\n",
        "import numpy as np\n",
        "\n",
        "#定義觀察天數,起始index(0),結束index(資料筆數-觀察天數)\n",
        "days = 15\n",
        "b_index = 0\n",
        "f_index = len(df)-days\n",
        "\n",
        "#特徵欄位\n",
        "features = df.drop(y_name,axis=1).columns.tolist()\n",
        "\n",
        "#待存放序列\n",
        "Xs = []\n",
        "ys = []\n",
        "indexs = []\n",
        "\n",
        "for i in tqdm(range(b_index,f_index,1)):#每次i都會遞增1\n",
        "  X = df.iloc[i:i+days,:][features] #ex:0...14(不含15)之features\n",
        "  y = df.iloc[i+days-1:i+days,:][y_name]#ex:14,y_name\n",
        "  X = np.array(X) # to np_array\n",
        "  Xs.append(X) #加入一筆X\n",
        "  ys.append(y) #加入一筆y\n",
        "  indexs.append((df.iloc[[i]].index,\n",
        "                 df.iloc[[i+days]].index)) #加入資料日期\n",
        "#轉換成np_array\n",
        "Xs = np.array(Xs)\n",
        "ys = np.array(ys)\n",
        "print('準備完成')"
      ],
      "execution_count": 28,
      "outputs": [
        {
          "output_type": "stream",
          "text": [
            "100%|██████████| 3068/3068 [00:06<00:00, 460.21it/s]\n"
          ],
          "name": "stderr"
        },
        {
          "output_type": "stream",
          "text": [
            "準備完成\n"
          ],
          "name": "stdout"
        }
      ]
    },
    {
      "cell_type": "markdown",
      "metadata": {
        "id": "a9iNRYKpNfIP",
        "colab_type": "text"
      },
      "source": [
        "# check"
      ]
    },
    {
      "cell_type": "code",
      "metadata": {
        "id": "7YiS6ZmtNfSf",
        "colab_type": "code",
        "outputId": "57bdb826-f2a4-449c-89c2-59f16edf440f",
        "colab": {
          "base_uri": "https://localhost:8080/",
          "height": 69
        }
      },
      "source": [
        "print('資料筆數:',len(Xs))\n",
        "print('第一筆的index開始和結束:{}-{}'.format(indexs[0][0].date[0],indexs[0][1].date[0]))\n",
        "print('最後一筆的index開始和結束:{}-{}'.format(indexs[-1][0].date[0],indexs[-1][1].date[0]))"
      ],
      "execution_count": 29,
      "outputs": [
        {
          "output_type": "stream",
          "text": [
            "資料筆數: 3068\n",
            "第一筆的index開始和結束:2007-03-01-2007-03-22\n",
            "最後一筆的index開始和結束:2019-08-15-2019-09-06\n"
          ],
          "name": "stdout"
        }
      ]
    },
    {
      "cell_type": "markdown",
      "metadata": {
        "id": "Pabl4tEsXYB8",
        "colab_type": "text"
      },
      "source": [
        "# Reshape X"
      ]
    },
    {
      "cell_type": "markdown",
      "metadata": {
        "id": "RvUPQWb1An8u",
        "colab_type": "text"
      },
      "source": [
        "(圖片數量,長,寬,1張)"
      ]
    },
    {
      "cell_type": "code",
      "metadata": {
        "id": "In4R0IcSPDwG",
        "colab_type": "code",
        "outputId": "55d1537c-7f3f-40c0-de7a-cde1547f273a",
        "colab": {
          "base_uri": "https://localhost:8080/",
          "height": 52
        }
      },
      "source": [
        "print(Xs.shape)\n",
        "Xs = Xs.reshape(-1,days,len(features),1)\n",
        "print(Xs.shape)"
      ],
      "execution_count": 30,
      "outputs": [
        {
          "output_type": "stream",
          "text": [
            "(3068, 15, 15)\n",
            "(3068, 15, 15, 1)\n"
          ],
          "name": "stdout"
        }
      ]
    },
    {
      "cell_type": "markdown",
      "metadata": {
        "id": "lUy2cpReXaOV",
        "colab_type": "text"
      },
      "source": [
        "# One hot encoding of label"
      ]
    },
    {
      "cell_type": "markdown",
      "metadata": {
        "id": "hjDc-sStA1gk",
        "colab_type": "text"
      },
      "source": [
        "原始y代表漲幅"
      ]
    },
    {
      "cell_type": "code",
      "metadata": {
        "id": "6XGRdxmfWrfo",
        "colab_type": "code",
        "outputId": "0ec32059-889b-4c86-e6e2-dbf4d14b3af4",
        "colab": {
          "base_uri": "https://localhost:8080/",
          "height": 243
        }
      },
      "source": [
        "print(ys.shape)\n",
        "print(ys[:5])\n",
        "\n",
        "from keras.utils.np_utils import to_categorical\n",
        "ys = to_categorical(ys, num_classes = 3)\n",
        "print(ys.shape)\n",
        "print(ys[:5])"
      ],
      "execution_count": 31,
      "outputs": [
        {
          "output_type": "stream",
          "text": [
            "(3068, 1)\n",
            "[[-1]\n",
            " [-1]\n",
            " [-1]\n",
            " [-1]\n",
            " [-1]]\n"
          ],
          "name": "stdout"
        },
        {
          "output_type": "stream",
          "text": [
            "Using TensorFlow backend.\n"
          ],
          "name": "stderr"
        },
        {
          "output_type": "stream",
          "text": [
            "(3068, 3)\n",
            "[[0. 0. 1.]\n",
            " [0. 0. 1.]\n",
            " [0. 0. 1.]\n",
            " [0. 0. 1.]\n",
            " [0. 0. 1.]]\n"
          ],
          "name": "stdout"
        }
      ]
    },
    {
      "cell_type": "markdown",
      "metadata": {
        "id": "TYcPI2TWBTpJ",
        "colab_type": "text"
      },
      "source": [
        "# Visualization"
      ]
    },
    {
      "cell_type": "code",
      "metadata": {
        "id": "ibNjBLRaBUJh",
        "colab_type": "code",
        "outputId": "75c2ba0e-09e2-47bc-ccb0-baccca2d5b35",
        "colab": {
          "base_uri": "https://localhost:8080/",
          "height": 607
        }
      },
      "source": [
        "import matplotlib.pyplot as plt\n",
        "import matplotlib.image as mpimg\n",
        "%matplotlib inline\n",
        "Xs_v = Xs.reshape(-1,Xs.shape[1],Xs.shape[2])\n",
        "plt.figure(figsize=(10,10))\n",
        "plt.subplots_adjust(wspace =0, hspace =0.3)\n",
        "for i in range(0,9):\n",
        "    plt.subplot(330 + (i+1))\n",
        "    plt.imshow(Xs_v[i])\n",
        "    plt.title(np.argmax(ys[i]))"
      ],
      "execution_count": 32,
      "outputs": [
        {
          "output_type": "display_data",
          "data": {
            "image/png": "[encoded data removed]",
            "text/plain": [
              "<Figure size 720x720 with 9 Axes>"
            ]
          },
          "metadata": {
            "tags": []
          }
        }
      ]
    },
    {
      "cell_type": "markdown",
      "metadata": {
        "id": "5Oa6gYq_aVjE",
        "colab_type": "text"
      },
      "source": [
        "# Split training and validation sets"
      ]
    },
    {
      "cell_type": "code",
      "metadata": {
        "id": "OLHFbreckAlH",
        "colab_type": "code",
        "colab": {
          "base_uri": "https://localhost:8080/",
          "height": 35
        },
        "outputId": "5e90957c-92e9-4fdb-c18c-8ec3344cfe9d"
      },
      "source": [
        "X_test = Xs[-2:] #最後兩筆features當作test\n",
        "X_train,y_train = Xs[:-2],ys[:-2] #其他當作訓練\n",
        "print(X_train.shape,y_train.shape,X_test.shape)"
      ],
      "execution_count": 33,
      "outputs": [
        {
          "output_type": "stream",
          "text": [
            "(3066, 15, 15, 1) (3066, 3) (2, 15, 15, 1)\n"
          ],
          "name": "stdout"
        }
      ]
    },
    {
      "cell_type": "code",
      "metadata": {
        "id": "MgsrVpYUYf5J",
        "colab_type": "code",
        "outputId": "b6e714af-ce85-4e0c-c258-dc71076ae113",
        "colab": {
          "base_uri": "https://localhost:8080/",
          "height": 35
        }
      },
      "source": [
        "from sklearn.model_selection import train_test_split\n",
        "xtrain, xval, ytrain, yval = train_test_split(X_train,\n",
        "                                              y_train, \n",
        "                                              test_size=0.2,\n",
        "                                              random_state=42,\n",
        "                                              shuffle=True,#是否洗牌\n",
        "                                              stratify=None #是否根據y欄位做分層取樣\n",
        "                                             )\n",
        "print(xtrain.shape, ytrain.shape, xval.shape, yval.shape)"
      ],
      "execution_count": 34,
      "outputs": [
        {
          "output_type": "stream",
          "text": [
            "(2452, 15, 15, 1) (2452, 3) (614, 15, 15, 1) (614, 3)\n"
          ],
          "name": "stdout"
        }
      ]
    },
    {
      "cell_type": "markdown",
      "metadata": {
        "id": "2xQOFrENMkSb",
        "colab_type": "text"
      },
      "source": [
        "# 看一下樣本的label分布情況是否平均(待解決)"
      ]
    },
    {
      "cell_type": "markdown",
      "metadata": {
        "id": "xnUz7A3tlfya",
        "colab_type": "text"
      },
      "source": [
        "0:Hold,1:Buy,2:Sell"
      ]
    },
    {
      "cell_type": "code",
      "metadata": {
        "id": "aA9SXiicML6Y",
        "colab_type": "code",
        "outputId": "1ee9ace6-a014-4918-dfd6-ec9897e8c063",
        "colab": {
          "base_uri": "https://localhost:8080/",
          "height": 87
        }
      },
      "source": [
        "pd.Series([np.argmax(i) for i in ys]).value_counts()"
      ],
      "execution_count": 35,
      "outputs": [
        {
          "output_type": "execute_result",
          "data": {
            "text/plain": [
              "2    1843\n",
              "1     926\n",
              "0     299\n",
              "dtype: int64"
            ]
          },
          "metadata": {
            "tags": []
          },
          "execution_count": 35
        }
      ]
    },
    {
      "cell_type": "code",
      "metadata": {
        "id": "UIOBe8tVL5dV",
        "colab_type": "code",
        "outputId": "128f9eb2-a1a3-4993-937f-f5917a7231b0",
        "colab": {
          "base_uri": "https://localhost:8080/",
          "height": 87
        }
      },
      "source": [
        "pd.Series([np.argmax(i) for i in ytrain]).value_counts()"
      ],
      "execution_count": 36,
      "outputs": [
        {
          "output_type": "execute_result",
          "data": {
            "text/plain": [
              "2    1480\n",
              "1     736\n",
              "0     236\n",
              "dtype: int64"
            ]
          },
          "metadata": {
            "tags": []
          },
          "execution_count": 36
        }
      ]
    },
    {
      "cell_type": "code",
      "metadata": {
        "id": "A235BZ6cMQ-S",
        "colab_type": "code",
        "outputId": "b2b166c8-5883-4cab-cbb4-99689cb17ab6",
        "colab": {
          "base_uri": "https://localhost:8080/",
          "height": 87
        }
      },
      "source": [
        "pd.Series([np.argmax(i) for i in yval]).value_counts()"
      ],
      "execution_count": 37,
      "outputs": [
        {
          "output_type": "execute_result",
          "data": {
            "text/plain": [
              "2    363\n",
              "1    190\n",
              "0     61\n",
              "dtype: int64"
            ]
          },
          "metadata": {
            "tags": []
          },
          "execution_count": 37
        }
      ]
    },
    {
      "cell_type": "markdown",
      "metadata": {
        "id": "m-oXz0FGarb1",
        "colab_type": "text"
      },
      "source": [
        "# CNN"
      ]
    },
    {
      "cell_type": "code",
      "metadata": {
        "id": "eWOsWp7_amoX",
        "colab_type": "code",
        "colab": {}
      },
      "source": [
        "from keras import backend as K\n",
        "from keras.models import Sequential\n",
        "from keras.layers import Dense, Dropout, Lambda, Flatten, BatchNormalization\n",
        "from keras.layers import Conv2D, MaxPool2D, AvgPool2D\n",
        "from keras.optimizers import Adam #做梯度下降的一種優化方法\n",
        "from keras.callbacks import ReduceLROnPlateau , EarlyStopping #減少學習速率 on Plateau"
      ],
      "execution_count": 0,
      "outputs": []
    },
    {
      "cell_type": "code",
      "metadata": {
        "id": "yd-csnW2auJS",
        "colab_type": "code",
        "outputId": "1e8f34d9-3960-412e-cee9-d798e238e094",
        "colab": {
          "base_uri": "https://localhost:8080/",
          "height": 679
        }
      },
      "source": [
        "model = Sequential()\n",
        "\n",
        "nclasses = 3 \n",
        "\n",
        "model.add(Conv2D(filters=32, kernel_size=(3,3), padding='same', activation='relu', input_shape=(15,15,1)))\n",
        "model.add(Conv2D(filters=64, kernel_size=(3,3), padding='same', activation='relu',))\n",
        "model.add(MaxPool2D(pool_size=(2,2)))\n",
        "model.add(Dropout(0.25))\n",
        "model.add(Flatten())\n",
        "model.add(Dense(128, activation='relu'))\n",
        "model.add(Dropout(0.50))\n",
        "model.add(Dense(nclasses, activation='softmax'))\n",
        "model.summary()"
      ],
      "execution_count": 39,
      "outputs": [
        {
          "output_type": "stream",
          "text": [
            "WARNING:tensorflow:From /usr/local/lib/python3.6/dist-packages/keras/backend/tensorflow_backend.py:66: The name tf.get_default_graph is deprecated. Please use tf.compat.v1.get_default_graph instead.\n",
            "\n",
            "WARNING:tensorflow:From /usr/local/lib/python3.6/dist-packages/keras/backend/tensorflow_backend.py:541: The name tf.placeholder is deprecated. Please use tf.compat.v1.placeholder instead.\n",
            "\n",
            "WARNING:tensorflow:From /usr/local/lib/python3.6/dist-packages/keras/backend/tensorflow_backend.py:4432: The name tf.random_uniform is deprecated. Please use tf.random.uniform instead.\n",
            "\n",
            "WARNING:tensorflow:From /usr/local/lib/python3.6/dist-packages/keras/backend/tensorflow_backend.py:4267: The name tf.nn.max_pool is deprecated. Please use tf.nn.max_pool2d instead.\n",
            "\n",
            "WARNING:tensorflow:From /usr/local/lib/python3.6/dist-packages/keras/backend/tensorflow_backend.py:148: The name tf.placeholder_with_default is deprecated. Please use tf.compat.v1.placeholder_with_default instead.\n",
            "\n",
            "WARNING:tensorflow:From /usr/local/lib/python3.6/dist-packages/keras/backend/tensorflow_backend.py:3733: calling dropout (from tensorflow.python.ops.nn_ops) with keep_prob is deprecated and will be removed in a future version.\n",
            "Instructions for updating:\n",
            "Please use `rate` instead of `keep_prob`. Rate should be set to `rate = 1 - keep_prob`.\n",
            "Model: \"sequential_1\"\n",
            "_________________________________________________________________\n",
            "Layer (type)                 Output Shape              Param #   \n",
            "=================================================================\n",
            "conv2d_1 (Conv2D)            (None, 15, 15, 32)        320       \n",
            "_________________________________________________________________\n",
            "conv2d_2 (Conv2D)            (None, 15, 15, 64)        18496     \n",
            "_________________________________________________________________\n",
            "max_pooling2d_1 (MaxPooling2 (None, 7, 7, 64)          0         \n",
            "_________________________________________________________________\n",
            "dropout_1 (Dropout)          (None, 7, 7, 64)          0         \n",
            "_________________________________________________________________\n",
            "flatten_1 (Flatten)          (None, 3136)              0         \n",
            "_________________________________________________________________\n",
            "dense_1 (Dense)              (None, 128)               401536    \n",
            "_________________________________________________________________\n",
            "dropout_2 (Dropout)          (None, 128)               0         \n",
            "_________________________________________________________________\n",
            "dense_2 (Dense)              (None, 3)                 387       \n",
            "=================================================================\n",
            "Total params: 420,739\n",
            "Trainable params: 420,739\n",
            "Non-trainable params: 0\n",
            "_________________________________________________________________\n"
          ],
          "name": "stdout"
        }
      ]
    },
    {
      "cell_type": "code",
      "metadata": {
        "id": "8Z913AqUa8bJ",
        "colab_type": "code",
        "outputId": "6c2bf313-d84f-46b7-d0c7-b179a6bb9ce4",
        "colab": {
          "base_uri": "https://localhost:8080/",
          "height": 107
        }
      },
      "source": [
        "model.compile(optimizer=\"adam\", loss=\"categorical_crossentropy\", metrics=[\"accuracy\"])"
      ],
      "execution_count": 40,
      "outputs": [
        {
          "output_type": "stream",
          "text": [
            "WARNING:tensorflow:From /usr/local/lib/python3.6/dist-packages/keras/optimizers.py:793: The name tf.train.Optimizer is deprecated. Please use tf.compat.v1.train.Optimizer instead.\n",
            "\n",
            "WARNING:tensorflow:From /usr/local/lib/python3.6/dist-packages/keras/backend/tensorflow_backend.py:3576: The name tf.log is deprecated. Please use tf.math.log instead.\n",
            "\n"
          ],
          "name": "stdout"
        }
      ]
    },
    {
      "cell_type": "markdown",
      "metadata": {
        "id": "VORA4n9Lz9of",
        "colab_type": "text"
      },
      "source": [
        "# 優化器"
      ]
    },
    {
      "cell_type": "code",
      "metadata": {
        "id": "Kw_j4R4Da_To",
        "colab_type": "code",
        "colab": {}
      },
      "source": [
        "#1\n",
        "lr_reduction = ReduceLROnPlateau(monitor = 'val_acc', \n",
        "                                 factor=0.5, \n",
        "                                 patience = 3, \n",
        "                                 verbose = 1, \n",
        "                                 min_lr = 0.00001)\n",
        "\n",
        "#2\n",
        "es = EarlyStopping(monitor='val_loss',#驗證集loss\n",
        "                   min_delta=0, \n",
        "                   patience=20,  \n",
        "                   mode='min',\n",
        "                   restore_best_weights=False)#恢復最佳權重"
      ],
      "execution_count": 0,
      "outputs": []
    },
    {
      "cell_type": "markdown",
      "metadata": {
        "id": "aevlVsI9Lk9a",
        "colab_type": "text"
      },
      "source": [
        "# fit"
      ]
    },
    {
      "cell_type": "code",
      "metadata": {
        "id": "TJJR7Yg-bHac",
        "colab_type": "code",
        "outputId": "1444cd27-e8e3-41e1-a4ab-09c78c308071",
        "colab": {
          "base_uri": "https://localhost:8080/",
          "height": 1000
        }
      },
      "source": [
        "history = model.fit(xtrain,ytrain,\n",
        "                    batch_size=128,\n",
        "                    epochs=200,\n",
        "                    validation_data=(xval,yval),\n",
        "                    verbose=1,callbacks=[es])"
      ],
      "execution_count": 42,
      "outputs": [
        {
          "output_type": "stream",
          "text": [
            "WARNING:tensorflow:From /usr/local/lib/python3.6/dist-packages/tensorflow/python/ops/math_grad.py:1250: add_dispatch_support.<locals>.wrapper (from tensorflow.python.ops.array_ops) is deprecated and will be removed in a future version.\n",
            "Instructions for updating:\n",
            "Use tf.where in 2.0, which has the same broadcast rule as np.where\n",
            "Train on 2452 samples, validate on 614 samples\n",
            "Epoch 1/200\n",
            "2452/2452 [==============================] - 3s 1ms/step - loss: 0.9249 - acc: 0.5750 - val_loss: 0.8942 - val_acc: 0.5912\n",
            "Epoch 2/200\n",
            "2452/2452 [==============================] - 0s 58us/step - loss: 0.8894 - acc: 0.6044 - val_loss: 0.8906 - val_acc: 0.5912\n",
            "Epoch 3/200\n",
            "2452/2452 [==============================] - 0s 55us/step - loss: 0.8856 - acc: 0.6044 - val_loss: 0.8824 - val_acc: 0.5912\n",
            "Epoch 4/200\n",
            "2452/2452 [==============================] - 0s 53us/step - loss: 0.8746 - acc: 0.5999 - val_loss: 0.8783 - val_acc: 0.5912\n",
            "Epoch 5/200\n",
            "2452/2452 [==============================] - 0s 50us/step - loss: 0.8770 - acc: 0.6024 - val_loss: 0.8811 - val_acc: 0.5912\n",
            "Epoch 6/200\n",
            "2452/2452 [==============================] - 0s 49us/step - loss: 0.8709 - acc: 0.6036 - val_loss: 0.8780 - val_acc: 0.5912\n",
            "Epoch 7/200\n",
            "2452/2452 [==============================] - 0s 49us/step - loss: 0.8722 - acc: 0.6024 - val_loss: 0.8886 - val_acc: 0.5912\n",
            "Epoch 8/200\n",
            "2452/2452 [==============================] - 0s 48us/step - loss: 0.8714 - acc: 0.6015 - val_loss: 0.8727 - val_acc: 0.5912\n",
            "Epoch 9/200\n",
            "2452/2452 [==============================] - 0s 51us/step - loss: 0.8546 - acc: 0.6024 - val_loss: 0.8771 - val_acc: 0.5912\n",
            "Epoch 10/200\n",
            "2452/2452 [==============================] - 0s 48us/step - loss: 0.8548 - acc: 0.6011 - val_loss: 0.8703 - val_acc: 0.5912\n",
            "Epoch 11/200\n",
            "2452/2452 [==============================] - 0s 46us/step - loss: 0.8542 - acc: 0.6003 - val_loss: 0.8680 - val_acc: 0.5912\n",
            "Epoch 12/200\n",
            "2452/2452 [==============================] - 0s 46us/step - loss: 0.8412 - acc: 0.6048 - val_loss: 0.8702 - val_acc: 0.5912\n",
            "Epoch 13/200\n",
            "2452/2452 [==============================] - 0s 47us/step - loss: 0.8411 - acc: 0.6015 - val_loss: 0.8616 - val_acc: 0.5912\n",
            "Epoch 14/200\n",
            "2452/2452 [==============================] - 0s 47us/step - loss: 0.8392 - acc: 0.6085 - val_loss: 0.8598 - val_acc: 0.5912\n",
            "Epoch 15/200\n",
            "2452/2452 [==============================] - 0s 47us/step - loss: 0.8397 - acc: 0.6032 - val_loss: 0.8606 - val_acc: 0.5912\n",
            "Epoch 16/200\n",
            "2452/2452 [==============================] - 0s 47us/step - loss: 0.8355 - acc: 0.6028 - val_loss: 0.8634 - val_acc: 0.5912\n",
            "Epoch 17/200\n",
            "2452/2452 [==============================] - 0s 50us/step - loss: 0.8350 - acc: 0.6040 - val_loss: 0.8548 - val_acc: 0.5912\n",
            "Epoch 18/200\n",
            "2452/2452 [==============================] - 0s 48us/step - loss: 0.8259 - acc: 0.6003 - val_loss: 0.8521 - val_acc: 0.5912\n",
            "Epoch 19/200\n",
            "2452/2452 [==============================] - 0s 47us/step - loss: 0.8172 - acc: 0.6028 - val_loss: 0.8588 - val_acc: 0.5912\n",
            "Epoch 20/200\n",
            "2452/2452 [==============================] - 0s 46us/step - loss: 0.8219 - acc: 0.6020 - val_loss: 0.8563 - val_acc: 0.5912\n",
            "Epoch 21/200\n",
            "2452/2452 [==============================] - 0s 48us/step - loss: 0.8225 - acc: 0.6044 - val_loss: 0.8432 - val_acc: 0.5912\n",
            "Epoch 22/200\n",
            "2452/2452 [==============================] - 0s 47us/step - loss: 0.8154 - acc: 0.6015 - val_loss: 0.8627 - val_acc: 0.5928\n",
            "Epoch 23/200\n",
            "2452/2452 [==============================] - 0s 48us/step - loss: 0.8190 - acc: 0.6044 - val_loss: 0.8429 - val_acc: 0.6042\n",
            "Epoch 24/200\n",
            "2452/2452 [==============================] - 0s 47us/step - loss: 0.8178 - acc: 0.6101 - val_loss: 0.8337 - val_acc: 0.5912\n",
            "Epoch 25/200\n",
            "2452/2452 [==============================] - 0s 47us/step - loss: 0.8155 - acc: 0.6073 - val_loss: 0.8798 - val_acc: 0.5912\n",
            "Epoch 26/200\n",
            "2452/2452 [==============================] - 0s 54us/step - loss: 0.8256 - acc: 0.6020 - val_loss: 0.8483 - val_acc: 0.5912\n",
            "Epoch 27/200\n",
            "2452/2452 [==============================] - 0s 47us/step - loss: 0.8088 - acc: 0.6056 - val_loss: 0.8371 - val_acc: 0.5912\n",
            "Epoch 28/200\n",
            "2452/2452 [==============================] - 0s 50us/step - loss: 0.7971 - acc: 0.6085 - val_loss: 0.8408 - val_acc: 0.5896\n",
            "Epoch 29/200\n",
            "2452/2452 [==============================] - 0s 48us/step - loss: 0.7956 - acc: 0.6085 - val_loss: 0.8305 - val_acc: 0.5912\n",
            "Epoch 30/200\n",
            "2452/2452 [==============================] - 0s 49us/step - loss: 0.7941 - acc: 0.6015 - val_loss: 0.8334 - val_acc: 0.5928\n",
            "Epoch 31/200\n",
            "2452/2452 [==============================] - 0s 49us/step - loss: 0.7867 - acc: 0.6097 - val_loss: 0.8276 - val_acc: 0.5879\n",
            "Epoch 32/200\n",
            "2452/2452 [==============================] - 0s 50us/step - loss: 0.7837 - acc: 0.6158 - val_loss: 0.8292 - val_acc: 0.5831\n",
            "Epoch 33/200\n",
            "2452/2452 [==============================] - 0s 51us/step - loss: 0.7805 - acc: 0.6134 - val_loss: 0.8393 - val_acc: 0.5863\n",
            "Epoch 34/200\n",
            "2452/2452 [==============================] - 0s 54us/step - loss: 0.7773 - acc: 0.6154 - val_loss: 0.8282 - val_acc: 0.5896\n",
            "Epoch 35/200\n",
            "2452/2452 [==============================] - 0s 48us/step - loss: 0.7748 - acc: 0.6203 - val_loss: 0.8306 - val_acc: 0.5977\n",
            "Epoch 36/200\n",
            "2452/2452 [==============================] - 0s 47us/step - loss: 0.7709 - acc: 0.6240 - val_loss: 0.8271 - val_acc: 0.6010\n",
            "Epoch 37/200\n",
            "2452/2452 [==============================] - 0s 47us/step - loss: 0.7698 - acc: 0.6093 - val_loss: 0.8071 - val_acc: 0.6042\n",
            "Epoch 38/200\n",
            "2452/2452 [==============================] - 0s 47us/step - loss: 0.7616 - acc: 0.6223 - val_loss: 0.8184 - val_acc: 0.5928\n",
            "Epoch 39/200\n",
            "2452/2452 [==============================] - 0s 50us/step - loss: 0.7545 - acc: 0.6260 - val_loss: 0.8141 - val_acc: 0.5977\n",
            "Epoch 40/200\n",
            "2452/2452 [==============================] - 0s 49us/step - loss: 0.7488 - acc: 0.6232 - val_loss: 0.8041 - val_acc: 0.6140\n",
            "Epoch 41/200\n",
            "2452/2452 [==============================] - 0s 51us/step - loss: 0.7442 - acc: 0.6293 - val_loss: 0.8131 - val_acc: 0.5814\n",
            "Epoch 42/200\n",
            "2452/2452 [==============================] - 0s 48us/step - loss: 0.7447 - acc: 0.6285 - val_loss: 0.8139 - val_acc: 0.5977\n",
            "Epoch 43/200\n",
            "2452/2452 [==============================] - 0s 57us/step - loss: 0.7433 - acc: 0.6334 - val_loss: 0.8041 - val_acc: 0.6026\n",
            "Epoch 44/200\n",
            "2452/2452 [==============================] - 0s 50us/step - loss: 0.7413 - acc: 0.6240 - val_loss: 0.8057 - val_acc: 0.6010\n",
            "Epoch 45/200\n",
            "2452/2452 [==============================] - 0s 49us/step - loss: 0.7568 - acc: 0.6285 - val_loss: 0.7978 - val_acc: 0.6059\n",
            "Epoch 46/200\n",
            "2452/2452 [==============================] - 0s 48us/step - loss: 0.7283 - acc: 0.6403 - val_loss: 0.7996 - val_acc: 0.6059\n",
            "Epoch 47/200\n",
            "2452/2452 [==============================] - 0s 46us/step - loss: 0.7321 - acc: 0.6489 - val_loss: 0.8007 - val_acc: 0.6075\n",
            "Epoch 48/200\n",
            "2452/2452 [==============================] - 0s 47us/step - loss: 0.7268 - acc: 0.6334 - val_loss: 0.7947 - val_acc: 0.6107\n",
            "Epoch 49/200\n",
            "2452/2452 [==============================] - 0s 47us/step - loss: 0.7209 - acc: 0.6513 - val_loss: 0.8055 - val_acc: 0.6059\n",
            "Epoch 50/200\n",
            "2452/2452 [==============================] - 0s 47us/step - loss: 0.7056 - acc: 0.6607 - val_loss: 0.8227 - val_acc: 0.5928\n",
            "Epoch 51/200\n",
            "2452/2452 [==============================] - 0s 56us/step - loss: 0.7267 - acc: 0.6607 - val_loss: 0.8256 - val_acc: 0.5993\n",
            "Epoch 52/200\n",
            "2452/2452 [==============================] - 0s 50us/step - loss: 0.7113 - acc: 0.6546 - val_loss: 0.7968 - val_acc: 0.6140\n",
            "Epoch 53/200\n",
            "2452/2452 [==============================] - 0s 51us/step - loss: 0.6911 - acc: 0.6676 - val_loss: 0.8015 - val_acc: 0.6140\n",
            "Epoch 54/200\n",
            "2452/2452 [==============================] - 0s 51us/step - loss: 0.6951 - acc: 0.6615 - val_loss: 0.7870 - val_acc: 0.6026\n",
            "Epoch 55/200\n",
            "2452/2452 [==============================] - 0s 49us/step - loss: 0.6931 - acc: 0.6684 - val_loss: 0.7883 - val_acc: 0.6075\n",
            "Epoch 56/200\n",
            "2452/2452 [==============================] - 0s 54us/step - loss: 0.6826 - acc: 0.6668 - val_loss: 0.7962 - val_acc: 0.6303\n",
            "Epoch 57/200\n",
            "2452/2452 [==============================] - 0s 50us/step - loss: 0.6861 - acc: 0.6688 - val_loss: 0.7749 - val_acc: 0.6336\n",
            "Epoch 58/200\n",
            "2452/2452 [==============================] - 0s 53us/step - loss: 0.6863 - acc: 0.6721 - val_loss: 0.7805 - val_acc: 0.6238\n",
            "Epoch 59/200\n",
            "2452/2452 [==============================] - 0s 52us/step - loss: 0.6841 - acc: 0.6729 - val_loss: 0.7816 - val_acc: 0.6368\n",
            "Epoch 60/200\n",
            "2452/2452 [==============================] - 0s 51us/step - loss: 0.6625 - acc: 0.6888 - val_loss: 0.7651 - val_acc: 0.6417\n",
            "Epoch 61/200\n",
            "2452/2452 [==============================] - 0s 52us/step - loss: 0.6687 - acc: 0.6807 - val_loss: 0.7864 - val_acc: 0.6368\n",
            "Epoch 62/200\n",
            "2452/2452 [==============================] - 0s 48us/step - loss: 0.6622 - acc: 0.6770 - val_loss: 0.7704 - val_acc: 0.6287\n",
            "Epoch 63/200\n",
            "2452/2452 [==============================] - 0s 48us/step - loss: 0.6521 - acc: 0.6733 - val_loss: 0.7673 - val_acc: 0.6498\n",
            "Epoch 64/200\n",
            "2452/2452 [==============================] - 0s 52us/step - loss: 0.6547 - acc: 0.6888 - val_loss: 0.7855 - val_acc: 0.6319\n",
            "Epoch 65/200\n",
            "2452/2452 [==============================] - 0s 47us/step - loss: 0.6588 - acc: 0.6884 - val_loss: 0.7734 - val_acc: 0.6319\n",
            "Epoch 66/200\n",
            "2452/2452 [==============================] - 0s 48us/step - loss: 0.6353 - acc: 0.6974 - val_loss: 0.7476 - val_acc: 0.6450\n",
            "Epoch 67/200\n",
            "2452/2452 [==============================] - 0s 51us/step - loss: 0.6206 - acc: 0.7047 - val_loss: 0.7615 - val_acc: 0.6433\n",
            "Epoch 68/200\n",
            "2452/2452 [==============================] - 0s 57us/step - loss: 0.6402 - acc: 0.7100 - val_loss: 0.7565 - val_acc: 0.6466\n",
            "Epoch 69/200\n",
            "2452/2452 [==============================] - 0s 49us/step - loss: 0.6324 - acc: 0.7174 - val_loss: 0.7391 - val_acc: 0.6482\n",
            "Epoch 70/200\n",
            "2452/2452 [==============================] - 0s 47us/step - loss: 0.6314 - acc: 0.6994 - val_loss: 0.7340 - val_acc: 0.6775\n",
            "Epoch 71/200\n",
            "2452/2452 [==============================] - 0s 47us/step - loss: 0.6098 - acc: 0.7223 - val_loss: 0.7590 - val_acc: 0.6564\n",
            "Epoch 72/200\n",
            "2452/2452 [==============================] - 0s 47us/step - loss: 0.6136 - acc: 0.7178 - val_loss: 0.7367 - val_acc: 0.6645\n",
            "Epoch 73/200\n",
            "2452/2452 [==============================] - 0s 50us/step - loss: 0.6055 - acc: 0.7117 - val_loss: 0.7476 - val_acc: 0.6498\n",
            "Epoch 74/200\n",
            "2452/2452 [==============================] - 0s 48us/step - loss: 0.5897 - acc: 0.7329 - val_loss: 0.7577 - val_acc: 0.6612\n",
            "Epoch 75/200\n",
            "2452/2452 [==============================] - 0s 47us/step - loss: 0.6072 - acc: 0.7223 - val_loss: 0.7481 - val_acc: 0.6694\n",
            "Epoch 76/200\n",
            "2452/2452 [==============================] - 0s 50us/step - loss: 0.5808 - acc: 0.7345 - val_loss: 0.8089 - val_acc: 0.6417\n",
            "Epoch 77/200\n",
            "2452/2452 [==============================] - 0s 47us/step - loss: 0.5915 - acc: 0.7219 - val_loss: 0.7357 - val_acc: 0.6840\n",
            "Epoch 78/200\n",
            "2452/2452 [==============================] - 0s 47us/step - loss: 0.5844 - acc: 0.7304 - val_loss: 0.7276 - val_acc: 0.6759\n",
            "Epoch 79/200\n",
            "2452/2452 [==============================] - 0s 48us/step - loss: 0.5612 - acc: 0.7467 - val_loss: 0.7453 - val_acc: 0.6678\n",
            "Epoch 80/200\n",
            "2452/2452 [==============================] - 0s 49us/step - loss: 0.5494 - acc: 0.7467 - val_loss: 0.7468 - val_acc: 0.6775\n",
            "Epoch 81/200\n",
            "2452/2452 [==============================] - 0s 47us/step - loss: 0.5635 - acc: 0.7345 - val_loss: 0.7270 - val_acc: 0.6857\n",
            "Epoch 82/200\n",
            "2452/2452 [==============================] - 0s 47us/step - loss: 0.5628 - acc: 0.7484 - val_loss: 0.7410 - val_acc: 0.6840\n",
            "Epoch 83/200\n",
            "2452/2452 [==============================] - 0s 48us/step - loss: 0.5635 - acc: 0.7459 - val_loss: 0.7319 - val_acc: 0.6824\n",
            "Epoch 84/200\n",
            "2452/2452 [==============================] - 0s 49us/step - loss: 0.5546 - acc: 0.7598 - val_loss: 0.7347 - val_acc: 0.6889\n",
            "Epoch 85/200\n",
            "2452/2452 [==============================] - 0s 49us/step - loss: 0.5386 - acc: 0.7573 - val_loss: 0.7389 - val_acc: 0.6726\n",
            "Epoch 86/200\n",
            "2452/2452 [==============================] - 0s 50us/step - loss: 0.5478 - acc: 0.7635 - val_loss: 0.7282 - val_acc: 0.6857\n",
            "Epoch 87/200\n",
            "2452/2452 [==============================] - 0s 48us/step - loss: 0.5511 - acc: 0.7529 - val_loss: 0.7434 - val_acc: 0.6775\n",
            "Epoch 88/200\n",
            "2452/2452 [==============================] - 0s 48us/step - loss: 0.5274 - acc: 0.7647 - val_loss: 0.7585 - val_acc: 0.6857\n",
            "Epoch 89/200\n",
            "2452/2452 [==============================] - 0s 48us/step - loss: 0.5238 - acc: 0.7647 - val_loss: 0.7275 - val_acc: 0.6580\n",
            "Epoch 90/200\n",
            "2452/2452 [==============================] - 0s 48us/step - loss: 0.5247 - acc: 0.7614 - val_loss: 0.7349 - val_acc: 0.6840\n",
            "Epoch 91/200\n",
            "2452/2452 [==============================] - 0s 48us/step - loss: 0.5249 - acc: 0.7712 - val_loss: 0.7267 - val_acc: 0.6987\n",
            "Epoch 92/200\n",
            "2452/2452 [==============================] - 0s 47us/step - loss: 0.5263 - acc: 0.7684 - val_loss: 0.6953 - val_acc: 0.7052\n",
            "Epoch 93/200\n",
            "2452/2452 [==============================] - 0s 57us/step - loss: 0.5245 - acc: 0.7684 - val_loss: 0.7353 - val_acc: 0.6922\n",
            "Epoch 94/200\n",
            "2452/2452 [==============================] - 0s 56us/step - loss: 0.5073 - acc: 0.7798 - val_loss: 0.7078 - val_acc: 0.6987\n",
            "Epoch 95/200\n",
            "2452/2452 [==============================] - 0s 49us/step - loss: 0.4959 - acc: 0.7834 - val_loss: 0.6834 - val_acc: 0.7231\n",
            "Epoch 96/200\n",
            "2452/2452 [==============================] - 0s 51us/step - loss: 0.4986 - acc: 0.7753 - val_loss: 0.7023 - val_acc: 0.7134\n",
            "Epoch 97/200\n",
            "2452/2452 [==============================] - 0s 49us/step - loss: 0.4940 - acc: 0.7896 - val_loss: 0.7298 - val_acc: 0.7068\n",
            "Epoch 98/200\n",
            "2452/2452 [==============================] - 0s 48us/step - loss: 0.4991 - acc: 0.7847 - val_loss: 0.6981 - val_acc: 0.7101\n",
            "Epoch 99/200\n",
            "2452/2452 [==============================] - 0s 52us/step - loss: 0.4808 - acc: 0.7973 - val_loss: 0.7227 - val_acc: 0.7052\n",
            "Epoch 100/200\n",
            "2452/2452 [==============================] - 0s 49us/step - loss: 0.4696 - acc: 0.8026 - val_loss: 0.6994 - val_acc: 0.7166\n",
            "Epoch 101/200\n",
            "2452/2452 [==============================] - 0s 52us/step - loss: 0.4957 - acc: 0.7900 - val_loss: 0.7353 - val_acc: 0.7313\n",
            "Epoch 102/200\n",
            "2452/2452 [==============================] - 0s 48us/step - loss: 0.4597 - acc: 0.8128 - val_loss: 0.7136 - val_acc: 0.7231\n",
            "Epoch 103/200\n",
            "2452/2452 [==============================] - 0s 51us/step - loss: 0.4787 - acc: 0.7957 - val_loss: 0.6954 - val_acc: 0.7280\n",
            "Epoch 104/200\n",
            "2452/2452 [==============================] - 0s 48us/step - loss: 0.4627 - acc: 0.8051 - val_loss: 0.6901 - val_acc: 0.7296\n",
            "Epoch 105/200\n",
            "2452/2452 [==============================] - 0s 48us/step - loss: 0.4673 - acc: 0.8063 - val_loss: 0.7099 - val_acc: 0.7117\n",
            "Epoch 106/200\n",
            "2452/2452 [==============================] - 0s 48us/step - loss: 0.4558 - acc: 0.8051 - val_loss: 0.7188 - val_acc: 0.7068\n",
            "Epoch 107/200\n",
            "2452/2452 [==============================] - 0s 48us/step - loss: 0.4540 - acc: 0.8087 - val_loss: 0.7020 - val_acc: 0.7231\n",
            "Epoch 108/200\n",
            "2452/2452 [==============================] - 0s 49us/step - loss: 0.4657 - acc: 0.7973 - val_loss: 0.6712 - val_acc: 0.7166\n",
            "Epoch 109/200\n",
            "2452/2452 [==============================] - 0s 49us/step - loss: 0.4530 - acc: 0.8116 - val_loss: 0.7050 - val_acc: 0.7068\n",
            "Epoch 110/200\n",
            "2452/2452 [==============================] - 0s 50us/step - loss: 0.4486 - acc: 0.8075 - val_loss: 0.7104 - val_acc: 0.7280\n",
            "Epoch 111/200\n",
            "2452/2452 [==============================] - 0s 47us/step - loss: 0.4432 - acc: 0.8161 - val_loss: 0.7159 - val_acc: 0.7215\n",
            "Epoch 112/200\n",
            "2452/2452 [==============================] - 0s 47us/step - loss: 0.4370 - acc: 0.8230 - val_loss: 0.7013 - val_acc: 0.7199\n",
            "Epoch 113/200\n",
            "2452/2452 [==============================] - 0s 52us/step - loss: 0.4368 - acc: 0.8136 - val_loss: 0.7073 - val_acc: 0.7280\n",
            "Epoch 114/200\n",
            "2452/2452 [==============================] - 0s 48us/step - loss: 0.4390 - acc: 0.8165 - val_loss: 0.6831 - val_acc: 0.7215\n",
            "Epoch 115/200\n",
            "2452/2452 [==============================] - 0s 46us/step - loss: 0.4303 - acc: 0.8287 - val_loss: 0.6865 - val_acc: 0.7199\n",
            "Epoch 116/200\n",
            "2452/2452 [==============================] - 0s 49us/step - loss: 0.4255 - acc: 0.8177 - val_loss: 0.6828 - val_acc: 0.7264\n",
            "Epoch 117/200\n",
            "2452/2452 [==============================] - 0s 47us/step - loss: 0.4227 - acc: 0.8291 - val_loss: 0.6917 - val_acc: 0.7248\n",
            "Epoch 118/200\n",
            "2452/2452 [==============================] - 0s 52us/step - loss: 0.4272 - acc: 0.8193 - val_loss: 0.7269 - val_acc: 0.7182\n",
            "Epoch 119/200\n",
            "2452/2452 [==============================] - 0s 46us/step - loss: 0.4068 - acc: 0.8397 - val_loss: 0.6971 - val_acc: 0.7362\n",
            "Epoch 120/200\n",
            "2452/2452 [==============================] - 0s 48us/step - loss: 0.4048 - acc: 0.8336 - val_loss: 0.6819 - val_acc: 0.7264\n",
            "Epoch 121/200\n",
            "2452/2452 [==============================] - 0s 48us/step - loss: 0.4021 - acc: 0.8287 - val_loss: 0.6787 - val_acc: 0.7394\n",
            "Epoch 122/200\n",
            "2452/2452 [==============================] - 0s 47us/step - loss: 0.4005 - acc: 0.8328 - val_loss: 0.7030 - val_acc: 0.7329\n",
            "Epoch 123/200\n",
            "2452/2452 [==============================] - 0s 46us/step - loss: 0.4120 - acc: 0.8279 - val_loss: 0.6732 - val_acc: 0.7313\n",
            "Epoch 124/200\n",
            "2452/2452 [==============================] - 0s 47us/step - loss: 0.3879 - acc: 0.8373 - val_loss: 0.6690 - val_acc: 0.7557\n",
            "Epoch 125/200\n",
            "2452/2452 [==============================] - 0s 48us/step - loss: 0.3884 - acc: 0.8418 - val_loss: 0.6549 - val_acc: 0.7541\n",
            "Epoch 126/200\n",
            "2452/2452 [==============================] - 0s 49us/step - loss: 0.3988 - acc: 0.8299 - val_loss: 0.6731 - val_acc: 0.7524\n",
            "Epoch 127/200\n",
            "2452/2452 [==============================] - 0s 50us/step - loss: 0.3652 - acc: 0.8540 - val_loss: 0.6697 - val_acc: 0.7459\n",
            "Epoch 128/200\n",
            "2452/2452 [==============================] - 0s 52us/step - loss: 0.3895 - acc: 0.8438 - val_loss: 0.6742 - val_acc: 0.7590\n",
            "Epoch 129/200\n",
            "2452/2452 [==============================] - 0s 49us/step - loss: 0.3869 - acc: 0.8409 - val_loss: 0.7301 - val_acc: 0.7199\n",
            "Epoch 130/200\n",
            "2452/2452 [==============================] - 0s 48us/step - loss: 0.3861 - acc: 0.8356 - val_loss: 0.6828 - val_acc: 0.7492\n",
            "Epoch 131/200\n",
            "2452/2452 [==============================] - 0s 48us/step - loss: 0.3734 - acc: 0.8467 - val_loss: 0.6936 - val_acc: 0.7443\n",
            "Epoch 132/200\n",
            "2452/2452 [==============================] - 0s 47us/step - loss: 0.3997 - acc: 0.8316 - val_loss: 0.6551 - val_acc: 0.7606\n",
            "Epoch 133/200\n",
            "2452/2452 [==============================] - 0s 46us/step - loss: 0.3688 - acc: 0.8487 - val_loss: 0.6973 - val_acc: 0.7394\n",
            "Epoch 134/200\n",
            "2452/2452 [==============================] - 0s 47us/step - loss: 0.3620 - acc: 0.8483 - val_loss: 0.6896 - val_acc: 0.7671\n",
            "Epoch 135/200\n",
            "2452/2452 [==============================] - 0s 53us/step - loss: 0.3458 - acc: 0.8573 - val_loss: 0.6600 - val_acc: 0.7508\n",
            "Epoch 136/200\n",
            "2452/2452 [==============================] - 0s 49us/step - loss: 0.3752 - acc: 0.8487 - val_loss: 0.6872 - val_acc: 0.7492\n",
            "Epoch 137/200\n",
            "2452/2452 [==============================] - 0s 51us/step - loss: 0.3511 - acc: 0.8634 - val_loss: 0.7000 - val_acc: 0.7508\n",
            "Epoch 138/200\n",
            "2452/2452 [==============================] - 0s 49us/step - loss: 0.3451 - acc: 0.8666 - val_loss: 0.6800 - val_acc: 0.7459\n",
            "Epoch 139/200\n",
            "2452/2452 [==============================] - 0s 47us/step - loss: 0.3551 - acc: 0.8585 - val_loss: 0.6810 - val_acc: 0.7720\n",
            "Epoch 140/200\n",
            "2452/2452 [==============================] - 0s 47us/step - loss: 0.3351 - acc: 0.8630 - val_loss: 0.6680 - val_acc: 0.7573\n",
            "Epoch 141/200\n",
            "2452/2452 [==============================] - 0s 49us/step - loss: 0.3399 - acc: 0.8634 - val_loss: 0.7138 - val_acc: 0.7671\n",
            "Epoch 142/200\n",
            "2452/2452 [==============================] - 0s 46us/step - loss: 0.3430 - acc: 0.8642 - val_loss: 0.6801 - val_acc: 0.7394\n",
            "Epoch 143/200\n",
            "2452/2452 [==============================] - 0s 46us/step - loss: 0.3387 - acc: 0.8695 - val_loss: 0.7152 - val_acc: 0.7541\n",
            "Epoch 144/200\n",
            "2452/2452 [==============================] - 0s 53us/step - loss: 0.3358 - acc: 0.8585 - val_loss: 0.7108 - val_acc: 0.7329\n",
            "Epoch 145/200\n",
            "2452/2452 [==============================] - 0s 48us/step - loss: 0.3318 - acc: 0.8638 - val_loss: 0.7321 - val_acc: 0.7394\n"
          ],
          "name": "stdout"
        }
      ]
    },
    {
      "cell_type": "markdown",
      "metadata": {
        "id": "xQ2Koxsz0Zun",
        "colab_type": "text"
      },
      "source": [
        "# 訓練過程評估"
      ]
    },
    {
      "cell_type": "code",
      "metadata": {
        "id": "2SxJIEDzbaZ7",
        "colab_type": "code",
        "outputId": "1e0b325d-b742-4dca-c812-e48126ef61f2",
        "colab": {
          "base_uri": "https://localhost:8080/",
          "height": 269
        }
      },
      "source": [
        "import matplotlib.pyplot as plt\n",
        "fig, ax = plt.subplots(2,1)\n",
        "ax[0].plot(history.history['loss'], color='b', label=\"Training loss\")\n",
        "ax[0].plot(history.history['val_loss'], color='r', label=\"Validation loss\",axes =ax[0])\n",
        "ax[0].grid(color='black', linestyle='-', linewidth=0.25)\n",
        "legend = ax[0].legend(loc='best', shadow=True)\n",
        "\n",
        "ax[1].plot(history.history['acc'], color='b', label=\"Training accuracy\")\n",
        "ax[1].plot(history.history['val_acc'], color='r',label=\"Validation accuracy\")\n",
        "ax[1].grid(color='black', linestyle='-', linewidth=0.25)\n",
        "legend = ax[1].legend(loc='best', shadow=True)"
      ],
      "execution_count": 43,
      "outputs": [
        {
          "output_type": "display_data",
          "data": {
            "image/png": "[encoded data removed]",
            "text/plain": [
              "<Figure size 432x288 with 2 Axes>"
            ]
          },
          "metadata": {
            "tags": []
          }
        }
      ]
    },
    {
      "cell_type": "markdown",
      "metadata": {
        "id": "zWVmgHz80cCp",
        "colab_type": "text"
      },
      "source": [
        "# 混淆矩陣"
      ]
    },
    {
      "cell_type": "code",
      "metadata": {
        "id": "UH5CcmX6btme",
        "colab_type": "code",
        "outputId": "be363cc9-b4b3-42e2-8362-e5d8266208d1",
        "colab": {
          "base_uri": "https://localhost:8080/",
          "height": 311
        }
      },
      "source": [
        "from sklearn.metrics import confusion_matrix\n",
        "import itertools\n",
        "\n",
        "def plot_confusion_matrix(cm, classes, normalize=False, title='Confusion matrix', cmap=plt.cm.Blues):\n",
        "    plt.imshow(cm, interpolation='nearest', cmap=cmap)\n",
        "    plt.title(title)\n",
        "    plt.colorbar()\n",
        "    tick_marks = np.arange(len(classes))\n",
        "    plt.xticks(tick_marks, classes, rotation=45)\n",
        "    plt.yticks(tick_marks, classes)\n",
        "    if normalize:\n",
        "        cm = cm.astype('float') / cm.sum(axis=1)[:, np.newaxis]\n",
        "    thresh = cm.max() / 2.\n",
        "    for i, j in itertools.product(range(cm.shape[0]), range(cm.shape[1])):\n",
        "        plt.text(j, i, cm[i, j],\n",
        "                 horizontalalignment=\"center\",\n",
        "                 color=\"white\" if cm[i, j] > thresh else \"black\")\n",
        "    plt.tight_layout()\n",
        "    plt.ylabel('True label')\n",
        "    plt.xlabel('Predicted label')\n",
        "\n",
        "#預測的y\n",
        "ypred_onehot = model.predict(xval)\n",
        "#轉換預測的y: [0 0 1 0 0 ...] --> 2\n",
        "ypred = np.argmax(ypred_onehot,axis=1)\n",
        "#轉換真實的y\n",
        "ytrue = np.argmax(yval,axis=1)\n",
        "#計算 confusion matrix\n",
        "confusion_mtx = confusion_matrix(ytrue, ypred)\n",
        "#畫出 confusion matrix\n",
        "plot_confusion_matrix(confusion_mtx, classes=range(nclasses))"
      ],
      "execution_count": 44,
      "outputs": [
        {
          "output_type": "display_data",
          "data": {
            "image/png": "[encoded data removed]",
            "text/plain": [
              "<Figure size 432x288 with 2 Axes>"
            ]
          },
          "metadata": {
            "tags": []
          }
        }
      ]
    },
    {
      "cell_type": "markdown",
      "metadata": {
        "id": "PmgafP2rpjAO",
        "colab_type": "text"
      },
      "source": [
        "# 分類report"
      ]
    },
    {
      "cell_type": "markdown",
      "metadata": {
        "id": "zXQ8o9mj1Ydh",
        "colab_type": "text"
      },
      "source": [
        "轉換預測結果"
      ]
    },
    {
      "cell_type": "code",
      "metadata": {
        "id": "lCSuw9cYqEYk",
        "colab_type": "code",
        "outputId": "cf6fb3e2-139f-46f8-af3a-19e4bd131acf",
        "colab": {
          "base_uri": "https://localhost:8080/",
          "height": 104
        }
      },
      "source": [
        "y_pred = model.predict(xval)\n",
        "y_pred = [np.argmax(i) for i in y_pred]\n",
        "y_pred = to_categorical(y_pred, num_classes = 3)\n",
        "print(y_pred[:5])"
      ],
      "execution_count": 45,
      "outputs": [
        {
          "output_type": "stream",
          "text": [
            "[[0. 0. 1.]\n",
            " [0. 1. 0.]\n",
            " [0. 0. 1.]\n",
            " [0. 0. 1.]\n",
            " [0. 0. 1.]]\n"
          ],
          "name": "stdout"
        }
      ]
    },
    {
      "cell_type": "markdown",
      "metadata": {
        "id": "XrHrpsVb1avA",
        "colab_type": "text"
      },
      "source": [
        "真實y值"
      ]
    },
    {
      "cell_type": "code",
      "metadata": {
        "id": "T2tyxRdo1Mqm",
        "colab_type": "code",
        "outputId": "a62f1c30-b3db-4269-cb34-241398317103",
        "colab": {
          "base_uri": "https://localhost:8080/",
          "height": 104
        }
      },
      "source": [
        "print(yval[:5])"
      ],
      "execution_count": 46,
      "outputs": [
        {
          "output_type": "stream",
          "text": [
            "[[0. 0. 1.]\n",
            " [0. 0. 1.]\n",
            " [0. 0. 1.]\n",
            " [0. 1. 0.]\n",
            " [0. 0. 1.]]\n"
          ],
          "name": "stdout"
        }
      ]
    },
    {
      "cell_type": "markdown",
      "metadata": {
        "id": "wztZOw2r1ddE",
        "colab_type": "text"
      },
      "source": [
        "# 分類報告"
      ]
    },
    {
      "cell_type": "code",
      "metadata": {
        "id": "vzMaU-Y8pjJT",
        "colab_type": "code",
        "outputId": "cb5e00aa-0a08-4963-fe81-d64ac527c3bb",
        "colab": {
          "base_uri": "https://localhost:8080/",
          "height": 208
        }
      },
      "source": [
        "from sklearn.metrics import classification_report \n",
        "target_names = ['Hold','BUY','SELL']\n",
        "print(classification_report(yval,y_pred,target_names=target_names))"
      ],
      "execution_count": 47,
      "outputs": [
        {
          "output_type": "stream",
          "text": [
            "              precision    recall  f1-score   support\n",
            "\n",
            "        Hold       0.69      0.33      0.44        61\n",
            "         BUY       0.74      0.53      0.62       190\n",
            "        SELL       0.74      0.92      0.82       363\n",
            "\n",
            "   micro avg       0.74      0.74      0.74       614\n",
            "   macro avg       0.72      0.59      0.63       614\n",
            "weighted avg       0.74      0.74      0.72       614\n",
            " samples avg       0.74      0.74      0.74       614\n",
            "\n"
          ],
          "name": "stdout"
        }
      ]
    },
    {
      "cell_type": "markdown",
      "metadata": {
        "id": "n-KXEoZLb9ie",
        "colab_type": "text"
      },
      "source": [
        "# plot error"
      ]
    },
    {
      "cell_type": "code",
      "metadata": {
        "id": "nCW5Xvtrb0fC",
        "colab_type": "code",
        "outputId": "9ccf5465-2db2-4cdd-d42f-23c17a74adc9",
        "colab": {
          "base_uri": "https://localhost:8080/",
          "height": 293
        }
      },
      "source": [
        "errors = (ypred - ytrue != 0)\n",
        "\n",
        "ypred_er = ypred_onehot[errors]\n",
        "ypred_classes_er = ypred[errors]\n",
        "ytrue_er = ytrue[errors]\n",
        "xval_er = xval[errors]\n",
        "\n",
        "def display_errors(errors_index, img_errors, pred_errors, obs_errors):\n",
        "    n = 0\n",
        "    nrows = 2\n",
        "    ncols = 3\n",
        "    fig, ax = plt.subplots(nrows, ncols, sharex=True, sharey=True)\n",
        "    plt.subplots_adjust(wspace =0.5, hspace =0.5)\n",
        "    for row in range(nrows):\n",
        "        for col in range(ncols):\n",
        "            error = errors_index[n]\n",
        "            ax[row,col].imshow((img_errors[error]).reshape((days,len(features))))\n",
        "            ax[row,col].set_title(\"Predicted label :{}\\nTrue label :{}\".format(pred_errors[error],obs_errors[error]))\n",
        "            n += 1\n",
        "            \n",
        "# 錯誤預測的概率\n",
        "ypred_er_prob = np.max(ypred_er,axis=1)\n",
        "\n",
        "# Predicted probabilities of the true values in the error set\n",
        "true_prob_er = np.diagonal(np.take(ypred_er, ytrue_er, axis=1))\n",
        "\n",
        "# Difference between the probability of the predicted label and the true label\n",
        "delta_pred_true_er = ypred_er_prob - true_prob_er\n",
        "\n",
        "# Sorted list of the delta prob errors\n",
        "sorted_delta_er = np.argsort(delta_pred_true_er)\n",
        "\n",
        "# Top 6 errors. You can change the range to see other images\n",
        "most_important_er = sorted_delta_er[-6:]\n",
        "\n",
        "# Show the top 6 errors\n",
        "display_errors(most_important_er, xval_er, ypred_classes_er, ytrue_er)"
      ],
      "execution_count": 48,
      "outputs": [
        {
          "output_type": "display_data",
          "data": {
            "image/png": "[encoded data removed]",
            "text/plain": [
              "<Figure size 432x288 with 6 Axes>"
            ]
          },
          "metadata": {
            "tags": []
          }
        }
      ]
    },
    {
      "cell_type": "markdown",
      "metadata": {
        "id": "togdM5Afo71w",
        "colab_type": "text"
      },
      "source": [
        "# predict!"
      ]
    },
    {
      "cell_type": "code",
      "metadata": {
        "id": "kQqzNPdQo8GW",
        "colab_type": "code",
        "colab": {
          "base_uri": "https://localhost:8080/",
          "height": 52
        },
        "outputId": "da3dcaa2-6624-4d36-f79c-2afbe061c4dd"
      },
      "source": [
        "answer = model.predict(X_test)\n",
        "answer"
      ],
      "execution_count": 49,
      "outputs": [
        {
          "output_type": "execute_result",
          "data": {
            "text/plain": [
              "array([[8.3176070e-01, 3.0339180e-04, 1.6793582e-01],\n",
              "       [5.4272622e-01, 8.3506759e-03, 4.4892302e-01]], dtype=float32)"
            ]
          },
          "metadata": {
            "tags": []
          },
          "execution_count": 49
        }
      ]
    },
    {
      "cell_type": "markdown",
      "metadata": {
        "id": "cfhhUIKbrX_m",
        "colab_type": "text"
      },
      "source": [
        "# 0:HOLD 1:BUY 2:SELL"
      ]
    },
    {
      "cell_type": "code",
      "metadata": {
        "id": "h0t0J-VN25Zm",
        "colab_type": "code",
        "colab": {
          "base_uri": "https://localhost:8080/",
          "height": 35
        },
        "outputId": "654b35b0-f5ac-4b92-ef8b-748726300031"
      },
      "source": [
        "answer = [ np.argmax(i) for i in answer]\n",
        "answer"
      ],
      "execution_count": 50,
      "outputs": [
        {
          "output_type": "execute_result",
          "data": {
            "text/plain": [
              "[0, 0]"
            ]
          },
          "metadata": {
            "tags": []
          },
          "execution_count": 50
        }
      ]
    },
    {
      "cell_type": "code",
      "metadata": {
        "id": "Lknz6V5spM2K",
        "colab_type": "code",
        "colab": {}
      },
      "source": [
        ""
      ],
      "execution_count": 0,
      "outputs": []
    }
  ]
}